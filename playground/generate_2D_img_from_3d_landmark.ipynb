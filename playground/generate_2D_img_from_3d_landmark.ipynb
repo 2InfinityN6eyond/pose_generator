{
 "cells": [
  {
   "cell_type": "code",
   "execution_count": 1,
   "metadata": {},
   "outputs": [
    {
     "data": {
      "text/html": [
       "        <script type=\"text/javascript\">\n",
       "        window.PlotlyConfig = {MathJaxConfig: 'local'};\n",
       "        if (window.MathJax) {MathJax.Hub.Config({SVG: {font: \"STIX-Web\"}});}\n",
       "        if (typeof require !== 'undefined') {\n",
       "        require.undef(\"plotly\");\n",
       "        requirejs.config({\n",
       "            paths: {\n",
       "                'plotly': ['https://cdn.plot.ly/plotly-2.9.0.min']\n",
       "            }\n",
       "        });\n",
       "        require(['plotly'], function(Plotly) {\n",
       "            window._Plotly = Plotly;\n",
       "        });\n",
       "        }\n",
       "        </script>\n",
       "        "
      ]
     },
     "metadata": {},
     "output_type": "display_data"
    },
    {
     "data": {
      "image/png": "[encoded data removed]",
      "text/plain": [
       "<Figure size 432x288 with 1 Axes>"
      ]
     },
     "metadata": {
      "needs_background": "light"
     },
     "output_type": "display_data"
    }
   ],
   "source": [
    "#%matplotlib widget\n",
    "import matplotlib.pyplot as plt\n",
    "plt.gca().set_aspect('equal')\n",
    "\n",
    "import math\n",
    "import numpy as np\n",
    "import cv2\n",
    "import glob\n",
    "import json\n",
    "import pickle\n",
    "import os\n",
    "from dataclasses import dataclass\n",
    "import time\n",
    "\n",
    "from plotly.offline import init_notebook_mode\n",
    "init_notebook_mode(connected=True)\n",
    "\n",
    "\n",
    "import plotly.graph_objects as go\n",
    "\n",
    "def plot(\n",
    "    points, connection_idx_list,\n",
    "    line_color_list = None,\n",
    "    show = True\n",
    ") :\n",
    "    '''\n",
    "    points : np.ndarray\n",
    "        shape : N, 2\n",
    "    '''\n",
    "    if not line_color_list :\n",
    "        line_color_list = ['red'] * (len(connection_idx_list))\n",
    "\n",
    "    fig = go.Figure(\n",
    "        data = list(map(\n",
    "            lambda i, j, c : go.Scatter(\n",
    "                x = points[[i, j], 0],\n",
    "                y = points[[i, j], 1],\n",
    "                mode = 'lines+markers+text',\n",
    "                line = dict(\n",
    "                    color = c\n",
    "                ),\n",
    "                marker = dict(\n",
    "                    color = c,\n",
    "                    size = 2\n",
    "                )\n",
    "            ),\n",
    "            connection_idx_list[:-1],\n",
    "            connection_idx_list[1:],\n",
    "            line_color_list\n",
    "        ))\n",
    "    )\n",
    "    fig.update_yaxes(scaleanchor='x', scaleratio=1)\n",
    "\n",
    "    if show :\n",
    "        fig.show()\n",
    "\n",
    "def plot3d(\n",
    "    points, connection_idx_list,\n",
    "    line_color_list = None,\n",
    "    show = True\n",
    ") :\n",
    "    '''\n",
    "    points : np.ndarray\n",
    "        shape : N, 3\n",
    "    '''\n",
    "    if not line_color_list :\n",
    "        line_color_list = ['red'] * (len(connection_idx_list))\n",
    "\n",
    "    fig = go.Figure(\n",
    "        data = list(map(\n",
    "            lambda i, j, c : go.Scatter3d(x = points[[i, j], 0],\n",
    "                y = points[[i, j], 1],\n",
    "                z = points[[i, j], 2],\n",
    "                mode = 'lines+markers+text',\n",
    "                line = dict(\n",
    "                    color = c\n",
    "                ),\n",
    "                marker = dict(\n",
    "                    color = c,\n",
    "                    size = 2\n",
    "                )\n",
    "            ),\n",
    "            connection_idx_list[:-1],\n",
    "            connection_idx_list[1:],\n",
    "            line_color_list\n",
    "        ))\n",
    "    )\n",
    "\n",
    "    max_range = np.max(np.ptp(points, axis=0))\n",
    "    xmin, ymin, zmin = points.min(axis=0)\n",
    "\n",
    "    fig.update_layout(scene=dict(aspectmode='cube'))\n",
    "    fig.update_layout(scene=dict(\n",
    "        xaxis = dict(range=[xmin-0.1, xmin + max_range+ 0.1]),\n",
    "        yaxis = dict(range=[ymin-0.1, ymin + max_range+ 0.1]),\n",
    "        zaxis = dict(range=[zmin-0.1, zmin + max_range+ 0.1])\n",
    "    ))\n",
    "\n",
    "    layout = go.Layout(\n",
    "        scene = dict(\n",
    "            camera = dict(\n",
    "                eye = dict(x=-1, y = -1, z = 1)\n",
    "            )\n",
    "        )\n",
    "    )\n",
    "    fig.layout = layout\n",
    "    if show :\n",
    "        fig.show()\n",
    "\n",
    "@dataclass\n",
    "class AzureKinectLandmark :\n",
    "    CONN_PATH_LIST = [\n",
    "        25, 24, 23, 22, 0, 18, 19, 20, 21, 20, 19, 18, 0,\n",
    "        1, 2, 11, 12, 13, 14, 15, 14, 13, 12, 11, 2, \n",
    "        4, 5, 6 ,7 , 8, 7, 6, 5, 4, 2, 3, 26,\n",
    "        27, 30, 31, 30, 27, 28, 29\n",
    "    ]\n",
    "\n",
    "@dataclass\n",
    "class OpenPoseLandmark :\n",
    "    nose       : np.ndarray = None  # 0\n",
    "    neck       : np.ndarray = None  # 1\n",
    "    shoulder_r : np.ndarray = None  # 2\n",
    "    elbow_r    : np.ndarray = None  # 3\n",
    "    wrist_r    : np.ndarray = None  # 4\n",
    "    shoulder_l : np.ndarray = None  # 5\n",
    "    elbow_l    : np.ndarray = None  # 6\n",
    "    wrist_l    : np.ndarray = None  # 7\n",
    "    hip_r      : np.ndarray = None  # 8\n",
    "    knee_r     : np.ndarray = None  # 9\n",
    "    anklle_r   : np.ndarray = None  # 10\n",
    "    hip_l      : np.ndarray = None  # 11\n",
    "    knee_l     : np.ndarray = None  # 12\n",
    "    ankle_l    : np.ndarray = None  # 13\n",
    "    eye_r      : np.ndarray = None  # 14\n",
    "    eye_l      : np.ndarray = None  # 15\n",
    "    ear_r      : np.ndarray = None  # 16\n",
    "    ear_l      : np.ndarray = None  # 17\n",
    "    \n",
    "    CONN_PATH_LIST = [16, 14, 0, 15, 17, 15, 0, 1, 2, 3, 4, 3, 2, 1, 5, 6, 7, 6, 5, 1, 8, 9, 10, 9, 8, 1, 11, 12, 13]\n",
    "    CONN_N_COLOR_LIST = [\n",
    "        [(16, 14), ()], [(14,  0)], [(0, 15)], [(15, 17)],\n",
    "        [( 0,  1), (255,  40,  40)],\n",
    "        [( 1,  8), (255,  50,  50)], [( 8,  9), (100, 255, 100)], [( 9, 10), (100, 255, 150)],\n",
    "        [( 1, 11), (100, 255, 255)], [(11 ,12), ( 50,  50, 180)], [(12, 13), ( 50,  50, 255)],\n",
    "        [( 1,  2), (200, 100,  50)], [( 2,  3), (150, 150,  50)], [( 3,  4), (150, 150,  50)],\n",
    "        [( 1,  5), (200, 150,  50)], [( 5,  6), (100, 255, 100)], [( 6,  7), (100, 150, 100)],\n",
    "    ]\n",
    "    \n",
    "    COLOR_LIST = [\n",
    "        [255,   0,   0], [255,  85,   0], \n",
    "        [255, 170,   0], [255, 255,   0], [170, 255,   0],\n",
    "        [ 85, 255,   0], [  0, 255,   0], [  0, 255,  85],\n",
    "        [  0, 255, 170], [  0, 255, 255], [  0, 170, 255],\n",
    "        [  0,  85, 255], [  0,   0, 255], [ 85,   0, 255], \n",
    "        [170,   0, 255], [255,   0, 255], [255,   0, 170], [255,   0,  85]]\n",
    "\n",
    "\n",
    "    colors = [[255, 0, 0], [255, 85, 0], [255, 170, 0], [255, 255, 0], [170, 255, 0], [85, 255, 0], [0, 255, 0], \\\n",
    "            [0, 255, 85], [0, 255, 170], [0, 255, 255], [0, 170, 255], [0, 85, 255], [0, 0, 255], [85, 0, 255], \\\n",
    "            [170, 0, 255], [255, 0, 255], [255, 0, 170], [255, 0, 85]]\n",
    "    edge_list = [[1, 2], [1, 5], [2, 3], [3, 4], [5, 6], [6, 7], [1, 8], [8, 9], [9, 10], [1, 11], [11, 12], [12, 13], [1, 0], [0, 14], [14, 16], [0, 15], [15, 17],]\n",
    "\n",
    "    @staticmethod\n",
    "    def azurkinect2openpose(landmark) :\n",
    "        nose       = landmark[27]\n",
    "        neck       = landmark[3]\n",
    "        shoulder_r = landmark[12]\n",
    "        elbow_r    = landmark[13]\n",
    "        wrist_r    = landmark[14]\n",
    "        shoulder_l = landmark[5]\n",
    "        elbow_l    = landmark[6]\n",
    "        wrist_l    = landmark[7]\n",
    "        hip_r      = landmark[22]\n",
    "        knee_r     = landmark[23]\n",
    "        anklle_r   = landmark[24]\n",
    "        hip_l      = landmark[18]\n",
    "        knee_l     = landmark[19]\n",
    "        ankle_l    = landmark[20]\n",
    "        eye_r      = landmark[30]\n",
    "        eye_l      = landmark[29]\n",
    "        ear_r      = landmark[31]\n",
    "        ear_l      = landmark[29]\n",
    "        \n",
    "        return np.vstack([\n",
    "            nose, neck,\n",
    "            shoulder_r, elbow_r, wrist_r,\n",
    "            shoulder_l, elbow_l, wrist_l,\n",
    "            hip_r, knee_r, anklle_r,\n",
    "            hip_l, knee_l, ankle_l,\n",
    "            eye_r,\n",
    "            eye_l,\n",
    "            ear_r,\n",
    "            ear_l,\n",
    "        ]).copy()\n",
    "\n",
    "    @staticmethod\n",
    "    def mediapipe2openpose(landmark) :\n",
    "        nose = landmark[0]\n",
    "        neck = (landmark[11] + landmark[12]) / 2\n",
    "        shoulder_r = landmark[12]\n",
    "        elbow_r = landmark[14]\n",
    "        wrist_r = landmark[16]\n",
    "        shoulder_l = landmark[11]\n",
    "        elbow_l = landmark[13]\n",
    "        wrist_l = landmark[15]\n",
    "        hip_r = landmark[24]\n",
    "        knee_r = landmark[26]\n",
    "        anklle_r = landmark[28]\n",
    "        hip_l = landmark[23]\n",
    "        knee_l = landmark[25]\n",
    "        ankle_l = landmark[27]\n",
    "        eye_r = landmark[5]\n",
    "        eye_l = landmark[2]\n",
    "        ear_r = landmark[8]\n",
    "        ear_l = landmark[7]\n",
    "\n",
    "        return np.vstack([\n",
    "            nose, neck,\n",
    "            shoulder_r, elbow_r, wrist_r,\n",
    "            shoulder_l, elbow_l, wrist_l,\n",
    "            hip_r, knee_r, anklle_r,\n",
    "            hip_l, knee_l, ankle_l,\n",
    "            eye_r,\n",
    "            eye_l,\n",
    "            ear_r,\n",
    "            ear_l,\n",
    "        ]).copy()\n",
    "    \n",
    "    @classmethod\n",
    "    def plot2d(cls, landmark, img_size=(512, 512), connection = None) :\n",
    "        if not connection : \n",
    "            connection = cls.CONN_PATH_LIST\n",
    "        \n",
    "        img = np.zeros([*img_size, 3], dtype=np.uint8)\n",
    "\n",
    "        cv2.polylines(\n",
    "            img,\n",
    "            landmark,\n",
    "            isClosed=True,\n",
    "            color=None,\n",
    "            thickness=1,\n",
    "        )\n",
    "\n",
    "    @classmethod\n",
    "    def draw_bodypose(cls, canvas, candidate):\n",
    "        stickwidth = 4\n",
    "\n",
    "        for i in range(18):\n",
    "            x, y = candidate[i][0:2]\n",
    "            cv2.circle(canvas, (int(x), int(y)), 4, cls.colors[i], thickness=-1)\n",
    "        \n",
    "        for i, edge in enumerate(cls.edge_list):\n",
    "            cur_canvas = canvas.copy()\n",
    "            Y = candidate[edge, 0]\n",
    "            X = candidate[edge, 1]\n",
    "            mX = np.mean(X)\n",
    "            mY = np.mean(Y)\n",
    "            length = ((X[0] - X[1]) ** 2 + (Y[0] - Y[1]) ** 2) ** 0.5\n",
    "            angle = math.degrees(math.atan2(X[0] - X[1], Y[0] - Y[1]))\n",
    "            polygon = cv2.ellipse2Poly((int(mY), int(mX)), (int(length / 2), stickwidth), int(angle), 0, 360, 1)\n",
    "            cv2.fillConvexPoly(cur_canvas, polygon, cls.colors[i] )\n",
    "            canvas = cv2.addWeighted(canvas, 0.4, cur_canvas, 0.6, 0)\n",
    "\n",
    "        return canvas\n",
    "\n",
    "\n",
    "    @classmethod\n",
    "    def draw_from_3d(cls, candidate, img_size=(512, 512), ratio = 0.5):\n",
    "        '''\n",
    "        landmarks : np.ndarray\n",
    "            shape : 18 x 3\n",
    "        ratio :\n",
    "            ratio of bounding boxes against img_size\n",
    "        '''\n",
    "\n",
    "        img = np.zeros([*img_size, 3], dtype=np.uint8)\n",
    "\n",
    "\n",
    "        landmark_2d = candidate.copy() * 100\n",
    "        landmark_2d = landmark_2d - landmark_2d.min(axis=0)\n",
    "\n",
    "        bbox = landmark_2d.max(axis=0)\n",
    "\n",
    "        cur_ratio = max( bbox[0] / img_size[0] , bbox[1] / img_size[1] )\n",
    "\n",
    "        landmark_2d *= (ratio / cur_ratio)\n",
    "\n",
    "        landmark_2d = landmark_2d.astype(int)[:, :2]\n",
    "\n",
    "        # img_size : Ysize, Xsize\n",
    "        # landmark : xcoord, ycoord\n",
    "\n",
    "        # marginy, marginx\n",
    "        margin = np.subtract(img_size, landmark_2d.max(axis=0)[::-1]).astype(int)\n",
    "\n",
    "        translation = np.array([\n",
    "            np.random.randint(0, margin[1]),\n",
    "            np.random.randint(0, margin[0])\n",
    "        ])\n",
    "\n",
    "        landmark_2d += translation\n",
    "\n",
    "        canvas = img\n",
    "        candidate = landmark_2d\n",
    "\n",
    "        stickwidth = 4\n",
    "\n",
    "        for i in range(18):\n",
    "            x, y = candidate[i][0:2]\n",
    "            cv2.circle(canvas, (int(x), int(y)), 4, cls.colors[i], thickness=-1)\n",
    "        \n",
    "        for i, edge in enumerate(cls.edge_list):\n",
    "            cur_canvas = canvas.copy()\n",
    "            Y = candidate[edge, 0]\n",
    "            X = candidate[edge, 1]\n",
    "            mX = np.mean(X)\n",
    "            mY = np.mean(Y)\n",
    "            length = ((X[0] - X[1]) ** 2 + (Y[0] - Y[1]) ** 2) ** 0.5\n",
    "            angle = math.degrees(math.atan2(X[0] - X[1], Y[0] - Y[1]))\n",
    "            polygon = cv2.ellipse2Poly((int(mY), int(mX)), (int(length / 2), stickwidth), int(angle), 0, 360, 1)\n",
    "            cv2.fillConvexPoly(cur_canvas, polygon, cls.colors[i] )\n",
    "            canvas = cv2.addWeighted(canvas, 0.4, cur_canvas, 0.6, 0)\n",
    "\n",
    "        return canvas\n",
    "\n",
    "\n",
    "def rpy2rm(roll, pitch, yaw) :\n",
    "    '''\n",
    "    fixed angle rotation values to rotation matrix\n",
    "    same as euler angle with ZYX order\n",
    "    '''\n",
    "    c = np.cos\n",
    "    s = np.sin\n",
    "    r, p, y = roll, pitch, yaw\n",
    "    Rz = np.array([\n",
    "        [ c(y), -s(y), 0],\n",
    "        [ s(y),  c(y), 0],\n",
    "        [    0,     0, 1]\n",
    "    ])\n",
    "    Ry = np.array([\n",
    "        [ c(p), 0, s(p)],\n",
    "        [    0, 1,     0],\n",
    "        [ -s(p), 0,  c(p)]\n",
    "    ])\n",
    "    Rx = np.array([\n",
    "        [1,    0,     0],\n",
    "        [0, c(r), -s(r)],\n",
    "        [0, s(r),  c(r)]\n",
    "    ])\n",
    "    return Rz @ Ry @ Rx\n",
    "\n",
    "\n",
    "\n",
    "DATA_DIR_PATH = \"../azure_kinect_data\"\n",
    "\n",
    "DATA_DIR_PATH_LIST = glob.glob(\"../azure_kinect_data/*\")\n",
    "\n",
    "\n",
    "pose_data_dict = {}\n",
    "\n",
    "for idx, data_dir_path in enumerate(DATA_DIR_PATH_LIST) :\n",
    "    data_path_list = glob.glob(f\"{data_dir_path}/*\")\n",
    "\n",
    "    pose_data_list = []\n",
    "\n",
    "    for data_path in data_path_list :\n",
    "        with open(data_path, \"rb\") as fp :\n",
    "            landmark = np.array(\n",
    "                pickle.load(fp)\n",
    "            )\n",
    "            landmark = landmark[:, :3]\n",
    "        pose_data_list.append(landmark)\n",
    "    \n",
    "    pose_data_list = np.array(pose_data_list)\n",
    "    pose_data_dict[os.path.basename(data_dir_path)] = pose_data_list\n"
   ]
  },
  {
   "cell_type": "code",
   "execution_count": 5,
   "metadata": {},
   "outputs": [],
   "source": [
    "SAVE_ROOT_PATH = \"../pose_images\"\n",
    "\n",
    "hor_rot_min = 0\n",
    "hor_rot_max = 360\n",
    "ver_rot_min = -10\n",
    "ver_rot_max = 20\n",
    "\n",
    "ratio_min = 0.5\n",
    "ratio_max = 0.8\n",
    "c = 0\n",
    "\n",
    "for target_pose_name in pose_data_dict.keys() :\n",
    "    SAVE_DIR_PATH = os.path.join(SAVE_ROOT_PATH, target_pose_name)\n",
    "    os.makedirs(SAVE_DIR_PATH, exist_ok=True)\n",
    "\n",
    "    for i, pose_data in enumerate(pose_data_dict[target_pose_name]) :\n",
    "\n",
    "        for i in range(3) :\n",
    "            landmark = OpenPoseLandmark.azurkinect2openpose(pose_data)\n",
    "\n",
    "            ver_rot = np.random.randint(ver_rot_min, ver_rot_max)\n",
    "            hor_rot = np.random.randint(hor_rot_min, hor_rot_max)\n",
    "\n",
    "            rot_y_R = rpy2rm(0, np.deg2rad(hor_rot), 0)\n",
    "            rot_x_R = rpy2rm(np.deg2rad(ver_rot), 0, 0)\n",
    "\n",
    "            landmark = (rot_x_R @ rot_y_R @ landmark.T).T\n",
    "\n",
    "            img = OpenPoseLandmark.draw_from_3d(\n",
    "                landmark,\n",
    "                ratio = np.random.uniform(ratio_min, ratio_max)\n",
    "            )\n",
    "\n",
    "            SAVE_PATH = os.path.join(SAVE_DIR_PATH, f\"{str(time.time()).replace('.', '_')}.png\")\n",
    "\n",
    "            cv2.imwrite(SAVE_PATH, img)\n",
    "\n",
    "            break\n",
    "            #plt.imshow(img)\n",
    "            #plt.show()\n",
    "\n"
   ]
  },
  {
   "cell_type": "code",
   "execution_count": 114,
   "metadata": {},
   "outputs": [
    {
     "data": {
      "text/plain": [
       "0.36752479916911"
      ]
     },
     "execution_count": 114,
     "metadata": {},
     "output_type": "execute_result"
    }
   ],
   "source": [
    "np.random.uniform(0.3, 0.4)"
   ]
  },
  {
   "cell_type": "code",
   "execution_count": 71,
   "metadata": {},
   "outputs": [
    {
     "data": {
      "image/png": "[encoded data removed]",
      "text/plain": [
       "<Figure size 640x480 with 1 Axes>"
      ]
     },
     "metadata": {},
     "output_type": "display_data"
    },
    {
     "data": {
      "application/vnd.plotly.v1+json": {
       "config": {
        "plotlyServerURL": "https://plot.ly"
       },
       "data": [
        {
         "line": {
          "color": "red"
         },
         "marker": {
          "color": "red",
          "size": 2
         },
         "mode": "lines+markers+text",
         "type": "scatter3d",
         "x": [
          335.22450370233696,
          294.5388807819184
         ],
         "y": [
          1138.9046003996434,
          1132.2006231657242
         ],
         "z": [
          -1430.9158838904998,
          -1301.7048234304195
         ]
        },
        {
         "line": {
          "color": "red"
         },
         "marker": {
          "color": "red",
          "size": 2
         },
         "mode": "lines+markers+text",
         "type": "scatter3d",
         "x": [
          294.5388807819184,
          253.87322085119337
         ],
         "y": [
          1132.2006231657242,
          1110.505659011968
         ],
         "z": [
          -1301.7048234304195,
          -1274.427003611992
         ]
        },
        {
         "line": {
          "color": "red"
         },
         "marker": {
          "color": "red",
          "size": 2
         },
         "mode": "lines+markers+text",
         "type": "scatter3d",
         "x": [
          253.87322085119337,
          349.9196851499691
         ],
         "y": [
          1110.505659011968,
          985.4568215414247
         ],
         "z": [
          -1274.427003611992,
          -1355.1702779605914
         ]
        },
        {
         "line": {
          "color": "red"
         },
         "marker": {
          "color": "red",
          "size": 2
         },
         "mode": "lines+markers+text",
         "type": "scatter3d",
         "x": [
          349.9196851499691,
          349.9196851499691
         ],
         "y": [
          985.4568215414247,
          985.4568215414247
         ],
         "z": [
          -1355.1702779605914,
          -1355.1702779605914
         ]
        },
        {
         "line": {
          "color": "red"
         },
         "marker": {
          "color": "red",
          "size": 2
         },
         "mode": "lines+markers+text",
         "type": "scatter3d",
         "x": [
          349.9196851499691,
          349.9196851499691
         ],
         "y": [
          985.4568215414247,
          985.4568215414247
         ],
         "z": [
          -1355.1702779605914,
          -1355.1702779605914
         ]
        },
        {
         "line": {
          "color": "red"
         },
         "marker": {
          "color": "red",
          "size": 2
         },
         "mode": "lines+markers+text",
         "type": "scatter3d",
         "x": [
          349.9196851499691,
          253.87322085119337
         ],
         "y": [
          985.4568215414247,
          1110.505659011968
         ],
         "z": [
          -1355.1702779605914,
          -1274.427003611992
         ]
        },
        {
         "line": {
          "color": "red"
         },
         "marker": {
          "color": "red",
          "size": 2
         },
         "mode": "lines+markers+text",
         "type": "scatter3d",
         "x": [
          253.87322085119337,
          222.54270648977803
         ],
         "y": [
          1110.505659011968,
          1009.4015292496003
         ],
         "z": [
          -1274.427003611992,
          -1468.0577384276348
         ]
        },
        {
         "line": {
          "color": "red"
         },
         "marker": {
          "color": "red",
          "size": 2
         },
         "mode": "lines+markers+text",
         "type": "scatter3d",
         "x": [
          222.54270648977803,
          266.6817615525879
         ],
         "y": [
          1009.4015292496003,
          1104.7087634320926
         ],
         "z": [
          -1468.0577384276348,
          -1596.4896431362458
         ]
        },
        {
         "line": {
          "color": "red"
         },
         "marker": {
          "color": "red",
          "size": 2
         },
         "mode": "lines+markers+text",
         "type": "scatter3d",
         "x": [
          266.6817615525879,
          379.1839399631346
         ],
         "y": [
          1104.7087634320926,
          1334.5774485919903
         ],
         "z": [
          -1596.4896431362458,
          -1456.9809194371694
         ]
        },
        {
         "line": {
          "color": "red"
         },
         "marker": {
          "color": "red",
          "size": 2
         },
         "mode": "lines+markers+text",
         "type": "scatter3d",
         "x": [
          379.1839399631346,
          473.026521210038
         ],
         "y": [
          1334.5774485919903,
          1526.3588381784798
         ],
         "z": [
          -1456.9809194371694,
          -1340.6675182725883
         ]
        },
        {
         "line": {
          "color": "red"
         },
         "marker": {
          "color": "red",
          "size": 2
         },
         "mode": "lines+markers+text",
         "type": "scatter3d",
         "x": [
          473.026521210038,
          379.1839399631346
         ],
         "y": [
          1526.3588381784798,
          1334.5774485919903
         ],
         "z": [
          -1340.6675182725883,
          -1456.9809194371694
         ]
        },
        {
         "line": {
          "color": "red"
         },
         "marker": {
          "color": "red",
          "size": 2
         },
         "mode": "lines+markers+text",
         "type": "scatter3d",
         "x": [
          379.1839399631346,
          266.6817615525879
         ],
         "y": [
          1334.5774485919903,
          1104.7087634320926
         ],
         "z": [
          -1456.9809194371694,
          -1596.4896431362458
         ]
        },
        {
         "line": {
          "color": "red"
         },
         "marker": {
          "color": "red",
          "size": 2
         },
         "mode": "lines+markers+text",
         "type": "scatter3d",
         "x": [
          266.6817615525879,
          222.54270648977803
         ],
         "y": [
          1104.7087634320926,
          1009.4015292496003
         ],
         "z": [
          -1596.4896431362458,
          -1468.0577384276348
         ]
        },
        {
         "line": {
          "color": "red"
         },
         "marker": {
          "color": "red",
          "size": 2
         },
         "mode": "lines+markers+text",
         "type": "scatter3d",
         "x": [
          222.54270648977803,
          128.45132880391165
         ],
         "y": [
          1009.4015292496003,
          985.1344495130373
         ],
         "z": [
          -1468.0577384276348,
          -1318.9071458473218
         ]
        },
        {
         "line": {
          "color": "red"
         },
         "marker": {
          "color": "red",
          "size": 2
         },
         "mode": "lines+markers+text",
         "type": "scatter3d",
         "x": [
          128.45132880391165,
          178.59659682732482
         ],
         "y": [
          985.1344495130373,
          1206.571667058593
         ],
         "z": [
          -1318.9071458473218,
          -1144.883088796553
         ]
        },
        {
         "line": {
          "color": "red"
         },
         "marker": {
          "color": "red",
          "size": 2
         },
         "mode": "lines+markers+text",
         "type": "scatter3d",
         "x": [
          178.59659682732482,
          242.90990337775386
         ],
         "y": [
          1206.571667058593,
          1395.2141063159363
         ],
         "z": [
          -1144.883088796553,
          -1011.0007427250958
         ]
        },
        {
         "line": {
          "color": "red"
         },
         "marker": {
          "color": "red",
          "size": 2
         },
         "mode": "lines+markers+text",
         "type": "scatter3d",
         "x": [
          242.90990337775386,
          178.59659682732482
         ],
         "y": [
          1395.2141063159363,
          1206.571667058593
         ],
         "z": [
          -1011.0007427250958,
          -1144.883088796553
         ]
        },
        {
         "line": {
          "color": "red"
         },
         "marker": {
          "color": "red",
          "size": 2
         },
         "mode": "lines+markers+text",
         "type": "scatter3d",
         "x": [
          178.59659682732482,
          128.45132880391165
         ],
         "y": [
          1206.571667058593,
          985.1344495130373
         ],
         "z": [
          -1144.883088796553,
          -1318.9071458473218
         ]
        },
        {
         "line": {
          "color": "red"
         },
         "marker": {
          "color": "red",
          "size": 2
         },
         "mode": "lines+markers+text",
         "type": "scatter3d",
         "x": [
          128.45132880391165,
          222.54270648977803
         ],
         "y": [
          985.1344495130373,
          1009.4015292496003
         ],
         "z": [
          -1318.9071458473218,
          -1468.0577384276348
         ]
        },
        {
         "line": {
          "color": "red"
         },
         "marker": {
          "color": "red",
          "size": 2
         },
         "mode": "lines+markers+text",
         "type": "scatter3d",
         "x": [
          222.54270648977803,
          -177.91028580040813
         ],
         "y": [
          1009.4015292496003,
          979.5106817028836
         ],
         "z": [
          -1468.0577384276348,
          -1844.3075986978042
         ]
        },
        {
         "line": {
          "color": "red"
         },
         "marker": {
          "color": "red",
          "size": 2
         },
         "mode": "lines+markers+text",
         "type": "scatter3d",
         "x": [
          -177.91028580040813,
          -315.6782524596505
         ],
         "y": [
          979.5106817028836,
          1369.8463225705927
         ],
         "z": [
          -1844.3075986978042,
          -1850.071788120838
         ]
        },
        {
         "line": {
          "color": "red"
         },
         "marker": {
          "color": "red",
          "size": 2
         },
         "mode": "lines+markers+text",
         "type": "scatter3d",
         "x": [
          -315.6782524596505,
          -527.0456352319405
         ],
         "y": [
          1369.8463225705927,
          1706.0572822506442
         ],
         "z": [
          -1850.071788120838,
          -1899.7296643778245
         ]
        },
        {
         "line": {
          "color": "red"
         },
         "marker": {
          "color": "red",
          "size": 2
         },
         "mode": "lines+markers+text",
         "type": "scatter3d",
         "x": [
          -527.0456352319405,
          -315.6782524596505
         ],
         "y": [
          1706.0572822506442,
          1369.8463225705927
         ],
         "z": [
          -1899.7296643778245,
          -1850.071788120838
         ]
        },
        {
         "line": {
          "color": "red"
         },
         "marker": {
          "color": "red",
          "size": 2
         },
         "mode": "lines+markers+text",
         "type": "scatter3d",
         "x": [
          -315.6782524596505,
          -177.91028580040813
         ],
         "y": [
          1369.8463225705927,
          979.5106817028836
         ],
         "z": [
          -1850.071788120838,
          -1844.3075986978042
         ]
        },
        {
         "line": {
          "color": "red"
         },
         "marker": {
          "color": "red",
          "size": 2
         },
         "mode": "lines+markers+text",
         "type": "scatter3d",
         "x": [
          -177.91028580040813,
          222.54270648977803
         ],
         "y": [
          979.5106817028836,
          1009.4015292496003
         ],
         "z": [
          -1844.3075986978042,
          -1468.0577384276348
         ]
        },
        {
         "line": {
          "color": "red"
         },
         "marker": {
          "color": "red",
          "size": 2
         },
         "mode": "lines+markers+text",
         "type": "scatter3d",
         "x": [
          222.54270648977803,
          -272.5137919319312
         ],
         "y": [
          1009.4015292496003,
          897.161670698592
         ],
         "z": [
          -1468.0577384276348,
          -1715.8897941866576
         ]
        },
        {
         "line": {
          "color": "red"
         },
         "marker": {
          "color": "red",
          "size": 2
         },
         "mode": "lines+markers+text",
         "type": "scatter3d",
         "x": [
          -272.5137919319312,
          -482.4807694407101
         ],
         "y": [
          897.161670698592,
          1232.6285597626966
         ],
         "z": [
          -1715.8897941866576,
          -1592.9244189075075
         ]
        },
        {
         "line": {
          "color": "red"
         },
         "marker": {
          "color": "red",
          "size": 2
         },
         "mode": "lines+markers+text",
         "type": "scatter3d",
         "x": [
          -482.4807694407101,
          -734.0646326487393
         ],
         "y": [
          1232.6285597626966,
          1532.4796431490104
         ],
         "z": [
          -1592.9244189075075,
          -1532.4498312804903
         ]
        }
       ],
       "layout": {
        "scene": {
         "camera": {
          "eye": {
           "x": -1,
           "y": -1,
           "z": 1
          }
         }
        },
        "template": {
         "data": {
          "bar": [
           {
            "error_x": {
             "color": "#2a3f5f"
            },
            "error_y": {
             "color": "#2a3f5f"
            },
            "marker": {
             "line": {
              "color": "#E5ECF6",
              "width": 0.5
             },
             "pattern": {
              "fillmode": "overlay",
              "size": 10,
              "solidity": 0.2
             }
            },
            "type": "bar"
           }
          ],
          "barpolar": [
           {
            "marker": {
             "line": {
              "color": "#E5ECF6",
              "width": 0.5
             },
             "pattern": {
              "fillmode": "overlay",
              "size": 10,
              "solidity": 0.2
             }
            },
            "type": "barpolar"
           }
          ],
          "carpet": [
           {
            "aaxis": {
             "endlinecolor": "#2a3f5f",
             "gridcolor": "white",
             "linecolor": "white",
             "minorgridcolor": "white",
             "startlinecolor": "#2a3f5f"
            },
            "baxis": {
             "endlinecolor": "#2a3f5f",
             "gridcolor": "white",
             "linecolor": "white",
             "minorgridcolor": "white",
             "startlinecolor": "#2a3f5f"
            },
            "type": "carpet"
           }
          ],
          "choropleth": [
           {
            "colorbar": {
             "outlinewidth": 0,
             "ticks": ""
            },
            "type": "choropleth"
           }
          ],
          "contour": [
           {
            "colorbar": {
             "outlinewidth": 0,
             "ticks": ""
            },
            "colorscale": [
             [
              0,
              "#0d0887"
             ],
             [
              0.1111111111111111,
              "#46039f"
             ],
             [
              0.2222222222222222,
              "#7201a8"
             ],
             [
              0.3333333333333333,
              "#9c179e"
             ],
             [
              0.4444444444444444,
              "#bd3786"
             ],
             [
              0.5555555555555556,
              "#d8576b"
             ],
             [
              0.6666666666666666,
              "#ed7953"
             ],
             [
              0.7777777777777778,
              "#fb9f3a"
             ],
             [
              0.8888888888888888,
              "#fdca26"
             ],
             [
              1,
              "#f0f921"
             ]
            ],
            "type": "contour"
           }
          ],
          "contourcarpet": [
           {
            "colorbar": {
             "outlinewidth": 0,
             "ticks": ""
            },
            "type": "contourcarpet"
           }
          ],
          "heatmap": [
           {
            "colorbar": {
             "outlinewidth": 0,
             "ticks": ""
            },
            "colorscale": [
             [
              0,
              "#0d0887"
             ],
             [
              0.1111111111111111,
              "#46039f"
             ],
             [
              0.2222222222222222,
              "#7201a8"
             ],
             [
              0.3333333333333333,
              "#9c179e"
             ],
             [
              0.4444444444444444,
              "#bd3786"
             ],
             [
              0.5555555555555556,
              "#d8576b"
             ],
             [
              0.6666666666666666,
              "#ed7953"
             ],
             [
              0.7777777777777778,
              "#fb9f3a"
             ],
             [
              0.8888888888888888,
              "#fdca26"
             ],
             [
              1,
              "#f0f921"
             ]
            ],
            "type": "heatmap"
           }
          ],
          "heatmapgl": [
           {
            "colorbar": {
             "outlinewidth": 0,
             "ticks": ""
            },
            "colorscale": [
             [
              0,
              "#0d0887"
             ],
             [
              0.1111111111111111,
              "#46039f"
             ],
             [
              0.2222222222222222,
              "#7201a8"
             ],
             [
              0.3333333333333333,
              "#9c179e"
             ],
             [
              0.4444444444444444,
              "#bd3786"
             ],
             [
              0.5555555555555556,
              "#d8576b"
             ],
             [
              0.6666666666666666,
              "#ed7953"
             ],
             [
              0.7777777777777778,
              "#fb9f3a"
             ],
             [
              0.8888888888888888,
              "#fdca26"
             ],
             [
              1,
              "#f0f921"
             ]
            ],
            "type": "heatmapgl"
           }
          ],
          "histogram": [
           {
            "marker": {
             "pattern": {
              "fillmode": "overlay",
              "size": 10,
              "solidity": 0.2
             }
            },
            "type": "histogram"
           }
          ],
          "histogram2d": [
           {
            "colorbar": {
             "outlinewidth": 0,
             "ticks": ""
            },
            "colorscale": [
             [
              0,
              "#0d0887"
             ],
             [
              0.1111111111111111,
              "#46039f"
             ],
             [
              0.2222222222222222,
              "#7201a8"
             ],
             [
              0.3333333333333333,
              "#9c179e"
             ],
             [
              0.4444444444444444,
              "#bd3786"
             ],
             [
              0.5555555555555556,
              "#d8576b"
             ],
             [
              0.6666666666666666,
              "#ed7953"
             ],
             [
              0.7777777777777778,
              "#fb9f3a"
             ],
             [
              0.8888888888888888,
              "#fdca26"
             ],
             [
              1,
              "#f0f921"
             ]
            ],
            "type": "histogram2d"
           }
          ],
          "histogram2dcontour": [
           {
            "colorbar": {
             "outlinewidth": 0,
             "ticks": ""
            },
            "colorscale": [
             [
              0,
              "#0d0887"
             ],
             [
              0.1111111111111111,
              "#46039f"
             ],
             [
              0.2222222222222222,
              "#7201a8"
             ],
             [
              0.3333333333333333,
              "#9c179e"
             ],
             [
              0.4444444444444444,
              "#bd3786"
             ],
             [
              0.5555555555555556,
              "#d8576b"
             ],
             [
              0.6666666666666666,
              "#ed7953"
             ],
             [
              0.7777777777777778,
              "#fb9f3a"
             ],
             [
              0.8888888888888888,
              "#fdca26"
             ],
             [
              1,
              "#f0f921"
             ]
            ],
            "type": "histogram2dcontour"
           }
          ],
          "mesh3d": [
           {
            "colorbar": {
             "outlinewidth": 0,
             "ticks": ""
            },
            "type": "mesh3d"
           }
          ],
          "parcoords": [
           {
            "line": {
             "colorbar": {
              "outlinewidth": 0,
              "ticks": ""
             }
            },
            "type": "parcoords"
           }
          ],
          "pie": [
           {
            "automargin": true,
            "type": "pie"
           }
          ],
          "scatter": [
           {
            "fillpattern": {
             "fillmode": "overlay",
             "size": 10,
             "solidity": 0.2
            },
            "type": "scatter"
           }
          ],
          "scatter3d": [
           {
            "line": {
             "colorbar": {
              "outlinewidth": 0,
              "ticks": ""
             }
            },
            "marker": {
             "colorbar": {
              "outlinewidth": 0,
              "ticks": ""
             }
            },
            "type": "scatter3d"
           }
          ],
          "scattercarpet": [
           {
            "marker": {
             "colorbar": {
              "outlinewidth": 0,
              "ticks": ""
             }
            },
            "type": "scattercarpet"
           }
          ],
          "scattergeo": [
           {
            "marker": {
             "colorbar": {
              "outlinewidth": 0,
              "ticks": ""
             }
            },
            "type": "scattergeo"
           }
          ],
          "scattergl": [
           {
            "marker": {
             "colorbar": {
              "outlinewidth": 0,
              "ticks": ""
             }
            },
            "type": "scattergl"
           }
          ],
          "scattermapbox": [
           {
            "marker": {
             "colorbar": {
              "outlinewidth": 0,
              "ticks": ""
             }
            },
            "type": "scattermapbox"
           }
          ],
          "scatterpolar": [
           {
            "marker": {
             "colorbar": {
              "outlinewidth": 0,
              "ticks": ""
             }
            },
            "type": "scatterpolar"
           }
          ],
          "scatterpolargl": [
           {
            "marker": {
             "colorbar": {
              "outlinewidth": 0,
              "ticks": ""
             }
            },
            "type": "scatterpolargl"
           }
          ],
          "scatterternary": [
           {
            "marker": {
             "colorbar": {
              "outlinewidth": 0,
              "ticks": ""
             }
            },
            "type": "scatterternary"
           }
          ],
          "surface": [
           {
            "colorbar": {
             "outlinewidth": 0,
             "ticks": ""
            },
            "colorscale": [
             [
              0,
              "#0d0887"
             ],
             [
              0.1111111111111111,
              "#46039f"
             ],
             [
              0.2222222222222222,
              "#7201a8"
             ],
             [
              0.3333333333333333,
              "#9c179e"
             ],
             [
              0.4444444444444444,
              "#bd3786"
             ],
             [
              0.5555555555555556,
              "#d8576b"
             ],
             [
              0.6666666666666666,
              "#ed7953"
             ],
             [
              0.7777777777777778,
              "#fb9f3a"
             ],
             [
              0.8888888888888888,
              "#fdca26"
             ],
             [
              1,
              "#f0f921"
             ]
            ],
            "type": "surface"
           }
          ],
          "table": [
           {
            "cells": {
             "fill": {
              "color": "#EBF0F8"
             },
             "line": {
              "color": "white"
             }
            },
            "header": {
             "fill": {
              "color": "#C8D4E3"
             },
             "line": {
              "color": "white"
             }
            },
            "type": "table"
           }
          ]
         },
         "layout": {
          "annotationdefaults": {
           "arrowcolor": "#2a3f5f",
           "arrowhead": 0,
           "arrowwidth": 1
          },
          "autotypenumbers": "strict",
          "coloraxis": {
           "colorbar": {
            "outlinewidth": 0,
            "ticks": ""
           }
          },
          "colorscale": {
           "diverging": [
            [
             0,
             "#8e0152"
            ],
            [
             0.1,
             "#c51b7d"
            ],
            [
             0.2,
             "#de77ae"
            ],
            [
             0.3,
             "#f1b6da"
            ],
            [
             0.4,
             "#fde0ef"
            ],
            [
             0.5,
             "#f7f7f7"
            ],
            [
             0.6,
             "#e6f5d0"
            ],
            [
             0.7,
             "#b8e186"
            ],
            [
             0.8,
             "#7fbc41"
            ],
            [
             0.9,
             "#4d9221"
            ],
            [
             1,
             "#276419"
            ]
           ],
           "sequential": [
            [
             0,
             "#0d0887"
            ],
            [
             0.1111111111111111,
             "#46039f"
            ],
            [
             0.2222222222222222,
             "#7201a8"
            ],
            [
             0.3333333333333333,
             "#9c179e"
            ],
            [
             0.4444444444444444,
             "#bd3786"
            ],
            [
             0.5555555555555556,
             "#d8576b"
            ],
            [
             0.6666666666666666,
             "#ed7953"
            ],
            [
             0.7777777777777778,
             "#fb9f3a"
            ],
            [
             0.8888888888888888,
             "#fdca26"
            ],
            [
             1,
             "#f0f921"
            ]
           ],
           "sequentialminus": [
            [
             0,
             "#0d0887"
            ],
            [
             0.1111111111111111,
             "#46039f"
            ],
            [
             0.2222222222222222,
             "#7201a8"
            ],
            [
             0.3333333333333333,
             "#9c179e"
            ],
            [
             0.4444444444444444,
             "#bd3786"
            ],
            [
             0.5555555555555556,
             "#d8576b"
            ],
            [
             0.6666666666666666,
             "#ed7953"
            ],
            [
             0.7777777777777778,
             "#fb9f3a"
            ],
            [
             0.8888888888888888,
             "#fdca26"
            ],
            [
             1,
             "#f0f921"
            ]
           ]
          },
          "colorway": [
           "#636efa",
           "#EF553B",
           "#00cc96",
           "#ab63fa",
           "#FFA15A",
           "#19d3f3",
           "#FF6692",
           "#B6E880",
           "#FF97FF",
           "#FECB52"
          ],
          "font": {
           "color": "#2a3f5f"
          },
          "geo": {
           "bgcolor": "white",
           "lakecolor": "white",
           "landcolor": "#E5ECF6",
           "showlakes": true,
           "showland": true,
           "subunitcolor": "white"
          },
          "hoverlabel": {
           "align": "left"
          },
          "hovermode": "closest",
          "mapbox": {
           "style": "light"
          },
          "paper_bgcolor": "white",
          "plot_bgcolor": "#E5ECF6",
          "polar": {
           "angularaxis": {
            "gridcolor": "white",
            "linecolor": "white",
            "ticks": ""
           },
           "bgcolor": "#E5ECF6",
           "radialaxis": {
            "gridcolor": "white",
            "linecolor": "white",
            "ticks": ""
           }
          },
          "scene": {
           "xaxis": {
            "backgroundcolor": "#E5ECF6",
            "gridcolor": "white",
            "gridwidth": 2,
            "linecolor": "white",
            "showbackground": true,
            "ticks": "",
            "zerolinecolor": "white"
           },
           "yaxis": {
            "backgroundcolor": "#E5ECF6",
            "gridcolor": "white",
            "gridwidth": 2,
            "linecolor": "white",
            "showbackground": true,
            "ticks": "",
            "zerolinecolor": "white"
           },
           "zaxis": {
            "backgroundcolor": "#E5ECF6",
            "gridcolor": "white",
            "gridwidth": 2,
            "linecolor": "white",
            "showbackground": true,
            "ticks": "",
            "zerolinecolor": "white"
           }
          },
          "shapedefaults": {
           "line": {
            "color": "#2a3f5f"
           }
          },
          "ternary": {
           "aaxis": {
            "gridcolor": "white",
            "linecolor": "white",
            "ticks": ""
           },
           "baxis": {
            "gridcolor": "white",
            "linecolor": "white",
            "ticks": ""
           },
           "bgcolor": "#E5ECF6",
           "caxis": {
            "gridcolor": "white",
            "linecolor": "white",
            "ticks": ""
           }
          },
          "title": {
           "x": 0.05
          },
          "xaxis": {
           "automargin": true,
           "gridcolor": "white",
           "linecolor": "white",
           "ticks": "",
           "title": {
            "standoff": 15
           },
           "zerolinecolor": "white",
           "zerolinewidth": 2
          },
          "yaxis": {
           "automargin": true,
           "gridcolor": "white",
           "linecolor": "white",
           "ticks": "",
           "title": {
            "standoff": 15
           },
           "zerolinecolor": "white",
           "zerolinewidth": 2
          }
         }
        }
       }
      },
      "text/html": [
       "<div>                            <div id=\"3e958b4a-bbae-403b-9f5e-223e11b5c901\" class=\"plotly-graph-div\" style=\"height:525px; width:100%;\"></div>            <script type=\"text/javascript\">                require([\"plotly\"], function(Plotly) {                    window.PLOTLYENV=window.PLOTLYENV || {};                                    if (document.getElementById(\"3e958b4a-bbae-403b-9f5e-223e11b5c901\")) {                    Plotly.newPlot(                        \"3e958b4a-bbae-403b-9f5e-223e11b5c901\",                        [{\"line\":{\"color\":\"red\"},\"marker\":{\"color\":\"red\",\"size\":2},\"mode\":\"lines+markers+text\",\"x\":[335.22450370233696,294.5388807819184],\"y\":[1138.9046003996434,1132.2006231657242],\"z\":[-1430.9158838904998,-1301.7048234304195],\"type\":\"scatter3d\"},{\"line\":{\"color\":\"red\"},\"marker\":{\"color\":\"red\",\"size\":2},\"mode\":\"lines+markers+text\",\"x\":[294.5388807819184,253.87322085119337],\"y\":[1132.2006231657242,1110.505659011968],\"z\":[-1301.7048234304195,-1274.427003611992],\"type\":\"scatter3d\"},{\"line\":{\"color\":\"red\"},\"marker\":{\"color\":\"red\",\"size\":2},\"mode\":\"lines+markers+text\",\"x\":[253.87322085119337,349.9196851499691],\"y\":[1110.505659011968,985.4568215414247],\"z\":[-1274.427003611992,-1355.1702779605914],\"type\":\"scatter3d\"},{\"line\":{\"color\":\"red\"},\"marker\":{\"color\":\"red\",\"size\":2},\"mode\":\"lines+markers+text\",\"x\":[349.9196851499691,349.9196851499691],\"y\":[985.4568215414247,985.4568215414247],\"z\":[-1355.1702779605914,-1355.1702779605914],\"type\":\"scatter3d\"},{\"line\":{\"color\":\"red\"},\"marker\":{\"color\":\"red\",\"size\":2},\"mode\":\"lines+markers+text\",\"x\":[349.9196851499691,349.9196851499691],\"y\":[985.4568215414247,985.4568215414247],\"z\":[-1355.1702779605914,-1355.1702779605914],\"type\":\"scatter3d\"},{\"line\":{\"color\":\"red\"},\"marker\":{\"color\":\"red\",\"size\":2},\"mode\":\"lines+markers+text\",\"x\":[349.9196851499691,253.87322085119337],\"y\":[985.4568215414247,1110.505659011968],\"z\":[-1355.1702779605914,-1274.427003611992],\"type\":\"scatter3d\"},{\"line\":{\"color\":\"red\"},\"marker\":{\"color\":\"red\",\"size\":2},\"mode\":\"lines+markers+text\",\"x\":[253.87322085119337,222.54270648977803],\"y\":[1110.505659011968,1009.4015292496003],\"z\":[-1274.427003611992,-1468.0577384276348],\"type\":\"scatter3d\"},{\"line\":{\"color\":\"red\"},\"marker\":{\"color\":\"red\",\"size\":2},\"mode\":\"lines+markers+text\",\"x\":[222.54270648977803,266.6817615525879],\"y\":[1009.4015292496003,1104.7087634320926],\"z\":[-1468.0577384276348,-1596.4896431362458],\"type\":\"scatter3d\"},{\"line\":{\"color\":\"red\"},\"marker\":{\"color\":\"red\",\"size\":2},\"mode\":\"lines+markers+text\",\"x\":[266.6817615525879,379.1839399631346],\"y\":[1104.7087634320926,1334.5774485919903],\"z\":[-1596.4896431362458,-1456.9809194371694],\"type\":\"scatter3d\"},{\"line\":{\"color\":\"red\"},\"marker\":{\"color\":\"red\",\"size\":2},\"mode\":\"lines+markers+text\",\"x\":[379.1839399631346,473.026521210038],\"y\":[1334.5774485919903,1526.3588381784798],\"z\":[-1456.9809194371694,-1340.6675182725883],\"type\":\"scatter3d\"},{\"line\":{\"color\":\"red\"},\"marker\":{\"color\":\"red\",\"size\":2},\"mode\":\"lines+markers+text\",\"x\":[473.026521210038,379.1839399631346],\"y\":[1526.3588381784798,1334.5774485919903],\"z\":[-1340.6675182725883,-1456.9809194371694],\"type\":\"scatter3d\"},{\"line\":{\"color\":\"red\"},\"marker\":{\"color\":\"red\",\"size\":2},\"mode\":\"lines+markers+text\",\"x\":[379.1839399631346,266.6817615525879],\"y\":[1334.5774485919903,1104.7087634320926],\"z\":[-1456.9809194371694,-1596.4896431362458],\"type\":\"scatter3d\"},{\"line\":{\"color\":\"red\"},\"marker\":{\"color\":\"red\",\"size\":2},\"mode\":\"lines+markers+text\",\"x\":[266.6817615525879,222.54270648977803],\"y\":[1104.7087634320926,1009.4015292496003],\"z\":[-1596.4896431362458,-1468.0577384276348],\"type\":\"scatter3d\"},{\"line\":{\"color\":\"red\"},\"marker\":{\"color\":\"red\",\"size\":2},\"mode\":\"lines+markers+text\",\"x\":[222.54270648977803,128.45132880391165],\"y\":[1009.4015292496003,985.1344495130373],\"z\":[-1468.0577384276348,-1318.9071458473218],\"type\":\"scatter3d\"},{\"line\":{\"color\":\"red\"},\"marker\":{\"color\":\"red\",\"size\":2},\"mode\":\"lines+markers+text\",\"x\":[128.45132880391165,178.59659682732482],\"y\":[985.1344495130373,1206.571667058593],\"z\":[-1318.9071458473218,-1144.883088796553],\"type\":\"scatter3d\"},{\"line\":{\"color\":\"red\"},\"marker\":{\"color\":\"red\",\"size\":2},\"mode\":\"lines+markers+text\",\"x\":[178.59659682732482,242.90990337775386],\"y\":[1206.571667058593,1395.2141063159363],\"z\":[-1144.883088796553,-1011.0007427250958],\"type\":\"scatter3d\"},{\"line\":{\"color\":\"red\"},\"marker\":{\"color\":\"red\",\"size\":2},\"mode\":\"lines+markers+text\",\"x\":[242.90990337775386,178.59659682732482],\"y\":[1395.2141063159363,1206.571667058593],\"z\":[-1011.0007427250958,-1144.883088796553],\"type\":\"scatter3d\"},{\"line\":{\"color\":\"red\"},\"marker\":{\"color\":\"red\",\"size\":2},\"mode\":\"lines+markers+text\",\"x\":[178.59659682732482,128.45132880391165],\"y\":[1206.571667058593,985.1344495130373],\"z\":[-1144.883088796553,-1318.9071458473218],\"type\":\"scatter3d\"},{\"line\":{\"color\":\"red\"},\"marker\":{\"color\":\"red\",\"size\":2},\"mode\":\"lines+markers+text\",\"x\":[128.45132880391165,222.54270648977803],\"y\":[985.1344495130373,1009.4015292496003],\"z\":[-1318.9071458473218,-1468.0577384276348],\"type\":\"scatter3d\"},{\"line\":{\"color\":\"red\"},\"marker\":{\"color\":\"red\",\"size\":2},\"mode\":\"lines+markers+text\",\"x\":[222.54270648977803,-177.91028580040813],\"y\":[1009.4015292496003,979.5106817028836],\"z\":[-1468.0577384276348,-1844.3075986978042],\"type\":\"scatter3d\"},{\"line\":{\"color\":\"red\"},\"marker\":{\"color\":\"red\",\"size\":2},\"mode\":\"lines+markers+text\",\"x\":[-177.91028580040813,-315.6782524596505],\"y\":[979.5106817028836,1369.8463225705927],\"z\":[-1844.3075986978042,-1850.071788120838],\"type\":\"scatter3d\"},{\"line\":{\"color\":\"red\"},\"marker\":{\"color\":\"red\",\"size\":2},\"mode\":\"lines+markers+text\",\"x\":[-315.6782524596505,-527.0456352319405],\"y\":[1369.8463225705927,1706.0572822506442],\"z\":[-1850.071788120838,-1899.7296643778245],\"type\":\"scatter3d\"},{\"line\":{\"color\":\"red\"},\"marker\":{\"color\":\"red\",\"size\":2},\"mode\":\"lines+markers+text\",\"x\":[-527.0456352319405,-315.6782524596505],\"y\":[1706.0572822506442,1369.8463225705927],\"z\":[-1899.7296643778245,-1850.071788120838],\"type\":\"scatter3d\"},{\"line\":{\"color\":\"red\"},\"marker\":{\"color\":\"red\",\"size\":2},\"mode\":\"lines+markers+text\",\"x\":[-315.6782524596505,-177.91028580040813],\"y\":[1369.8463225705927,979.5106817028836],\"z\":[-1850.071788120838,-1844.3075986978042],\"type\":\"scatter3d\"},{\"line\":{\"color\":\"red\"},\"marker\":{\"color\":\"red\",\"size\":2},\"mode\":\"lines+markers+text\",\"x\":[-177.91028580040813,222.54270648977803],\"y\":[979.5106817028836,1009.4015292496003],\"z\":[-1844.3075986978042,-1468.0577384276348],\"type\":\"scatter3d\"},{\"line\":{\"color\":\"red\"},\"marker\":{\"color\":\"red\",\"size\":2},\"mode\":\"lines+markers+text\",\"x\":[222.54270648977803,-272.5137919319312],\"y\":[1009.4015292496003,897.161670698592],\"z\":[-1468.0577384276348,-1715.8897941866576],\"type\":\"scatter3d\"},{\"line\":{\"color\":\"red\"},\"marker\":{\"color\":\"red\",\"size\":2},\"mode\":\"lines+markers+text\",\"x\":[-272.5137919319312,-482.4807694407101],\"y\":[897.161670698592,1232.6285597626966],\"z\":[-1715.8897941866576,-1592.9244189075075],\"type\":\"scatter3d\"},{\"line\":{\"color\":\"red\"},\"marker\":{\"color\":\"red\",\"size\":2},\"mode\":\"lines+markers+text\",\"x\":[-482.4807694407101,-734.0646326487393],\"y\":[1232.6285597626966,1532.4796431490104],\"z\":[-1592.9244189075075,-1532.4498312804903],\"type\":\"scatter3d\"}],                        {\"scene\":{\"camera\":{\"eye\":{\"x\":-1,\"y\":-1,\"z\":1}}},\"template\":{\"data\":{\"histogram2dcontour\":[{\"type\":\"histogram2dcontour\",\"colorbar\":{\"outlinewidth\":0,\"ticks\":\"\"},\"colorscale\":[[0.0,\"#0d0887\"],[0.1111111111111111,\"#46039f\"],[0.2222222222222222,\"#7201a8\"],[0.3333333333333333,\"#9c179e\"],[0.4444444444444444,\"#bd3786\"],[0.5555555555555556,\"#d8576b\"],[0.6666666666666666,\"#ed7953\"],[0.7777777777777778,\"#fb9f3a\"],[0.8888888888888888,\"#fdca26\"],[1.0,\"#f0f921\"]]}],\"choropleth\":[{\"type\":\"choropleth\",\"colorbar\":{\"outlinewidth\":0,\"ticks\":\"\"}}],\"histogram2d\":[{\"type\":\"histogram2d\",\"colorbar\":{\"outlinewidth\":0,\"ticks\":\"\"},\"colorscale\":[[0.0,\"#0d0887\"],[0.1111111111111111,\"#46039f\"],[0.2222222222222222,\"#7201a8\"],[0.3333333333333333,\"#9c179e\"],[0.4444444444444444,\"#bd3786\"],[0.5555555555555556,\"#d8576b\"],[0.6666666666666666,\"#ed7953\"],[0.7777777777777778,\"#fb9f3a\"],[0.8888888888888888,\"#fdca26\"],[1.0,\"#f0f921\"]]}],\"heatmap\":[{\"type\":\"heatmap\",\"colorbar\":{\"outlinewidth\":0,\"ticks\":\"\"},\"colorscale\":[[0.0,\"#0d0887\"],[0.1111111111111111,\"#46039f\"],[0.2222222222222222,\"#7201a8\"],[0.3333333333333333,\"#9c179e\"],[0.4444444444444444,\"#bd3786\"],[0.5555555555555556,\"#d8576b\"],[0.6666666666666666,\"#ed7953\"],[0.7777777777777778,\"#fb9f3a\"],[0.8888888888888888,\"#fdca26\"],[1.0,\"#f0f921\"]]}],\"heatmapgl\":[{\"type\":\"heatmapgl\",\"colorbar\":{\"outlinewidth\":0,\"ticks\":\"\"},\"colorscale\":[[0.0,\"#0d0887\"],[0.1111111111111111,\"#46039f\"],[0.2222222222222222,\"#7201a8\"],[0.3333333333333333,\"#9c179e\"],[0.4444444444444444,\"#bd3786\"],[0.5555555555555556,\"#d8576b\"],[0.6666666666666666,\"#ed7953\"],[0.7777777777777778,\"#fb9f3a\"],[0.8888888888888888,\"#fdca26\"],[1.0,\"#f0f921\"]]}],\"contourcarpet\":[{\"type\":\"contourcarpet\",\"colorbar\":{\"outlinewidth\":0,\"ticks\":\"\"}}],\"contour\":[{\"type\":\"contour\",\"colorbar\":{\"outlinewidth\":0,\"ticks\":\"\"},\"colorscale\":[[0.0,\"#0d0887\"],[0.1111111111111111,\"#46039f\"],[0.2222222222222222,\"#7201a8\"],[0.3333333333333333,\"#9c179e\"],[0.4444444444444444,\"#bd3786\"],[0.5555555555555556,\"#d8576b\"],[0.6666666666666666,\"#ed7953\"],[0.7777777777777778,\"#fb9f3a\"],[0.8888888888888888,\"#fdca26\"],[1.0,\"#f0f921\"]]}],\"surface\":[{\"type\":\"surface\",\"colorbar\":{\"outlinewidth\":0,\"ticks\":\"\"},\"colorscale\":[[0.0,\"#0d0887\"],[0.1111111111111111,\"#46039f\"],[0.2222222222222222,\"#7201a8\"],[0.3333333333333333,\"#9c179e\"],[0.4444444444444444,\"#bd3786\"],[0.5555555555555556,\"#d8576b\"],[0.6666666666666666,\"#ed7953\"],[0.7777777777777778,\"#fb9f3a\"],[0.8888888888888888,\"#fdca26\"],[1.0,\"#f0f921\"]]}],\"mesh3d\":[{\"type\":\"mesh3d\",\"colorbar\":{\"outlinewidth\":0,\"ticks\":\"\"}}],\"scatter\":[{\"fillpattern\":{\"fillmode\":\"overlay\",\"size\":10,\"solidity\":0.2},\"type\":\"scatter\"}],\"parcoords\":[{\"type\":\"parcoords\",\"line\":{\"colorbar\":{\"outlinewidth\":0,\"ticks\":\"\"}}}],\"scatterpolargl\":[{\"type\":\"scatterpolargl\",\"marker\":{\"colorbar\":{\"outlinewidth\":0,\"ticks\":\"\"}}}],\"bar\":[{\"error_x\":{\"color\":\"#2a3f5f\"},\"error_y\":{\"color\":\"#2a3f5f\"},\"marker\":{\"line\":{\"color\":\"#E5ECF6\",\"width\":0.5},\"pattern\":{\"fillmode\":\"overlay\",\"size\":10,\"solidity\":0.2}},\"type\":\"bar\"}],\"scattergeo\":[{\"type\":\"scattergeo\",\"marker\":{\"colorbar\":{\"outlinewidth\":0,\"ticks\":\"\"}}}],\"scatterpolar\":[{\"type\":\"scatterpolar\",\"marker\":{\"colorbar\":{\"outlinewidth\":0,\"ticks\":\"\"}}}],\"histogram\":[{\"marker\":{\"pattern\":{\"fillmode\":\"overlay\",\"size\":10,\"solidity\":0.2}},\"type\":\"histogram\"}],\"scattergl\":[{\"type\":\"scattergl\",\"marker\":{\"colorbar\":{\"outlinewidth\":0,\"ticks\":\"\"}}}],\"scatter3d\":[{\"type\":\"scatter3d\",\"line\":{\"colorbar\":{\"outlinewidth\":0,\"ticks\":\"\"}},\"marker\":{\"colorbar\":{\"outlinewidth\":0,\"ticks\":\"\"}}}],\"scattermapbox\":[{\"type\":\"scattermapbox\",\"marker\":{\"colorbar\":{\"outlinewidth\":0,\"ticks\":\"\"}}}],\"scatterternary\":[{\"type\":\"scatterternary\",\"marker\":{\"colorbar\":{\"outlinewidth\":0,\"ticks\":\"\"}}}],\"scattercarpet\":[{\"type\":\"scattercarpet\",\"marker\":{\"colorbar\":{\"outlinewidth\":0,\"ticks\":\"\"}}}],\"carpet\":[{\"aaxis\":{\"endlinecolor\":\"#2a3f5f\",\"gridcolor\":\"white\",\"linecolor\":\"white\",\"minorgridcolor\":\"white\",\"startlinecolor\":\"#2a3f5f\"},\"baxis\":{\"endlinecolor\":\"#2a3f5f\",\"gridcolor\":\"white\",\"linecolor\":\"white\",\"minorgridcolor\":\"white\",\"startlinecolor\":\"#2a3f5f\"},\"type\":\"carpet\"}],\"table\":[{\"cells\":{\"fill\":{\"color\":\"#EBF0F8\"},\"line\":{\"color\":\"white\"}},\"header\":{\"fill\":{\"color\":\"#C8D4E3\"},\"line\":{\"color\":\"white\"}},\"type\":\"table\"}],\"barpolar\":[{\"marker\":{\"line\":{\"color\":\"#E5ECF6\",\"width\":0.5},\"pattern\":{\"fillmode\":\"overlay\",\"size\":10,\"solidity\":0.2}},\"type\":\"barpolar\"}],\"pie\":[{\"automargin\":true,\"type\":\"pie\"}]},\"layout\":{\"autotypenumbers\":\"strict\",\"colorway\":[\"#636efa\",\"#EF553B\",\"#00cc96\",\"#ab63fa\",\"#FFA15A\",\"#19d3f3\",\"#FF6692\",\"#B6E880\",\"#FF97FF\",\"#FECB52\"],\"font\":{\"color\":\"#2a3f5f\"},\"hovermode\":\"closest\",\"hoverlabel\":{\"align\":\"left\"},\"paper_bgcolor\":\"white\",\"plot_bgcolor\":\"#E5ECF6\",\"polar\":{\"bgcolor\":\"#E5ECF6\",\"angularaxis\":{\"gridcolor\":\"white\",\"linecolor\":\"white\",\"ticks\":\"\"},\"radialaxis\":{\"gridcolor\":\"white\",\"linecolor\":\"white\",\"ticks\":\"\"}},\"ternary\":{\"bgcolor\":\"#E5ECF6\",\"aaxis\":{\"gridcolor\":\"white\",\"linecolor\":\"white\",\"ticks\":\"\"},\"baxis\":{\"gridcolor\":\"white\",\"linecolor\":\"white\",\"ticks\":\"\"},\"caxis\":{\"gridcolor\":\"white\",\"linecolor\":\"white\",\"ticks\":\"\"}},\"coloraxis\":{\"colorbar\":{\"outlinewidth\":0,\"ticks\":\"\"}},\"colorscale\":{\"sequential\":[[0.0,\"#0d0887\"],[0.1111111111111111,\"#46039f\"],[0.2222222222222222,\"#7201a8\"],[0.3333333333333333,\"#9c179e\"],[0.4444444444444444,\"#bd3786\"],[0.5555555555555556,\"#d8576b\"],[0.6666666666666666,\"#ed7953\"],[0.7777777777777778,\"#fb9f3a\"],[0.8888888888888888,\"#fdca26\"],[1.0,\"#f0f921\"]],\"sequentialminus\":[[0.0,\"#0d0887\"],[0.1111111111111111,\"#46039f\"],[0.2222222222222222,\"#7201a8\"],[0.3333333333333333,\"#9c179e\"],[0.4444444444444444,\"#bd3786\"],[0.5555555555555556,\"#d8576b\"],[0.6666666666666666,\"#ed7953\"],[0.7777777777777778,\"#fb9f3a\"],[0.8888888888888888,\"#fdca26\"],[1.0,\"#f0f921\"]],\"diverging\":[[0,\"#8e0152\"],[0.1,\"#c51b7d\"],[0.2,\"#de77ae\"],[0.3,\"#f1b6da\"],[0.4,\"#fde0ef\"],[0.5,\"#f7f7f7\"],[0.6,\"#e6f5d0\"],[0.7,\"#b8e186\"],[0.8,\"#7fbc41\"],[0.9,\"#4d9221\"],[1,\"#276419\"]]},\"xaxis\":{\"gridcolor\":\"white\",\"linecolor\":\"white\",\"ticks\":\"\",\"title\":{\"standoff\":15},\"zerolinecolor\":\"white\",\"automargin\":true,\"zerolinewidth\":2},\"yaxis\":{\"gridcolor\":\"white\",\"linecolor\":\"white\",\"ticks\":\"\",\"title\":{\"standoff\":15},\"zerolinecolor\":\"white\",\"automargin\":true,\"zerolinewidth\":2},\"scene\":{\"xaxis\":{\"backgroundcolor\":\"#E5ECF6\",\"gridcolor\":\"white\",\"linecolor\":\"white\",\"showbackground\":true,\"ticks\":\"\",\"zerolinecolor\":\"white\",\"gridwidth\":2},\"yaxis\":{\"backgroundcolor\":\"#E5ECF6\",\"gridcolor\":\"white\",\"linecolor\":\"white\",\"showbackground\":true,\"ticks\":\"\",\"zerolinecolor\":\"white\",\"gridwidth\":2},\"zaxis\":{\"backgroundcolor\":\"#E5ECF6\",\"gridcolor\":\"white\",\"linecolor\":\"white\",\"showbackground\":true,\"ticks\":\"\",\"zerolinecolor\":\"white\",\"gridwidth\":2}},\"shapedefaults\":{\"line\":{\"color\":\"#2a3f5f\"}},\"annotationdefaults\":{\"arrowcolor\":\"#2a3f5f\",\"arrowhead\":0,\"arrowwidth\":1},\"geo\":{\"bgcolor\":\"white\",\"landcolor\":\"#E5ECF6\",\"subunitcolor\":\"white\",\"showland\":true,\"showlakes\":true,\"lakecolor\":\"white\"},\"title\":{\"x\":0.05},\"mapbox\":{\"style\":\"light\"}}}},                        {\"responsive\": true}                    ).then(function(){\n",
       "                            \n",
       "var gd = document.getElementById('3e958b4a-bbae-403b-9f5e-223e11b5c901');\n",
       "var x = new MutationObserver(function (mutations, observer) {{\n",
       "        var display = window.getComputedStyle(gd).display;\n",
       "        if (!display || display === 'none') {{\n",
       "            console.log([gd, 'removed!']);\n",
       "            Plotly.purge(gd);\n",
       "            observer.disconnect();\n",
       "        }}\n",
       "}});\n",
       "\n",
       "// Listen for the removal of the full notebook cells\n",
       "var notebookContainer = gd.closest('#notebook-container');\n",
       "if (notebookContainer) {{\n",
       "    x.observe(notebookContainer, {childList: true});\n",
       "}}\n",
       "\n",
       "// Listen for the clearing of the current output cell\n",
       "var outputEl = gd.closest('.output');\n",
       "if (outputEl) {{\n",
       "    x.observe(outputEl, {childList: true});\n",
       "}}\n",
       "\n",
       "                        })                };                });            </script>        </div>"
      ]
     },
     "metadata": {},
     "output_type": "display_data"
    }
   ],
   "source": [
    "\n",
    "\n",
    "\n",
    "IDX = 10\n",
    "\n",
    "hor_rot_min = 0\n",
    "hor_rot_max = 360\n",
    "ver_rot_min = -20\n",
    "ver_rot_max = 50\n",
    "\n",
    "ver_rot = np.random.randint(ver_rot_min, ver_rot_max)\n",
    "hor_rot = np.random.randint(hor_rot_min, hor_rot_max)\n",
    "\n",
    "landmark = OpenPoseLandmark.azurkinect2openpose(pose_data_list[IDX])\n",
    "\n",
    "rot_y_R = rpy2rm(0, np.deg2rad(hor_rot), 0)\n",
    "rot_x_R = rpy2rm(np.deg2rad(ver_rot), 0, 0)\n",
    "\n",
    "landmark = (rot_x_R @ rot_y_R @ landmark.T).T\n",
    "\n",
    "img = OpenPoseLandmark.draw_from_3d(landmark)\n",
    "plt.imshow(img)\n",
    "plt.show()\n",
    "\n",
    "plot3d(\n",
    "    landmark,\n",
    "    OpenPoseLandmark.CONN_PATH_LIST\n",
    ")"
   ]
  },
  {
   "cell_type": "code",
   "execution_count": null,
   "metadata": {},
   "outputs": [],
   "source": []
  }
 ],
 "metadata": {
  "kernelspec": {
   "display_name": "first",
   "language": "python",
   "name": "python3"
  },
  "language_info": {
   "codemirror_mode": {
    "name": "ipython",
    "version": 3
   },
   "file_extension": ".py",
   "mimetype": "text/x-python",
   "name": "python",
   "nbconvert_exporter": "python",
   "pygments_lexer": "ipython3",
   "version": "3.9.12"
  },
  "orig_nbformat": 4
 },
 "nbformat": 4,
 "nbformat_minor": 2
}

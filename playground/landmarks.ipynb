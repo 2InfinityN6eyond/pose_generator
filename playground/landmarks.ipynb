{
 "cells": [
  {
   "cell_type": "code",
   "execution_count": 1,
   "metadata": {},
   "outputs": [
    {
     "data": {
      "text/html": [
       "        <script type=\"text/javascript\">\n",
       "        window.PlotlyConfig = {MathJaxConfig: 'local'};\n",
       "        if (window.MathJax) {MathJax.Hub.Config({SVG: {font: \"STIX-Web\"}});}\n",
       "        if (typeof require !== 'undefined') {\n",
       "        require.undef(\"plotly\");\n",
       "        requirejs.config({\n",
       "            paths: {\n",
       "                'plotly': ['https://cdn.plot.ly/plotly-2.9.0.min']\n",
       "            }\n",
       "        });\n",
       "        require(['plotly'], function(Plotly) {\n",
       "            window._Plotly = Plotly;\n",
       "        });\n",
       "        }\n",
       "        </script>\n",
       "        "
      ]
     },
     "metadata": {},
     "output_type": "display_data"
    },
    {
     "data": {
      "image/png": "[encoded data removed]",
      "text/plain": [
       "<Figure size 432x288 with 1 Axes>"
      ]
     },
     "metadata": {
      "needs_background": "light"
     },
     "output_type": "display_data"
    }
   ],
   "source": [
    "#%matplotlib widget\n",
    "import matplotlib.pyplot as plt\n",
    "plt.gca().set_aspect('equal')\n",
    "\n",
    "import math\n",
    "import numpy as np\n",
    "import cv2\n",
    "import glob\n",
    "import json\n",
    "import pickle\n",
    "\n",
    "from dataclasses import dataclass\n",
    "\n",
    "from plotly.offline import init_notebook_mode\n",
    "init_notebook_mode(connected=True)\n",
    "\n",
    "\n",
    "import plotly.graph_objects as go\n",
    "\n",
    "def plot(\n",
    "    points, connection_idx_list,\n",
    "    line_color_list = None,\n",
    "    show = True\n",
    ") :\n",
    "    '''\n",
    "    points : np.ndarray\n",
    "        shape : N, 2\n",
    "    '''\n",
    "    if not line_color_list :\n",
    "        line_color_list = ['red'] * (len(connection_idx_list))\n",
    "\n",
    "    fig = go.Figure(\n",
    "        data = list(map(\n",
    "            lambda i, j, c : go.Scatter(\n",
    "                x = points[[i, j], 0],\n",
    "                y = points[[i, j], 1],\n",
    "                mode = 'lines+markers+text',\n",
    "                line = dict(\n",
    "                    color = c\n",
    "                ),\n",
    "                marker = dict(\n",
    "                    color = c,\n",
    "                    size = 2\n",
    "                )\n",
    "            ),\n",
    "            connection_idx_list[:-1],\n",
    "            connection_idx_list[1:],\n",
    "            line_color_list\n",
    "        ))\n",
    "    )\n",
    "    fig.update_yaxes(scaleanchor='x', scaleratio=1)\n",
    "\n",
    "    if show :\n",
    "        fig.show()\n",
    "\n",
    "def plot3d(\n",
    "    points, connection_idx_list,\n",
    "    line_color_list = None,\n",
    "    show = True\n",
    ") :\n",
    "    '''\n",
    "    points : np.ndarray\n",
    "        shape : N, 3\n",
    "    '''\n",
    "    if not line_color_list :\n",
    "        line_color_list = ['red'] * (len(connection_idx_list))\n",
    "\n",
    "    fig = go.Figure(\n",
    "        data = list(map(\n",
    "            lambda i, j, c : go.Scatter3d(x = points[[i, j], 0],\n",
    "                y = points[[i, j], 1],\n",
    "                z = points[[i, j], 2],\n",
    "                mode = 'lines+markers+text',\n",
    "                line = dict(\n",
    "                    color = c\n",
    "                ),\n",
    "                marker = dict(\n",
    "                    color = c,\n",
    "                    size = 2\n",
    "                )\n",
    "            ),\n",
    "            connection_idx_list[:-1],\n",
    "            connection_idx_list[1:],\n",
    "            line_color_list\n",
    "        ))\n",
    "    )\n",
    "\n",
    "    max_range = np.max(np.ptp(points, axis=0))\n",
    "    xmin, ymin, zmin = points.min(axis=0)\n",
    "\n",
    "    fig.update_layout(scene=dict(aspectmode='cube'))\n",
    "    fig.update_layout(scene=dict(\n",
    "        xaxis = dict(range=[xmin-0.1, xmin + max_range+ 0.1]),\n",
    "        yaxis = dict(range=[ymin-0.1, ymin + max_range+ 0.1]),\n",
    "        zaxis = dict(range=[zmin-0.1, zmin + max_range+ 0.1])\n",
    "    ))\n",
    "\n",
    "    layout = go.Layout(\n",
    "        scene = dict(\n",
    "            camera = dict(\n",
    "                eye = dict(x=-1, y = -1, z = 1)\n",
    "            )\n",
    "        )\n",
    "    )\n",
    "    fig.layout = layout\n",
    "    if show :\n",
    "        fig.show()\n",
    "\n",
    "@dataclass\n",
    "class OpenPoseLandmark :\n",
    "    nose       : np.ndarray = None  # 0\n",
    "    neck       : np.ndarray = None  # 1\n",
    "    shoulder_r : np.ndarray = None  # 2\n",
    "    elbow_r    : np.ndarray = None  # 3\n",
    "    wrist_r    : np.ndarray = None  # 4\n",
    "    shoulder_l : np.ndarray = None  # 5\n",
    "    elbow_l    : np.ndarray = None  # 6\n",
    "    wrist_l    : np.ndarray = None  # 7\n",
    "    hip_r      : np.ndarray = None  # 8\n",
    "    knee_r     : np.ndarray = None  # 9\n",
    "    anklle_r   : np.ndarray = None  # 10\n",
    "    hip_l      : np.ndarray = None  # 11\n",
    "    knee_l     : np.ndarray = None  # 12\n",
    "    ankle_l    : np.ndarray = None  # 13\n",
    "    eye_r      : np.ndarray = None  # 14\n",
    "    eye_l      : np.ndarray = None  # 15\n",
    "    ear_r      : np.ndarray = None  # 16\n",
    "    ear_l      : np.ndarray = None  # 17\n",
    "    \n",
    "    CONN_PATH_LIST = [16, 14, 0, 15, 17, 15, 0, 1, 2, 3, 4, 3, 2, 1, 5, 6, 7, 6, 5, 1, 8, 9, 10, 9, 8, 1, 11, 12, 13]\n",
    "    CONN_N_COLOR_LIST = [\n",
    "        [(16, 14), ()], [(14,  0)], [(0, 15)], [(15, 17)],\n",
    "        [( 0,  1), (255,  40,  40)],\n",
    "        [( 1,  8), (255,  50,  50)], [( 8,  9), (100, 255, 100)], [( 9, 10), (100, 255, 150)],\n",
    "        [( 1, 11), (100, 255, 255)], [(11 ,12), ( 50,  50, 180)], [(12, 13), ( 50,  50, 255)],\n",
    "        [( 1,  2), (200, 100,  50)], [( 2,  3), (150, 150,  50)], [( 3,  4), (150, 150,  50)],\n",
    "        [( 1,  5), (200, 150,  50)], [( 5,  6), (100, 255, 100)], [( 6,  7), (100, 150, 100)],\n",
    "    ]\n",
    "    CONN_LIST = [\n",
    "\n",
    "    ]\n",
    "    COLOR_LIST = [\n",
    "        [255,   0,   0], [255,  85,   0], \n",
    "        [255, 170,   0], [255, 255,   0], [170, 255,   0],\n",
    "        [ 85, 255,   0], [  0, 255,   0], [  0, 255,  85],\n",
    "        [  0, 255, 170], [  0, 255, 255], [  0, 170, 255],\n",
    "        [  0,  85, 255], [  0,   0, 255], [ 85,   0, 255], \n",
    "        [170,   0, 255], [255,   0, 255], [255,   0, 170], [255,   0,  85]]\n",
    "\n",
    "    @staticmethod\n",
    "    def azurkinect2openpose(landmark) :\n",
    "        nose       = landmark[27]\n",
    "        neck       = landmark[3]\n",
    "        shoulder_r = landmark[12]\n",
    "        elbow_r    = landmark[13]\n",
    "        wrist_r    = landmark[14]\n",
    "        shoulder_l = landmark[5]\n",
    "        elbow_l    = landmark[6]\n",
    "        wrist_l    = landmark[7]\n",
    "        hip_r      = landmark[22]\n",
    "        knee_r     = landmark[23]\n",
    "        anklle_r   = landmark[24]\n",
    "        hip_l      = landmark[18]\n",
    "        knee_l     = landmark[19]\n",
    "        ankle_l    = landmark[20]\n",
    "        eye_r      = landmark[30]\n",
    "        eye_l      = landmark[29]\n",
    "        ear_r      = landmark[31]\n",
    "        ear_l      = landmark[29]\n",
    "        \n",
    "        return np.vstack([\n",
    "            nose, neck,\n",
    "            shoulder_r, elbow_r, wrist_r,\n",
    "            shoulder_l, elbow_l, wrist_l,\n",
    "            hip_r, knee_r, anklle_r,\n",
    "            hip_l, knee_l, ankle_l,\n",
    "            eye_r,\n",
    "            eye_l,\n",
    "            ear_r,\n",
    "            ear_l,\n",
    "        ])\n",
    "\n",
    "    @staticmethod\n",
    "    def mediapipe2openpose(landmark) :\n",
    "        nose = landmark[0]\n",
    "        neck = (landmark[11] + landmark[12]) / 2\n",
    "        shoulder_r = landmark[12]\n",
    "        elbow_r = landmark[14]\n",
    "        wrist_r = landmark[16]\n",
    "        shoulder_l = landmark[11]\n",
    "        elbow_l = landmark[13]\n",
    "        wrist_l = landmark[15]\n",
    "        hip_r = landmark[24]\n",
    "        knee_r = landmark[26]\n",
    "        anklle_r = landmark[28]\n",
    "        hip_l = landmark[23]\n",
    "        knee_l = landmark[25]\n",
    "        ankle_l = landmark[27]\n",
    "        eye_r = landmark[5]\n",
    "        eye_l = landmark[2]\n",
    "        ear_r = landmark[8]\n",
    "        ear_l = landmark[7]\n",
    "\n",
    "        return np.vstack([\n",
    "            nose, neck,\n",
    "            shoulder_r, elbow_r, wrist_r,\n",
    "            shoulder_l, elbow_l, wrist_l,\n",
    "            hip_r, knee_r, anklle_r,\n",
    "            hip_l, knee_l, ankle_l,\n",
    "            eye_r,\n",
    "            eye_l,\n",
    "            ear_r,\n",
    "            ear_l,\n",
    "        ])\n",
    "    \n",
    "    @classmethod\n",
    "    def plot2d(cls, landmark, img_size=(512, 512), connection = None) :\n",
    "        if not connection : \n",
    "            connection = cls.CONN_PATH_LIST\n",
    "        \n",
    "        img = np.zeros([*img_size, 3], dtype=np.uint8)\n",
    "\n",
    "        cv2.polylines(\n",
    "            img,\n",
    "            landmark,\n",
    "            isClosed=True,\n",
    "            color=None,\n",
    "            thickness=1,\n",
    "        )\n",
    "\n",
    "    @staticmethod\n",
    "    def draw_bodypose(canvas, candidate):\n",
    "        stickwidth = 4\n",
    "        limbSeq = [[2, 3], [2, 6], [3, 4], [4, 5], [6, 7], [7, 8], [2, 9], [9, 10], \\\n",
    "                [10, 11], [2, 12], [12, 13], [13, 14], [2, 1], [1, 15], [15, 17], \\\n",
    "                [1, 16], [16, 18], [3, 17], [6, 18]]\n",
    "\n",
    "        colors = [[255, 0, 0], [255, 85, 0], [255, 170, 0], [255, 255, 0], [170, 255, 0], [85, 255, 0], [0, 255, 0], \\\n",
    "                [0, 255, 85], [0, 255, 170], [0, 255, 255], [0, 170, 255], [0, 85, 255], [0, 0, 255], [85, 0, 255], \\\n",
    "                [170, 0, 255], [255, 0, 255], [255, 0, 170], [255, 0, 85]]\n",
    "                    \n",
    "\n",
    "        colors = [[255, 0, 0], [255, 85, 0], [255, 170, 0], [255, 255, 0], [170, 255, 0], [85, 255, 0], [0, 255, 0], \\\n",
    "                [0, 255, 85], [0, 255, 170], [0, 255, 255], [0, 170, 255], [0, 85, 255], [0, 0, 255], [85, 0, 255], \\\n",
    "                [170, 0, 255], [255, 0, 255], [255, 0, 170], [255, 0, 85]]\n",
    "\n",
    "        edge_list = [\n",
    "            [1, 2],\n",
    "            [1, 5],\n",
    "            [2, 3],\n",
    "            [3, 4],\n",
    "            [5, 6],\n",
    "            [6, 7],\n",
    "            [1, 8], [8, 9],\n",
    "            [9, 10], [1, 11],\n",
    "            [11, 12], [12, 13], [1, 0],\n",
    "            [0, 14], [14, 16], [0, 15], [15, 17],\n",
    "    ]\n",
    "        edge_list = [[1, 2], [1, 5], [2, 3], [3, 4], [5, 6], [6, 7], [1, 8], [8, 9], [9, 10], [1, 11], [11, 12], [12, 13], [1, 0], [0, 14], [14, 16], [0, 15], [15, 17],] #[2, 16], [5, 17]]\n",
    "        for i in range(18):\n",
    "            x, y = candidate[i][0:2]\n",
    "            cv2.circle(canvas, (int(x), int(y)), 4, colors[i], thickness=-1)\n",
    "        \n",
    "        for i, edge in enumerate(edge_list):\n",
    "            cur_canvas = canvas.copy()\n",
    "            Y = candidate[edge, 0]\n",
    "            X = candidate[edge, 1]\n",
    "            mX = np.mean(X)\n",
    "            mY = np.mean(Y)\n",
    "            length = ((X[0] - X[1]) ** 2 + (Y[0] - Y[1]) ** 2) ** 0.5\n",
    "            angle = math.degrees(math.atan2(X[0] - X[1], Y[0] - Y[1]))\n",
    "            polygon = cv2.ellipse2Poly((int(mY), int(mX)), (int(length / 2), stickwidth), int(angle), 0, 360, 1)\n",
    "            cv2.fillConvexPoly(cur_canvas, polygon, colors[i] )\n",
    "            canvas = cv2.addWeighted(canvas, 0.4, cur_canvas, 0.6, 0)\n",
    "\n",
    "        return canvas\n",
    "\n",
    "\n",
    "@dataclass\n",
    "class SimplePose :\n",
    "    landmarks = np.array([\n",
    "        [0, 0, 0], # 0\n",
    "        [0, 0, 1], # 1\n",
    "        [0, 1, 1], # 2\n",
    "        [0, 1, 0], # 3\n",
    "        [1, 0, 0], # 4\n",
    "        [1, 0, 1], # 5\n",
    "        [1, 1, 1], # 6\n",
    "        [1, 1, 0], # 7\n",
    "    ]) - 0.5\n",
    "    CONN_PATH_LIST = [0,          1,      2,      3,            0,            4,      5,      1,      5,      6,      2,      6,      7,      3,      7,      4]\n",
    "    EDGE_COLOR     = [(100,100,255),(0,0,0),(0,0,0),(100,255,100),(255,100,100),(0,0,0),(0,0,0),(0,0,0),(0,0,0),(0,0,0),(0,0,0),(0,0,0),(0,0,0),(0,0,0),(0,0,0)]\n",
    "    EDGE_COLOR = list(map(\n",
    "        lambda c : \"rgb\"+str(c),\n",
    "        EDGE_COLOR\n",
    "    ))\n",
    "\n",
    "class PoseVisualizer :\n",
    "    POSE_FORMAT = {\n",
    "        0 : \"nose\",\n",
    "        1 : \"left_eye\"\n",
    "    }\n",
    "\n",
    "    # left right flag    \n",
    "    LR_FLAG = [0, -1, -1, -1, 1, 1, 1, 0, 0, 0, 0, -1, -1, -1, 1, 1, 1]\n",
    "    LR_MAP = {\"middle\":0, \"left\":-1, \"right\":1}\n",
    "    \n",
    "    CONN_LIST = [\n",
    "        18, 16, 14, 12, 11, 13, 15, 17,\n",
    "        15, 13, 11, 23, 25, 27, 29, \n",
    "        27, 25, 23, 24, 26, 28, 30, 28, 26, 24, 12\n",
    "    ]\n",
    "\n",
    "    @classmethod\n",
    "    def visualize(cls, pose_data, conn_list = None) :\n",
    "\n",
    "        if not conn_list :\n",
    "            conn_list = cls.CONN_LIST\n",
    "\n",
    "        plt.figure(figsize=(8, 8))\n",
    "        ax = plt.axes(projection='3d')\n",
    "        \n",
    "        x_list = np.array(pose_data.T[0][conn_list])\n",
    "        y_list = np.array(pose_data.T[1][conn_list])\n",
    "        z_list = np.array(pose_data.T[2][conn_list])\n",
    "\n",
    "        #set_axes_equal(ax)\n",
    "        ax.plot(x_list, y_list, z_list)\n",
    "        \n",
    "        for idx, coord in enumerate(pose_data) :\n",
    "            ax.text( *coord, str(idx)  )\n",
    "        plt.show()\n",
    "\n",
    "    @classmethod\n",
    "    def visualize2D(cls, pose_data, conn_list = None) :\n",
    "\n",
    "        print(pose_data[:, 0], pose_data[:, 1])\n",
    "\n",
    "        plt.plot(pose_data[:, 0] , pose_data[:, 1])\n",
    "        plt.show()\n",
    "\n",
    "        return\n",
    "        if not conn_list :\n",
    "            conn_list = cls.CONN_LIST\n",
    "\n",
    "        plt.figure(figsize=(8, 8))\n",
    "        ax = plt.axes(projection='3d')\n",
    "        \n",
    "        x_list = np.array(pose_data.T[0][conn_list])\n",
    "        y_list = np.array(pose_data.T[1][conn_list])\n",
    "        ax.plot(x_list, y_list)\n",
    "        \n",
    "        #for idx, coord in enumerate(pose_data) :\n",
    "        #    ax.text( *(coord[:2]), str(idx)  )\n",
    "        plt.show()\n",
    "\n",
    "def rpy2rm(roll, pitch, yaw) :\n",
    "    '''\n",
    "    fixed angle rotation values to rotation matrix\n",
    "    same as euler angle with ZYX order\n",
    "    '''\n",
    "    c = np.cos\n",
    "    s = np.sin\n",
    "    r, p, y = roll, pitch, yaw\n",
    "    Rz = np.array([\n",
    "        [ c(y), -s(y), 0],\n",
    "        [ s(y),  c(y), 0],\n",
    "        [    0,     0, 1]\n",
    "    ])\n",
    "    Ry = np.array([\n",
    "        [ c(p), 0, s(p)],\n",
    "        [    0, 1,     0],\n",
    "        [ -s(p), 0,  c(p)]\n",
    "    ])\n",
    "    Rx = np.array([\n",
    "        [1,    0,     0],\n",
    "        [0, c(r), -s(r)],\n",
    "        [0, s(r),  c(r)]\n",
    "    ])\n",
    "    return Rz @ Ry @ Rx\n",
    "\n",
    "def project2image(coord, extrinsic, intrinsic) :\n",
    "    '''\n",
    "    coord : np.ndarray\n",
    "        shape : N, 3\n",
    "    '''\n",
    "    coord_in = np.hstack([coord, np.ones((coord.shape[0], 1))])\n",
    "    transformed = np.matmul(extrinsic, coord_in.T).T\n",
    "    transformed /= transformed[:, -1].reshape(-1, 1)\n",
    "\n",
    "    projected = np.matmul(intrinsic, transformed[:, :3].T).T\n",
    "    return projected / projected[:, -1].reshape(-1, 1)\n",
    "\n",
    "\n",
    "def project(coord, intrinsic) :\n",
    "    projected = np.matmul(intrinsic, coord[:, :3].T).T\n",
    "    return projected / projected[:, -1].reshape(-1, 1)\n",
    "\n",
    "IMG_WIDTH = 1920\n",
    "IMG_HWIGHT = 1440\n",
    "\n",
    "IMG_WIDTH = 100\n",
    "IMG_HWIGHT = 100                                                                                                        \n",
    "\n",
    "DATA_SOURCE = \"mediapipe\"\n",
    "DATA_SOURCE = \"azure_kinect\"\n",
    "\n",
    "if DATA_SOURCE == \"azure_kinect\" :\n",
    "\n",
    "    DATA_DIR_PATH = \"../azure_kinect_data\" \n",
    "    POSE_DATA_SHAPE = (-1, 32, 8)\n",
    "    DATA_PATH_LIST = sorted(glob.glob(f\"{DATA_DIR_PATH}/*/*.pkl\"))\n",
    "\n",
    "    pose_data_list = []\n",
    "\n",
    "    for idx, data_path in enumerate(DATA_PATH_LIST) :\n",
    "        with open(data_path, \"rb\") as fp :\n",
    "            landmark = np.array(\n",
    "                pickle.load(fp)\n",
    "            )\n",
    "            landmark = landmark[:, :3]\n",
    "        pose_data_list.append(landmark)\n",
    "    pose_data_list = np.array(pose_data_list)\n",
    "    \n",
    "    openpose_data_list = np.array(list(map(\n",
    "        lambda pose : OpenPoseLandmark.azurkinect2openpose(pose),\n",
    "        pose_data_list\n",
    "    )))\n",
    "    for pose in openpose_data_list :\n",
    "        pose /= pose.mean(axis=0)\n",
    "\n",
    "elif DATA_SOURCE == \"mediapipe\" :\n",
    "    DATA_DIR_PATH = \"../data\" \n",
    "    POSE_DATA_SHAPE = (-1, 3, 33)\n",
    "    DATA_PATH_LIST = sorted(glob.glob(f\"{DATA_DIR_PATH}/*/*.json\"))\n",
    "    IMG_PATH_LIST = sorted(glob.glob(f\"{DATA_DIR_PATH}/*/*.png\"))\n",
    "\n",
    "    pose_data_list = []\n",
    "\n",
    "    for idx, data_path in enumerate(DATA_PATH_LIST) :\n",
    "        with open(data_path, \"r\") as fp :\n",
    "            landmark = np.array(\n",
    "                json.load(fp)[\"landmarks\"]\n",
    "            ) * np.array([IMG_WIDTH, IMG_HWIGHT, IMG_WIDTH]).reshape(1, -1)\n",
    "            \n",
    "        pose_data_list.append(landmark)\n",
    "    pose_data_list = np.array(pose_data_list)\n",
    "\n",
    "    openpose_data_list = np.array(list(map(\n",
    "        lambda pose : OpenPoseLandmark.azurkinect2openpose(pose), # / pose.mean(axis = 0)),\n",
    "        pose_data_list\n",
    "    )))"
   ]
  },
  {
   "cell_type": "code",
   "execution_count": 2,
   "metadata": {},
   "outputs": [
    {
     "data": {
      "image/png": "[encoded data removed]",
      "text/plain": [
       "<Figure size 432x288 with 1 Axes>"
      ]
     },
     "metadata": {
      "needs_background": "light"
     },
     "output_type": "display_data"
    },
    {
     "data": {
      "application/vnd.plotly.v1+json": {
       "config": {
        "plotlyServerURL": "https://plot.ly"
       },
       "data": [
        {
         "line": {
          "color": "red"
         },
         "marker": {
          "color": "red",
          "size": 2
         },
         "mode": "lines+markers+text",
         "type": "scatter3d",
         "x": [
          -344.3052978515625,
          -229.14096069335938
         ],
         "y": [
          1670.5416259765625,
          1790.5946044921875
         ],
         "z": [
          -1065.7086181640625,
          -998.6587524414061
         ]
        },
        {
         "line": {
          "color": "red"
         },
         "marker": {
          "color": "red",
          "size": 2
         },
         "mode": "lines+markers+text",
         "type": "scatter3d",
         "x": [
          -229.14096069335938,
          -153.8955078125
         ],
         "y": [
          1790.5946044921875,
          1870.2218017578125
         ],
         "z": [
          -998.6587524414061,
          -611.5355834960936
         ]
        },
        {
         "line": {
          "color": "red"
         },
         "marker": {
          "color": "red",
          "size": 2
         },
         "mode": "lines+markers+text",
         "type": "scatter3d",
         "x": [
          -153.8955078125,
          141.08978271484375
         ],
         "y": [
          1870.2218017578125,
          2052.5576171875
         ],
         "z": [
          -611.5355834960936,
          -381.498321533203
         ]
        },
        {
         "line": {
          "color": "red"
         },
         "marker": {
          "color": "red",
          "size": 2
         },
         "mode": "lines+markers+text",
         "type": "scatter3d",
         "x": [
          141.08978271484375,
          220.9071044921875
         ],
         "y": [
          2052.5576171875,
          2022.1533203125
         ],
         "z": [
          -381.498321533203,
          -376.4232177734374
         ]
        },
        {
         "line": {
          "color": "red"
         },
         "marker": {
          "color": "red",
          "size": 2
         },
         "mode": "lines+markers+text",
         "type": "scatter3d",
         "x": [
          220.9071044921875,
          309.4215087890625
         ],
         "y": [
          2022.1533203125,
          1988.436279296875
         ],
         "z": [
          -376.4232177734374,
          -370.79513549804676
         ]
        },
        {
         "line": {
          "color": "red"
         },
         "marker": {
          "color": "red",
          "size": 2
         },
         "mode": "lines+markers+text",
         "type": "scatter3d",
         "x": [
          309.4215087890625,
          526.1231689453125
         ],
         "y": [
          1988.436279296875,
          2029.702392578125
         ],
         "z": [
          -370.79513549804676,
          -724.1940307617186
         ]
        },
        {
         "line": {
          "color": "red"
         },
         "marker": {
          "color": "red",
          "size": 2
         },
         "mode": "lines+markers+text",
         "type": "scatter3d",
         "x": [
          526.1231689453125,
          762.2485961914062
         ],
         "y": [
          2029.702392578125,
          2265.7734375
         ],
         "z": [
          -724.1940307617186,
          -941.0566406249999
         ]
        },
        {
         "line": {
          "color": "red"
         },
         "marker": {
          "color": "red",
          "size": 2
         },
         "mode": "lines+markers+text",
         "type": "scatter3d",
         "x": [
          762.2485961914062,
          834.2422485351562
         ],
         "y": [
          2265.7734375,
          2280.607421875
         ],
         "z": [
          -941.0566406249999,
          -1121.6169433593748
         ]
        },
        {
         "line": {
          "color": "red"
         },
         "marker": {
          "color": "red",
          "size": 2
         },
         "mode": "lines+markers+text",
         "type": "scatter3d",
         "x": [
          834.2422485351562,
          762.2485961914062
         ],
         "y": [
          2280.607421875,
          2265.7734375
         ],
         "z": [
          -1121.6169433593748,
          -941.0566406249999
         ]
        },
        {
         "line": {
          "color": "red"
         },
         "marker": {
          "color": "red",
          "size": 2
         },
         "mode": "lines+markers+text",
         "type": "scatter3d",
         "x": [
          762.2485961914062,
          526.1231689453125
         ],
         "y": [
          2265.7734375,
          2029.702392578125
         ],
         "z": [
          -941.0566406249999,
          -724.1940307617186
         ]
        },
        {
         "line": {
          "color": "red"
         },
         "marker": {
          "color": "red",
          "size": 2
         },
         "mode": "lines+markers+text",
         "type": "scatter3d",
         "x": [
          526.1231689453125,
          309.4215087890625
         ],
         "y": [
          2029.702392578125,
          1988.436279296875
         ],
         "z": [
          -724.1940307617186,
          -370.79513549804676
         ]
        },
        {
         "line": {
          "color": "red"
         },
         "marker": {
          "color": "red",
          "size": 2
         },
         "mode": "lines+markers+text",
         "type": "scatter3d",
         "x": [
          309.4215087890625,
          220.9071044921875
         ],
         "y": [
          1988.436279296875,
          2022.1533203125
         ],
         "z": [
          -370.79513549804676,
          -376.4232177734374
         ]
        },
        {
         "line": {
          "color": "red"
         },
         "marker": {
          "color": "red",
          "size": 2
         },
         "mode": "lines+markers+text",
         "type": "scatter3d",
         "x": [
          220.9071044921875,
          202.6138916015625
         ],
         "y": [
          2022.1533203125,
          2004.83251953125
         ],
         "z": [
          -376.4232177734374,
          -192.48760986328114
         ]
        },
        {
         "line": {
          "color": "red"
         },
         "marker": {
          "color": "red",
          "size": 2
         },
         "mode": "lines+markers+text",
         "type": "scatter3d",
         "x": [
          202.6138916015625,
          190.9678497314453
         ],
         "y": [
          2004.83251953125,
          1998.937744140625
         ],
         "z": [
          -192.48760986328114,
          -44.642330169677614
         ]
        },
        {
         "line": {
          "color": "red"
         },
         "marker": {
          "color": "red",
          "size": 2
         },
         "mode": "lines+markers+text",
         "type": "scatter3d",
         "x": [
          190.9678497314453,
          179.9983673095703
         ],
         "y": [
          1998.937744140625,
          1991.280029296875
         ],
         "z": [
          -44.642330169677614,
          146.3943786621095
         ]
        },
        {
         "line": {
          "color": "red"
         },
         "marker": {
          "color": "red",
          "size": 2
         },
         "mode": "lines+markers+text",
         "type": "scatter3d",
         "x": [
          179.9983673095703,
          48.921241760253906
         ],
         "y": [
          1991.280029296875,
          1994.2601318359375
         ],
         "z": [
          146.3943786621095,
          185.6188201904298
         ]
        },
        {
         "line": {
          "color": "red"
         },
         "marker": {
          "color": "red",
          "size": 2
         },
         "mode": "lines+markers+text",
         "type": "scatter3d",
         "x": [
          48.921241760253906,
          -175.22071838378906
         ],
         "y": [
          1994.2601318359375,
          1885.2037353515625
         ],
         "z": [
          185.6188201904298,
          339.63482666015636
         ]
        },
        {
         "line": {
          "color": "red"
         },
         "marker": {
          "color": "red",
          "size": 2
         },
         "mode": "lines+markers+text",
         "type": "scatter3d",
         "x": [
          -175.22071838378906,
          -361.5316162109375
         ],
         "y": [
          1885.2037353515625,
          1793.1405029296875
         ],
         "z": [
          339.63482666015636,
          468.2837829589845
         ]
        },
        {
         "line": {
          "color": "red"
         },
         "marker": {
          "color": "red",
          "size": 2
         },
         "mode": "lines+markers+text",
         "type": "scatter3d",
         "x": [
          -361.5316162109375,
          -417.9021301269531
         ],
         "y": [
          1793.1405029296875,
          1742.6695556640625
         ],
         "z": [
          468.2837829589845,
          545.1978149414064
         ]
        },
        {
         "line": {
          "color": "red"
         },
         "marker": {
          "color": "red",
          "size": 2
         },
         "mode": "lines+markers+text",
         "type": "scatter3d",
         "x": [
          -417.9021301269531,
          -361.5316162109375
         ],
         "y": [
          1742.6695556640625,
          1793.1405029296875
         ],
         "z": [
          545.1978149414064,
          468.2837829589845
         ]
        },
        {
         "line": {
          "color": "red"
         },
         "marker": {
          "color": "red",
          "size": 2
         },
         "mode": "lines+markers+text",
         "type": "scatter3d",
         "x": [
          -361.5316162109375,
          -175.22071838378906
         ],
         "y": [
          1793.1405029296875,
          1885.2037353515625
         ],
         "z": [
          468.2837829589845,
          339.63482666015636
         ]
        },
        {
         "line": {
          "color": "red"
         },
         "marker": {
          "color": "red",
          "size": 2
         },
         "mode": "lines+markers+text",
         "type": "scatter3d",
         "x": [
          -175.22071838378906,
          48.921241760253906
         ],
         "y": [
          1885.2037353515625,
          1994.2601318359375
         ],
         "z": [
          339.63482666015636,
          185.6188201904298
         ]
        },
        {
         "line": {
          "color": "red"
         },
         "marker": {
          "color": "red",
          "size": 2
         },
         "mode": "lines+markers+text",
         "type": "scatter3d",
         "x": [
          48.921241760253906,
          179.9983673095703
         ],
         "y": [
          1994.2601318359375,
          1991.280029296875
         ],
         "z": [
          185.6188201904298,
          146.3943786621095
         ]
        },
        {
         "line": {
          "color": "red"
         },
         "marker": {
          "color": "red",
          "size": 2
         },
         "mode": "lines+markers+text",
         "type": "scatter3d",
         "x": [
          179.9983673095703,
          190.9678497314453
         ],
         "y": [
          1991.280029296875,
          1998.937744140625
         ],
         "z": [
          146.3943786621095,
          -44.642330169677614
         ]
        },
        {
         "line": {
          "color": "red"
         },
         "marker": {
          "color": "red",
          "size": 2
         },
         "mode": "lines+markers+text",
         "type": "scatter3d",
         "x": [
          190.9678497314453,
          249.54649353027344
         ],
         "y": [
          1998.937744140625,
          1991.4114990234375
         ],
         "z": [
          -44.642330169677614,
          138.19146728515636
         ]
        },
        {
         "line": {
          "color": "red"
         },
         "marker": {
          "color": "red",
          "size": 2
         },
         "mode": "lines+markers+text",
         "type": "scatter3d",
         "x": [
          249.54649353027344,
          398.02789306640625
         ],
         "y": [
          1991.4114990234375,
          1992.2464599609375
         ],
         "z": [
          138.19146728515636,
          147.24229431152355
         ]
        },
        {
         "line": {
          "color": "red"
         },
         "marker": {
          "color": "red",
          "size": 2
         },
         "mode": "lines+markers+text",
         "type": "scatter3d",
         "x": [
          398.02789306640625,
          627.2658081054688
         ],
         "y": [
          1992.2464599609375,
          2084.006591796875
         ],
         "z": [
          147.24229431152355,
          -0.15287101268755549
         ]
        },
        {
         "line": {
          "color": "red"
         },
         "marker": {
          "color": "red",
          "size": 2
         },
         "mode": "lines+markers+text",
         "type": "scatter3d",
         "x": [
          627.2658081054688,
          820.8440551757812
         ],
         "y": [
          2084.006591796875,
          2153.80859375
         ],
         "z": [
          -0.15287101268755549,
          -126.28337860107409
         ]
        },
        {
         "line": {
          "color": "red"
         },
         "marker": {
          "color": "red",
          "size": 2
         },
         "mode": "lines+markers+text",
         "type": "scatter3d",
         "x": [
          820.8440551757812,
          917.2540283203125
         ],
         "y": [
          2153.80859375,
          2177.86279296875
         ],
         "z": [
          -126.28337860107409,
          -139.22326660156236
         ]
        },
        {
         "line": {
          "color": "red"
         },
         "marker": {
          "color": "red",
          "size": 2
         },
         "mode": "lines+markers+text",
         "type": "scatter3d",
         "x": [
          917.2540283203125,
          820.8440551757812
         ],
         "y": [
          2177.86279296875,
          2153.80859375
         ],
         "z": [
          -139.22326660156236,
          -126.28337860107409
         ]
        },
        {
         "line": {
          "color": "red"
         },
         "marker": {
          "color": "red",
          "size": 2
         },
         "mode": "lines+markers+text",
         "type": "scatter3d",
         "x": [
          820.8440551757812,
          627.2658081054688
         ],
         "y": [
          2153.80859375,
          2084.006591796875
         ],
         "z": [
          -126.28337860107409,
          -0.15287101268755549
         ]
        },
        {
         "line": {
          "color": "red"
         },
         "marker": {
          "color": "red",
          "size": 2
         },
         "mode": "lines+markers+text",
         "type": "scatter3d",
         "x": [
          627.2658081054688,
          398.02789306640625
         ],
         "y": [
          2084.006591796875,
          1992.2464599609375
         ],
         "z": [
          -0.15287101268755549,
          147.24229431152355
         ]
        },
        {
         "line": {
          "color": "red"
         },
         "marker": {
          "color": "red",
          "size": 2
         },
         "mode": "lines+markers+text",
         "type": "scatter3d",
         "x": [
          398.02789306640625,
          249.54649353027344
         ],
         "y": [
          1992.2464599609375,
          1991.4114990234375
         ],
         "z": [
          147.24229431152355,
          138.19146728515636
         ]
        },
        {
         "line": {
          "color": "red"
         },
         "marker": {
          "color": "red",
          "size": 2
         },
         "mode": "lines+markers+text",
         "type": "scatter3d",
         "x": [
          249.54649353027344,
          190.9678497314453
         ],
         "y": [
          1991.4114990234375,
          1998.937744140625
         ],
         "z": [
          138.19146728515636,
          -44.642330169677614
         ]
        },
        {
         "line": {
          "color": "red"
         },
         "marker": {
          "color": "red",
          "size": 2
         },
         "mode": "lines+markers+text",
         "type": "scatter3d",
         "x": [
          190.9678497314453,
          219.4114227294922
         ],
         "y": [
          1998.937744140625,
          1988.5357666015625
         ],
         "z": [
          -44.642330169677614,
          179.24285888671886
         ]
        },
        {
         "line": {
          "color": "red"
         },
         "marker": {
          "color": "red",
          "size": 2
         },
         "mode": "lines+markers+text",
         "type": "scatter3d",
         "x": [
          219.4114227294922,
          229.91928100585938
         ],
         "y": [
          1988.5357666015625,
          1970.736572265625
         ],
         "z": [
          179.24285888671886,
          261.69680786132824
         ]
        },
        {
         "line": {
          "color": "red"
         },
         "marker": {
          "color": "red",
          "size": 2
         },
         "mode": "lines+markers+text",
         "type": "scatter3d",
         "x": [
          229.91928100585938,
          151.27285766601562
         ],
         "y": [
          1970.736572265625,
          1823.9443359375
         ],
         "z": [
          261.69680786132824,
          276.8006591796876
         ]
        },
        {
         "line": {
          "color": "red"
         },
         "marker": {
          "color": "red",
          "size": 2
         },
         "mode": "lines+markers+text",
         "type": "scatter3d",
         "x": [
          151.27285766601562,
          148.5440673828125
         ],
         "y": [
          1823.9443359375,
          1856.3218994140625
         ],
         "z": [
          276.8006591796876,
          319.729705810547
         ]
        },
        {
         "line": {
          "color": "red"
         },
         "marker": {
          "color": "red",
          "size": 2
         },
         "mode": "lines+markers+text",
         "type": "scatter3d",
         "x": [
          148.5440673828125,
          161.15016174316406
         ],
         "y": [
          1856.3218994140625,
          1989.6490478515625
         ],
         "z": [
          319.729705810547,
          345.31167602539074
         ]
        },
        {
         "line": {
          "color": "red"
         },
         "marker": {
          "color": "red",
          "size": 2
         },
         "mode": "lines+markers+text",
         "type": "scatter3d",
         "x": [
          161.15016174316406,
          148.5440673828125
         ],
         "y": [
          1989.6490478515625,
          1856.3218994140625
         ],
         "z": [
          345.31167602539074,
          319.729705810547
         ]
        },
        {
         "line": {
          "color": "red"
         },
         "marker": {
          "color": "red",
          "size": 2
         },
         "mode": "lines+markers+text",
         "type": "scatter3d",
         "x": [
          148.5440673828125,
          151.27285766601562
         ],
         "y": [
          1856.3218994140625,
          1823.9443359375
         ],
         "z": [
          319.729705810547,
          276.8006591796876
         ]
        },
        {
         "line": {
          "color": "red"
         },
         "marker": {
          "color": "red",
          "size": 2
         },
         "mode": "lines+markers+text",
         "type": "scatter3d",
         "x": [
          151.27285766601562,
          197.10934448242188
         ],
         "y": [
          1823.9443359375,
          1833.2073974609375
         ],
         "z": [
          276.8006591796876,
          311.5252380371095
         ]
        },
        {
         "line": {
          "color": "red"
         },
         "marker": {
          "color": "red",
          "size": 2
         },
         "mode": "lines+markers+text",
         "type": "scatter3d",
         "x": [
          197.10934448242188,
          306.7300109863281
         ],
         "y": [
          1833.2073974609375,
          1906.2657470703125
         ],
         "z": [
          311.5252380371095,
          304.519989013672
         ]
        }
       ],
       "layout": {
        "scene": {
         "camera": {
          "eye": {
           "x": -1,
           "y": -1,
           "z": 1
          }
         }
        },
        "template": {
         "data": {
          "bar": [
           {
            "error_x": {
             "color": "#2a3f5f"
            },
            "error_y": {
             "color": "#2a3f5f"
            },
            "marker": {
             "line": {
              "color": "#E5ECF6",
              "width": 0.5
             },
             "pattern": {
              "fillmode": "overlay",
              "size": 10,
              "solidity": 0.2
             }
            },
            "type": "bar"
           }
          ],
          "barpolar": [
           {
            "marker": {
             "line": {
              "color": "#E5ECF6",
              "width": 0.5
             },
             "pattern": {
              "fillmode": "overlay",
              "size": 10,
              "solidity": 0.2
             }
            },
            "type": "barpolar"
           }
          ],
          "carpet": [
           {
            "aaxis": {
             "endlinecolor": "#2a3f5f",
             "gridcolor": "white",
             "linecolor": "white",
             "minorgridcolor": "white",
             "startlinecolor": "#2a3f5f"
            },
            "baxis": {
             "endlinecolor": "#2a3f5f",
             "gridcolor": "white",
             "linecolor": "white",
             "minorgridcolor": "white",
             "startlinecolor": "#2a3f5f"
            },
            "type": "carpet"
           }
          ],
          "choropleth": [
           {
            "colorbar": {
             "outlinewidth": 0,
             "ticks": ""
            },
            "type": "choropleth"
           }
          ],
          "contour": [
           {
            "colorbar": {
             "outlinewidth": 0,
             "ticks": ""
            },
            "colorscale": [
             [
              0,
              "#0d0887"
             ],
             [
              0.1111111111111111,
              "#46039f"
             ],
             [
              0.2222222222222222,
              "#7201a8"
             ],
             [
              0.3333333333333333,
              "#9c179e"
             ],
             [
              0.4444444444444444,
              "#bd3786"
             ],
             [
              0.5555555555555556,
              "#d8576b"
             ],
             [
              0.6666666666666666,
              "#ed7953"
             ],
             [
              0.7777777777777778,
              "#fb9f3a"
             ],
             [
              0.8888888888888888,
              "#fdca26"
             ],
             [
              1,
              "#f0f921"
             ]
            ],
            "type": "contour"
           }
          ],
          "contourcarpet": [
           {
            "colorbar": {
             "outlinewidth": 0,
             "ticks": ""
            },
            "type": "contourcarpet"
           }
          ],
          "heatmap": [
           {
            "colorbar": {
             "outlinewidth": 0,
             "ticks": ""
            },
            "colorscale": [
             [
              0,
              "#0d0887"
             ],
             [
              0.1111111111111111,
              "#46039f"
             ],
             [
              0.2222222222222222,
              "#7201a8"
             ],
             [
              0.3333333333333333,
              "#9c179e"
             ],
             [
              0.4444444444444444,
              "#bd3786"
             ],
             [
              0.5555555555555556,
              "#d8576b"
             ],
             [
              0.6666666666666666,
              "#ed7953"
             ],
             [
              0.7777777777777778,
              "#fb9f3a"
             ],
             [
              0.8888888888888888,
              "#fdca26"
             ],
             [
              1,
              "#f0f921"
             ]
            ],
            "type": "heatmap"
           }
          ],
          "heatmapgl": [
           {
            "colorbar": {
             "outlinewidth": 0,
             "ticks": ""
            },
            "colorscale": [
             [
              0,
              "#0d0887"
             ],
             [
              0.1111111111111111,
              "#46039f"
             ],
             [
              0.2222222222222222,
              "#7201a8"
             ],
             [
              0.3333333333333333,
              "#9c179e"
             ],
             [
              0.4444444444444444,
              "#bd3786"
             ],
             [
              0.5555555555555556,
              "#d8576b"
             ],
             [
              0.6666666666666666,
              "#ed7953"
             ],
             [
              0.7777777777777778,
              "#fb9f3a"
             ],
             [
              0.8888888888888888,
              "#fdca26"
             ],
             [
              1,
              "#f0f921"
             ]
            ],
            "type": "heatmapgl"
           }
          ],
          "histogram": [
           {
            "marker": {
             "pattern": {
              "fillmode": "overlay",
              "size": 10,
              "solidity": 0.2
             }
            },
            "type": "histogram"
           }
          ],
          "histogram2d": [
           {
            "colorbar": {
             "outlinewidth": 0,
             "ticks": ""
            },
            "colorscale": [
             [
              0,
              "#0d0887"
             ],
             [
              0.1111111111111111,
              "#46039f"
             ],
             [
              0.2222222222222222,
              "#7201a8"
             ],
             [
              0.3333333333333333,
              "#9c179e"
             ],
             [
              0.4444444444444444,
              "#bd3786"
             ],
             [
              0.5555555555555556,
              "#d8576b"
             ],
             [
              0.6666666666666666,
              "#ed7953"
             ],
             [
              0.7777777777777778,
              "#fb9f3a"
             ],
             [
              0.8888888888888888,
              "#fdca26"
             ],
             [
              1,
              "#f0f921"
             ]
            ],
            "type": "histogram2d"
           }
          ],
          "histogram2dcontour": [
           {
            "colorbar": {
             "outlinewidth": 0,
             "ticks": ""
            },
            "colorscale": [
             [
              0,
              "#0d0887"
             ],
             [
              0.1111111111111111,
              "#46039f"
             ],
             [
              0.2222222222222222,
              "#7201a8"
             ],
             [
              0.3333333333333333,
              "#9c179e"
             ],
             [
              0.4444444444444444,
              "#bd3786"
             ],
             [
              0.5555555555555556,
              "#d8576b"
             ],
             [
              0.6666666666666666,
              "#ed7953"
             ],
             [
              0.7777777777777778,
              "#fb9f3a"
             ],
             [
              0.8888888888888888,
              "#fdca26"
             ],
             [
              1,
              "#f0f921"
             ]
            ],
            "type": "histogram2dcontour"
           }
          ],
          "mesh3d": [
           {
            "colorbar": {
             "outlinewidth": 0,
             "ticks": ""
            },
            "type": "mesh3d"
           }
          ],
          "parcoords": [
           {
            "line": {
             "colorbar": {
              "outlinewidth": 0,
              "ticks": ""
             }
            },
            "type": "parcoords"
           }
          ],
          "pie": [
           {
            "automargin": true,
            "type": "pie"
           }
          ],
          "scatter": [
           {
            "marker": {
             "colorbar": {
              "outlinewidth": 0,
              "ticks": ""
             }
            },
            "type": "scatter"
           }
          ],
          "scatter3d": [
           {
            "line": {
             "colorbar": {
              "outlinewidth": 0,
              "ticks": ""
             }
            },
            "marker": {
             "colorbar": {
              "outlinewidth": 0,
              "ticks": ""
             }
            },
            "type": "scatter3d"
           }
          ],
          "scattercarpet": [
           {
            "marker": {
             "colorbar": {
              "outlinewidth": 0,
              "ticks": ""
             }
            },
            "type": "scattercarpet"
           }
          ],
          "scattergeo": [
           {
            "marker": {
             "colorbar": {
              "outlinewidth": 0,
              "ticks": ""
             }
            },
            "type": "scattergeo"
           }
          ],
          "scattergl": [
           {
            "marker": {
             "colorbar": {
              "outlinewidth": 0,
              "ticks": ""
             }
            },
            "type": "scattergl"
           }
          ],
          "scattermapbox": [
           {
            "marker": {
             "colorbar": {
              "outlinewidth": 0,
              "ticks": ""
             }
            },
            "type": "scattermapbox"
           }
          ],
          "scatterpolar": [
           {
            "marker": {
             "colorbar": {
              "outlinewidth": 0,
              "ticks": ""
             }
            },
            "type": "scatterpolar"
           }
          ],
          "scatterpolargl": [
           {
            "marker": {
             "colorbar": {
              "outlinewidth": 0,
              "ticks": ""
             }
            },
            "type": "scatterpolargl"
           }
          ],
          "scatterternary": [
           {
            "marker": {
             "colorbar": {
              "outlinewidth": 0,
              "ticks": ""
             }
            },
            "type": "scatterternary"
           }
          ],
          "surface": [
           {
            "colorbar": {
             "outlinewidth": 0,
             "ticks": ""
            },
            "colorscale": [
             [
              0,
              "#0d0887"
             ],
             [
              0.1111111111111111,
              "#46039f"
             ],
             [
              0.2222222222222222,
              "#7201a8"
             ],
             [
              0.3333333333333333,
              "#9c179e"
             ],
             [
              0.4444444444444444,
              "#bd3786"
             ],
             [
              0.5555555555555556,
              "#d8576b"
             ],
             [
              0.6666666666666666,
              "#ed7953"
             ],
             [
              0.7777777777777778,
              "#fb9f3a"
             ],
             [
              0.8888888888888888,
              "#fdca26"
             ],
             [
              1,
              "#f0f921"
             ]
            ],
            "type": "surface"
           }
          ],
          "table": [
           {
            "cells": {
             "fill": {
              "color": "#EBF0F8"
             },
             "line": {
              "color": "white"
             }
            },
            "header": {
             "fill": {
              "color": "#C8D4E3"
             },
             "line": {
              "color": "white"
             }
            },
            "type": "table"
           }
          ]
         },
         "layout": {
          "annotationdefaults": {
           "arrowcolor": "#2a3f5f",
           "arrowhead": 0,
           "arrowwidth": 1
          },
          "autotypenumbers": "strict",
          "coloraxis": {
           "colorbar": {
            "outlinewidth": 0,
            "ticks": ""
           }
          },
          "colorscale": {
           "diverging": [
            [
             0,
             "#8e0152"
            ],
            [
             0.1,
             "#c51b7d"
            ],
            [
             0.2,
             "#de77ae"
            ],
            [
             0.3,
             "#f1b6da"
            ],
            [
             0.4,
             "#fde0ef"
            ],
            [
             0.5,
             "#f7f7f7"
            ],
            [
             0.6,
             "#e6f5d0"
            ],
            [
             0.7,
             "#b8e186"
            ],
            [
             0.8,
             "#7fbc41"
            ],
            [
             0.9,
             "#4d9221"
            ],
            [
             1,
             "#276419"
            ]
           ],
           "sequential": [
            [
             0,
             "#0d0887"
            ],
            [
             0.1111111111111111,
             "#46039f"
            ],
            [
             0.2222222222222222,
             "#7201a8"
            ],
            [
             0.3333333333333333,
             "#9c179e"
            ],
            [
             0.4444444444444444,
             "#bd3786"
            ],
            [
             0.5555555555555556,
             "#d8576b"
            ],
            [
             0.6666666666666666,
             "#ed7953"
            ],
            [
             0.7777777777777778,
             "#fb9f3a"
            ],
            [
             0.8888888888888888,
             "#fdca26"
            ],
            [
             1,
             "#f0f921"
            ]
           ],
           "sequentialminus": [
            [
             0,
             "#0d0887"
            ],
            [
             0.1111111111111111,
             "#46039f"
            ],
            [
             0.2222222222222222,
             "#7201a8"
            ],
            [
             0.3333333333333333,
             "#9c179e"
            ],
            [
             0.4444444444444444,
             "#bd3786"
            ],
            [
             0.5555555555555556,
             "#d8576b"
            ],
            [
             0.6666666666666666,
             "#ed7953"
            ],
            [
             0.7777777777777778,
             "#fb9f3a"
            ],
            [
             0.8888888888888888,
             "#fdca26"
            ],
            [
             1,
             "#f0f921"
            ]
           ]
          },
          "colorway": [
           "#636efa",
           "#EF553B",
           "#00cc96",
           "#ab63fa",
           "#FFA15A",
           "#19d3f3",
           "#FF6692",
           "#B6E880",
           "#FF97FF",
           "#FECB52"
          ],
          "font": {
           "color": "#2a3f5f"
          },
          "geo": {
           "bgcolor": "white",
           "lakecolor": "white",
           "landcolor": "#E5ECF6",
           "showlakes": true,
           "showland": true,
           "subunitcolor": "white"
          },
          "hoverlabel": {
           "align": "left"
          },
          "hovermode": "closest",
          "mapbox": {
           "style": "light"
          },
          "paper_bgcolor": "white",
          "plot_bgcolor": "#E5ECF6",
          "polar": {
           "angularaxis": {
            "gridcolor": "white",
            "linecolor": "white",
            "ticks": ""
           },
           "bgcolor": "#E5ECF6",
           "radialaxis": {
            "gridcolor": "white",
            "linecolor": "white",
            "ticks": ""
           }
          },
          "scene": {
           "xaxis": {
            "backgroundcolor": "#E5ECF6",
            "gridcolor": "white",
            "gridwidth": 2,
            "linecolor": "white",
            "showbackground": true,
            "ticks": "",
            "zerolinecolor": "white"
           },
           "yaxis": {
            "backgroundcolor": "#E5ECF6",
            "gridcolor": "white",
            "gridwidth": 2,
            "linecolor": "white",
            "showbackground": true,
            "ticks": "",
            "zerolinecolor": "white"
           },
           "zaxis": {
            "backgroundcolor": "#E5ECF6",
            "gridcolor": "white",
            "gridwidth": 2,
            "linecolor": "white",
            "showbackground": true,
            "ticks": "",
            "zerolinecolor": "white"
           }
          },
          "shapedefaults": {
           "line": {
            "color": "#2a3f5f"
           }
          },
          "ternary": {
           "aaxis": {
            "gridcolor": "white",
            "linecolor": "white",
            "ticks": ""
           },
           "baxis": {
            "gridcolor": "white",
            "linecolor": "white",
            "ticks": ""
           },
           "bgcolor": "#E5ECF6",
           "caxis": {
            "gridcolor": "white",
            "linecolor": "white",
            "ticks": ""
           }
          },
          "title": {
           "x": 0.05
          },
          "xaxis": {
           "automargin": true,
           "gridcolor": "white",
           "linecolor": "white",
           "ticks": "",
           "title": {
            "standoff": 15
           },
           "zerolinecolor": "white",
           "zerolinewidth": 2
          },
          "yaxis": {
           "automargin": true,
           "gridcolor": "white",
           "linecolor": "white",
           "ticks": "",
           "title": {
            "standoff": 15
           },
           "zerolinecolor": "white",
           "zerolinewidth": 2
          }
         }
        }
       }
      },
      "text/html": [
       "<div>                            <div id=\"0d25dec8-2ebe-42b5-b586-f8cfb3bcdd3e\" class=\"plotly-graph-div\" style=\"height:525px; width:100%;\"></div>            <script type=\"text/javascript\">                require([\"plotly\"], function(Plotly) {                    window.PLOTLYENV=window.PLOTLYENV || {};                                    if (document.getElementById(\"0d25dec8-2ebe-42b5-b586-f8cfb3bcdd3e\")) {                    Plotly.newPlot(                        \"0d25dec8-2ebe-42b5-b586-f8cfb3bcdd3e\",                        [{\"line\":{\"color\":\"red\"},\"marker\":{\"color\":\"red\",\"size\":2},\"mode\":\"lines+markers+text\",\"x\":[-344.3052978515625,-229.14096069335938],\"y\":[1670.5416259765625,1790.5946044921875],\"z\":[-1065.7086181640625,-998.6587524414061],\"type\":\"scatter3d\"},{\"line\":{\"color\":\"red\"},\"marker\":{\"color\":\"red\",\"size\":2},\"mode\":\"lines+markers+text\",\"x\":[-229.14096069335938,-153.8955078125],\"y\":[1790.5946044921875,1870.2218017578125],\"z\":[-998.6587524414061,-611.5355834960936],\"type\":\"scatter3d\"},{\"line\":{\"color\":\"red\"},\"marker\":{\"color\":\"red\",\"size\":2},\"mode\":\"lines+markers+text\",\"x\":[-153.8955078125,141.08978271484375],\"y\":[1870.2218017578125,2052.5576171875],\"z\":[-611.5355834960936,-381.498321533203],\"type\":\"scatter3d\"},{\"line\":{\"color\":\"red\"},\"marker\":{\"color\":\"red\",\"size\":2},\"mode\":\"lines+markers+text\",\"x\":[141.08978271484375,220.9071044921875],\"y\":[2052.5576171875,2022.1533203125],\"z\":[-381.498321533203,-376.4232177734374],\"type\":\"scatter3d\"},{\"line\":{\"color\":\"red\"},\"marker\":{\"color\":\"red\",\"size\":2},\"mode\":\"lines+markers+text\",\"x\":[220.9071044921875,309.4215087890625],\"y\":[2022.1533203125,1988.436279296875],\"z\":[-376.4232177734374,-370.79513549804676],\"type\":\"scatter3d\"},{\"line\":{\"color\":\"red\"},\"marker\":{\"color\":\"red\",\"size\":2},\"mode\":\"lines+markers+text\",\"x\":[309.4215087890625,526.1231689453125],\"y\":[1988.436279296875,2029.702392578125],\"z\":[-370.79513549804676,-724.1940307617186],\"type\":\"scatter3d\"},{\"line\":{\"color\":\"red\"},\"marker\":{\"color\":\"red\",\"size\":2},\"mode\":\"lines+markers+text\",\"x\":[526.1231689453125,762.2485961914062],\"y\":[2029.702392578125,2265.7734375],\"z\":[-724.1940307617186,-941.0566406249999],\"type\":\"scatter3d\"},{\"line\":{\"color\":\"red\"},\"marker\":{\"color\":\"red\",\"size\":2},\"mode\":\"lines+markers+text\",\"x\":[762.2485961914062,834.2422485351562],\"y\":[2265.7734375,2280.607421875],\"z\":[-941.0566406249999,-1121.6169433593748],\"type\":\"scatter3d\"},{\"line\":{\"color\":\"red\"},\"marker\":{\"color\":\"red\",\"size\":2},\"mode\":\"lines+markers+text\",\"x\":[834.2422485351562,762.2485961914062],\"y\":[2280.607421875,2265.7734375],\"z\":[-1121.6169433593748,-941.0566406249999],\"type\":\"scatter3d\"},{\"line\":{\"color\":\"red\"},\"marker\":{\"color\":\"red\",\"size\":2},\"mode\":\"lines+markers+text\",\"x\":[762.2485961914062,526.1231689453125],\"y\":[2265.7734375,2029.702392578125],\"z\":[-941.0566406249999,-724.1940307617186],\"type\":\"scatter3d\"},{\"line\":{\"color\":\"red\"},\"marker\":{\"color\":\"red\",\"size\":2},\"mode\":\"lines+markers+text\",\"x\":[526.1231689453125,309.4215087890625],\"y\":[2029.702392578125,1988.436279296875],\"z\":[-724.1940307617186,-370.79513549804676],\"type\":\"scatter3d\"},{\"line\":{\"color\":\"red\"},\"marker\":{\"color\":\"red\",\"size\":2},\"mode\":\"lines+markers+text\",\"x\":[309.4215087890625,220.9071044921875],\"y\":[1988.436279296875,2022.1533203125],\"z\":[-370.79513549804676,-376.4232177734374],\"type\":\"scatter3d\"},{\"line\":{\"color\":\"red\"},\"marker\":{\"color\":\"red\",\"size\":2},\"mode\":\"lines+markers+text\",\"x\":[220.9071044921875,202.6138916015625],\"y\":[2022.1533203125,2004.83251953125],\"z\":[-376.4232177734374,-192.48760986328114],\"type\":\"scatter3d\"},{\"line\":{\"color\":\"red\"},\"marker\":{\"color\":\"red\",\"size\":2},\"mode\":\"lines+markers+text\",\"x\":[202.6138916015625,190.9678497314453],\"y\":[2004.83251953125,1998.937744140625],\"z\":[-192.48760986328114,-44.642330169677614],\"type\":\"scatter3d\"},{\"line\":{\"color\":\"red\"},\"marker\":{\"color\":\"red\",\"size\":2},\"mode\":\"lines+markers+text\",\"x\":[190.9678497314453,179.9983673095703],\"y\":[1998.937744140625,1991.280029296875],\"z\":[-44.642330169677614,146.3943786621095],\"type\":\"scatter3d\"},{\"line\":{\"color\":\"red\"},\"marker\":{\"color\":\"red\",\"size\":2},\"mode\":\"lines+markers+text\",\"x\":[179.9983673095703,48.921241760253906],\"y\":[1991.280029296875,1994.2601318359375],\"z\":[146.3943786621095,185.6188201904298],\"type\":\"scatter3d\"},{\"line\":{\"color\":\"red\"},\"marker\":{\"color\":\"red\",\"size\":2},\"mode\":\"lines+markers+text\",\"x\":[48.921241760253906,-175.22071838378906],\"y\":[1994.2601318359375,1885.2037353515625],\"z\":[185.6188201904298,339.63482666015636],\"type\":\"scatter3d\"},{\"line\":{\"color\":\"red\"},\"marker\":{\"color\":\"red\",\"size\":2},\"mode\":\"lines+markers+text\",\"x\":[-175.22071838378906,-361.5316162109375],\"y\":[1885.2037353515625,1793.1405029296875],\"z\":[339.63482666015636,468.2837829589845],\"type\":\"scatter3d\"},{\"line\":{\"color\":\"red\"},\"marker\":{\"color\":\"red\",\"size\":2},\"mode\":\"lines+markers+text\",\"x\":[-361.5316162109375,-417.9021301269531],\"y\":[1793.1405029296875,1742.6695556640625],\"z\":[468.2837829589845,545.1978149414064],\"type\":\"scatter3d\"},{\"line\":{\"color\":\"red\"},\"marker\":{\"color\":\"red\",\"size\":2},\"mode\":\"lines+markers+text\",\"x\":[-417.9021301269531,-361.5316162109375],\"y\":[1742.6695556640625,1793.1405029296875],\"z\":[545.1978149414064,468.2837829589845],\"type\":\"scatter3d\"},{\"line\":{\"color\":\"red\"},\"marker\":{\"color\":\"red\",\"size\":2},\"mode\":\"lines+markers+text\",\"x\":[-361.5316162109375,-175.22071838378906],\"y\":[1793.1405029296875,1885.2037353515625],\"z\":[468.2837829589845,339.63482666015636],\"type\":\"scatter3d\"},{\"line\":{\"color\":\"red\"},\"marker\":{\"color\":\"red\",\"size\":2},\"mode\":\"lines+markers+text\",\"x\":[-175.22071838378906,48.921241760253906],\"y\":[1885.2037353515625,1994.2601318359375],\"z\":[339.63482666015636,185.6188201904298],\"type\":\"scatter3d\"},{\"line\":{\"color\":\"red\"},\"marker\":{\"color\":\"red\",\"size\":2},\"mode\":\"lines+markers+text\",\"x\":[48.921241760253906,179.9983673095703],\"y\":[1994.2601318359375,1991.280029296875],\"z\":[185.6188201904298,146.3943786621095],\"type\":\"scatter3d\"},{\"line\":{\"color\":\"red\"},\"marker\":{\"color\":\"red\",\"size\":2},\"mode\":\"lines+markers+text\",\"x\":[179.9983673095703,190.9678497314453],\"y\":[1991.280029296875,1998.937744140625],\"z\":[146.3943786621095,-44.642330169677614],\"type\":\"scatter3d\"},{\"line\":{\"color\":\"red\"},\"marker\":{\"color\":\"red\",\"size\":2},\"mode\":\"lines+markers+text\",\"x\":[190.9678497314453,249.54649353027344],\"y\":[1998.937744140625,1991.4114990234375],\"z\":[-44.642330169677614,138.19146728515636],\"type\":\"scatter3d\"},{\"line\":{\"color\":\"red\"},\"marker\":{\"color\":\"red\",\"size\":2},\"mode\":\"lines+markers+text\",\"x\":[249.54649353027344,398.02789306640625],\"y\":[1991.4114990234375,1992.2464599609375],\"z\":[138.19146728515636,147.24229431152355],\"type\":\"scatter3d\"},{\"line\":{\"color\":\"red\"},\"marker\":{\"color\":\"red\",\"size\":2},\"mode\":\"lines+markers+text\",\"x\":[398.02789306640625,627.2658081054688],\"y\":[1992.2464599609375,2084.006591796875],\"z\":[147.24229431152355,-0.15287101268755549],\"type\":\"scatter3d\"},{\"line\":{\"color\":\"red\"},\"marker\":{\"color\":\"red\",\"size\":2},\"mode\":\"lines+markers+text\",\"x\":[627.2658081054688,820.8440551757812],\"y\":[2084.006591796875,2153.80859375],\"z\":[-0.15287101268755549,-126.28337860107409],\"type\":\"scatter3d\"},{\"line\":{\"color\":\"red\"},\"marker\":{\"color\":\"red\",\"size\":2},\"mode\":\"lines+markers+text\",\"x\":[820.8440551757812,917.2540283203125],\"y\":[2153.80859375,2177.86279296875],\"z\":[-126.28337860107409,-139.22326660156236],\"type\":\"scatter3d\"},{\"line\":{\"color\":\"red\"},\"marker\":{\"color\":\"red\",\"size\":2},\"mode\":\"lines+markers+text\",\"x\":[917.2540283203125,820.8440551757812],\"y\":[2177.86279296875,2153.80859375],\"z\":[-139.22326660156236,-126.28337860107409],\"type\":\"scatter3d\"},{\"line\":{\"color\":\"red\"},\"marker\":{\"color\":\"red\",\"size\":2},\"mode\":\"lines+markers+text\",\"x\":[820.8440551757812,627.2658081054688],\"y\":[2153.80859375,2084.006591796875],\"z\":[-126.28337860107409,-0.15287101268755549],\"type\":\"scatter3d\"},{\"line\":{\"color\":\"red\"},\"marker\":{\"color\":\"red\",\"size\":2},\"mode\":\"lines+markers+text\",\"x\":[627.2658081054688,398.02789306640625],\"y\":[2084.006591796875,1992.2464599609375],\"z\":[-0.15287101268755549,147.24229431152355],\"type\":\"scatter3d\"},{\"line\":{\"color\":\"red\"},\"marker\":{\"color\":\"red\",\"size\":2},\"mode\":\"lines+markers+text\",\"x\":[398.02789306640625,249.54649353027344],\"y\":[1992.2464599609375,1991.4114990234375],\"z\":[147.24229431152355,138.19146728515636],\"type\":\"scatter3d\"},{\"line\":{\"color\":\"red\"},\"marker\":{\"color\":\"red\",\"size\":2},\"mode\":\"lines+markers+text\",\"x\":[249.54649353027344,190.9678497314453],\"y\":[1991.4114990234375,1998.937744140625],\"z\":[138.19146728515636,-44.642330169677614],\"type\":\"scatter3d\"},{\"line\":{\"color\":\"red\"},\"marker\":{\"color\":\"red\",\"size\":2},\"mode\":\"lines+markers+text\",\"x\":[190.9678497314453,219.4114227294922],\"y\":[1998.937744140625,1988.5357666015625],\"z\":[-44.642330169677614,179.24285888671886],\"type\":\"scatter3d\"},{\"line\":{\"color\":\"red\"},\"marker\":{\"color\":\"red\",\"size\":2},\"mode\":\"lines+markers+text\",\"x\":[219.4114227294922,229.91928100585938],\"y\":[1988.5357666015625,1970.736572265625],\"z\":[179.24285888671886,261.69680786132824],\"type\":\"scatter3d\"},{\"line\":{\"color\":\"red\"},\"marker\":{\"color\":\"red\",\"size\":2},\"mode\":\"lines+markers+text\",\"x\":[229.91928100585938,151.27285766601562],\"y\":[1970.736572265625,1823.9443359375],\"z\":[261.69680786132824,276.8006591796876],\"type\":\"scatter3d\"},{\"line\":{\"color\":\"red\"},\"marker\":{\"color\":\"red\",\"size\":2},\"mode\":\"lines+markers+text\",\"x\":[151.27285766601562,148.5440673828125],\"y\":[1823.9443359375,1856.3218994140625],\"z\":[276.8006591796876,319.729705810547],\"type\":\"scatter3d\"},{\"line\":{\"color\":\"red\"},\"marker\":{\"color\":\"red\",\"size\":2},\"mode\":\"lines+markers+text\",\"x\":[148.5440673828125,161.15016174316406],\"y\":[1856.3218994140625,1989.6490478515625],\"z\":[319.729705810547,345.31167602539074],\"type\":\"scatter3d\"},{\"line\":{\"color\":\"red\"},\"marker\":{\"color\":\"red\",\"size\":2},\"mode\":\"lines+markers+text\",\"x\":[161.15016174316406,148.5440673828125],\"y\":[1989.6490478515625,1856.3218994140625],\"z\":[345.31167602539074,319.729705810547],\"type\":\"scatter3d\"},{\"line\":{\"color\":\"red\"},\"marker\":{\"color\":\"red\",\"size\":2},\"mode\":\"lines+markers+text\",\"x\":[148.5440673828125,151.27285766601562],\"y\":[1856.3218994140625,1823.9443359375],\"z\":[319.729705810547,276.8006591796876],\"type\":\"scatter3d\"},{\"line\":{\"color\":\"red\"},\"marker\":{\"color\":\"red\",\"size\":2},\"mode\":\"lines+markers+text\",\"x\":[151.27285766601562,197.10934448242188],\"y\":[1823.9443359375,1833.2073974609375],\"z\":[276.8006591796876,311.5252380371095],\"type\":\"scatter3d\"},{\"line\":{\"color\":\"red\"},\"marker\":{\"color\":\"red\",\"size\":2},\"mode\":\"lines+markers+text\",\"x\":[197.10934448242188,306.7300109863281],\"y\":[1833.2073974609375,1906.2657470703125],\"z\":[311.5252380371095,304.519989013672],\"type\":\"scatter3d\"}],                        {\"scene\":{\"camera\":{\"eye\":{\"x\":-1,\"y\":-1,\"z\":1}}},\"template\":{\"data\":{\"bar\":[{\"error_x\":{\"color\":\"#2a3f5f\"},\"error_y\":{\"color\":\"#2a3f5f\"},\"marker\":{\"line\":{\"color\":\"#E5ECF6\",\"width\":0.5},\"pattern\":{\"fillmode\":\"overlay\",\"size\":10,\"solidity\":0.2}},\"type\":\"bar\"}],\"barpolar\":[{\"marker\":{\"line\":{\"color\":\"#E5ECF6\",\"width\":0.5},\"pattern\":{\"fillmode\":\"overlay\",\"size\":10,\"solidity\":0.2}},\"type\":\"barpolar\"}],\"carpet\":[{\"aaxis\":{\"endlinecolor\":\"#2a3f5f\",\"gridcolor\":\"white\",\"linecolor\":\"white\",\"minorgridcolor\":\"white\",\"startlinecolor\":\"#2a3f5f\"},\"baxis\":{\"endlinecolor\":\"#2a3f5f\",\"gridcolor\":\"white\",\"linecolor\":\"white\",\"minorgridcolor\":\"white\",\"startlinecolor\":\"#2a3f5f\"},\"type\":\"carpet\"}],\"choropleth\":[{\"colorbar\":{\"outlinewidth\":0,\"ticks\":\"\"},\"type\":\"choropleth\"}],\"contour\":[{\"colorbar\":{\"outlinewidth\":0,\"ticks\":\"\"},\"colorscale\":[[0.0,\"#0d0887\"],[0.1111111111111111,\"#46039f\"],[0.2222222222222222,\"#7201a8\"],[0.3333333333333333,\"#9c179e\"],[0.4444444444444444,\"#bd3786\"],[0.5555555555555556,\"#d8576b\"],[0.6666666666666666,\"#ed7953\"],[0.7777777777777778,\"#fb9f3a\"],[0.8888888888888888,\"#fdca26\"],[1.0,\"#f0f921\"]],\"type\":\"contour\"}],\"contourcarpet\":[{\"colorbar\":{\"outlinewidth\":0,\"ticks\":\"\"},\"type\":\"contourcarpet\"}],\"heatmap\":[{\"colorbar\":{\"outlinewidth\":0,\"ticks\":\"\"},\"colorscale\":[[0.0,\"#0d0887\"],[0.1111111111111111,\"#46039f\"],[0.2222222222222222,\"#7201a8\"],[0.3333333333333333,\"#9c179e\"],[0.4444444444444444,\"#bd3786\"],[0.5555555555555556,\"#d8576b\"],[0.6666666666666666,\"#ed7953\"],[0.7777777777777778,\"#fb9f3a\"],[0.8888888888888888,\"#fdca26\"],[1.0,\"#f0f921\"]],\"type\":\"heatmap\"}],\"heatmapgl\":[{\"colorbar\":{\"outlinewidth\":0,\"ticks\":\"\"},\"colorscale\":[[0.0,\"#0d0887\"],[0.1111111111111111,\"#46039f\"],[0.2222222222222222,\"#7201a8\"],[0.3333333333333333,\"#9c179e\"],[0.4444444444444444,\"#bd3786\"],[0.5555555555555556,\"#d8576b\"],[0.6666666666666666,\"#ed7953\"],[0.7777777777777778,\"#fb9f3a\"],[0.8888888888888888,\"#fdca26\"],[1.0,\"#f0f921\"]],\"type\":\"heatmapgl\"}],\"histogram\":[{\"marker\":{\"pattern\":{\"fillmode\":\"overlay\",\"size\":10,\"solidity\":0.2}},\"type\":\"histogram\"}],\"histogram2d\":[{\"colorbar\":{\"outlinewidth\":0,\"ticks\":\"\"},\"colorscale\":[[0.0,\"#0d0887\"],[0.1111111111111111,\"#46039f\"],[0.2222222222222222,\"#7201a8\"],[0.3333333333333333,\"#9c179e\"],[0.4444444444444444,\"#bd3786\"],[0.5555555555555556,\"#d8576b\"],[0.6666666666666666,\"#ed7953\"],[0.7777777777777778,\"#fb9f3a\"],[0.8888888888888888,\"#fdca26\"],[1.0,\"#f0f921\"]],\"type\":\"histogram2d\"}],\"histogram2dcontour\":[{\"colorbar\":{\"outlinewidth\":0,\"ticks\":\"\"},\"colorscale\":[[0.0,\"#0d0887\"],[0.1111111111111111,\"#46039f\"],[0.2222222222222222,\"#7201a8\"],[0.3333333333333333,\"#9c179e\"],[0.4444444444444444,\"#bd3786\"],[0.5555555555555556,\"#d8576b\"],[0.6666666666666666,\"#ed7953\"],[0.7777777777777778,\"#fb9f3a\"],[0.8888888888888888,\"#fdca26\"],[1.0,\"#f0f921\"]],\"type\":\"histogram2dcontour\"}],\"mesh3d\":[{\"colorbar\":{\"outlinewidth\":0,\"ticks\":\"\"},\"type\":\"mesh3d\"}],\"parcoords\":[{\"line\":{\"colorbar\":{\"outlinewidth\":0,\"ticks\":\"\"}},\"type\":\"parcoords\"}],\"pie\":[{\"automargin\":true,\"type\":\"pie\"}],\"scatter\":[{\"marker\":{\"colorbar\":{\"outlinewidth\":0,\"ticks\":\"\"}},\"type\":\"scatter\"}],\"scatter3d\":[{\"line\":{\"colorbar\":{\"outlinewidth\":0,\"ticks\":\"\"}},\"marker\":{\"colorbar\":{\"outlinewidth\":0,\"ticks\":\"\"}},\"type\":\"scatter3d\"}],\"scattercarpet\":[{\"marker\":{\"colorbar\":{\"outlinewidth\":0,\"ticks\":\"\"}},\"type\":\"scattercarpet\"}],\"scattergeo\":[{\"marker\":{\"colorbar\":{\"outlinewidth\":0,\"ticks\":\"\"}},\"type\":\"scattergeo\"}],\"scattergl\":[{\"marker\":{\"colorbar\":{\"outlinewidth\":0,\"ticks\":\"\"}},\"type\":\"scattergl\"}],\"scattermapbox\":[{\"marker\":{\"colorbar\":{\"outlinewidth\":0,\"ticks\":\"\"}},\"type\":\"scattermapbox\"}],\"scatterpolar\":[{\"marker\":{\"colorbar\":{\"outlinewidth\":0,\"ticks\":\"\"}},\"type\":\"scatterpolar\"}],\"scatterpolargl\":[{\"marker\":{\"colorbar\":{\"outlinewidth\":0,\"ticks\":\"\"}},\"type\":\"scatterpolargl\"}],\"scatterternary\":[{\"marker\":{\"colorbar\":{\"outlinewidth\":0,\"ticks\":\"\"}},\"type\":\"scatterternary\"}],\"surface\":[{\"colorbar\":{\"outlinewidth\":0,\"ticks\":\"\"},\"colorscale\":[[0.0,\"#0d0887\"],[0.1111111111111111,\"#46039f\"],[0.2222222222222222,\"#7201a8\"],[0.3333333333333333,\"#9c179e\"],[0.4444444444444444,\"#bd3786\"],[0.5555555555555556,\"#d8576b\"],[0.6666666666666666,\"#ed7953\"],[0.7777777777777778,\"#fb9f3a\"],[0.8888888888888888,\"#fdca26\"],[1.0,\"#f0f921\"]],\"type\":\"surface\"}],\"table\":[{\"cells\":{\"fill\":{\"color\":\"#EBF0F8\"},\"line\":{\"color\":\"white\"}},\"header\":{\"fill\":{\"color\":\"#C8D4E3\"},\"line\":{\"color\":\"white\"}},\"type\":\"table\"}]},\"layout\":{\"annotationdefaults\":{\"arrowcolor\":\"#2a3f5f\",\"arrowhead\":0,\"arrowwidth\":1},\"autotypenumbers\":\"strict\",\"coloraxis\":{\"colorbar\":{\"outlinewidth\":0,\"ticks\":\"\"}},\"colorscale\":{\"diverging\":[[0,\"#8e0152\"],[0.1,\"#c51b7d\"],[0.2,\"#de77ae\"],[0.3,\"#f1b6da\"],[0.4,\"#fde0ef\"],[0.5,\"#f7f7f7\"],[0.6,\"#e6f5d0\"],[0.7,\"#b8e186\"],[0.8,\"#7fbc41\"],[0.9,\"#4d9221\"],[1,\"#276419\"]],\"sequential\":[[0.0,\"#0d0887\"],[0.1111111111111111,\"#46039f\"],[0.2222222222222222,\"#7201a8\"],[0.3333333333333333,\"#9c179e\"],[0.4444444444444444,\"#bd3786\"],[0.5555555555555556,\"#d8576b\"],[0.6666666666666666,\"#ed7953\"],[0.7777777777777778,\"#fb9f3a\"],[0.8888888888888888,\"#fdca26\"],[1.0,\"#f0f921\"]],\"sequentialminus\":[[0.0,\"#0d0887\"],[0.1111111111111111,\"#46039f\"],[0.2222222222222222,\"#7201a8\"],[0.3333333333333333,\"#9c179e\"],[0.4444444444444444,\"#bd3786\"],[0.5555555555555556,\"#d8576b\"],[0.6666666666666666,\"#ed7953\"],[0.7777777777777778,\"#fb9f3a\"],[0.8888888888888888,\"#fdca26\"],[1.0,\"#f0f921\"]]},\"colorway\":[\"#636efa\",\"#EF553B\",\"#00cc96\",\"#ab63fa\",\"#FFA15A\",\"#19d3f3\",\"#FF6692\",\"#B6E880\",\"#FF97FF\",\"#FECB52\"],\"font\":{\"color\":\"#2a3f5f\"},\"geo\":{\"bgcolor\":\"white\",\"lakecolor\":\"white\",\"landcolor\":\"#E5ECF6\",\"showlakes\":true,\"showland\":true,\"subunitcolor\":\"white\"},\"hoverlabel\":{\"align\":\"left\"},\"hovermode\":\"closest\",\"mapbox\":{\"style\":\"light\"},\"paper_bgcolor\":\"white\",\"plot_bgcolor\":\"#E5ECF6\",\"polar\":{\"angularaxis\":{\"gridcolor\":\"white\",\"linecolor\":\"white\",\"ticks\":\"\"},\"bgcolor\":\"#E5ECF6\",\"radialaxis\":{\"gridcolor\":\"white\",\"linecolor\":\"white\",\"ticks\":\"\"}},\"scene\":{\"xaxis\":{\"backgroundcolor\":\"#E5ECF6\",\"gridcolor\":\"white\",\"gridwidth\":2,\"linecolor\":\"white\",\"showbackground\":true,\"ticks\":\"\",\"zerolinecolor\":\"white\"},\"yaxis\":{\"backgroundcolor\":\"#E5ECF6\",\"gridcolor\":\"white\",\"gridwidth\":2,\"linecolor\":\"white\",\"showbackground\":true,\"ticks\":\"\",\"zerolinecolor\":\"white\"},\"zaxis\":{\"backgroundcolor\":\"#E5ECF6\",\"gridcolor\":\"white\",\"gridwidth\":2,\"linecolor\":\"white\",\"showbackground\":true,\"ticks\":\"\",\"zerolinecolor\":\"white\"}},\"shapedefaults\":{\"line\":{\"color\":\"#2a3f5f\"}},\"ternary\":{\"aaxis\":{\"gridcolor\":\"white\",\"linecolor\":\"white\",\"ticks\":\"\"},\"baxis\":{\"gridcolor\":\"white\",\"linecolor\":\"white\",\"ticks\":\"\"},\"bgcolor\":\"#E5ECF6\",\"caxis\":{\"gridcolor\":\"white\",\"linecolor\":\"white\",\"ticks\":\"\"}},\"title\":{\"x\":0.05},\"xaxis\":{\"automargin\":true,\"gridcolor\":\"white\",\"linecolor\":\"white\",\"ticks\":\"\",\"title\":{\"standoff\":15},\"zerolinecolor\":\"white\",\"zerolinewidth\":2},\"yaxis\":{\"automargin\":true,\"gridcolor\":\"white\",\"linecolor\":\"white\",\"ticks\":\"\",\"title\":{\"standoff\":15},\"zerolinecolor\":\"white\",\"zerolinewidth\":2}}}},                        {\"responsive\": true}                    ).then(function(){\n",
       "                            \n",
       "var gd = document.getElementById('0d25dec8-2ebe-42b5-b586-f8cfb3bcdd3e');\n",
       "var x = new MutationObserver(function (mutations, observer) {{\n",
       "        var display = window.getComputedStyle(gd).display;\n",
       "        if (!display || display === 'none') {{\n",
       "            console.log([gd, 'removed!']);\n",
       "            Plotly.purge(gd);\n",
       "            observer.disconnect();\n",
       "        }}\n",
       "}});\n",
       "\n",
       "// Listen for the removal of the full notebook cells\n",
       "var notebookContainer = gd.closest('#notebook-container');\n",
       "if (notebookContainer) {{\n",
       "    x.observe(notebookContainer, {childList: true});\n",
       "}}\n",
       "\n",
       "// Listen for the clearing of the current output cell\n",
       "var outputEl = gd.closest('.output');\n",
       "if (outputEl) {{\n",
       "    x.observe(outputEl, {childList: true});\n",
       "}}\n",
       "\n",
       "                        })                };                });            </script>        </div>"
      ]
     },
     "metadata": {},
     "output_type": "display_data"
    },
    {
     "data": {
      "application/vnd.plotly.v1+json": {
       "config": {
        "plotlyServerURL": "https://plot.ly"
       },
       "data": [
        {
         "line": {
          "color": "red"
         },
         "marker": {
          "color": "red",
          "size": 2
         },
         "mode": "lines+markers+text",
         "type": "scatter3d",
         "x": [
          -505.8501892089844,
          -361.5316162109375
         ],
         "y": [
          1744.6025390625,
          1793.1405029296875
         ],
         "z": [
          612.1091308593751,
          468.2837829589845
         ]
        },
        {
         "line": {
          "color": "red"
         },
         "marker": {
          "color": "red",
          "size": 2
         },
         "mode": "lines+markers+text",
         "type": "scatter3d",
         "x": [
          -361.5316162109375,
          220.9071044921875
         ],
         "y": [
          1793.1405029296875,
          2022.1533203125
         ],
         "z": [
          468.2837829589845,
          -376.4232177734374
         ]
        },
        {
         "line": {
          "color": "red"
         },
         "marker": {
          "color": "red",
          "size": 2
         },
         "mode": "lines+markers+text",
         "type": "scatter3d",
         "x": [
          220.9071044921875,
          -417.9021301269531
         ],
         "y": [
          2022.1533203125,
          1742.6695556640625
         ],
         "z": [
          -376.4232177734374,
          545.1978149414064
         ]
        },
        {
         "line": {
          "color": "red"
         },
         "marker": {
          "color": "red",
          "size": 2
         },
         "mode": "lines+markers+text",
         "type": "scatter3d",
         "x": [
          -417.9021301269531,
          -471.65216064453125
         ],
         "y": [
          1742.6695556640625,
          1762.9697265625
         ],
         "z": [
          545.1978149414064,
          546.0358886718751
         ]
        },
        {
         "line": {
          "color": "red"
         },
         "marker": {
          "color": "red",
          "size": 2
         },
         "mode": "lines+markers+text",
         "type": "scatter3d",
         "x": [
          -471.65216064453125,
          -417.9021301269531
         ],
         "y": [
          1762.9697265625,
          1742.6695556640625
         ],
         "z": [
          546.0358886718751,
          545.1978149414064
         ]
        },
        {
         "line": {
          "color": "red"
         },
         "marker": {
          "color": "red",
          "size": 2
         },
         "mode": "lines+markers+text",
         "type": "scatter3d",
         "x": [
          -417.9021301269531,
          220.9071044921875
         ],
         "y": [
          1742.6695556640625,
          2022.1533203125
         ],
         "z": [
          545.1978149414064,
          -376.4232177734374
         ]
        },
        {
         "line": {
          "color": "red"
         },
         "marker": {
          "color": "red",
          "size": 2
         },
         "mode": "lines+markers+text",
         "type": "scatter3d",
         "x": [
          220.9071044921875,
          202.6138916015625
         ],
         "y": [
          2022.1533203125,
          2004.83251953125
         ],
         "z": [
          -376.4232177734374,
          -192.48760986328114
         ]
        },
        {
         "line": {
          "color": "red"
         },
         "marker": {
          "color": "red",
          "size": 2
         },
         "mode": "lines+markers+text",
         "type": "scatter3d",
         "x": [
          202.6138916015625,
          190.9678497314453
         ],
         "y": [
          2004.83251953125,
          1998.937744140625
         ],
         "z": [
          -192.48760986328114,
          -44.642330169677614
         ]
        },
        {
         "line": {
          "color": "red"
         },
         "marker": {
          "color": "red",
          "size": 2
         },
         "mode": "lines+markers+text",
         "type": "scatter3d",
         "x": [
          190.9678497314453,
          219.4114227294922
         ],
         "y": [
          1998.937744140625,
          1988.5357666015625
         ],
         "z": [
          -44.642330169677614,
          179.24285888671886
         ]
        },
        {
         "line": {
          "color": "red"
         },
         "marker": {
          "color": "red",
          "size": 2
         },
         "mode": "lines+markers+text",
         "type": "scatter3d",
         "x": [
          219.4114227294922,
          249.54649353027344
         ],
         "y": [
          1988.5357666015625,
          1991.4114990234375
         ],
         "z": [
          179.24285888671886,
          138.19146728515636
         ]
        },
        {
         "line": {
          "color": "red"
         },
         "marker": {
          "color": "red",
          "size": 2
         },
         "mode": "lines+markers+text",
         "type": "scatter3d",
         "x": [
          249.54649353027344,
          219.4114227294922
         ],
         "y": [
          1991.4114990234375,
          1988.5357666015625
         ],
         "z": [
          138.19146728515636,
          179.24285888671886
         ]
        },
        {
         "line": {
          "color": "red"
         },
         "marker": {
          "color": "red",
          "size": 2
         },
         "mode": "lines+markers+text",
         "type": "scatter3d",
         "x": [
          219.4114227294922,
          190.9678497314453
         ],
         "y": [
          1988.5357666015625,
          1998.937744140625
         ],
         "z": [
          179.24285888671886,
          -44.642330169677614
         ]
        },
        {
         "line": {
          "color": "red"
         },
         "marker": {
          "color": "red",
          "size": 2
         },
         "mode": "lines+markers+text",
         "type": "scatter3d",
         "x": [
          190.9678497314453,
          202.6138916015625
         ],
         "y": [
          1998.937744140625,
          2004.83251953125
         ],
         "z": [
          -44.642330169677614,
          -192.48760986328114
         ]
        },
        {
         "line": {
          "color": "red"
         },
         "marker": {
          "color": "red",
          "size": 2
         },
         "mode": "lines+markers+text",
         "type": "scatter3d",
         "x": [
          202.6138916015625,
          398.02789306640625
         ],
         "y": [
          2004.83251953125,
          1992.2464599609375
         ],
         "z": [
          -192.48760986328114,
          147.24229431152355
         ]
        },
        {
         "line": {
          "color": "red"
         },
         "marker": {
          "color": "red",
          "size": 2
         },
         "mode": "lines+markers+text",
         "type": "scatter3d",
         "x": [
          398.02789306640625,
          627.2658081054688
         ],
         "y": [
          1992.2464599609375,
          2084.006591796875
         ],
         "z": [
          147.24229431152355,
          -0.15287101268755549
         ]
        },
        {
         "line": {
          "color": "red"
         },
         "marker": {
          "color": "red",
          "size": 2
         },
         "mode": "lines+markers+text",
         "type": "scatter3d",
         "x": [
          627.2658081054688,
          820.8440551757812
         ],
         "y": [
          2084.006591796875,
          2153.80859375
         ],
         "z": [
          -0.15287101268755549,
          -126.28337860107409
         ]
        },
        {
         "line": {
          "color": "red"
         },
         "marker": {
          "color": "red",
          "size": 2
         },
         "mode": "lines+markers+text",
         "type": "scatter3d",
         "x": [
          820.8440551757812,
          627.2658081054688
         ],
         "y": [
          2153.80859375,
          2084.006591796875
         ],
         "z": [
          -126.28337860107409,
          -0.15287101268755549
         ]
        },
        {
         "line": {
          "color": "red"
         },
         "marker": {
          "color": "red",
          "size": 2
         },
         "mode": "lines+markers+text",
         "type": "scatter3d",
         "x": [
          627.2658081054688,
          398.02789306640625
         ],
         "y": [
          2084.006591796875,
          1992.2464599609375
         ],
         "z": [
          -0.15287101268755549,
          147.24229431152355
         ]
        },
        {
         "line": {
          "color": "red"
         },
         "marker": {
          "color": "red",
          "size": 2
         },
         "mode": "lines+markers+text",
         "type": "scatter3d",
         "x": [
          398.02789306640625,
          202.6138916015625
         ],
         "y": [
          1992.2464599609375,
          2004.83251953125
         ],
         "z": [
          147.24229431152355,
          -192.48760986328114
         ]
        },
        {
         "line": {
          "color": "red"
         },
         "marker": {
          "color": "red",
          "size": 2
         },
         "mode": "lines+markers+text",
         "type": "scatter3d",
         "x": [
          202.6138916015625,
          917.2540283203125
         ],
         "y": [
          2004.83251953125,
          2177.86279296875
         ],
         "z": [
          -192.48760986328114,
          -139.22326660156236
         ]
        },
        {
         "line": {
          "color": "red"
         },
         "marker": {
          "color": "red",
          "size": 2
         },
         "mode": "lines+markers+text",
         "type": "scatter3d",
         "x": [
          917.2540283203125,
          962.5587768554688
         ],
         "y": [
          2177.86279296875,
          2079.970947265625
         ],
         "z": [
          -139.22326660156236,
          -170.97569274902332
         ]
        },
        {
         "line": {
          "color": "red"
         },
         "marker": {
          "color": "red",
          "size": 2
         },
         "mode": "lines+markers+text",
         "type": "scatter3d",
         "x": [
          962.5587768554688,
          956.0407104492188
         ],
         "y": [
          2079.970947265625,
          2176.3798828125
         ],
         "z": [
          -170.97569274902332,
          -153.60519409179673
         ]
        },
        {
         "line": {
          "color": "red"
         },
         "marker": {
          "color": "red",
          "size": 2
         },
         "mode": "lines+markers+text",
         "type": "scatter3d",
         "x": [
          956.0407104492188,
          962.5587768554688
         ],
         "y": [
          2176.3798828125,
          2079.970947265625
         ],
         "z": [
          -153.60519409179673,
          -170.97569274902332
         ]
        },
        {
         "line": {
          "color": "red"
         },
         "marker": {
          "color": "red",
          "size": 2
         },
         "mode": "lines+markers+text",
         "type": "scatter3d",
         "x": [
          962.5587768554688,
          917.2540283203125
         ],
         "y": [
          2079.970947265625,
          2177.86279296875
         ],
         "z": [
          -170.97569274902332,
          -139.22326660156236
         ]
        },
        {
         "line": {
          "color": "red"
         },
         "marker": {
          "color": "red",
          "size": 2
         },
         "mode": "lines+markers+text",
         "type": "scatter3d",
         "x": [
          917.2540283203125,
          202.6138916015625
         ],
         "y": [
          2177.86279296875,
          2004.83251953125
         ],
         "z": [
          -139.22326660156236,
          -192.48760986328114
         ]
        },
        {
         "line": {
          "color": "red"
         },
         "marker": {
          "color": "red",
          "size": 2
         },
         "mode": "lines+markers+text",
         "type": "scatter3d",
         "x": [
          202.6138916015625,
          179.9983673095703
         ],
         "y": [
          2004.83251953125,
          1991.280029296875
         ],
         "z": [
          -192.48760986328114,
          146.3943786621095
         ]
        },
        {
         "line": {
          "color": "red"
         },
         "marker": {
          "color": "red",
          "size": 2
         },
         "mode": "lines+markers+text",
         "type": "scatter3d",
         "x": [
          179.9983673095703,
          48.921241760253906
         ],
         "y": [
          1991.280029296875,
          1994.2601318359375
         ],
         "z": [
          146.3943786621095,
          185.6188201904298
         ]
        },
        {
         "line": {
          "color": "red"
         },
         "marker": {
          "color": "red",
          "size": 2
         },
         "mode": "lines+markers+text",
         "type": "scatter3d",
         "x": [
          48.921241760253906,
          -175.22071838378906
         ],
         "y": [
          1994.2601318359375,
          1885.2037353515625
         ],
         "z": [
          185.6188201904298,
          339.63482666015636
         ]
        }
       ],
       "layout": {
        "scene": {
         "camera": {
          "eye": {
           "x": -1,
           "y": -1,
           "z": 1
          }
         }
        },
        "template": {
         "data": {
          "bar": [
           {
            "error_x": {
             "color": "#2a3f5f"
            },
            "error_y": {
             "color": "#2a3f5f"
            },
            "marker": {
             "line": {
              "color": "#E5ECF6",
              "width": 0.5
             },
             "pattern": {
              "fillmode": "overlay",
              "size": 10,
              "solidity": 0.2
             }
            },
            "type": "bar"
           }
          ],
          "barpolar": [
           {
            "marker": {
             "line": {
              "color": "#E5ECF6",
              "width": 0.5
             },
             "pattern": {
              "fillmode": "overlay",
              "size": 10,
              "solidity": 0.2
             }
            },
            "type": "barpolar"
           }
          ],
          "carpet": [
           {
            "aaxis": {
             "endlinecolor": "#2a3f5f",
             "gridcolor": "white",
             "linecolor": "white",
             "minorgridcolor": "white",
             "startlinecolor": "#2a3f5f"
            },
            "baxis": {
             "endlinecolor": "#2a3f5f",
             "gridcolor": "white",
             "linecolor": "white",
             "minorgridcolor": "white",
             "startlinecolor": "#2a3f5f"
            },
            "type": "carpet"
           }
          ],
          "choropleth": [
           {
            "colorbar": {
             "outlinewidth": 0,
             "ticks": ""
            },
            "type": "choropleth"
           }
          ],
          "contour": [
           {
            "colorbar": {
             "outlinewidth": 0,
             "ticks": ""
            },
            "colorscale": [
             [
              0,
              "#0d0887"
             ],
             [
              0.1111111111111111,
              "#46039f"
             ],
             [
              0.2222222222222222,
              "#7201a8"
             ],
             [
              0.3333333333333333,
              "#9c179e"
             ],
             [
              0.4444444444444444,
              "#bd3786"
             ],
             [
              0.5555555555555556,
              "#d8576b"
             ],
             [
              0.6666666666666666,
              "#ed7953"
             ],
             [
              0.7777777777777778,
              "#fb9f3a"
             ],
             [
              0.8888888888888888,
              "#fdca26"
             ],
             [
              1,
              "#f0f921"
             ]
            ],
            "type": "contour"
           }
          ],
          "contourcarpet": [
           {
            "colorbar": {
             "outlinewidth": 0,
             "ticks": ""
            },
            "type": "contourcarpet"
           }
          ],
          "heatmap": [
           {
            "colorbar": {
             "outlinewidth": 0,
             "ticks": ""
            },
            "colorscale": [
             [
              0,
              "#0d0887"
             ],
             [
              0.1111111111111111,
              "#46039f"
             ],
             [
              0.2222222222222222,
              "#7201a8"
             ],
             [
              0.3333333333333333,
              "#9c179e"
             ],
             [
              0.4444444444444444,
              "#bd3786"
             ],
             [
              0.5555555555555556,
              "#d8576b"
             ],
             [
              0.6666666666666666,
              "#ed7953"
             ],
             [
              0.7777777777777778,
              "#fb9f3a"
             ],
             [
              0.8888888888888888,
              "#fdca26"
             ],
             [
              1,
              "#f0f921"
             ]
            ],
            "type": "heatmap"
           }
          ],
          "heatmapgl": [
           {
            "colorbar": {
             "outlinewidth": 0,
             "ticks": ""
            },
            "colorscale": [
             [
              0,
              "#0d0887"
             ],
             [
              0.1111111111111111,
              "#46039f"
             ],
             [
              0.2222222222222222,
              "#7201a8"
             ],
             [
              0.3333333333333333,
              "#9c179e"
             ],
             [
              0.4444444444444444,
              "#bd3786"
             ],
             [
              0.5555555555555556,
              "#d8576b"
             ],
             [
              0.6666666666666666,
              "#ed7953"
             ],
             [
              0.7777777777777778,
              "#fb9f3a"
             ],
             [
              0.8888888888888888,
              "#fdca26"
             ],
             [
              1,
              "#f0f921"
             ]
            ],
            "type": "heatmapgl"
           }
          ],
          "histogram": [
           {
            "marker": {
             "pattern": {
              "fillmode": "overlay",
              "size": 10,
              "solidity": 0.2
             }
            },
            "type": "histogram"
           }
          ],
          "histogram2d": [
           {
            "colorbar": {
             "outlinewidth": 0,
             "ticks": ""
            },
            "colorscale": [
             [
              0,
              "#0d0887"
             ],
             [
              0.1111111111111111,
              "#46039f"
             ],
             [
              0.2222222222222222,
              "#7201a8"
             ],
             [
              0.3333333333333333,
              "#9c179e"
             ],
             [
              0.4444444444444444,
              "#bd3786"
             ],
             [
              0.5555555555555556,
              "#d8576b"
             ],
             [
              0.6666666666666666,
              "#ed7953"
             ],
             [
              0.7777777777777778,
              "#fb9f3a"
             ],
             [
              0.8888888888888888,
              "#fdca26"
             ],
             [
              1,
              "#f0f921"
             ]
            ],
            "type": "histogram2d"
           }
          ],
          "histogram2dcontour": [
           {
            "colorbar": {
             "outlinewidth": 0,
             "ticks": ""
            },
            "colorscale": [
             [
              0,
              "#0d0887"
             ],
             [
              0.1111111111111111,
              "#46039f"
             ],
             [
              0.2222222222222222,
              "#7201a8"
             ],
             [
              0.3333333333333333,
              "#9c179e"
             ],
             [
              0.4444444444444444,
              "#bd3786"
             ],
             [
              0.5555555555555556,
              "#d8576b"
             ],
             [
              0.6666666666666666,
              "#ed7953"
             ],
             [
              0.7777777777777778,
              "#fb9f3a"
             ],
             [
              0.8888888888888888,
              "#fdca26"
             ],
             [
              1,
              "#f0f921"
             ]
            ],
            "type": "histogram2dcontour"
           }
          ],
          "mesh3d": [
           {
            "colorbar": {
             "outlinewidth": 0,
             "ticks": ""
            },
            "type": "mesh3d"
           }
          ],
          "parcoords": [
           {
            "line": {
             "colorbar": {
              "outlinewidth": 0,
              "ticks": ""
             }
            },
            "type": "parcoords"
           }
          ],
          "pie": [
           {
            "automargin": true,
            "type": "pie"
           }
          ],
          "scatter": [
           {
            "marker": {
             "colorbar": {
              "outlinewidth": 0,
              "ticks": ""
             }
            },
            "type": "scatter"
           }
          ],
          "scatter3d": [
           {
            "line": {
             "colorbar": {
              "outlinewidth": 0,
              "ticks": ""
             }
            },
            "marker": {
             "colorbar": {
              "outlinewidth": 0,
              "ticks": ""
             }
            },
            "type": "scatter3d"
           }
          ],
          "scattercarpet": [
           {
            "marker": {
             "colorbar": {
              "outlinewidth": 0,
              "ticks": ""
             }
            },
            "type": "scattercarpet"
           }
          ],
          "scattergeo": [
           {
            "marker": {
             "colorbar": {
              "outlinewidth": 0,
              "ticks": ""
             }
            },
            "type": "scattergeo"
           }
          ],
          "scattergl": [
           {
            "marker": {
             "colorbar": {
              "outlinewidth": 0,
              "ticks": ""
             }
            },
            "type": "scattergl"
           }
          ],
          "scattermapbox": [
           {
            "marker": {
             "colorbar": {
              "outlinewidth": 0,
              "ticks": ""
             }
            },
            "type": "scattermapbox"
           }
          ],
          "scatterpolar": [
           {
            "marker": {
             "colorbar": {
              "outlinewidth": 0,
              "ticks": ""
             }
            },
            "type": "scatterpolar"
           }
          ],
          "scatterpolargl": [
           {
            "marker": {
             "colorbar": {
              "outlinewidth": 0,
              "ticks": ""
             }
            },
            "type": "scatterpolargl"
           }
          ],
          "scatterternary": [
           {
            "marker": {
             "colorbar": {
              "outlinewidth": 0,
              "ticks": ""
             }
            },
            "type": "scatterternary"
           }
          ],
          "surface": [
           {
            "colorbar": {
             "outlinewidth": 0,
             "ticks": ""
            },
            "colorscale": [
             [
              0,
              "#0d0887"
             ],
             [
              0.1111111111111111,
              "#46039f"
             ],
             [
              0.2222222222222222,
              "#7201a8"
             ],
             [
              0.3333333333333333,
              "#9c179e"
             ],
             [
              0.4444444444444444,
              "#bd3786"
             ],
             [
              0.5555555555555556,
              "#d8576b"
             ],
             [
              0.6666666666666666,
              "#ed7953"
             ],
             [
              0.7777777777777778,
              "#fb9f3a"
             ],
             [
              0.8888888888888888,
              "#fdca26"
             ],
             [
              1,
              "#f0f921"
             ]
            ],
            "type": "surface"
           }
          ],
          "table": [
           {
            "cells": {
             "fill": {
              "color": "#EBF0F8"
             },
             "line": {
              "color": "white"
             }
            },
            "header": {
             "fill": {
              "color": "#C8D4E3"
             },
             "line": {
              "color": "white"
             }
            },
            "type": "table"
           }
          ]
         },
         "layout": {
          "annotationdefaults": {
           "arrowcolor": "#2a3f5f",
           "arrowhead": 0,
           "arrowwidth": 1
          },
          "autotypenumbers": "strict",
          "coloraxis": {
           "colorbar": {
            "outlinewidth": 0,
            "ticks": ""
           }
          },
          "colorscale": {
           "diverging": [
            [
             0,
             "#8e0152"
            ],
            [
             0.1,
             "#c51b7d"
            ],
            [
             0.2,
             "#de77ae"
            ],
            [
             0.3,
             "#f1b6da"
            ],
            [
             0.4,
             "#fde0ef"
            ],
            [
             0.5,
             "#f7f7f7"
            ],
            [
             0.6,
             "#e6f5d0"
            ],
            [
             0.7,
             "#b8e186"
            ],
            [
             0.8,
             "#7fbc41"
            ],
            [
             0.9,
             "#4d9221"
            ],
            [
             1,
             "#276419"
            ]
           ],
           "sequential": [
            [
             0,
             "#0d0887"
            ],
            [
             0.1111111111111111,
             "#46039f"
            ],
            [
             0.2222222222222222,
             "#7201a8"
            ],
            [
             0.3333333333333333,
             "#9c179e"
            ],
            [
             0.4444444444444444,
             "#bd3786"
            ],
            [
             0.5555555555555556,
             "#d8576b"
            ],
            [
             0.6666666666666666,
             "#ed7953"
            ],
            [
             0.7777777777777778,
             "#fb9f3a"
            ],
            [
             0.8888888888888888,
             "#fdca26"
            ],
            [
             1,
             "#f0f921"
            ]
           ],
           "sequentialminus": [
            [
             0,
             "#0d0887"
            ],
            [
             0.1111111111111111,
             "#46039f"
            ],
            [
             0.2222222222222222,
             "#7201a8"
            ],
            [
             0.3333333333333333,
             "#9c179e"
            ],
            [
             0.4444444444444444,
             "#bd3786"
            ],
            [
             0.5555555555555556,
             "#d8576b"
            ],
            [
             0.6666666666666666,
             "#ed7953"
            ],
            [
             0.7777777777777778,
             "#fb9f3a"
            ],
            [
             0.8888888888888888,
             "#fdca26"
            ],
            [
             1,
             "#f0f921"
            ]
           ]
          },
          "colorway": [
           "#636efa",
           "#EF553B",
           "#00cc96",
           "#ab63fa",
           "#FFA15A",
           "#19d3f3",
           "#FF6692",
           "#B6E880",
           "#FF97FF",
           "#FECB52"
          ],
          "font": {
           "color": "#2a3f5f"
          },
          "geo": {
           "bgcolor": "white",
           "lakecolor": "white",
           "landcolor": "#E5ECF6",
           "showlakes": true,
           "showland": true,
           "subunitcolor": "white"
          },
          "hoverlabel": {
           "align": "left"
          },
          "hovermode": "closest",
          "mapbox": {
           "style": "light"
          },
          "paper_bgcolor": "white",
          "plot_bgcolor": "#E5ECF6",
          "polar": {
           "angularaxis": {
            "gridcolor": "white",
            "linecolor": "white",
            "ticks": ""
           },
           "bgcolor": "#E5ECF6",
           "radialaxis": {
            "gridcolor": "white",
            "linecolor": "white",
            "ticks": ""
           }
          },
          "scene": {
           "xaxis": {
            "backgroundcolor": "#E5ECF6",
            "gridcolor": "white",
            "gridwidth": 2,
            "linecolor": "white",
            "showbackground": true,
            "ticks": "",
            "zerolinecolor": "white"
           },
           "yaxis": {
            "backgroundcolor": "#E5ECF6",
            "gridcolor": "white",
            "gridwidth": 2,
            "linecolor": "white",
            "showbackground": true,
            "ticks": "",
            "zerolinecolor": "white"
           },
           "zaxis": {
            "backgroundcolor": "#E5ECF6",
            "gridcolor": "white",
            "gridwidth": 2,
            "linecolor": "white",
            "showbackground": true,
            "ticks": "",
            "zerolinecolor": "white"
           }
          },
          "shapedefaults": {
           "line": {
            "color": "#2a3f5f"
           }
          },
          "ternary": {
           "aaxis": {
            "gridcolor": "white",
            "linecolor": "white",
            "ticks": ""
           },
           "baxis": {
            "gridcolor": "white",
            "linecolor": "white",
            "ticks": ""
           },
           "bgcolor": "#E5ECF6",
           "caxis": {
            "gridcolor": "white",
            "linecolor": "white",
            "ticks": ""
           }
          },
          "title": {
           "x": 0.05
          },
          "xaxis": {
           "automargin": true,
           "gridcolor": "white",
           "linecolor": "white",
           "ticks": "",
           "title": {
            "standoff": 15
           },
           "zerolinecolor": "white",
           "zerolinewidth": 2
          },
          "yaxis": {
           "automargin": true,
           "gridcolor": "white",
           "linecolor": "white",
           "ticks": "",
           "title": {
            "standoff": 15
           },
           "zerolinecolor": "white",
           "zerolinewidth": 2
          }
         }
        }
       }
      },
      "text/html": [
       "<div>                            <div id=\"f12ad787-c4e8-41c7-bf49-f6fdb7dca2b8\" class=\"plotly-graph-div\" style=\"height:525px; width:100%;\"></div>            <script type=\"text/javascript\">                require([\"plotly\"], function(Plotly) {                    window.PLOTLYENV=window.PLOTLYENV || {};                                    if (document.getElementById(\"f12ad787-c4e8-41c7-bf49-f6fdb7dca2b8\")) {                    Plotly.newPlot(                        \"f12ad787-c4e8-41c7-bf49-f6fdb7dca2b8\",                        [{\"line\":{\"color\":\"red\"},\"marker\":{\"color\":\"red\",\"size\":2},\"mode\":\"lines+markers+text\",\"x\":[-505.8501892089844,-361.5316162109375],\"y\":[1744.6025390625,1793.1405029296875],\"z\":[612.1091308593751,468.2837829589845],\"type\":\"scatter3d\"},{\"line\":{\"color\":\"red\"},\"marker\":{\"color\":\"red\",\"size\":2},\"mode\":\"lines+markers+text\",\"x\":[-361.5316162109375,220.9071044921875],\"y\":[1793.1405029296875,2022.1533203125],\"z\":[468.2837829589845,-376.4232177734374],\"type\":\"scatter3d\"},{\"line\":{\"color\":\"red\"},\"marker\":{\"color\":\"red\",\"size\":2},\"mode\":\"lines+markers+text\",\"x\":[220.9071044921875,-417.9021301269531],\"y\":[2022.1533203125,1742.6695556640625],\"z\":[-376.4232177734374,545.1978149414064],\"type\":\"scatter3d\"},{\"line\":{\"color\":\"red\"},\"marker\":{\"color\":\"red\",\"size\":2},\"mode\":\"lines+markers+text\",\"x\":[-417.9021301269531,-471.65216064453125],\"y\":[1742.6695556640625,1762.9697265625],\"z\":[545.1978149414064,546.0358886718751],\"type\":\"scatter3d\"},{\"line\":{\"color\":\"red\"},\"marker\":{\"color\":\"red\",\"size\":2},\"mode\":\"lines+markers+text\",\"x\":[-471.65216064453125,-417.9021301269531],\"y\":[1762.9697265625,1742.6695556640625],\"z\":[546.0358886718751,545.1978149414064],\"type\":\"scatter3d\"},{\"line\":{\"color\":\"red\"},\"marker\":{\"color\":\"red\",\"size\":2},\"mode\":\"lines+markers+text\",\"x\":[-417.9021301269531,220.9071044921875],\"y\":[1742.6695556640625,2022.1533203125],\"z\":[545.1978149414064,-376.4232177734374],\"type\":\"scatter3d\"},{\"line\":{\"color\":\"red\"},\"marker\":{\"color\":\"red\",\"size\":2},\"mode\":\"lines+markers+text\",\"x\":[220.9071044921875,202.6138916015625],\"y\":[2022.1533203125,2004.83251953125],\"z\":[-376.4232177734374,-192.48760986328114],\"type\":\"scatter3d\"},{\"line\":{\"color\":\"red\"},\"marker\":{\"color\":\"red\",\"size\":2},\"mode\":\"lines+markers+text\",\"x\":[202.6138916015625,190.9678497314453],\"y\":[2004.83251953125,1998.937744140625],\"z\":[-192.48760986328114,-44.642330169677614],\"type\":\"scatter3d\"},{\"line\":{\"color\":\"red\"},\"marker\":{\"color\":\"red\",\"size\":2},\"mode\":\"lines+markers+text\",\"x\":[190.9678497314453,219.4114227294922],\"y\":[1998.937744140625,1988.5357666015625],\"z\":[-44.642330169677614,179.24285888671886],\"type\":\"scatter3d\"},{\"line\":{\"color\":\"red\"},\"marker\":{\"color\":\"red\",\"size\":2},\"mode\":\"lines+markers+text\",\"x\":[219.4114227294922,249.54649353027344],\"y\":[1988.5357666015625,1991.4114990234375],\"z\":[179.24285888671886,138.19146728515636],\"type\":\"scatter3d\"},{\"line\":{\"color\":\"red\"},\"marker\":{\"color\":\"red\",\"size\":2},\"mode\":\"lines+markers+text\",\"x\":[249.54649353027344,219.4114227294922],\"y\":[1991.4114990234375,1988.5357666015625],\"z\":[138.19146728515636,179.24285888671886],\"type\":\"scatter3d\"},{\"line\":{\"color\":\"red\"},\"marker\":{\"color\":\"red\",\"size\":2},\"mode\":\"lines+markers+text\",\"x\":[219.4114227294922,190.9678497314453],\"y\":[1988.5357666015625,1998.937744140625],\"z\":[179.24285888671886,-44.642330169677614],\"type\":\"scatter3d\"},{\"line\":{\"color\":\"red\"},\"marker\":{\"color\":\"red\",\"size\":2},\"mode\":\"lines+markers+text\",\"x\":[190.9678497314453,202.6138916015625],\"y\":[1998.937744140625,2004.83251953125],\"z\":[-44.642330169677614,-192.48760986328114],\"type\":\"scatter3d\"},{\"line\":{\"color\":\"red\"},\"marker\":{\"color\":\"red\",\"size\":2},\"mode\":\"lines+markers+text\",\"x\":[202.6138916015625,398.02789306640625],\"y\":[2004.83251953125,1992.2464599609375],\"z\":[-192.48760986328114,147.24229431152355],\"type\":\"scatter3d\"},{\"line\":{\"color\":\"red\"},\"marker\":{\"color\":\"red\",\"size\":2},\"mode\":\"lines+markers+text\",\"x\":[398.02789306640625,627.2658081054688],\"y\":[1992.2464599609375,2084.006591796875],\"z\":[147.24229431152355,-0.15287101268755549],\"type\":\"scatter3d\"},{\"line\":{\"color\":\"red\"},\"marker\":{\"color\":\"red\",\"size\":2},\"mode\":\"lines+markers+text\",\"x\":[627.2658081054688,820.8440551757812],\"y\":[2084.006591796875,2153.80859375],\"z\":[-0.15287101268755549,-126.28337860107409],\"type\":\"scatter3d\"},{\"line\":{\"color\":\"red\"},\"marker\":{\"color\":\"red\",\"size\":2},\"mode\":\"lines+markers+text\",\"x\":[820.8440551757812,627.2658081054688],\"y\":[2153.80859375,2084.006591796875],\"z\":[-126.28337860107409,-0.15287101268755549],\"type\":\"scatter3d\"},{\"line\":{\"color\":\"red\"},\"marker\":{\"color\":\"red\",\"size\":2},\"mode\":\"lines+markers+text\",\"x\":[627.2658081054688,398.02789306640625],\"y\":[2084.006591796875,1992.2464599609375],\"z\":[-0.15287101268755549,147.24229431152355],\"type\":\"scatter3d\"},{\"line\":{\"color\":\"red\"},\"marker\":{\"color\":\"red\",\"size\":2},\"mode\":\"lines+markers+text\",\"x\":[398.02789306640625,202.6138916015625],\"y\":[1992.2464599609375,2004.83251953125],\"z\":[147.24229431152355,-192.48760986328114],\"type\":\"scatter3d\"},{\"line\":{\"color\":\"red\"},\"marker\":{\"color\":\"red\",\"size\":2},\"mode\":\"lines+markers+text\",\"x\":[202.6138916015625,917.2540283203125],\"y\":[2004.83251953125,2177.86279296875],\"z\":[-192.48760986328114,-139.22326660156236],\"type\":\"scatter3d\"},{\"line\":{\"color\":\"red\"},\"marker\":{\"color\":\"red\",\"size\":2},\"mode\":\"lines+markers+text\",\"x\":[917.2540283203125,962.5587768554688],\"y\":[2177.86279296875,2079.970947265625],\"z\":[-139.22326660156236,-170.97569274902332],\"type\":\"scatter3d\"},{\"line\":{\"color\":\"red\"},\"marker\":{\"color\":\"red\",\"size\":2},\"mode\":\"lines+markers+text\",\"x\":[962.5587768554688,956.0407104492188],\"y\":[2079.970947265625,2176.3798828125],\"z\":[-170.97569274902332,-153.60519409179673],\"type\":\"scatter3d\"},{\"line\":{\"color\":\"red\"},\"marker\":{\"color\":\"red\",\"size\":2},\"mode\":\"lines+markers+text\",\"x\":[956.0407104492188,962.5587768554688],\"y\":[2176.3798828125,2079.970947265625],\"z\":[-153.60519409179673,-170.97569274902332],\"type\":\"scatter3d\"},{\"line\":{\"color\":\"red\"},\"marker\":{\"color\":\"red\",\"size\":2},\"mode\":\"lines+markers+text\",\"x\":[962.5587768554688,917.2540283203125],\"y\":[2079.970947265625,2177.86279296875],\"z\":[-170.97569274902332,-139.22326660156236],\"type\":\"scatter3d\"},{\"line\":{\"color\":\"red\"},\"marker\":{\"color\":\"red\",\"size\":2},\"mode\":\"lines+markers+text\",\"x\":[917.2540283203125,202.6138916015625],\"y\":[2177.86279296875,2004.83251953125],\"z\":[-139.22326660156236,-192.48760986328114],\"type\":\"scatter3d\"},{\"line\":{\"color\":\"red\"},\"marker\":{\"color\":\"red\",\"size\":2},\"mode\":\"lines+markers+text\",\"x\":[202.6138916015625,179.9983673095703],\"y\":[2004.83251953125,1991.280029296875],\"z\":[-192.48760986328114,146.3943786621095],\"type\":\"scatter3d\"},{\"line\":{\"color\":\"red\"},\"marker\":{\"color\":\"red\",\"size\":2},\"mode\":\"lines+markers+text\",\"x\":[179.9983673095703,48.921241760253906],\"y\":[1991.280029296875,1994.2601318359375],\"z\":[146.3943786621095,185.6188201904298],\"type\":\"scatter3d\"},{\"line\":{\"color\":\"red\"},\"marker\":{\"color\":\"red\",\"size\":2},\"mode\":\"lines+markers+text\",\"x\":[48.921241760253906,-175.22071838378906],\"y\":[1994.2601318359375,1885.2037353515625],\"z\":[185.6188201904298,339.63482666015636],\"type\":\"scatter3d\"}],                        {\"scene\":{\"camera\":{\"eye\":{\"x\":-1,\"y\":-1,\"z\":1}}},\"template\":{\"data\":{\"bar\":[{\"error_x\":{\"color\":\"#2a3f5f\"},\"error_y\":{\"color\":\"#2a3f5f\"},\"marker\":{\"line\":{\"color\":\"#E5ECF6\",\"width\":0.5},\"pattern\":{\"fillmode\":\"overlay\",\"size\":10,\"solidity\":0.2}},\"type\":\"bar\"}],\"barpolar\":[{\"marker\":{\"line\":{\"color\":\"#E5ECF6\",\"width\":0.5},\"pattern\":{\"fillmode\":\"overlay\",\"size\":10,\"solidity\":0.2}},\"type\":\"barpolar\"}],\"carpet\":[{\"aaxis\":{\"endlinecolor\":\"#2a3f5f\",\"gridcolor\":\"white\",\"linecolor\":\"white\",\"minorgridcolor\":\"white\",\"startlinecolor\":\"#2a3f5f\"},\"baxis\":{\"endlinecolor\":\"#2a3f5f\",\"gridcolor\":\"white\",\"linecolor\":\"white\",\"minorgridcolor\":\"white\",\"startlinecolor\":\"#2a3f5f\"},\"type\":\"carpet\"}],\"choropleth\":[{\"colorbar\":{\"outlinewidth\":0,\"ticks\":\"\"},\"type\":\"choropleth\"}],\"contour\":[{\"colorbar\":{\"outlinewidth\":0,\"ticks\":\"\"},\"colorscale\":[[0.0,\"#0d0887\"],[0.1111111111111111,\"#46039f\"],[0.2222222222222222,\"#7201a8\"],[0.3333333333333333,\"#9c179e\"],[0.4444444444444444,\"#bd3786\"],[0.5555555555555556,\"#d8576b\"],[0.6666666666666666,\"#ed7953\"],[0.7777777777777778,\"#fb9f3a\"],[0.8888888888888888,\"#fdca26\"],[1.0,\"#f0f921\"]],\"type\":\"contour\"}],\"contourcarpet\":[{\"colorbar\":{\"outlinewidth\":0,\"ticks\":\"\"},\"type\":\"contourcarpet\"}],\"heatmap\":[{\"colorbar\":{\"outlinewidth\":0,\"ticks\":\"\"},\"colorscale\":[[0.0,\"#0d0887\"],[0.1111111111111111,\"#46039f\"],[0.2222222222222222,\"#7201a8\"],[0.3333333333333333,\"#9c179e\"],[0.4444444444444444,\"#bd3786\"],[0.5555555555555556,\"#d8576b\"],[0.6666666666666666,\"#ed7953\"],[0.7777777777777778,\"#fb9f3a\"],[0.8888888888888888,\"#fdca26\"],[1.0,\"#f0f921\"]],\"type\":\"heatmap\"}],\"heatmapgl\":[{\"colorbar\":{\"outlinewidth\":0,\"ticks\":\"\"},\"colorscale\":[[0.0,\"#0d0887\"],[0.1111111111111111,\"#46039f\"],[0.2222222222222222,\"#7201a8\"],[0.3333333333333333,\"#9c179e\"],[0.4444444444444444,\"#bd3786\"],[0.5555555555555556,\"#d8576b\"],[0.6666666666666666,\"#ed7953\"],[0.7777777777777778,\"#fb9f3a\"],[0.8888888888888888,\"#fdca26\"],[1.0,\"#f0f921\"]],\"type\":\"heatmapgl\"}],\"histogram\":[{\"marker\":{\"pattern\":{\"fillmode\":\"overlay\",\"size\":10,\"solidity\":0.2}},\"type\":\"histogram\"}],\"histogram2d\":[{\"colorbar\":{\"outlinewidth\":0,\"ticks\":\"\"},\"colorscale\":[[0.0,\"#0d0887\"],[0.1111111111111111,\"#46039f\"],[0.2222222222222222,\"#7201a8\"],[0.3333333333333333,\"#9c179e\"],[0.4444444444444444,\"#bd3786\"],[0.5555555555555556,\"#d8576b\"],[0.6666666666666666,\"#ed7953\"],[0.7777777777777778,\"#fb9f3a\"],[0.8888888888888888,\"#fdca26\"],[1.0,\"#f0f921\"]],\"type\":\"histogram2d\"}],\"histogram2dcontour\":[{\"colorbar\":{\"outlinewidth\":0,\"ticks\":\"\"},\"colorscale\":[[0.0,\"#0d0887\"],[0.1111111111111111,\"#46039f\"],[0.2222222222222222,\"#7201a8\"],[0.3333333333333333,\"#9c179e\"],[0.4444444444444444,\"#bd3786\"],[0.5555555555555556,\"#d8576b\"],[0.6666666666666666,\"#ed7953\"],[0.7777777777777778,\"#fb9f3a\"],[0.8888888888888888,\"#fdca26\"],[1.0,\"#f0f921\"]],\"type\":\"histogram2dcontour\"}],\"mesh3d\":[{\"colorbar\":{\"outlinewidth\":0,\"ticks\":\"\"},\"type\":\"mesh3d\"}],\"parcoords\":[{\"line\":{\"colorbar\":{\"outlinewidth\":0,\"ticks\":\"\"}},\"type\":\"parcoords\"}],\"pie\":[{\"automargin\":true,\"type\":\"pie\"}],\"scatter\":[{\"marker\":{\"colorbar\":{\"outlinewidth\":0,\"ticks\":\"\"}},\"type\":\"scatter\"}],\"scatter3d\":[{\"line\":{\"colorbar\":{\"outlinewidth\":0,\"ticks\":\"\"}},\"marker\":{\"colorbar\":{\"outlinewidth\":0,\"ticks\":\"\"}},\"type\":\"scatter3d\"}],\"scattercarpet\":[{\"marker\":{\"colorbar\":{\"outlinewidth\":0,\"ticks\":\"\"}},\"type\":\"scattercarpet\"}],\"scattergeo\":[{\"marker\":{\"colorbar\":{\"outlinewidth\":0,\"ticks\":\"\"}},\"type\":\"scattergeo\"}],\"scattergl\":[{\"marker\":{\"colorbar\":{\"outlinewidth\":0,\"ticks\":\"\"}},\"type\":\"scattergl\"}],\"scattermapbox\":[{\"marker\":{\"colorbar\":{\"outlinewidth\":0,\"ticks\":\"\"}},\"type\":\"scattermapbox\"}],\"scatterpolar\":[{\"marker\":{\"colorbar\":{\"outlinewidth\":0,\"ticks\":\"\"}},\"type\":\"scatterpolar\"}],\"scatterpolargl\":[{\"marker\":{\"colorbar\":{\"outlinewidth\":0,\"ticks\":\"\"}},\"type\":\"scatterpolargl\"}],\"scatterternary\":[{\"marker\":{\"colorbar\":{\"outlinewidth\":0,\"ticks\":\"\"}},\"type\":\"scatterternary\"}],\"surface\":[{\"colorbar\":{\"outlinewidth\":0,\"ticks\":\"\"},\"colorscale\":[[0.0,\"#0d0887\"],[0.1111111111111111,\"#46039f\"],[0.2222222222222222,\"#7201a8\"],[0.3333333333333333,\"#9c179e\"],[0.4444444444444444,\"#bd3786\"],[0.5555555555555556,\"#d8576b\"],[0.6666666666666666,\"#ed7953\"],[0.7777777777777778,\"#fb9f3a\"],[0.8888888888888888,\"#fdca26\"],[1.0,\"#f0f921\"]],\"type\":\"surface\"}],\"table\":[{\"cells\":{\"fill\":{\"color\":\"#EBF0F8\"},\"line\":{\"color\":\"white\"}},\"header\":{\"fill\":{\"color\":\"#C8D4E3\"},\"line\":{\"color\":\"white\"}},\"type\":\"table\"}]},\"layout\":{\"annotationdefaults\":{\"arrowcolor\":\"#2a3f5f\",\"arrowhead\":0,\"arrowwidth\":1},\"autotypenumbers\":\"strict\",\"coloraxis\":{\"colorbar\":{\"outlinewidth\":0,\"ticks\":\"\"}},\"colorscale\":{\"diverging\":[[0,\"#8e0152\"],[0.1,\"#c51b7d\"],[0.2,\"#de77ae\"],[0.3,\"#f1b6da\"],[0.4,\"#fde0ef\"],[0.5,\"#f7f7f7\"],[0.6,\"#e6f5d0\"],[0.7,\"#b8e186\"],[0.8,\"#7fbc41\"],[0.9,\"#4d9221\"],[1,\"#276419\"]],\"sequential\":[[0.0,\"#0d0887\"],[0.1111111111111111,\"#46039f\"],[0.2222222222222222,\"#7201a8\"],[0.3333333333333333,\"#9c179e\"],[0.4444444444444444,\"#bd3786\"],[0.5555555555555556,\"#d8576b\"],[0.6666666666666666,\"#ed7953\"],[0.7777777777777778,\"#fb9f3a\"],[0.8888888888888888,\"#fdca26\"],[1.0,\"#f0f921\"]],\"sequentialminus\":[[0.0,\"#0d0887\"],[0.1111111111111111,\"#46039f\"],[0.2222222222222222,\"#7201a8\"],[0.3333333333333333,\"#9c179e\"],[0.4444444444444444,\"#bd3786\"],[0.5555555555555556,\"#d8576b\"],[0.6666666666666666,\"#ed7953\"],[0.7777777777777778,\"#fb9f3a\"],[0.8888888888888888,\"#fdca26\"],[1.0,\"#f0f921\"]]},\"colorway\":[\"#636efa\",\"#EF553B\",\"#00cc96\",\"#ab63fa\",\"#FFA15A\",\"#19d3f3\",\"#FF6692\",\"#B6E880\",\"#FF97FF\",\"#FECB52\"],\"font\":{\"color\":\"#2a3f5f\"},\"geo\":{\"bgcolor\":\"white\",\"lakecolor\":\"white\",\"landcolor\":\"#E5ECF6\",\"showlakes\":true,\"showland\":true,\"subunitcolor\":\"white\"},\"hoverlabel\":{\"align\":\"left\"},\"hovermode\":\"closest\",\"mapbox\":{\"style\":\"light\"},\"paper_bgcolor\":\"white\",\"plot_bgcolor\":\"#E5ECF6\",\"polar\":{\"angularaxis\":{\"gridcolor\":\"white\",\"linecolor\":\"white\",\"ticks\":\"\"},\"bgcolor\":\"#E5ECF6\",\"radialaxis\":{\"gridcolor\":\"white\",\"linecolor\":\"white\",\"ticks\":\"\"}},\"scene\":{\"xaxis\":{\"backgroundcolor\":\"#E5ECF6\",\"gridcolor\":\"white\",\"gridwidth\":2,\"linecolor\":\"white\",\"showbackground\":true,\"ticks\":\"\",\"zerolinecolor\":\"white\"},\"yaxis\":{\"backgroundcolor\":\"#E5ECF6\",\"gridcolor\":\"white\",\"gridwidth\":2,\"linecolor\":\"white\",\"showbackground\":true,\"ticks\":\"\",\"zerolinecolor\":\"white\"},\"zaxis\":{\"backgroundcolor\":\"#E5ECF6\",\"gridcolor\":\"white\",\"gridwidth\":2,\"linecolor\":\"white\",\"showbackground\":true,\"ticks\":\"\",\"zerolinecolor\":\"white\"}},\"shapedefaults\":{\"line\":{\"color\":\"#2a3f5f\"}},\"ternary\":{\"aaxis\":{\"gridcolor\":\"white\",\"linecolor\":\"white\",\"ticks\":\"\"},\"baxis\":{\"gridcolor\":\"white\",\"linecolor\":\"white\",\"ticks\":\"\"},\"bgcolor\":\"#E5ECF6\",\"caxis\":{\"gridcolor\":\"white\",\"linecolor\":\"white\",\"ticks\":\"\"}},\"title\":{\"x\":0.05},\"xaxis\":{\"automargin\":true,\"gridcolor\":\"white\",\"linecolor\":\"white\",\"ticks\":\"\",\"title\":{\"standoff\":15},\"zerolinecolor\":\"white\",\"zerolinewidth\":2},\"yaxis\":{\"automargin\":true,\"gridcolor\":\"white\",\"linecolor\":\"white\",\"ticks\":\"\",\"title\":{\"standoff\":15},\"zerolinecolor\":\"white\",\"zerolinewidth\":2}}}},                        {\"responsive\": true}                    ).then(function(){\n",
       "                            \n",
       "var gd = document.getElementById('f12ad787-c4e8-41c7-bf49-f6fdb7dca2b8');\n",
       "var x = new MutationObserver(function (mutations, observer) {{\n",
       "        var display = window.getComputedStyle(gd).display;\n",
       "        if (!display || display === 'none') {{\n",
       "            console.log([gd, 'removed!']);\n",
       "            Plotly.purge(gd);\n",
       "            observer.disconnect();\n",
       "        }}\n",
       "}});\n",
       "\n",
       "// Listen for the removal of the full notebook cells\n",
       "var notebookContainer = gd.closest('#notebook-container');\n",
       "if (notebookContainer) {{\n",
       "    x.observe(notebookContainer, {childList: true});\n",
       "}}\n",
       "\n",
       "// Listen for the clearing of the current output cell\n",
       "var outputEl = gd.closest('.output');\n",
       "if (outputEl) {{\n",
       "    x.observe(outputEl, {childList: true});\n",
       "}}\n",
       "\n",
       "                        })                };                });            </script>        </div>"
      ]
     },
     "metadata": {},
     "output_type": "display_data"
    },
    {
     "data": {
      "text/plain": [
       "'\\nplot3d(\\n    (rot_y_R @ landmark.T).T, OpenPoseLandmark.CONN_PATH_LIST\\n)\\n\\nplot3d(\\n    (rot_zy_R @ landmark.T).T, OpenPoseLandmark.CONN_PATH_LIST\\n)\\n\\nplot3d(\\n    (rot_y_R @ rot_z_R @ landmark.T).T, OpenPoseLandmark.CONN_PATH_LIST\\n)\\n'"
      ]
     },
     "execution_count": 2,
     "metadata": {},
     "output_type": "execute_result"
    }
   ],
   "source": [
    "roll  = np.deg2rad(0) # actually, pitch\n",
    "pitch = np.deg2rad(0) # actually, yaw\n",
    "yaw   = np.deg2rad(0) # actually, roll\n",
    "distance = 2000\n",
    "\n",
    "R = np.matmul(\n",
    "    rpy2rm(np.deg2rad(-90), np.deg2rad(-90), np.rad2deg(-90)),\n",
    "    rpy2rm(roll, pitch, yaw)\n",
    ")\n",
    "\n",
    "translation = np.matmul(\n",
    "    R,\n",
    "    np.array([0, 0, distance]).reshape(-1, 1)\n",
    ").reshape(-1, 1)\n",
    "\n",
    "extrinsic = np.vstack([\n",
    "    np.hstack([\n",
    "        np.linalg.inv(R) ,\n",
    "        np.array([0, 0, distance]).reshape(-1, 1)\n",
    "    ]),\n",
    "    np.array([0, 0, 0, 1])\n",
    "])\n",
    "\n",
    "f = 2\n",
    "cx = 10\n",
    "cy = 10\n",
    "intrinsic = np.array([\n",
    "    [f, 0, cx],\n",
    "    [0, f, cy],\n",
    "    [0, 0, 1]\n",
    "])\n",
    "\n",
    "\n",
    "IDX = -2\n",
    "base_R = rpy2rm(np.deg2rad(-90), 0, 0)\n",
    "\n",
    "\n",
    "landmark = openpose_data_list[IDX]\n",
    "\n",
    "#landmark = np.matmul(base_R,landmark.T).T\n",
    "\n",
    "landmark_2d = landmark.copy() * 100\n",
    "landmark_2d = (landmark_2d - landmark_2d.min(axis=0))\n",
    "\n",
    "bbox_size = 500\n",
    "scale_factor = bbox_size / landmark_2d.max()\n",
    "landmark_2d *= scale_factor\n",
    "\n",
    "img_size = (512, 512)\n",
    "\n",
    "img = np.zeros([*img_size, 3], dtype=np.uint8)\n",
    "\n",
    "img = OpenPoseLandmark.draw_bodypose(img, landmark_2d.astype(int)[:, :2])\n",
    "plt.imshow(img)\n",
    "plt.show()\n",
    "\n",
    "plot3d(\n",
    "    np.matmul(base_R, pose_data_list[IDX].T).T,\n",
    "    [\n",
    "        25, 24, 23, 22, 0, 18, 19, 20, 21, 20, 19, 18, 0,\n",
    "        1, 2, 11, 12, 13, 14, 15, 14, 13, 12, 11, 2, \n",
    "        4, 5, 6 ,7 , 8, 7, 6, 5, 4, 2, 3, 26,\n",
    "        27, 30, 31, 30, 27, 28, 29\n",
    "    ]\n",
    ")\n",
    "\n",
    "plot3d(\n",
    "    np.matmul(base_R, pose_data_list[IDX].T).T,\n",
    "    OpenPoseLandmark.CONN_PATH_LIST\n",
    ")\n",
    "'''\n",
    "plot3d(\n",
    "    OpenPoseLandmark.azurkinect2openpose(np.matmul(base_R, openpose_data_list[IDX].T).T),\n",
    "    #landmark,\n",
    "    OpenPoseLandmark.CONN_PATH_LIST\n",
    ")\n",
    "'''\n",
    "\n",
    "rot_z_R = rpy2rm(0, 0, np.deg2rad(180))\n",
    "rot_zy_R = rpy2rm(0, np.deg2rad(90), np.deg2rad(180))\n",
    "rot_y_R = rpy2rm(0, np.deg2rad(90), 0)\n",
    "rot_x_R = rpy2rm(np.deg2rad(90), 0, 0)\n",
    "'''\n",
    "plot3d(\n",
    "    (rot_y_R @ landmark.T).T, OpenPoseLandmark.CONN_PATH_LIST\n",
    ")\n",
    "\n",
    "plot3d(\n",
    "    (rot_zy_R @ landmark.T).T, OpenPoseLandmark.CONN_PATH_LIST\n",
    ")\n",
    "\n",
    "plot3d(\n",
    "    (rot_y_R @ rot_z_R @ landmark.T).T, OpenPoseLandmark.CONN_PATH_LIST\n",
    ")\n",
    "'''\n",
    "\n",
    "#plot(landmark[:, :2], OpenPoseLandmark.CONN_PATH_LIST)"
   ]
  },
  {
   "cell_type": "code",
   "execution_count": 28,
   "metadata": {},
   "outputs": [
    {
     "ename": "error",
     "evalue": "OpenCV(4.7.0) D:\\a\\opencv-python\\opencv-python\\opencv\\modules\\imgproc\\src\\drawing.cpp:2434: error: (-215:Assertion failed) p.checkVector(2, CV_32S) >= 0 in function 'cv::polylines'\n",
     "output_type": "error",
     "traceback": [
      "\u001b[1;31m---------------------------------------------------------------------------\u001b[0m",
      "\u001b[1;31merror\u001b[0m                                     Traceback (most recent call last)",
      "\u001b[1;32md:\\HJP\\projs\\pose_generator\\playground\\landmarks.ipynb Cell 3\u001b[0m in \u001b[0;36m<cell line: 6>\u001b[1;34m()\u001b[0m\n\u001b[0;32m      <a href='vscode-notebook-cell:/d%3A/HJP/projs/pose_generator/playground/landmarks.ipynb#W4sZmlsZQ%3D%3D?line=1'>2</a>\u001b[0m \u001b[39mimport\u001b[39;00m \u001b[39mmatplotlib\u001b[39;00m\u001b[39m.\u001b[39;00m\u001b[39mpyplot\u001b[39;00m \u001b[39mas\u001b[39;00m \u001b[39mplt\u001b[39;00m\n\u001b[0;32m      <a href='vscode-notebook-cell:/d%3A/HJP/projs/pose_generator/playground/landmarks.ipynb#W4sZmlsZQ%3D%3D?line=3'>4</a>\u001b[0m img \u001b[39m=\u001b[39m np\u001b[39m.\u001b[39mzeros((\u001b[39m512\u001b[39m, \u001b[39m512\u001b[39m, \u001b[39m3\u001b[39m), dtype\u001b[39m=\u001b[39mnp\u001b[39m.\u001b[39muint8)\n\u001b[1;32m----> <a href='vscode-notebook-cell:/d%3A/HJP/projs/pose_generator/playground/landmarks.ipynb#W4sZmlsZQ%3D%3D?line=5'>6</a>\u001b[0m cv2\u001b[39m.\u001b[39;49mpolylines(\n\u001b[0;32m      <a href='vscode-notebook-cell:/d%3A/HJP/projs/pose_generator/playground/landmarks.ipynb#W4sZmlsZQ%3D%3D?line=6'>7</a>\u001b[0m     img,\n\u001b[0;32m      <a href='vscode-notebook-cell:/d%3A/HJP/projs/pose_generator/playground/landmarks.ipynb#W4sZmlsZQ%3D%3D?line=7'>8</a>\u001b[0m     np\u001b[39m.\u001b[39;49marray(\n\u001b[0;32m      <a href='vscode-notebook-cell:/d%3A/HJP/projs/pose_generator/playground/landmarks.ipynb#W4sZmlsZQ%3D%3D?line=8'>9</a>\u001b[0m         [\n\u001b[0;32m     <a href='vscode-notebook-cell:/d%3A/HJP/projs/pose_generator/playground/landmarks.ipynb#W4sZmlsZQ%3D%3D?line=9'>10</a>\u001b[0m             [\u001b[39m0\u001b[39;49m,\u001b[39m0\u001b[39;49m],\n\u001b[0;32m     <a href='vscode-notebook-cell:/d%3A/HJP/projs/pose_generator/playground/landmarks.ipynb#W4sZmlsZQ%3D%3D?line=10'>11</a>\u001b[0m             [\u001b[39m100\u001b[39;49m, \u001b[39m100\u001b[39;49m]\n\u001b[0;32m     <a href='vscode-notebook-cell:/d%3A/HJP/projs/pose_generator/playground/landmarks.ipynb#W4sZmlsZQ%3D%3D?line=11'>12</a>\u001b[0m         ],\n\u001b[0;32m     <a href='vscode-notebook-cell:/d%3A/HJP/projs/pose_generator/playground/landmarks.ipynb#W4sZmlsZQ%3D%3D?line=12'>13</a>\u001b[0m         dtype\u001b[39m=\u001b[39;49mnp\u001b[39m.\u001b[39;49mint32\n\u001b[0;32m     <a href='vscode-notebook-cell:/d%3A/HJP/projs/pose_generator/playground/landmarks.ipynb#W4sZmlsZQ%3D%3D?line=13'>14</a>\u001b[0m     ),\n\u001b[0;32m     <a href='vscode-notebook-cell:/d%3A/HJP/projs/pose_generator/playground/landmarks.ipynb#W4sZmlsZQ%3D%3D?line=14'>15</a>\u001b[0m     isClosed\u001b[39m=\u001b[39;49m\u001b[39mFalse\u001b[39;49;00m,\n\u001b[0;32m     <a href='vscode-notebook-cell:/d%3A/HJP/projs/pose_generator/playground/landmarks.ipynb#W4sZmlsZQ%3D%3D?line=15'>16</a>\u001b[0m     color\u001b[39m=\u001b[39;49m(\u001b[39m255\u001b[39;49m, \u001b[39m255\u001b[39;49m, \u001b[39m255\u001b[39;49m),\n\u001b[0;32m     <a href='vscode-notebook-cell:/d%3A/HJP/projs/pose_generator/playground/landmarks.ipynb#W4sZmlsZQ%3D%3D?line=16'>17</a>\u001b[0m     thickness\u001b[39m=\u001b[39;49m\u001b[39m1\u001b[39;49m\n\u001b[0;32m     <a href='vscode-notebook-cell:/d%3A/HJP/projs/pose_generator/playground/landmarks.ipynb#W4sZmlsZQ%3D%3D?line=17'>18</a>\u001b[0m )\n\u001b[0;32m     <a href='vscode-notebook-cell:/d%3A/HJP/projs/pose_generator/playground/landmarks.ipynb#W4sZmlsZQ%3D%3D?line=18'>19</a>\u001b[0m plt\u001b[39m.\u001b[39mimshow(img)\n\u001b[0;32m     <a href='vscode-notebook-cell:/d%3A/HJP/projs/pose_generator/playground/landmarks.ipynb#W4sZmlsZQ%3D%3D?line=19'>20</a>\u001b[0m plt\u001b[39m.\u001b[39mshow()\n",
      "\u001b[1;31merror\u001b[0m: OpenCV(4.7.0) D:\\a\\opencv-python\\opencv-python\\opencv\\modules\\imgproc\\src\\drawing.cpp:2434: error: (-215:Assertion failed) p.checkVector(2, CV_32S) >= 0 in function 'cv::polylines'\n"
     ]
    }
   ],
   "source": [
    "import cv2\n",
    "import matplotlib.pyplot as plt\n",
    "\n",
    "img = np.zeros((512, 512, 3), dtype=np.uint8)\n",
    "\n",
    "cv2.polylines(\n",
    "    img,\n",
    "    np.array(\n",
    "        [\n",
    "            [0,0],\n",
    "            [100, 100]\n",
    "        ],\n",
    "        dtype=np.int32\n",
    "    ),\n",
    "    isClosed=False,\n",
    "    color=(255, 255, 255),\n",
    "    thickness=1\n",
    ")\n",
    "plt.imshow(img)\n",
    "plt.show()"
   ]
  },
  {
   "cell_type": "code",
   "execution_count": 59,
   "metadata": {},
   "outputs": [
    {
     "data": {
      "application/vnd.plotly.v1+json": {
       "config": {
        "plotlyServerURL": "https://plot.ly"
       },
       "data": [
        {
         "line": {
          "color": "rgb(100, 100, 255)"
         },
         "marker": {
          "color": "rgb(100, 100, 255)",
          "size": 2
         },
         "mode": "lines+markers+text",
         "type": "scatter3d",
         "x": [
          -0.5,
          -0.5
         ],
         "y": [
          -0.5,
          -0.5
         ],
         "z": [
          -0.5,
          0.5
         ]
        },
        {
         "line": {
          "color": "rgb(0, 0, 0)"
         },
         "marker": {
          "color": "rgb(0, 0, 0)",
          "size": 2
         },
         "mode": "lines+markers+text",
         "type": "scatter3d",
         "x": [
          -0.5,
          -0.5
         ],
         "y": [
          -0.5,
          0.5
         ],
         "z": [
          0.5,
          0.5
         ]
        },
        {
         "line": {
          "color": "rgb(0, 0, 0)"
         },
         "marker": {
          "color": "rgb(0, 0, 0)",
          "size": 2
         },
         "mode": "lines+markers+text",
         "type": "scatter3d",
         "x": [
          -0.5,
          -0.5
         ],
         "y": [
          0.5,
          0.5
         ],
         "z": [
          0.5,
          -0.5
         ]
        },
        {
         "line": {
          "color": "rgb(100, 255, 100)"
         },
         "marker": {
          "color": "rgb(100, 255, 100)",
          "size": 2
         },
         "mode": "lines+markers+text",
         "type": "scatter3d",
         "x": [
          -0.5,
          -0.5
         ],
         "y": [
          0.5,
          -0.5
         ],
         "z": [
          -0.5,
          -0.5
         ]
        },
        {
         "line": {
          "color": "rgb(255, 100, 100)"
         },
         "marker": {
          "color": "rgb(255, 100, 100)",
          "size": 2
         },
         "mode": "lines+markers+text",
         "type": "scatter3d",
         "x": [
          -0.5,
          0.5
         ],
         "y": [
          -0.5,
          -0.5
         ],
         "z": [
          -0.5,
          -0.5
         ]
        },
        {
         "line": {
          "color": "rgb(0, 0, 0)"
         },
         "marker": {
          "color": "rgb(0, 0, 0)",
          "size": 2
         },
         "mode": "lines+markers+text",
         "type": "scatter3d",
         "x": [
          0.5,
          0.5
         ],
         "y": [
          -0.5,
          -0.5
         ],
         "z": [
          -0.5,
          0.5
         ]
        },
        {
         "line": {
          "color": "rgb(0, 0, 0)"
         },
         "marker": {
          "color": "rgb(0, 0, 0)",
          "size": 2
         },
         "mode": "lines+markers+text",
         "type": "scatter3d",
         "x": [
          0.5,
          -0.5
         ],
         "y": [
          -0.5,
          -0.5
         ],
         "z": [
          0.5,
          0.5
         ]
        },
        {
         "line": {
          "color": "rgb(0, 0, 0)"
         },
         "marker": {
          "color": "rgb(0, 0, 0)",
          "size": 2
         },
         "mode": "lines+markers+text",
         "type": "scatter3d",
         "x": [
          -0.5,
          0.5
         ],
         "y": [
          -0.5,
          -0.5
         ],
         "z": [
          0.5,
          0.5
         ]
        },
        {
         "line": {
          "color": "rgb(0, 0, 0)"
         },
         "marker": {
          "color": "rgb(0, 0, 0)",
          "size": 2
         },
         "mode": "lines+markers+text",
         "type": "scatter3d",
         "x": [
          0.5,
          0.5
         ],
         "y": [
          -0.5,
          0.5
         ],
         "z": [
          0.5,
          0.5
         ]
        },
        {
         "line": {
          "color": "rgb(0, 0, 0)"
         },
         "marker": {
          "color": "rgb(0, 0, 0)",
          "size": 2
         },
         "mode": "lines+markers+text",
         "type": "scatter3d",
         "x": [
          0.5,
          -0.5
         ],
         "y": [
          0.5,
          0.5
         ],
         "z": [
          0.5,
          0.5
         ]
        },
        {
         "line": {
          "color": "rgb(0, 0, 0)"
         },
         "marker": {
          "color": "rgb(0, 0, 0)",
          "size": 2
         },
         "mode": "lines+markers+text",
         "type": "scatter3d",
         "x": [
          -0.5,
          0.5
         ],
         "y": [
          0.5,
          0.5
         ],
         "z": [
          0.5,
          0.5
         ]
        },
        {
         "line": {
          "color": "rgb(0, 0, 0)"
         },
         "marker": {
          "color": "rgb(0, 0, 0)",
          "size": 2
         },
         "mode": "lines+markers+text",
         "type": "scatter3d",
         "x": [
          0.5,
          0.5
         ],
         "y": [
          0.5,
          0.5
         ],
         "z": [
          0.5,
          -0.5
         ]
        },
        {
         "line": {
          "color": "rgb(0, 0, 0)"
         },
         "marker": {
          "color": "rgb(0, 0, 0)",
          "size": 2
         },
         "mode": "lines+markers+text",
         "type": "scatter3d",
         "x": [
          0.5,
          -0.5
         ],
         "y": [
          0.5,
          0.5
         ],
         "z": [
          -0.5,
          -0.5
         ]
        },
        {
         "line": {
          "color": "rgb(0, 0, 0)"
         },
         "marker": {
          "color": "rgb(0, 0, 0)",
          "size": 2
         },
         "mode": "lines+markers+text",
         "type": "scatter3d",
         "x": [
          -0.5,
          0.5
         ],
         "y": [
          0.5,
          0.5
         ],
         "z": [
          -0.5,
          -0.5
         ]
        },
        {
         "line": {
          "color": "rgb(0, 0, 0)"
         },
         "marker": {
          "color": "rgb(0, 0, 0)",
          "size": 2
         },
         "mode": "lines+markers+text",
         "type": "scatter3d",
         "x": [
          0.5,
          0.5
         ],
         "y": [
          0.5,
          -0.5
         ],
         "z": [
          -0.5,
          -0.5
         ]
        }
       ],
       "layout": {
        "scene": {
         "camera": {
          "eye": {
           "x": -1,
           "y": -1,
           "z": 1
          }
         }
        },
        "template": {
         "data": {
          "bar": [
           {
            "error_x": {
             "color": "#2a3f5f"
            },
            "error_y": {
             "color": "#2a3f5f"
            },
            "marker": {
             "line": {
              "color": "#E5ECF6",
              "width": 0.5
             },
             "pattern": {
              "fillmode": "overlay",
              "size": 10,
              "solidity": 0.2
             }
            },
            "type": "bar"
           }
          ],
          "barpolar": [
           {
            "marker": {
             "line": {
              "color": "#E5ECF6",
              "width": 0.5
             },
             "pattern": {
              "fillmode": "overlay",
              "size": 10,
              "solidity": 0.2
             }
            },
            "type": "barpolar"
           }
          ],
          "carpet": [
           {
            "aaxis": {
             "endlinecolor": "#2a3f5f",
             "gridcolor": "white",
             "linecolor": "white",
             "minorgridcolor": "white",
             "startlinecolor": "#2a3f5f"
            },
            "baxis": {
             "endlinecolor": "#2a3f5f",
             "gridcolor": "white",
             "linecolor": "white",
             "minorgridcolor": "white",
             "startlinecolor": "#2a3f5f"
            },
            "type": "carpet"
           }
          ],
          "choropleth": [
           {
            "colorbar": {
             "outlinewidth": 0,
             "ticks": ""
            },
            "type": "choropleth"
           }
          ],
          "contour": [
           {
            "colorbar": {
             "outlinewidth": 0,
             "ticks": ""
            },
            "colorscale": [
             [
              0,
              "#0d0887"
             ],
             [
              0.1111111111111111,
              "#46039f"
             ],
             [
              0.2222222222222222,
              "#7201a8"
             ],
             [
              0.3333333333333333,
              "#9c179e"
             ],
             [
              0.4444444444444444,
              "#bd3786"
             ],
             [
              0.5555555555555556,
              "#d8576b"
             ],
             [
              0.6666666666666666,
              "#ed7953"
             ],
             [
              0.7777777777777778,
              "#fb9f3a"
             ],
             [
              0.8888888888888888,
              "#fdca26"
             ],
             [
              1,
              "#f0f921"
             ]
            ],
            "type": "contour"
           }
          ],
          "contourcarpet": [
           {
            "colorbar": {
             "outlinewidth": 0,
             "ticks": ""
            },
            "type": "contourcarpet"
           }
          ],
          "heatmap": [
           {
            "colorbar": {
             "outlinewidth": 0,
             "ticks": ""
            },
            "colorscale": [
             [
              0,
              "#0d0887"
             ],
             [
              0.1111111111111111,
              "#46039f"
             ],
             [
              0.2222222222222222,
              "#7201a8"
             ],
             [
              0.3333333333333333,
              "#9c179e"
             ],
             [
              0.4444444444444444,
              "#bd3786"
             ],
             [
              0.5555555555555556,
              "#d8576b"
             ],
             [
              0.6666666666666666,
              "#ed7953"
             ],
             [
              0.7777777777777778,
              "#fb9f3a"
             ],
             [
              0.8888888888888888,
              "#fdca26"
             ],
             [
              1,
              "#f0f921"
             ]
            ],
            "type": "heatmap"
           }
          ],
          "heatmapgl": [
           {
            "colorbar": {
             "outlinewidth": 0,
             "ticks": ""
            },
            "colorscale": [
             [
              0,
              "#0d0887"
             ],
             [
              0.1111111111111111,
              "#46039f"
             ],
             [
              0.2222222222222222,
              "#7201a8"
             ],
             [
              0.3333333333333333,
              "#9c179e"
             ],
             [
              0.4444444444444444,
              "#bd3786"
             ],
             [
              0.5555555555555556,
              "#d8576b"
             ],
             [
              0.6666666666666666,
              "#ed7953"
             ],
             [
              0.7777777777777778,
              "#fb9f3a"
             ],
             [
              0.8888888888888888,
              "#fdca26"
             ],
             [
              1,
              "#f0f921"
             ]
            ],
            "type": "heatmapgl"
           }
          ],
          "histogram": [
           {
            "marker": {
             "pattern": {
              "fillmode": "overlay",
              "size": 10,
              "solidity": 0.2
             }
            },
            "type": "histogram"
           }
          ],
          "histogram2d": [
           {
            "colorbar": {
             "outlinewidth": 0,
             "ticks": ""
            },
            "colorscale": [
             [
              0,
              "#0d0887"
             ],
             [
              0.1111111111111111,
              "#46039f"
             ],
             [
              0.2222222222222222,
              "#7201a8"
             ],
             [
              0.3333333333333333,
              "#9c179e"
             ],
             [
              0.4444444444444444,
              "#bd3786"
             ],
             [
              0.5555555555555556,
              "#d8576b"
             ],
             [
              0.6666666666666666,
              "#ed7953"
             ],
             [
              0.7777777777777778,
              "#fb9f3a"
             ],
             [
              0.8888888888888888,
              "#fdca26"
             ],
             [
              1,
              "#f0f921"
             ]
            ],
            "type": "histogram2d"
           }
          ],
          "histogram2dcontour": [
           {
            "colorbar": {
             "outlinewidth": 0,
             "ticks": ""
            },
            "colorscale": [
             [
              0,
              "#0d0887"
             ],
             [
              0.1111111111111111,
              "#46039f"
             ],
             [
              0.2222222222222222,
              "#7201a8"
             ],
             [
              0.3333333333333333,
              "#9c179e"
             ],
             [
              0.4444444444444444,
              "#bd3786"
             ],
             [
              0.5555555555555556,
              "#d8576b"
             ],
             [
              0.6666666666666666,
              "#ed7953"
             ],
             [
              0.7777777777777778,
              "#fb9f3a"
             ],
             [
              0.8888888888888888,
              "#fdca26"
             ],
             [
              1,
              "#f0f921"
             ]
            ],
            "type": "histogram2dcontour"
           }
          ],
          "mesh3d": [
           {
            "colorbar": {
             "outlinewidth": 0,
             "ticks": ""
            },
            "type": "mesh3d"
           }
          ],
          "parcoords": [
           {
            "line": {
             "colorbar": {
              "outlinewidth": 0,
              "ticks": ""
             }
            },
            "type": "parcoords"
           }
          ],
          "pie": [
           {
            "automargin": true,
            "type": "pie"
           }
          ],
          "scatter": [
           {
            "marker": {
             "colorbar": {
              "outlinewidth": 0,
              "ticks": ""
             }
            },
            "type": "scatter"
           }
          ],
          "scatter3d": [
           {
            "line": {
             "colorbar": {
              "outlinewidth": 0,
              "ticks": ""
             }
            },
            "marker": {
             "colorbar": {
              "outlinewidth": 0,
              "ticks": ""
             }
            },
            "type": "scatter3d"
           }
          ],
          "scattercarpet": [
           {
            "marker": {
             "colorbar": {
              "outlinewidth": 0,
              "ticks": ""
             }
            },
            "type": "scattercarpet"
           }
          ],
          "scattergeo": [
           {
            "marker": {
             "colorbar": {
              "outlinewidth": 0,
              "ticks": ""
             }
            },
            "type": "scattergeo"
           }
          ],
          "scattergl": [
           {
            "marker": {
             "colorbar": {
              "outlinewidth": 0,
              "ticks": ""
             }
            },
            "type": "scattergl"
           }
          ],
          "scattermapbox": [
           {
            "marker": {
             "colorbar": {
              "outlinewidth": 0,
              "ticks": ""
             }
            },
            "type": "scattermapbox"
           }
          ],
          "scatterpolar": [
           {
            "marker": {
             "colorbar": {
              "outlinewidth": 0,
              "ticks": ""
             }
            },
            "type": "scatterpolar"
           }
          ],
          "scatterpolargl": [
           {
            "marker": {
             "colorbar": {
              "outlinewidth": 0,
              "ticks": ""
             }
            },
            "type": "scatterpolargl"
           }
          ],
          "scatterternary": [
           {
            "marker": {
             "colorbar": {
              "outlinewidth": 0,
              "ticks": ""
             }
            },
            "type": "scatterternary"
           }
          ],
          "surface": [
           {
            "colorbar": {
             "outlinewidth": 0,
             "ticks": ""
            },
            "colorscale": [
             [
              0,
              "#0d0887"
             ],
             [
              0.1111111111111111,
              "#46039f"
             ],
             [
              0.2222222222222222,
              "#7201a8"
             ],
             [
              0.3333333333333333,
              "#9c179e"
             ],
             [
              0.4444444444444444,
              "#bd3786"
             ],
             [
              0.5555555555555556,
              "#d8576b"
             ],
             [
              0.6666666666666666,
              "#ed7953"
             ],
             [
              0.7777777777777778,
              "#fb9f3a"
             ],
             [
              0.8888888888888888,
              "#fdca26"
             ],
             [
              1,
              "#f0f921"
             ]
            ],
            "type": "surface"
           }
          ],
          "table": [
           {
            "cells": {
             "fill": {
              "color": "#EBF0F8"
             },
             "line": {
              "color": "white"
             }
            },
            "header": {
             "fill": {
              "color": "#C8D4E3"
             },
             "line": {
              "color": "white"
             }
            },
            "type": "table"
           }
          ]
         },
         "layout": {
          "annotationdefaults": {
           "arrowcolor": "#2a3f5f",
           "arrowhead": 0,
           "arrowwidth": 1
          },
          "autotypenumbers": "strict",
          "coloraxis": {
           "colorbar": {
            "outlinewidth": 0,
            "ticks": ""
           }
          },
          "colorscale": {
           "diverging": [
            [
             0,
             "#8e0152"
            ],
            [
             0.1,
             "#c51b7d"
            ],
            [
             0.2,
             "#de77ae"
            ],
            [
             0.3,
             "#f1b6da"
            ],
            [
             0.4,
             "#fde0ef"
            ],
            [
             0.5,
             "#f7f7f7"
            ],
            [
             0.6,
             "#e6f5d0"
            ],
            [
             0.7,
             "#b8e186"
            ],
            [
             0.8,
             "#7fbc41"
            ],
            [
             0.9,
             "#4d9221"
            ],
            [
             1,
             "#276419"
            ]
           ],
           "sequential": [
            [
             0,
             "#0d0887"
            ],
            [
             0.1111111111111111,
             "#46039f"
            ],
            [
             0.2222222222222222,
             "#7201a8"
            ],
            [
             0.3333333333333333,
             "#9c179e"
            ],
            [
             0.4444444444444444,
             "#bd3786"
            ],
            [
             0.5555555555555556,
             "#d8576b"
            ],
            [
             0.6666666666666666,
             "#ed7953"
            ],
            [
             0.7777777777777778,
             "#fb9f3a"
            ],
            [
             0.8888888888888888,
             "#fdca26"
            ],
            [
             1,
             "#f0f921"
            ]
           ],
           "sequentialminus": [
            [
             0,
             "#0d0887"
            ],
            [
             0.1111111111111111,
             "#46039f"
            ],
            [
             0.2222222222222222,
             "#7201a8"
            ],
            [
             0.3333333333333333,
             "#9c179e"
            ],
            [
             0.4444444444444444,
             "#bd3786"
            ],
            [
             0.5555555555555556,
             "#d8576b"
            ],
            [
             0.6666666666666666,
             "#ed7953"
            ],
            [
             0.7777777777777778,
             "#fb9f3a"
            ],
            [
             0.8888888888888888,
             "#fdca26"
            ],
            [
             1,
             "#f0f921"
            ]
           ]
          },
          "colorway": [
           "#636efa",
           "#EF553B",
           "#00cc96",
           "#ab63fa",
           "#FFA15A",
           "#19d3f3",
           "#FF6692",
           "#B6E880",
           "#FF97FF",
           "#FECB52"
          ],
          "font": {
           "color": "#2a3f5f"
          },
          "geo": {
           "bgcolor": "white",
           "lakecolor": "white",
           "landcolor": "#E5ECF6",
           "showlakes": true,
           "showland": true,
           "subunitcolor": "white"
          },
          "hoverlabel": {
           "align": "left"
          },
          "hovermode": "closest",
          "mapbox": {
           "style": "light"
          },
          "paper_bgcolor": "white",
          "plot_bgcolor": "#E5ECF6",
          "polar": {
           "angularaxis": {
            "gridcolor": "white",
            "linecolor": "white",
            "ticks": ""
           },
           "bgcolor": "#E5ECF6",
           "radialaxis": {
            "gridcolor": "white",
            "linecolor": "white",
            "ticks": ""
           }
          },
          "scene": {
           "xaxis": {
            "backgroundcolor": "#E5ECF6",
            "gridcolor": "white",
            "gridwidth": 2,
            "linecolor": "white",
            "showbackground": true,
            "ticks": "",
            "zerolinecolor": "white"
           },
           "yaxis": {
            "backgroundcolor": "#E5ECF6",
            "gridcolor": "white",
            "gridwidth": 2,
            "linecolor": "white",
            "showbackground": true,
            "ticks": "",
            "zerolinecolor": "white"
           },
           "zaxis": {
            "backgroundcolor": "#E5ECF6",
            "gridcolor": "white",
            "gridwidth": 2,
            "linecolor": "white",
            "showbackground": true,
            "ticks": "",
            "zerolinecolor": "white"
           }
          },
          "shapedefaults": {
           "line": {
            "color": "#2a3f5f"
           }
          },
          "ternary": {
           "aaxis": {
            "gridcolor": "white",
            "linecolor": "white",
            "ticks": ""
           },
           "baxis": {
            "gridcolor": "white",
            "linecolor": "white",
            "ticks": ""
           },
           "bgcolor": "#E5ECF6",
           "caxis": {
            "gridcolor": "white",
            "linecolor": "white",
            "ticks": ""
           }
          },
          "title": {
           "x": 0.05
          },
          "xaxis": {
           "automargin": true,
           "gridcolor": "white",
           "linecolor": "white",
           "ticks": "",
           "title": {
            "standoff": 15
           },
           "zerolinecolor": "white",
           "zerolinewidth": 2
          },
          "yaxis": {
           "automargin": true,
           "gridcolor": "white",
           "linecolor": "white",
           "ticks": "",
           "title": {
            "standoff": 15
           },
           "zerolinecolor": "white",
           "zerolinewidth": 2
          }
         }
        }
       }
      },
      "text/html": [
       "<div>                            <div id=\"e12c749b-dab8-4174-8cbe-4e212d8060dd\" class=\"plotly-graph-div\" style=\"height:525px; width:100%;\"></div>            <script type=\"text/javascript\">                require([\"plotly\"], function(Plotly) {                    window.PLOTLYENV=window.PLOTLYENV || {};                                    if (document.getElementById(\"e12c749b-dab8-4174-8cbe-4e212d8060dd\")) {                    Plotly.newPlot(                        \"e12c749b-dab8-4174-8cbe-4e212d8060dd\",                        [{\"line\":{\"color\":\"rgb(100, 100, 255)\"},\"marker\":{\"color\":\"rgb(100, 100, 255)\",\"size\":2},\"mode\":\"lines+markers+text\",\"x\":[-0.5,-0.5],\"y\":[-0.5,-0.5],\"z\":[-0.5,0.5],\"type\":\"scatter3d\"},{\"line\":{\"color\":\"rgb(0, 0, 0)\"},\"marker\":{\"color\":\"rgb(0, 0, 0)\",\"size\":2},\"mode\":\"lines+markers+text\",\"x\":[-0.5,-0.5],\"y\":[-0.5,0.5],\"z\":[0.5,0.5],\"type\":\"scatter3d\"},{\"line\":{\"color\":\"rgb(0, 0, 0)\"},\"marker\":{\"color\":\"rgb(0, 0, 0)\",\"size\":2},\"mode\":\"lines+markers+text\",\"x\":[-0.5,-0.5],\"y\":[0.5,0.5],\"z\":[0.5,-0.5],\"type\":\"scatter3d\"},{\"line\":{\"color\":\"rgb(100, 255, 100)\"},\"marker\":{\"color\":\"rgb(100, 255, 100)\",\"size\":2},\"mode\":\"lines+markers+text\",\"x\":[-0.5,-0.5],\"y\":[0.5,-0.5],\"z\":[-0.5,-0.5],\"type\":\"scatter3d\"},{\"line\":{\"color\":\"rgb(255, 100, 100)\"},\"marker\":{\"color\":\"rgb(255, 100, 100)\",\"size\":2},\"mode\":\"lines+markers+text\",\"x\":[-0.5,0.5],\"y\":[-0.5,-0.5],\"z\":[-0.5,-0.5],\"type\":\"scatter3d\"},{\"line\":{\"color\":\"rgb(0, 0, 0)\"},\"marker\":{\"color\":\"rgb(0, 0, 0)\",\"size\":2},\"mode\":\"lines+markers+text\",\"x\":[0.5,0.5],\"y\":[-0.5,-0.5],\"z\":[-0.5,0.5],\"type\":\"scatter3d\"},{\"line\":{\"color\":\"rgb(0, 0, 0)\"},\"marker\":{\"color\":\"rgb(0, 0, 0)\",\"size\":2},\"mode\":\"lines+markers+text\",\"x\":[0.5,-0.5],\"y\":[-0.5,-0.5],\"z\":[0.5,0.5],\"type\":\"scatter3d\"},{\"line\":{\"color\":\"rgb(0, 0, 0)\"},\"marker\":{\"color\":\"rgb(0, 0, 0)\",\"size\":2},\"mode\":\"lines+markers+text\",\"x\":[-0.5,0.5],\"y\":[-0.5,-0.5],\"z\":[0.5,0.5],\"type\":\"scatter3d\"},{\"line\":{\"color\":\"rgb(0, 0, 0)\"},\"marker\":{\"color\":\"rgb(0, 0, 0)\",\"size\":2},\"mode\":\"lines+markers+text\",\"x\":[0.5,0.5],\"y\":[-0.5,0.5],\"z\":[0.5,0.5],\"type\":\"scatter3d\"},{\"line\":{\"color\":\"rgb(0, 0, 0)\"},\"marker\":{\"color\":\"rgb(0, 0, 0)\",\"size\":2},\"mode\":\"lines+markers+text\",\"x\":[0.5,-0.5],\"y\":[0.5,0.5],\"z\":[0.5,0.5],\"type\":\"scatter3d\"},{\"line\":{\"color\":\"rgb(0, 0, 0)\"},\"marker\":{\"color\":\"rgb(0, 0, 0)\",\"size\":2},\"mode\":\"lines+markers+text\",\"x\":[-0.5,0.5],\"y\":[0.5,0.5],\"z\":[0.5,0.5],\"type\":\"scatter3d\"},{\"line\":{\"color\":\"rgb(0, 0, 0)\"},\"marker\":{\"color\":\"rgb(0, 0, 0)\",\"size\":2},\"mode\":\"lines+markers+text\",\"x\":[0.5,0.5],\"y\":[0.5,0.5],\"z\":[0.5,-0.5],\"type\":\"scatter3d\"},{\"line\":{\"color\":\"rgb(0, 0, 0)\"},\"marker\":{\"color\":\"rgb(0, 0, 0)\",\"size\":2},\"mode\":\"lines+markers+text\",\"x\":[0.5,-0.5],\"y\":[0.5,0.5],\"z\":[-0.5,-0.5],\"type\":\"scatter3d\"},{\"line\":{\"color\":\"rgb(0, 0, 0)\"},\"marker\":{\"color\":\"rgb(0, 0, 0)\",\"size\":2},\"mode\":\"lines+markers+text\",\"x\":[-0.5,0.5],\"y\":[0.5,0.5],\"z\":[-0.5,-0.5],\"type\":\"scatter3d\"},{\"line\":{\"color\":\"rgb(0, 0, 0)\"},\"marker\":{\"color\":\"rgb(0, 0, 0)\",\"size\":2},\"mode\":\"lines+markers+text\",\"x\":[0.5,0.5],\"y\":[0.5,-0.5],\"z\":[-0.5,-0.5],\"type\":\"scatter3d\"}],                        {\"scene\":{\"camera\":{\"eye\":{\"x\":-1,\"y\":-1,\"z\":1}}},\"template\":{\"data\":{\"bar\":[{\"error_x\":{\"color\":\"#2a3f5f\"},\"error_y\":{\"color\":\"#2a3f5f\"},\"marker\":{\"line\":{\"color\":\"#E5ECF6\",\"width\":0.5},\"pattern\":{\"fillmode\":\"overlay\",\"size\":10,\"solidity\":0.2}},\"type\":\"bar\"}],\"barpolar\":[{\"marker\":{\"line\":{\"color\":\"#E5ECF6\",\"width\":0.5},\"pattern\":{\"fillmode\":\"overlay\",\"size\":10,\"solidity\":0.2}},\"type\":\"barpolar\"}],\"carpet\":[{\"aaxis\":{\"endlinecolor\":\"#2a3f5f\",\"gridcolor\":\"white\",\"linecolor\":\"white\",\"minorgridcolor\":\"white\",\"startlinecolor\":\"#2a3f5f\"},\"baxis\":{\"endlinecolor\":\"#2a3f5f\",\"gridcolor\":\"white\",\"linecolor\":\"white\",\"minorgridcolor\":\"white\",\"startlinecolor\":\"#2a3f5f\"},\"type\":\"carpet\"}],\"choropleth\":[{\"colorbar\":{\"outlinewidth\":0,\"ticks\":\"\"},\"type\":\"choropleth\"}],\"contour\":[{\"colorbar\":{\"outlinewidth\":0,\"ticks\":\"\"},\"colorscale\":[[0.0,\"#0d0887\"],[0.1111111111111111,\"#46039f\"],[0.2222222222222222,\"#7201a8\"],[0.3333333333333333,\"#9c179e\"],[0.4444444444444444,\"#bd3786\"],[0.5555555555555556,\"#d8576b\"],[0.6666666666666666,\"#ed7953\"],[0.7777777777777778,\"#fb9f3a\"],[0.8888888888888888,\"#fdca26\"],[1.0,\"#f0f921\"]],\"type\":\"contour\"}],\"contourcarpet\":[{\"colorbar\":{\"outlinewidth\":0,\"ticks\":\"\"},\"type\":\"contourcarpet\"}],\"heatmap\":[{\"colorbar\":{\"outlinewidth\":0,\"ticks\":\"\"},\"colorscale\":[[0.0,\"#0d0887\"],[0.1111111111111111,\"#46039f\"],[0.2222222222222222,\"#7201a8\"],[0.3333333333333333,\"#9c179e\"],[0.4444444444444444,\"#bd3786\"],[0.5555555555555556,\"#d8576b\"],[0.6666666666666666,\"#ed7953\"],[0.7777777777777778,\"#fb9f3a\"],[0.8888888888888888,\"#fdca26\"],[1.0,\"#f0f921\"]],\"type\":\"heatmap\"}],\"heatmapgl\":[{\"colorbar\":{\"outlinewidth\":0,\"ticks\":\"\"},\"colorscale\":[[0.0,\"#0d0887\"],[0.1111111111111111,\"#46039f\"],[0.2222222222222222,\"#7201a8\"],[0.3333333333333333,\"#9c179e\"],[0.4444444444444444,\"#bd3786\"],[0.5555555555555556,\"#d8576b\"],[0.6666666666666666,\"#ed7953\"],[0.7777777777777778,\"#fb9f3a\"],[0.8888888888888888,\"#fdca26\"],[1.0,\"#f0f921\"]],\"type\":\"heatmapgl\"}],\"histogram\":[{\"marker\":{\"pattern\":{\"fillmode\":\"overlay\",\"size\":10,\"solidity\":0.2}},\"type\":\"histogram\"}],\"histogram2d\":[{\"colorbar\":{\"outlinewidth\":0,\"ticks\":\"\"},\"colorscale\":[[0.0,\"#0d0887\"],[0.1111111111111111,\"#46039f\"],[0.2222222222222222,\"#7201a8\"],[0.3333333333333333,\"#9c179e\"],[0.4444444444444444,\"#bd3786\"],[0.5555555555555556,\"#d8576b\"],[0.6666666666666666,\"#ed7953\"],[0.7777777777777778,\"#fb9f3a\"],[0.8888888888888888,\"#fdca26\"],[1.0,\"#f0f921\"]],\"type\":\"histogram2d\"}],\"histogram2dcontour\":[{\"colorbar\":{\"outlinewidth\":0,\"ticks\":\"\"},\"colorscale\":[[0.0,\"#0d0887\"],[0.1111111111111111,\"#46039f\"],[0.2222222222222222,\"#7201a8\"],[0.3333333333333333,\"#9c179e\"],[0.4444444444444444,\"#bd3786\"],[0.5555555555555556,\"#d8576b\"],[0.6666666666666666,\"#ed7953\"],[0.7777777777777778,\"#fb9f3a\"],[0.8888888888888888,\"#fdca26\"],[1.0,\"#f0f921\"]],\"type\":\"histogram2dcontour\"}],\"mesh3d\":[{\"colorbar\":{\"outlinewidth\":0,\"ticks\":\"\"},\"type\":\"mesh3d\"}],\"parcoords\":[{\"line\":{\"colorbar\":{\"outlinewidth\":0,\"ticks\":\"\"}},\"type\":\"parcoords\"}],\"pie\":[{\"automargin\":true,\"type\":\"pie\"}],\"scatter\":[{\"marker\":{\"colorbar\":{\"outlinewidth\":0,\"ticks\":\"\"}},\"type\":\"scatter\"}],\"scatter3d\":[{\"line\":{\"colorbar\":{\"outlinewidth\":0,\"ticks\":\"\"}},\"marker\":{\"colorbar\":{\"outlinewidth\":0,\"ticks\":\"\"}},\"type\":\"scatter3d\"}],\"scattercarpet\":[{\"marker\":{\"colorbar\":{\"outlinewidth\":0,\"ticks\":\"\"}},\"type\":\"scattercarpet\"}],\"scattergeo\":[{\"marker\":{\"colorbar\":{\"outlinewidth\":0,\"ticks\":\"\"}},\"type\":\"scattergeo\"}],\"scattergl\":[{\"marker\":{\"colorbar\":{\"outlinewidth\":0,\"ticks\":\"\"}},\"type\":\"scattergl\"}],\"scattermapbox\":[{\"marker\":{\"colorbar\":{\"outlinewidth\":0,\"ticks\":\"\"}},\"type\":\"scattermapbox\"}],\"scatterpolar\":[{\"marker\":{\"colorbar\":{\"outlinewidth\":0,\"ticks\":\"\"}},\"type\":\"scatterpolar\"}],\"scatterpolargl\":[{\"marker\":{\"colorbar\":{\"outlinewidth\":0,\"ticks\":\"\"}},\"type\":\"scatterpolargl\"}],\"scatterternary\":[{\"marker\":{\"colorbar\":{\"outlinewidth\":0,\"ticks\":\"\"}},\"type\":\"scatterternary\"}],\"surface\":[{\"colorbar\":{\"outlinewidth\":0,\"ticks\":\"\"},\"colorscale\":[[0.0,\"#0d0887\"],[0.1111111111111111,\"#46039f\"],[0.2222222222222222,\"#7201a8\"],[0.3333333333333333,\"#9c179e\"],[0.4444444444444444,\"#bd3786\"],[0.5555555555555556,\"#d8576b\"],[0.6666666666666666,\"#ed7953\"],[0.7777777777777778,\"#fb9f3a\"],[0.8888888888888888,\"#fdca26\"],[1.0,\"#f0f921\"]],\"type\":\"surface\"}],\"table\":[{\"cells\":{\"fill\":{\"color\":\"#EBF0F8\"},\"line\":{\"color\":\"white\"}},\"header\":{\"fill\":{\"color\":\"#C8D4E3\"},\"line\":{\"color\":\"white\"}},\"type\":\"table\"}]},\"layout\":{\"annotationdefaults\":{\"arrowcolor\":\"#2a3f5f\",\"arrowhead\":0,\"arrowwidth\":1},\"autotypenumbers\":\"strict\",\"coloraxis\":{\"colorbar\":{\"outlinewidth\":0,\"ticks\":\"\"}},\"colorscale\":{\"diverging\":[[0,\"#8e0152\"],[0.1,\"#c51b7d\"],[0.2,\"#de77ae\"],[0.3,\"#f1b6da\"],[0.4,\"#fde0ef\"],[0.5,\"#f7f7f7\"],[0.6,\"#e6f5d0\"],[0.7,\"#b8e186\"],[0.8,\"#7fbc41\"],[0.9,\"#4d9221\"],[1,\"#276419\"]],\"sequential\":[[0.0,\"#0d0887\"],[0.1111111111111111,\"#46039f\"],[0.2222222222222222,\"#7201a8\"],[0.3333333333333333,\"#9c179e\"],[0.4444444444444444,\"#bd3786\"],[0.5555555555555556,\"#d8576b\"],[0.6666666666666666,\"#ed7953\"],[0.7777777777777778,\"#fb9f3a\"],[0.8888888888888888,\"#fdca26\"],[1.0,\"#f0f921\"]],\"sequentialminus\":[[0.0,\"#0d0887\"],[0.1111111111111111,\"#46039f\"],[0.2222222222222222,\"#7201a8\"],[0.3333333333333333,\"#9c179e\"],[0.4444444444444444,\"#bd3786\"],[0.5555555555555556,\"#d8576b\"],[0.6666666666666666,\"#ed7953\"],[0.7777777777777778,\"#fb9f3a\"],[0.8888888888888888,\"#fdca26\"],[1.0,\"#f0f921\"]]},\"colorway\":[\"#636efa\",\"#EF553B\",\"#00cc96\",\"#ab63fa\",\"#FFA15A\",\"#19d3f3\",\"#FF6692\",\"#B6E880\",\"#FF97FF\",\"#FECB52\"],\"font\":{\"color\":\"#2a3f5f\"},\"geo\":{\"bgcolor\":\"white\",\"lakecolor\":\"white\",\"landcolor\":\"#E5ECF6\",\"showlakes\":true,\"showland\":true,\"subunitcolor\":\"white\"},\"hoverlabel\":{\"align\":\"left\"},\"hovermode\":\"closest\",\"mapbox\":{\"style\":\"light\"},\"paper_bgcolor\":\"white\",\"plot_bgcolor\":\"#E5ECF6\",\"polar\":{\"angularaxis\":{\"gridcolor\":\"white\",\"linecolor\":\"white\",\"ticks\":\"\"},\"bgcolor\":\"#E5ECF6\",\"radialaxis\":{\"gridcolor\":\"white\",\"linecolor\":\"white\",\"ticks\":\"\"}},\"scene\":{\"xaxis\":{\"backgroundcolor\":\"#E5ECF6\",\"gridcolor\":\"white\",\"gridwidth\":2,\"linecolor\":\"white\",\"showbackground\":true,\"ticks\":\"\",\"zerolinecolor\":\"white\"},\"yaxis\":{\"backgroundcolor\":\"#E5ECF6\",\"gridcolor\":\"white\",\"gridwidth\":2,\"linecolor\":\"white\",\"showbackground\":true,\"ticks\":\"\",\"zerolinecolor\":\"white\"},\"zaxis\":{\"backgroundcolor\":\"#E5ECF6\",\"gridcolor\":\"white\",\"gridwidth\":2,\"linecolor\":\"white\",\"showbackground\":true,\"ticks\":\"\",\"zerolinecolor\":\"white\"}},\"shapedefaults\":{\"line\":{\"color\":\"#2a3f5f\"}},\"ternary\":{\"aaxis\":{\"gridcolor\":\"white\",\"linecolor\":\"white\",\"ticks\":\"\"},\"baxis\":{\"gridcolor\":\"white\",\"linecolor\":\"white\",\"ticks\":\"\"},\"bgcolor\":\"#E5ECF6\",\"caxis\":{\"gridcolor\":\"white\",\"linecolor\":\"white\",\"ticks\":\"\"}},\"title\":{\"x\":0.05},\"xaxis\":{\"automargin\":true,\"gridcolor\":\"white\",\"linecolor\":\"white\",\"ticks\":\"\",\"title\":{\"standoff\":15},\"zerolinecolor\":\"white\",\"zerolinewidth\":2},\"yaxis\":{\"automargin\":true,\"gridcolor\":\"white\",\"linecolor\":\"white\",\"ticks\":\"\",\"title\":{\"standoff\":15},\"zerolinecolor\":\"white\",\"zerolinewidth\":2}}}},                        {\"responsive\": true}                    ).then(function(){\n",
       "                            \n",
       "var gd = document.getElementById('e12c749b-dab8-4174-8cbe-4e212d8060dd');\n",
       "var x = new MutationObserver(function (mutations, observer) {{\n",
       "        var display = window.getComputedStyle(gd).display;\n",
       "        if (!display || display === 'none') {{\n",
       "            console.log([gd, 'removed!']);\n",
       "            Plotly.purge(gd);\n",
       "            observer.disconnect();\n",
       "        }}\n",
       "}});\n",
       "\n",
       "// Listen for the removal of the full notebook cells\n",
       "var notebookContainer = gd.closest('#notebook-container');\n",
       "if (notebookContainer) {{\n",
       "    x.observe(notebookContainer, {childList: true});\n",
       "}}\n",
       "\n",
       "// Listen for the clearing of the current output cell\n",
       "var outputEl = gd.closest('.output');\n",
       "if (outputEl) {{\n",
       "    x.observe(outputEl, {childList: true});\n",
       "}}\n",
       "\n",
       "                        })                };                });            </script>        </div>"
      ]
     },
     "metadata": {},
     "output_type": "display_data"
    },
    {
     "data": {
      "application/vnd.plotly.v1+json": {
       "config": {
        "plotlyServerURL": "https://plot.ly"
       },
       "data": [
        {
         "line": {
          "color": "rgb(100, 100, 255)"
         },
         "marker": {
          "color": "rgb(100, 100, 255)",
          "size": 2
         },
         "mode": "lines+markers+text",
         "type": "scatter3d",
         "x": [
          0.49999999999999994,
          0.5000000000000001
         ],
         "y": [
          -0.5,
          -0.5
         ],
         "z": [
          0.5000000000000001,
          -0.49999999999999994
         ]
        },
        {
         "line": {
          "color": "rgb(0, 0, 0)"
         },
         "marker": {
          "color": "rgb(0, 0, 0)",
          "size": 2
         },
         "mode": "lines+markers+text",
         "type": "scatter3d",
         "x": [
          0.5000000000000001,
          0.5000000000000001
         ],
         "y": [
          -0.5,
          0.5
         ],
         "z": [
          -0.49999999999999994,
          -0.49999999999999994
         ]
        },
        {
         "line": {
          "color": "rgb(0, 0, 0)"
         },
         "marker": {
          "color": "rgb(0, 0, 0)",
          "size": 2
         },
         "mode": "lines+markers+text",
         "type": "scatter3d",
         "x": [
          0.5000000000000001,
          0.49999999999999994
         ],
         "y": [
          0.5,
          0.5
         ],
         "z": [
          -0.49999999999999994,
          0.5000000000000001
         ]
        },
        {
         "line": {
          "color": "rgb(100, 255, 100)"
         },
         "marker": {
          "color": "rgb(100, 255, 100)",
          "size": 2
         },
         "mode": "lines+markers+text",
         "type": "scatter3d",
         "x": [
          0.49999999999999994,
          0.49999999999999994
         ],
         "y": [
          0.5,
          -0.5
         ],
         "z": [
          0.5000000000000001,
          0.5000000000000001
         ]
        },
        {
         "line": {
          "color": "rgb(255, 100, 100)"
         },
         "marker": {
          "color": "rgb(255, 100, 100)",
          "size": 2
         },
         "mode": "lines+markers+text",
         "type": "scatter3d",
         "x": [
          0.49999999999999994,
          -0.5000000000000001
         ],
         "y": [
          -0.5,
          -0.5
         ],
         "z": [
          0.5000000000000001,
          0.49999999999999994
         ]
        },
        {
         "line": {
          "color": "rgb(0, 0, 0)"
         },
         "marker": {
          "color": "rgb(0, 0, 0)",
          "size": 2
         },
         "mode": "lines+markers+text",
         "type": "scatter3d",
         "x": [
          -0.5000000000000001,
          -0.49999999999999994
         ],
         "y": [
          -0.5,
          -0.5
         ],
         "z": [
          0.49999999999999994,
          -0.5000000000000001
         ]
        },
        {
         "line": {
          "color": "rgb(0, 0, 0)"
         },
         "marker": {
          "color": "rgb(0, 0, 0)",
          "size": 2
         },
         "mode": "lines+markers+text",
         "type": "scatter3d",
         "x": [
          -0.49999999999999994,
          0.5000000000000001
         ],
         "y": [
          -0.5,
          -0.5
         ],
         "z": [
          -0.5000000000000001,
          -0.49999999999999994
         ]
        },
        {
         "line": {
          "color": "rgb(0, 0, 0)"
         },
         "marker": {
          "color": "rgb(0, 0, 0)",
          "size": 2
         },
         "mode": "lines+markers+text",
         "type": "scatter3d",
         "x": [
          0.5000000000000001,
          -0.49999999999999994
         ],
         "y": [
          -0.5,
          -0.5
         ],
         "z": [
          -0.49999999999999994,
          -0.5000000000000001
         ]
        },
        {
         "line": {
          "color": "rgb(0, 0, 0)"
         },
         "marker": {
          "color": "rgb(0, 0, 0)",
          "size": 2
         },
         "mode": "lines+markers+text",
         "type": "scatter3d",
         "x": [
          -0.49999999999999994,
          -0.49999999999999994
         ],
         "y": [
          -0.5,
          0.5
         ],
         "z": [
          -0.5000000000000001,
          -0.5000000000000001
         ]
        },
        {
         "line": {
          "color": "rgb(0, 0, 0)"
         },
         "marker": {
          "color": "rgb(0, 0, 0)",
          "size": 2
         },
         "mode": "lines+markers+text",
         "type": "scatter3d",
         "x": [
          -0.49999999999999994,
          0.5000000000000001
         ],
         "y": [
          0.5,
          0.5
         ],
         "z": [
          -0.5000000000000001,
          -0.49999999999999994
         ]
        },
        {
         "line": {
          "color": "rgb(0, 0, 0)"
         },
         "marker": {
          "color": "rgb(0, 0, 0)",
          "size": 2
         },
         "mode": "lines+markers+text",
         "type": "scatter3d",
         "x": [
          0.5000000000000001,
          -0.49999999999999994
         ],
         "y": [
          0.5,
          0.5
         ],
         "z": [
          -0.49999999999999994,
          -0.5000000000000001
         ]
        },
        {
         "line": {
          "color": "rgb(0, 0, 0)"
         },
         "marker": {
          "color": "rgb(0, 0, 0)",
          "size": 2
         },
         "mode": "lines+markers+text",
         "type": "scatter3d",
         "x": [
          -0.49999999999999994,
          -0.5000000000000001
         ],
         "y": [
          0.5,
          0.5
         ],
         "z": [
          -0.5000000000000001,
          0.49999999999999994
         ]
        },
        {
         "line": {
          "color": "rgb(0, 0, 0)"
         },
         "marker": {
          "color": "rgb(0, 0, 0)",
          "size": 2
         },
         "mode": "lines+markers+text",
         "type": "scatter3d",
         "x": [
          -0.5000000000000001,
          0.49999999999999994
         ],
         "y": [
          0.5,
          0.5
         ],
         "z": [
          0.49999999999999994,
          0.5000000000000001
         ]
        },
        {
         "line": {
          "color": "rgb(0, 0, 0)"
         },
         "marker": {
          "color": "rgb(0, 0, 0)",
          "size": 2
         },
         "mode": "lines+markers+text",
         "type": "scatter3d",
         "x": [
          0.49999999999999994,
          -0.5000000000000001
         ],
         "y": [
          0.5,
          0.5
         ],
         "z": [
          0.5000000000000001,
          0.49999999999999994
         ]
        },
        {
         "line": {
          "color": "rgb(0, 0, 0)"
         },
         "marker": {
          "color": "rgb(0, 0, 0)",
          "size": 2
         },
         "mode": "lines+markers+text",
         "type": "scatter3d",
         "x": [
          -0.5000000000000001,
          -0.5000000000000001
         ],
         "y": [
          0.5,
          -0.5
         ],
         "z": [
          0.49999999999999994,
          0.49999999999999994
         ]
        }
       ],
       "layout": {
        "scene": {
         "camera": {
          "eye": {
           "x": -1,
           "y": -1,
           "z": 1
          }
         }
        },
        "template": {
         "data": {
          "bar": [
           {
            "error_x": {
             "color": "#2a3f5f"
            },
            "error_y": {
             "color": "#2a3f5f"
            },
            "marker": {
             "line": {
              "color": "#E5ECF6",
              "width": 0.5
             },
             "pattern": {
              "fillmode": "overlay",
              "size": 10,
              "solidity": 0.2
             }
            },
            "type": "bar"
           }
          ],
          "barpolar": [
           {
            "marker": {
             "line": {
              "color": "#E5ECF6",
              "width": 0.5
             },
             "pattern": {
              "fillmode": "overlay",
              "size": 10,
              "solidity": 0.2
             }
            },
            "type": "barpolar"
           }
          ],
          "carpet": [
           {
            "aaxis": {
             "endlinecolor": "#2a3f5f",
             "gridcolor": "white",
             "linecolor": "white",
             "minorgridcolor": "white",
             "startlinecolor": "#2a3f5f"
            },
            "baxis": {
             "endlinecolor": "#2a3f5f",
             "gridcolor": "white",
             "linecolor": "white",
             "minorgridcolor": "white",
             "startlinecolor": "#2a3f5f"
            },
            "type": "carpet"
           }
          ],
          "choropleth": [
           {
            "colorbar": {
             "outlinewidth": 0,
             "ticks": ""
            },
            "type": "choropleth"
           }
          ],
          "contour": [
           {
            "colorbar": {
             "outlinewidth": 0,
             "ticks": ""
            },
            "colorscale": [
             [
              0,
              "#0d0887"
             ],
             [
              0.1111111111111111,
              "#46039f"
             ],
             [
              0.2222222222222222,
              "#7201a8"
             ],
             [
              0.3333333333333333,
              "#9c179e"
             ],
             [
              0.4444444444444444,
              "#bd3786"
             ],
             [
              0.5555555555555556,
              "#d8576b"
             ],
             [
              0.6666666666666666,
              "#ed7953"
             ],
             [
              0.7777777777777778,
              "#fb9f3a"
             ],
             [
              0.8888888888888888,
              "#fdca26"
             ],
             [
              1,
              "#f0f921"
             ]
            ],
            "type": "contour"
           }
          ],
          "contourcarpet": [
           {
            "colorbar": {
             "outlinewidth": 0,
             "ticks": ""
            },
            "type": "contourcarpet"
           }
          ],
          "heatmap": [
           {
            "colorbar": {
             "outlinewidth": 0,
             "ticks": ""
            },
            "colorscale": [
             [
              0,
              "#0d0887"
             ],
             [
              0.1111111111111111,
              "#46039f"
             ],
             [
              0.2222222222222222,
              "#7201a8"
             ],
             [
              0.3333333333333333,
              "#9c179e"
             ],
             [
              0.4444444444444444,
              "#bd3786"
             ],
             [
              0.5555555555555556,
              "#d8576b"
             ],
             [
              0.6666666666666666,
              "#ed7953"
             ],
             [
              0.7777777777777778,
              "#fb9f3a"
             ],
             [
              0.8888888888888888,
              "#fdca26"
             ],
             [
              1,
              "#f0f921"
             ]
            ],
            "type": "heatmap"
           }
          ],
          "heatmapgl": [
           {
            "colorbar": {
             "outlinewidth": 0,
             "ticks": ""
            },
            "colorscale": [
             [
              0,
              "#0d0887"
             ],
             [
              0.1111111111111111,
              "#46039f"
             ],
             [
              0.2222222222222222,
              "#7201a8"
             ],
             [
              0.3333333333333333,
              "#9c179e"
             ],
             [
              0.4444444444444444,
              "#bd3786"
             ],
             [
              0.5555555555555556,
              "#d8576b"
             ],
             [
              0.6666666666666666,
              "#ed7953"
             ],
             [
              0.7777777777777778,
              "#fb9f3a"
             ],
             [
              0.8888888888888888,
              "#fdca26"
             ],
             [
              1,
              "#f0f921"
             ]
            ],
            "type": "heatmapgl"
           }
          ],
          "histogram": [
           {
            "marker": {
             "pattern": {
              "fillmode": "overlay",
              "size": 10,
              "solidity": 0.2
             }
            },
            "type": "histogram"
           }
          ],
          "histogram2d": [
           {
            "colorbar": {
             "outlinewidth": 0,
             "ticks": ""
            },
            "colorscale": [
             [
              0,
              "#0d0887"
             ],
             [
              0.1111111111111111,
              "#46039f"
             ],
             [
              0.2222222222222222,
              "#7201a8"
             ],
             [
              0.3333333333333333,
              "#9c179e"
             ],
             [
              0.4444444444444444,
              "#bd3786"
             ],
             [
              0.5555555555555556,
              "#d8576b"
             ],
             [
              0.6666666666666666,
              "#ed7953"
             ],
             [
              0.7777777777777778,
              "#fb9f3a"
             ],
             [
              0.8888888888888888,
              "#fdca26"
             ],
             [
              1,
              "#f0f921"
             ]
            ],
            "type": "histogram2d"
           }
          ],
          "histogram2dcontour": [
           {
            "colorbar": {
             "outlinewidth": 0,
             "ticks": ""
            },
            "colorscale": [
             [
              0,
              "#0d0887"
             ],
             [
              0.1111111111111111,
              "#46039f"
             ],
             [
              0.2222222222222222,
              "#7201a8"
             ],
             [
              0.3333333333333333,
              "#9c179e"
             ],
             [
              0.4444444444444444,
              "#bd3786"
             ],
             [
              0.5555555555555556,
              "#d8576b"
             ],
             [
              0.6666666666666666,
              "#ed7953"
             ],
             [
              0.7777777777777778,
              "#fb9f3a"
             ],
             [
              0.8888888888888888,
              "#fdca26"
             ],
             [
              1,
              "#f0f921"
             ]
            ],
            "type": "histogram2dcontour"
           }
          ],
          "mesh3d": [
           {
            "colorbar": {
             "outlinewidth": 0,
             "ticks": ""
            },
            "type": "mesh3d"
           }
          ],
          "parcoords": [
           {
            "line": {
             "colorbar": {
              "outlinewidth": 0,
              "ticks": ""
             }
            },
            "type": "parcoords"
           }
          ],
          "pie": [
           {
            "automargin": true,
            "type": "pie"
           }
          ],
          "scatter": [
           {
            "marker": {
             "colorbar": {
              "outlinewidth": 0,
              "ticks": ""
             }
            },
            "type": "scatter"
           }
          ],
          "scatter3d": [
           {
            "line": {
             "colorbar": {
              "outlinewidth": 0,
              "ticks": ""
             }
            },
            "marker": {
             "colorbar": {
              "outlinewidth": 0,
              "ticks": ""
             }
            },
            "type": "scatter3d"
           }
          ],
          "scattercarpet": [
           {
            "marker": {
             "colorbar": {
              "outlinewidth": 0,
              "ticks": ""
             }
            },
            "type": "scattercarpet"
           }
          ],
          "scattergeo": [
           {
            "marker": {
             "colorbar": {
              "outlinewidth": 0,
              "ticks": ""
             }
            },
            "type": "scattergeo"
           }
          ],
          "scattergl": [
           {
            "marker": {
             "colorbar": {
              "outlinewidth": 0,
              "ticks": ""
             }
            },
            "type": "scattergl"
           }
          ],
          "scattermapbox": [
           {
            "marker": {
             "colorbar": {
              "outlinewidth": 0,
              "ticks": ""
             }
            },
            "type": "scattermapbox"
           }
          ],
          "scatterpolar": [
           {
            "marker": {
             "colorbar": {
              "outlinewidth": 0,
              "ticks": ""
             }
            },
            "type": "scatterpolar"
           }
          ],
          "scatterpolargl": [
           {
            "marker": {
             "colorbar": {
              "outlinewidth": 0,
              "ticks": ""
             }
            },
            "type": "scatterpolargl"
           }
          ],
          "scatterternary": [
           {
            "marker": {
             "colorbar": {
              "outlinewidth": 0,
              "ticks": ""
             }
            },
            "type": "scatterternary"
           }
          ],
          "surface": [
           {
            "colorbar": {
             "outlinewidth": 0,
             "ticks": ""
            },
            "colorscale": [
             [
              0,
              "#0d0887"
             ],
             [
              0.1111111111111111,
              "#46039f"
             ],
             [
              0.2222222222222222,
              "#7201a8"
             ],
             [
              0.3333333333333333,
              "#9c179e"
             ],
             [
              0.4444444444444444,
              "#bd3786"
             ],
             [
              0.5555555555555556,
              "#d8576b"
             ],
             [
              0.6666666666666666,
              "#ed7953"
             ],
             [
              0.7777777777777778,
              "#fb9f3a"
             ],
             [
              0.8888888888888888,
              "#fdca26"
             ],
             [
              1,
              "#f0f921"
             ]
            ],
            "type": "surface"
           }
          ],
          "table": [
           {
            "cells": {
             "fill": {
              "color": "#EBF0F8"
             },
             "line": {
              "color": "white"
             }
            },
            "header": {
             "fill": {
              "color": "#C8D4E3"
             },
             "line": {
              "color": "white"
             }
            },
            "type": "table"
           }
          ]
         },
         "layout": {
          "annotationdefaults": {
           "arrowcolor": "#2a3f5f",
           "arrowhead": 0,
           "arrowwidth": 1
          },
          "autotypenumbers": "strict",
          "coloraxis": {
           "colorbar": {
            "outlinewidth": 0,
            "ticks": ""
           }
          },
          "colorscale": {
           "diverging": [
            [
             0,
             "#8e0152"
            ],
            [
             0.1,
             "#c51b7d"
            ],
            [
             0.2,
             "#de77ae"
            ],
            [
             0.3,
             "#f1b6da"
            ],
            [
             0.4,
             "#fde0ef"
            ],
            [
             0.5,
             "#f7f7f7"
            ],
            [
             0.6,
             "#e6f5d0"
            ],
            [
             0.7,
             "#b8e186"
            ],
            [
             0.8,
             "#7fbc41"
            ],
            [
             0.9,
             "#4d9221"
            ],
            [
             1,
             "#276419"
            ]
           ],
           "sequential": [
            [
             0,
             "#0d0887"
            ],
            [
             0.1111111111111111,
             "#46039f"
            ],
            [
             0.2222222222222222,
             "#7201a8"
            ],
            [
             0.3333333333333333,
             "#9c179e"
            ],
            [
             0.4444444444444444,
             "#bd3786"
            ],
            [
             0.5555555555555556,
             "#d8576b"
            ],
            [
             0.6666666666666666,
             "#ed7953"
            ],
            [
             0.7777777777777778,
             "#fb9f3a"
            ],
            [
             0.8888888888888888,
             "#fdca26"
            ],
            [
             1,
             "#f0f921"
            ]
           ],
           "sequentialminus": [
            [
             0,
             "#0d0887"
            ],
            [
             0.1111111111111111,
             "#46039f"
            ],
            [
             0.2222222222222222,
             "#7201a8"
            ],
            [
             0.3333333333333333,
             "#9c179e"
            ],
            [
             0.4444444444444444,
             "#bd3786"
            ],
            [
             0.5555555555555556,
             "#d8576b"
            ],
            [
             0.6666666666666666,
             "#ed7953"
            ],
            [
             0.7777777777777778,
             "#fb9f3a"
            ],
            [
             0.8888888888888888,
             "#fdca26"
            ],
            [
             1,
             "#f0f921"
            ]
           ]
          },
          "colorway": [
           "#636efa",
           "#EF553B",
           "#00cc96",
           "#ab63fa",
           "#FFA15A",
           "#19d3f3",
           "#FF6692",
           "#B6E880",
           "#FF97FF",
           "#FECB52"
          ],
          "font": {
           "color": "#2a3f5f"
          },
          "geo": {
           "bgcolor": "white",
           "lakecolor": "white",
           "landcolor": "#E5ECF6",
           "showlakes": true,
           "showland": true,
           "subunitcolor": "white"
          },
          "hoverlabel": {
           "align": "left"
          },
          "hovermode": "closest",
          "mapbox": {
           "style": "light"
          },
          "paper_bgcolor": "white",
          "plot_bgcolor": "#E5ECF6",
          "polar": {
           "angularaxis": {
            "gridcolor": "white",
            "linecolor": "white",
            "ticks": ""
           },
           "bgcolor": "#E5ECF6",
           "radialaxis": {
            "gridcolor": "white",
            "linecolor": "white",
            "ticks": ""
           }
          },
          "scene": {
           "xaxis": {
            "backgroundcolor": "#E5ECF6",
            "gridcolor": "white",
            "gridwidth": 2,
            "linecolor": "white",
            "showbackground": true,
            "ticks": "",
            "zerolinecolor": "white"
           },
           "yaxis": {
            "backgroundcolor": "#E5ECF6",
            "gridcolor": "white",
            "gridwidth": 2,
            "linecolor": "white",
            "showbackground": true,
            "ticks": "",
            "zerolinecolor": "white"
           },
           "zaxis": {
            "backgroundcolor": "#E5ECF6",
            "gridcolor": "white",
            "gridwidth": 2,
            "linecolor": "white",
            "showbackground": true,
            "ticks": "",
            "zerolinecolor": "white"
           }
          },
          "shapedefaults": {
           "line": {
            "color": "#2a3f5f"
           }
          },
          "ternary": {
           "aaxis": {
            "gridcolor": "white",
            "linecolor": "white",
            "ticks": ""
           },
           "baxis": {
            "gridcolor": "white",
            "linecolor": "white",
            "ticks": ""
           },
           "bgcolor": "#E5ECF6",
           "caxis": {
            "gridcolor": "white",
            "linecolor": "white",
            "ticks": ""
           }
          },
          "title": {
           "x": 0.05
          },
          "xaxis": {
           "automargin": true,
           "gridcolor": "white",
           "linecolor": "white",
           "ticks": "",
           "title": {
            "standoff": 15
           },
           "zerolinecolor": "white",
           "zerolinewidth": 2
          },
          "yaxis": {
           "automargin": true,
           "gridcolor": "white",
           "linecolor": "white",
           "ticks": "",
           "title": {
            "standoff": 15
           },
           "zerolinecolor": "white",
           "zerolinewidth": 2
          }
         }
        }
       }
      },
      "text/html": [
       "<div>                            <div id=\"d47fdd3b-67b5-4e25-a4c3-929190ffe448\" class=\"plotly-graph-div\" style=\"height:525px; width:100%;\"></div>            <script type=\"text/javascript\">                require([\"plotly\"], function(Plotly) {                    window.PLOTLYENV=window.PLOTLYENV || {};                                    if (document.getElementById(\"d47fdd3b-67b5-4e25-a4c3-929190ffe448\")) {                    Plotly.newPlot(                        \"d47fdd3b-67b5-4e25-a4c3-929190ffe448\",                        [{\"line\":{\"color\":\"rgb(100, 100, 255)\"},\"marker\":{\"color\":\"rgb(100, 100, 255)\",\"size\":2},\"mode\":\"lines+markers+text\",\"x\":[0.49999999999999994,0.5000000000000001],\"y\":[-0.5,-0.5],\"z\":[0.5000000000000001,-0.49999999999999994],\"type\":\"scatter3d\"},{\"line\":{\"color\":\"rgb(0, 0, 0)\"},\"marker\":{\"color\":\"rgb(0, 0, 0)\",\"size\":2},\"mode\":\"lines+markers+text\",\"x\":[0.5000000000000001,0.5000000000000001],\"y\":[-0.5,0.5],\"z\":[-0.49999999999999994,-0.49999999999999994],\"type\":\"scatter3d\"},{\"line\":{\"color\":\"rgb(0, 0, 0)\"},\"marker\":{\"color\":\"rgb(0, 0, 0)\",\"size\":2},\"mode\":\"lines+markers+text\",\"x\":[0.5000000000000001,0.49999999999999994],\"y\":[0.5,0.5],\"z\":[-0.49999999999999994,0.5000000000000001],\"type\":\"scatter3d\"},{\"line\":{\"color\":\"rgb(100, 255, 100)\"},\"marker\":{\"color\":\"rgb(100, 255, 100)\",\"size\":2},\"mode\":\"lines+markers+text\",\"x\":[0.49999999999999994,0.49999999999999994],\"y\":[0.5,-0.5],\"z\":[0.5000000000000001,0.5000000000000001],\"type\":\"scatter3d\"},{\"line\":{\"color\":\"rgb(255, 100, 100)\"},\"marker\":{\"color\":\"rgb(255, 100, 100)\",\"size\":2},\"mode\":\"lines+markers+text\",\"x\":[0.49999999999999994,-0.5000000000000001],\"y\":[-0.5,-0.5],\"z\":[0.5000000000000001,0.49999999999999994],\"type\":\"scatter3d\"},{\"line\":{\"color\":\"rgb(0, 0, 0)\"},\"marker\":{\"color\":\"rgb(0, 0, 0)\",\"size\":2},\"mode\":\"lines+markers+text\",\"x\":[-0.5000000000000001,-0.49999999999999994],\"y\":[-0.5,-0.5],\"z\":[0.49999999999999994,-0.5000000000000001],\"type\":\"scatter3d\"},{\"line\":{\"color\":\"rgb(0, 0, 0)\"},\"marker\":{\"color\":\"rgb(0, 0, 0)\",\"size\":2},\"mode\":\"lines+markers+text\",\"x\":[-0.49999999999999994,0.5000000000000001],\"y\":[-0.5,-0.5],\"z\":[-0.5000000000000001,-0.49999999999999994],\"type\":\"scatter3d\"},{\"line\":{\"color\":\"rgb(0, 0, 0)\"},\"marker\":{\"color\":\"rgb(0, 0, 0)\",\"size\":2},\"mode\":\"lines+markers+text\",\"x\":[0.5000000000000001,-0.49999999999999994],\"y\":[-0.5,-0.5],\"z\":[-0.49999999999999994,-0.5000000000000001],\"type\":\"scatter3d\"},{\"line\":{\"color\":\"rgb(0, 0, 0)\"},\"marker\":{\"color\":\"rgb(0, 0, 0)\",\"size\":2},\"mode\":\"lines+markers+text\",\"x\":[-0.49999999999999994,-0.49999999999999994],\"y\":[-0.5,0.5],\"z\":[-0.5000000000000001,-0.5000000000000001],\"type\":\"scatter3d\"},{\"line\":{\"color\":\"rgb(0, 0, 0)\"},\"marker\":{\"color\":\"rgb(0, 0, 0)\",\"size\":2},\"mode\":\"lines+markers+text\",\"x\":[-0.49999999999999994,0.5000000000000001],\"y\":[0.5,0.5],\"z\":[-0.5000000000000001,-0.49999999999999994],\"type\":\"scatter3d\"},{\"line\":{\"color\":\"rgb(0, 0, 0)\"},\"marker\":{\"color\":\"rgb(0, 0, 0)\",\"size\":2},\"mode\":\"lines+markers+text\",\"x\":[0.5000000000000001,-0.49999999999999994],\"y\":[0.5,0.5],\"z\":[-0.49999999999999994,-0.5000000000000001],\"type\":\"scatter3d\"},{\"line\":{\"color\":\"rgb(0, 0, 0)\"},\"marker\":{\"color\":\"rgb(0, 0, 0)\",\"size\":2},\"mode\":\"lines+markers+text\",\"x\":[-0.49999999999999994,-0.5000000000000001],\"y\":[0.5,0.5],\"z\":[-0.5000000000000001,0.49999999999999994],\"type\":\"scatter3d\"},{\"line\":{\"color\":\"rgb(0, 0, 0)\"},\"marker\":{\"color\":\"rgb(0, 0, 0)\",\"size\":2},\"mode\":\"lines+markers+text\",\"x\":[-0.5000000000000001,0.49999999999999994],\"y\":[0.5,0.5],\"z\":[0.49999999999999994,0.5000000000000001],\"type\":\"scatter3d\"},{\"line\":{\"color\":\"rgb(0, 0, 0)\"},\"marker\":{\"color\":\"rgb(0, 0, 0)\",\"size\":2},\"mode\":\"lines+markers+text\",\"x\":[0.49999999999999994,-0.5000000000000001],\"y\":[0.5,0.5],\"z\":[0.5000000000000001,0.49999999999999994],\"type\":\"scatter3d\"},{\"line\":{\"color\":\"rgb(0, 0, 0)\"},\"marker\":{\"color\":\"rgb(0, 0, 0)\",\"size\":2},\"mode\":\"lines+markers+text\",\"x\":[-0.5000000000000001,-0.5000000000000001],\"y\":[0.5,-0.5],\"z\":[0.49999999999999994,0.49999999999999994],\"type\":\"scatter3d\"}],                        {\"scene\":{\"camera\":{\"eye\":{\"x\":-1,\"y\":-1,\"z\":1}}},\"template\":{\"data\":{\"bar\":[{\"error_x\":{\"color\":\"#2a3f5f\"},\"error_y\":{\"color\":\"#2a3f5f\"},\"marker\":{\"line\":{\"color\":\"#E5ECF6\",\"width\":0.5},\"pattern\":{\"fillmode\":\"overlay\",\"size\":10,\"solidity\":0.2}},\"type\":\"bar\"}],\"barpolar\":[{\"marker\":{\"line\":{\"color\":\"#E5ECF6\",\"width\":0.5},\"pattern\":{\"fillmode\":\"overlay\",\"size\":10,\"solidity\":0.2}},\"type\":\"barpolar\"}],\"carpet\":[{\"aaxis\":{\"endlinecolor\":\"#2a3f5f\",\"gridcolor\":\"white\",\"linecolor\":\"white\",\"minorgridcolor\":\"white\",\"startlinecolor\":\"#2a3f5f\"},\"baxis\":{\"endlinecolor\":\"#2a3f5f\",\"gridcolor\":\"white\",\"linecolor\":\"white\",\"minorgridcolor\":\"white\",\"startlinecolor\":\"#2a3f5f\"},\"type\":\"carpet\"}],\"choropleth\":[{\"colorbar\":{\"outlinewidth\":0,\"ticks\":\"\"},\"type\":\"choropleth\"}],\"contour\":[{\"colorbar\":{\"outlinewidth\":0,\"ticks\":\"\"},\"colorscale\":[[0.0,\"#0d0887\"],[0.1111111111111111,\"#46039f\"],[0.2222222222222222,\"#7201a8\"],[0.3333333333333333,\"#9c179e\"],[0.4444444444444444,\"#bd3786\"],[0.5555555555555556,\"#d8576b\"],[0.6666666666666666,\"#ed7953\"],[0.7777777777777778,\"#fb9f3a\"],[0.8888888888888888,\"#fdca26\"],[1.0,\"#f0f921\"]],\"type\":\"contour\"}],\"contourcarpet\":[{\"colorbar\":{\"outlinewidth\":0,\"ticks\":\"\"},\"type\":\"contourcarpet\"}],\"heatmap\":[{\"colorbar\":{\"outlinewidth\":0,\"ticks\":\"\"},\"colorscale\":[[0.0,\"#0d0887\"],[0.1111111111111111,\"#46039f\"],[0.2222222222222222,\"#7201a8\"],[0.3333333333333333,\"#9c179e\"],[0.4444444444444444,\"#bd3786\"],[0.5555555555555556,\"#d8576b\"],[0.6666666666666666,\"#ed7953\"],[0.7777777777777778,\"#fb9f3a\"],[0.8888888888888888,\"#fdca26\"],[1.0,\"#f0f921\"]],\"type\":\"heatmap\"}],\"heatmapgl\":[{\"colorbar\":{\"outlinewidth\":0,\"ticks\":\"\"},\"colorscale\":[[0.0,\"#0d0887\"],[0.1111111111111111,\"#46039f\"],[0.2222222222222222,\"#7201a8\"],[0.3333333333333333,\"#9c179e\"],[0.4444444444444444,\"#bd3786\"],[0.5555555555555556,\"#d8576b\"],[0.6666666666666666,\"#ed7953\"],[0.7777777777777778,\"#fb9f3a\"],[0.8888888888888888,\"#fdca26\"],[1.0,\"#f0f921\"]],\"type\":\"heatmapgl\"}],\"histogram\":[{\"marker\":{\"pattern\":{\"fillmode\":\"overlay\",\"size\":10,\"solidity\":0.2}},\"type\":\"histogram\"}],\"histogram2d\":[{\"colorbar\":{\"outlinewidth\":0,\"ticks\":\"\"},\"colorscale\":[[0.0,\"#0d0887\"],[0.1111111111111111,\"#46039f\"],[0.2222222222222222,\"#7201a8\"],[0.3333333333333333,\"#9c179e\"],[0.4444444444444444,\"#bd3786\"],[0.5555555555555556,\"#d8576b\"],[0.6666666666666666,\"#ed7953\"],[0.7777777777777778,\"#fb9f3a\"],[0.8888888888888888,\"#fdca26\"],[1.0,\"#f0f921\"]],\"type\":\"histogram2d\"}],\"histogram2dcontour\":[{\"colorbar\":{\"outlinewidth\":0,\"ticks\":\"\"},\"colorscale\":[[0.0,\"#0d0887\"],[0.1111111111111111,\"#46039f\"],[0.2222222222222222,\"#7201a8\"],[0.3333333333333333,\"#9c179e\"],[0.4444444444444444,\"#bd3786\"],[0.5555555555555556,\"#d8576b\"],[0.6666666666666666,\"#ed7953\"],[0.7777777777777778,\"#fb9f3a\"],[0.8888888888888888,\"#fdca26\"],[1.0,\"#f0f921\"]],\"type\":\"histogram2dcontour\"}],\"mesh3d\":[{\"colorbar\":{\"outlinewidth\":0,\"ticks\":\"\"},\"type\":\"mesh3d\"}],\"parcoords\":[{\"line\":{\"colorbar\":{\"outlinewidth\":0,\"ticks\":\"\"}},\"type\":\"parcoords\"}],\"pie\":[{\"automargin\":true,\"type\":\"pie\"}],\"scatter\":[{\"marker\":{\"colorbar\":{\"outlinewidth\":0,\"ticks\":\"\"}},\"type\":\"scatter\"}],\"scatter3d\":[{\"line\":{\"colorbar\":{\"outlinewidth\":0,\"ticks\":\"\"}},\"marker\":{\"colorbar\":{\"outlinewidth\":0,\"ticks\":\"\"}},\"type\":\"scatter3d\"}],\"scattercarpet\":[{\"marker\":{\"colorbar\":{\"outlinewidth\":0,\"ticks\":\"\"}},\"type\":\"scattercarpet\"}],\"scattergeo\":[{\"marker\":{\"colorbar\":{\"outlinewidth\":0,\"ticks\":\"\"}},\"type\":\"scattergeo\"}],\"scattergl\":[{\"marker\":{\"colorbar\":{\"outlinewidth\":0,\"ticks\":\"\"}},\"type\":\"scattergl\"}],\"scattermapbox\":[{\"marker\":{\"colorbar\":{\"outlinewidth\":0,\"ticks\":\"\"}},\"type\":\"scattermapbox\"}],\"scatterpolar\":[{\"marker\":{\"colorbar\":{\"outlinewidth\":0,\"ticks\":\"\"}},\"type\":\"scatterpolar\"}],\"scatterpolargl\":[{\"marker\":{\"colorbar\":{\"outlinewidth\":0,\"ticks\":\"\"}},\"type\":\"scatterpolargl\"}],\"scatterternary\":[{\"marker\":{\"colorbar\":{\"outlinewidth\":0,\"ticks\":\"\"}},\"type\":\"scatterternary\"}],\"surface\":[{\"colorbar\":{\"outlinewidth\":0,\"ticks\":\"\"},\"colorscale\":[[0.0,\"#0d0887\"],[0.1111111111111111,\"#46039f\"],[0.2222222222222222,\"#7201a8\"],[0.3333333333333333,\"#9c179e\"],[0.4444444444444444,\"#bd3786\"],[0.5555555555555556,\"#d8576b\"],[0.6666666666666666,\"#ed7953\"],[0.7777777777777778,\"#fb9f3a\"],[0.8888888888888888,\"#fdca26\"],[1.0,\"#f0f921\"]],\"type\":\"surface\"}],\"table\":[{\"cells\":{\"fill\":{\"color\":\"#EBF0F8\"},\"line\":{\"color\":\"white\"}},\"header\":{\"fill\":{\"color\":\"#C8D4E3\"},\"line\":{\"color\":\"white\"}},\"type\":\"table\"}]},\"layout\":{\"annotationdefaults\":{\"arrowcolor\":\"#2a3f5f\",\"arrowhead\":0,\"arrowwidth\":1},\"autotypenumbers\":\"strict\",\"coloraxis\":{\"colorbar\":{\"outlinewidth\":0,\"ticks\":\"\"}},\"colorscale\":{\"diverging\":[[0,\"#8e0152\"],[0.1,\"#c51b7d\"],[0.2,\"#de77ae\"],[0.3,\"#f1b6da\"],[0.4,\"#fde0ef\"],[0.5,\"#f7f7f7\"],[0.6,\"#e6f5d0\"],[0.7,\"#b8e186\"],[0.8,\"#7fbc41\"],[0.9,\"#4d9221\"],[1,\"#276419\"]],\"sequential\":[[0.0,\"#0d0887\"],[0.1111111111111111,\"#46039f\"],[0.2222222222222222,\"#7201a8\"],[0.3333333333333333,\"#9c179e\"],[0.4444444444444444,\"#bd3786\"],[0.5555555555555556,\"#d8576b\"],[0.6666666666666666,\"#ed7953\"],[0.7777777777777778,\"#fb9f3a\"],[0.8888888888888888,\"#fdca26\"],[1.0,\"#f0f921\"]],\"sequentialminus\":[[0.0,\"#0d0887\"],[0.1111111111111111,\"#46039f\"],[0.2222222222222222,\"#7201a8\"],[0.3333333333333333,\"#9c179e\"],[0.4444444444444444,\"#bd3786\"],[0.5555555555555556,\"#d8576b\"],[0.6666666666666666,\"#ed7953\"],[0.7777777777777778,\"#fb9f3a\"],[0.8888888888888888,\"#fdca26\"],[1.0,\"#f0f921\"]]},\"colorway\":[\"#636efa\",\"#EF553B\",\"#00cc96\",\"#ab63fa\",\"#FFA15A\",\"#19d3f3\",\"#FF6692\",\"#B6E880\",\"#FF97FF\",\"#FECB52\"],\"font\":{\"color\":\"#2a3f5f\"},\"geo\":{\"bgcolor\":\"white\",\"lakecolor\":\"white\",\"landcolor\":\"#E5ECF6\",\"showlakes\":true,\"showland\":true,\"subunitcolor\":\"white\"},\"hoverlabel\":{\"align\":\"left\"},\"hovermode\":\"closest\",\"mapbox\":{\"style\":\"light\"},\"paper_bgcolor\":\"white\",\"plot_bgcolor\":\"#E5ECF6\",\"polar\":{\"angularaxis\":{\"gridcolor\":\"white\",\"linecolor\":\"white\",\"ticks\":\"\"},\"bgcolor\":\"#E5ECF6\",\"radialaxis\":{\"gridcolor\":\"white\",\"linecolor\":\"white\",\"ticks\":\"\"}},\"scene\":{\"xaxis\":{\"backgroundcolor\":\"#E5ECF6\",\"gridcolor\":\"white\",\"gridwidth\":2,\"linecolor\":\"white\",\"showbackground\":true,\"ticks\":\"\",\"zerolinecolor\":\"white\"},\"yaxis\":{\"backgroundcolor\":\"#E5ECF6\",\"gridcolor\":\"white\",\"gridwidth\":2,\"linecolor\":\"white\",\"showbackground\":true,\"ticks\":\"\",\"zerolinecolor\":\"white\"},\"zaxis\":{\"backgroundcolor\":\"#E5ECF6\",\"gridcolor\":\"white\",\"gridwidth\":2,\"linecolor\":\"white\",\"showbackground\":true,\"ticks\":\"\",\"zerolinecolor\":\"white\"}},\"shapedefaults\":{\"line\":{\"color\":\"#2a3f5f\"}},\"ternary\":{\"aaxis\":{\"gridcolor\":\"white\",\"linecolor\":\"white\",\"ticks\":\"\"},\"baxis\":{\"gridcolor\":\"white\",\"linecolor\":\"white\",\"ticks\":\"\"},\"bgcolor\":\"#E5ECF6\",\"caxis\":{\"gridcolor\":\"white\",\"linecolor\":\"white\",\"ticks\":\"\"}},\"title\":{\"x\":0.05},\"xaxis\":{\"automargin\":true,\"gridcolor\":\"white\",\"linecolor\":\"white\",\"ticks\":\"\",\"title\":{\"standoff\":15},\"zerolinecolor\":\"white\",\"zerolinewidth\":2},\"yaxis\":{\"automargin\":true,\"gridcolor\":\"white\",\"linecolor\":\"white\",\"ticks\":\"\",\"title\":{\"standoff\":15},\"zerolinecolor\":\"white\",\"zerolinewidth\":2}}}},                        {\"responsive\": true}                    ).then(function(){\n",
       "                            \n",
       "var gd = document.getElementById('d47fdd3b-67b5-4e25-a4c3-929190ffe448');\n",
       "var x = new MutationObserver(function (mutations, observer) {{\n",
       "        var display = window.getComputedStyle(gd).display;\n",
       "        if (!display || display === 'none') {{\n",
       "            console.log([gd, 'removed!']);\n",
       "            Plotly.purge(gd);\n",
       "            observer.disconnect();\n",
       "        }}\n",
       "}});\n",
       "\n",
       "// Listen for the removal of the full notebook cells\n",
       "var notebookContainer = gd.closest('#notebook-container');\n",
       "if (notebookContainer) {{\n",
       "    x.observe(notebookContainer, {childList: true});\n",
       "}}\n",
       "\n",
       "// Listen for the clearing of the current output cell\n",
       "var outputEl = gd.closest('.output');\n",
       "if (outputEl) {{\n",
       "    x.observe(outputEl, {childList: true});\n",
       "}}\n",
       "\n",
       "                        })                };                });            </script>        </div>"
      ]
     },
     "metadata": {},
     "output_type": "display_data"
    },
    {
     "data": {
      "application/vnd.plotly.v1+json": {
       "config": {
        "plotlyServerURL": "https://plot.ly"
       },
       "data": [
        {
         "line": {
          "color": "rgb(100, 100, 255)"
         },
         "marker": {
          "color": "rgb(100, 100, 255)",
          "size": 2
         },
         "mode": "lines+markers+text",
         "type": "scatter3d",
         "x": [
          0.49999999999999994,
          0.49999999999999994
         ],
         "y": [
          -0.5000000000000002,
          -0.5
         ],
         "z": [
          0.49999999999999994,
          -0.5000000000000001
         ]
        },
        {
         "line": {
          "color": "rgb(0, 0, 0)"
         },
         "marker": {
          "color": "rgb(0, 0, 0)",
          "size": 2
         },
         "mode": "lines+markers+text",
         "type": "scatter3d",
         "x": [
          0.49999999999999994,
          0.5000000000000001
         ],
         "y": [
          -0.5,
          0.5
         ],
         "z": [
          -0.5000000000000001,
          -0.49999999999999994
         ]
        },
        {
         "line": {
          "color": "rgb(0, 0, 0)"
         },
         "marker": {
          "color": "rgb(0, 0, 0)",
          "size": 2
         },
         "mode": "lines+markers+text",
         "type": "scatter3d",
         "x": [
          0.5000000000000001,
          0.5000000000000001
         ],
         "y": [
          0.5,
          0.4999999999999999
         ],
         "z": [
          -0.49999999999999994,
          0.5000000000000001
         ]
        },
        {
         "line": {
          "color": "rgb(100, 255, 100)"
         },
         "marker": {
          "color": "rgb(100, 255, 100)",
          "size": 2
         },
         "mode": "lines+markers+text",
         "type": "scatter3d",
         "x": [
          0.5000000000000001,
          0.49999999999999994
         ],
         "y": [
          0.4999999999999999,
          -0.5000000000000002
         ],
         "z": [
          0.5000000000000001,
          0.49999999999999994
         ]
        },
        {
         "line": {
          "color": "rgb(255, 100, 100)"
         },
         "marker": {
          "color": "rgb(255, 100, 100)",
          "size": 2
         },
         "mode": "lines+markers+text",
         "type": "scatter3d",
         "x": [
          0.49999999999999994,
          -0.5000000000000001
         ],
         "y": [
          -0.5000000000000002,
          -0.5
         ],
         "z": [
          0.49999999999999994,
          0.49999999999999994
         ]
        },
        {
         "line": {
          "color": "rgb(0, 0, 0)"
         },
         "marker": {
          "color": "rgb(0, 0, 0)",
          "size": 2
         },
         "mode": "lines+markers+text",
         "type": "scatter3d",
         "x": [
          -0.5000000000000001,
          -0.5000000000000001
         ],
         "y": [
          -0.5,
          -0.4999999999999999
         ],
         "z": [
          0.49999999999999994,
          -0.5000000000000001
         ]
        },
        {
         "line": {
          "color": "rgb(0, 0, 0)"
         },
         "marker": {
          "color": "rgb(0, 0, 0)",
          "size": 2
         },
         "mode": "lines+markers+text",
         "type": "scatter3d",
         "x": [
          -0.5000000000000001,
          0.49999999999999994
         ],
         "y": [
          -0.4999999999999999,
          -0.5
         ],
         "z": [
          -0.5000000000000001,
          -0.5000000000000001
         ]
        },
        {
         "line": {
          "color": "rgb(0, 0, 0)"
         },
         "marker": {
          "color": "rgb(0, 0, 0)",
          "size": 2
         },
         "mode": "lines+markers+text",
         "type": "scatter3d",
         "x": [
          0.49999999999999994,
          -0.5000000000000001
         ],
         "y": [
          -0.5,
          -0.4999999999999999
         ],
         "z": [
          -0.5000000000000001,
          -0.5000000000000001
         ]
        },
        {
         "line": {
          "color": "rgb(0, 0, 0)"
         },
         "marker": {
          "color": "rgb(0, 0, 0)",
          "size": 2
         },
         "mode": "lines+markers+text",
         "type": "scatter3d",
         "x": [
          -0.5000000000000001,
          -0.49999999999999994
         ],
         "y": [
          -0.4999999999999999,
          0.5000000000000002
         ],
         "z": [
          -0.5000000000000001,
          -0.49999999999999994
         ]
        },
        {
         "line": {
          "color": "rgb(0, 0, 0)"
         },
         "marker": {
          "color": "rgb(0, 0, 0)",
          "size": 2
         },
         "mode": "lines+markers+text",
         "type": "scatter3d",
         "x": [
          -0.49999999999999994,
          0.5000000000000001
         ],
         "y": [
          0.5000000000000002,
          0.5
         ],
         "z": [
          -0.49999999999999994,
          -0.49999999999999994
         ]
        },
        {
         "line": {
          "color": "rgb(0, 0, 0)"
         },
         "marker": {
          "color": "rgb(0, 0, 0)",
          "size": 2
         },
         "mode": "lines+markers+text",
         "type": "scatter3d",
         "x": [
          0.5000000000000001,
          -0.49999999999999994
         ],
         "y": [
          0.5,
          0.5000000000000002
         ],
         "z": [
          -0.49999999999999994,
          -0.49999999999999994
         ]
        },
        {
         "line": {
          "color": "rgb(0, 0, 0)"
         },
         "marker": {
          "color": "rgb(0, 0, 0)",
          "size": 2
         },
         "mode": "lines+markers+text",
         "type": "scatter3d",
         "x": [
          -0.49999999999999994,
          -0.49999999999999994
         ],
         "y": [
          0.5000000000000002,
          0.5
         ],
         "z": [
          -0.49999999999999994,
          0.5000000000000001
         ]
        },
        {
         "line": {
          "color": "rgb(0, 0, 0)"
         },
         "marker": {
          "color": "rgb(0, 0, 0)",
          "size": 2
         },
         "mode": "lines+markers+text",
         "type": "scatter3d",
         "x": [
          -0.49999999999999994,
          0.5000000000000001
         ],
         "y": [
          0.5,
          0.4999999999999999
         ],
         "z": [
          0.5000000000000001,
          0.5000000000000001
         ]
        },
        {
         "line": {
          "color": "rgb(0, 0, 0)"
         },
         "marker": {
          "color": "rgb(0, 0, 0)",
          "size": 2
         },
         "mode": "lines+markers+text",
         "type": "scatter3d",
         "x": [
          0.5000000000000001,
          -0.49999999999999994
         ],
         "y": [
          0.4999999999999999,
          0.5
         ],
         "z": [
          0.5000000000000001,
          0.5000000000000001
         ]
        },
        {
         "line": {
          "color": "rgb(0, 0, 0)"
         },
         "marker": {
          "color": "rgb(0, 0, 0)",
          "size": 2
         },
         "mode": "lines+markers+text",
         "type": "scatter3d",
         "x": [
          -0.49999999999999994,
          -0.5000000000000001
         ],
         "y": [
          0.5,
          -0.5
         ],
         "z": [
          0.5000000000000001,
          0.49999999999999994
         ]
        }
       ],
       "layout": {
        "scene": {
         "camera": {
          "eye": {
           "x": -1,
           "y": -1,
           "z": 1
          }
         }
        },
        "template": {
         "data": {
          "bar": [
           {
            "error_x": {
             "color": "#2a3f5f"
            },
            "error_y": {
             "color": "#2a3f5f"
            },
            "marker": {
             "line": {
              "color": "#E5ECF6",
              "width": 0.5
             },
             "pattern": {
              "fillmode": "overlay",
              "size": 10,
              "solidity": 0.2
             }
            },
            "type": "bar"
           }
          ],
          "barpolar": [
           {
            "marker": {
             "line": {
              "color": "#E5ECF6",
              "width": 0.5
             },
             "pattern": {
              "fillmode": "overlay",
              "size": 10,
              "solidity": 0.2
             }
            },
            "type": "barpolar"
           }
          ],
          "carpet": [
           {
            "aaxis": {
             "endlinecolor": "#2a3f5f",
             "gridcolor": "white",
             "linecolor": "white",
             "minorgridcolor": "white",
             "startlinecolor": "#2a3f5f"
            },
            "baxis": {
             "endlinecolor": "#2a3f5f",
             "gridcolor": "white",
             "linecolor": "white",
             "minorgridcolor": "white",
             "startlinecolor": "#2a3f5f"
            },
            "type": "carpet"
           }
          ],
          "choropleth": [
           {
            "colorbar": {
             "outlinewidth": 0,
             "ticks": ""
            },
            "type": "choropleth"
           }
          ],
          "contour": [
           {
            "colorbar": {
             "outlinewidth": 0,
             "ticks": ""
            },
            "colorscale": [
             [
              0,
              "#0d0887"
             ],
             [
              0.1111111111111111,
              "#46039f"
             ],
             [
              0.2222222222222222,
              "#7201a8"
             ],
             [
              0.3333333333333333,
              "#9c179e"
             ],
             [
              0.4444444444444444,
              "#bd3786"
             ],
             [
              0.5555555555555556,
              "#d8576b"
             ],
             [
              0.6666666666666666,
              "#ed7953"
             ],
             [
              0.7777777777777778,
              "#fb9f3a"
             ],
             [
              0.8888888888888888,
              "#fdca26"
             ],
             [
              1,
              "#f0f921"
             ]
            ],
            "type": "contour"
           }
          ],
          "contourcarpet": [
           {
            "colorbar": {
             "outlinewidth": 0,
             "ticks": ""
            },
            "type": "contourcarpet"
           }
          ],
          "heatmap": [
           {
            "colorbar": {
             "outlinewidth": 0,
             "ticks": ""
            },
            "colorscale": [
             [
              0,
              "#0d0887"
             ],
             [
              0.1111111111111111,
              "#46039f"
             ],
             [
              0.2222222222222222,
              "#7201a8"
             ],
             [
              0.3333333333333333,
              "#9c179e"
             ],
             [
              0.4444444444444444,
              "#bd3786"
             ],
             [
              0.5555555555555556,
              "#d8576b"
             ],
             [
              0.6666666666666666,
              "#ed7953"
             ],
             [
              0.7777777777777778,
              "#fb9f3a"
             ],
             [
              0.8888888888888888,
              "#fdca26"
             ],
             [
              1,
              "#f0f921"
             ]
            ],
            "type": "heatmap"
           }
          ],
          "heatmapgl": [
           {
            "colorbar": {
             "outlinewidth": 0,
             "ticks": ""
            },
            "colorscale": [
             [
              0,
              "#0d0887"
             ],
             [
              0.1111111111111111,
              "#46039f"
             ],
             [
              0.2222222222222222,
              "#7201a8"
             ],
             [
              0.3333333333333333,
              "#9c179e"
             ],
             [
              0.4444444444444444,
              "#bd3786"
             ],
             [
              0.5555555555555556,
              "#d8576b"
             ],
             [
              0.6666666666666666,
              "#ed7953"
             ],
             [
              0.7777777777777778,
              "#fb9f3a"
             ],
             [
              0.8888888888888888,
              "#fdca26"
             ],
             [
              1,
              "#f0f921"
             ]
            ],
            "type": "heatmapgl"
           }
          ],
          "histogram": [
           {
            "marker": {
             "pattern": {
              "fillmode": "overlay",
              "size": 10,
              "solidity": 0.2
             }
            },
            "type": "histogram"
           }
          ],
          "histogram2d": [
           {
            "colorbar": {
             "outlinewidth": 0,
             "ticks": ""
            },
            "colorscale": [
             [
              0,
              "#0d0887"
             ],
             [
              0.1111111111111111,
              "#46039f"
             ],
             [
              0.2222222222222222,
              "#7201a8"
             ],
             [
              0.3333333333333333,
              "#9c179e"
             ],
             [
              0.4444444444444444,
              "#bd3786"
             ],
             [
              0.5555555555555556,
              "#d8576b"
             ],
             [
              0.6666666666666666,
              "#ed7953"
             ],
             [
              0.7777777777777778,
              "#fb9f3a"
             ],
             [
              0.8888888888888888,
              "#fdca26"
             ],
             [
              1,
              "#f0f921"
             ]
            ],
            "type": "histogram2d"
           }
          ],
          "histogram2dcontour": [
           {
            "colorbar": {
             "outlinewidth": 0,
             "ticks": ""
            },
            "colorscale": [
             [
              0,
              "#0d0887"
             ],
             [
              0.1111111111111111,
              "#46039f"
             ],
             [
              0.2222222222222222,
              "#7201a8"
             ],
             [
              0.3333333333333333,
              "#9c179e"
             ],
             [
              0.4444444444444444,
              "#bd3786"
             ],
             [
              0.5555555555555556,
              "#d8576b"
             ],
             [
              0.6666666666666666,
              "#ed7953"
             ],
             [
              0.7777777777777778,
              "#fb9f3a"
             ],
             [
              0.8888888888888888,
              "#fdca26"
             ],
             [
              1,
              "#f0f921"
             ]
            ],
            "type": "histogram2dcontour"
           }
          ],
          "mesh3d": [
           {
            "colorbar": {
             "outlinewidth": 0,
             "ticks": ""
            },
            "type": "mesh3d"
           }
          ],
          "parcoords": [
           {
            "line": {
             "colorbar": {
              "outlinewidth": 0,
              "ticks": ""
             }
            },
            "type": "parcoords"
           }
          ],
          "pie": [
           {
            "automargin": true,
            "type": "pie"
           }
          ],
          "scatter": [
           {
            "marker": {
             "colorbar": {
              "outlinewidth": 0,
              "ticks": ""
             }
            },
            "type": "scatter"
           }
          ],
          "scatter3d": [
           {
            "line": {
             "colorbar": {
              "outlinewidth": 0,
              "ticks": ""
             }
            },
            "marker": {
             "colorbar": {
              "outlinewidth": 0,
              "ticks": ""
             }
            },
            "type": "scatter3d"
           }
          ],
          "scattercarpet": [
           {
            "marker": {
             "colorbar": {
              "outlinewidth": 0,
              "ticks": ""
             }
            },
            "type": "scattercarpet"
           }
          ],
          "scattergeo": [
           {
            "marker": {
             "colorbar": {
              "outlinewidth": 0,
              "ticks": ""
             }
            },
            "type": "scattergeo"
           }
          ],
          "scattergl": [
           {
            "marker": {
             "colorbar": {
              "outlinewidth": 0,
              "ticks": ""
             }
            },
            "type": "scattergl"
           }
          ],
          "scattermapbox": [
           {
            "marker": {
             "colorbar": {
              "outlinewidth": 0,
              "ticks": ""
             }
            },
            "type": "scattermapbox"
           }
          ],
          "scatterpolar": [
           {
            "marker": {
             "colorbar": {
              "outlinewidth": 0,
              "ticks": ""
             }
            },
            "type": "scatterpolar"
           }
          ],
          "scatterpolargl": [
           {
            "marker": {
             "colorbar": {
              "outlinewidth": 0,
              "ticks": ""
             }
            },
            "type": "scatterpolargl"
           }
          ],
          "scatterternary": [
           {
            "marker": {
             "colorbar": {
              "outlinewidth": 0,
              "ticks": ""
             }
            },
            "type": "scatterternary"
           }
          ],
          "surface": [
           {
            "colorbar": {
             "outlinewidth": 0,
             "ticks": ""
            },
            "colorscale": [
             [
              0,
              "#0d0887"
             ],
             [
              0.1111111111111111,
              "#46039f"
             ],
             [
              0.2222222222222222,
              "#7201a8"
             ],
             [
              0.3333333333333333,
              "#9c179e"
             ],
             [
              0.4444444444444444,
              "#bd3786"
             ],
             [
              0.5555555555555556,
              "#d8576b"
             ],
             [
              0.6666666666666666,
              "#ed7953"
             ],
             [
              0.7777777777777778,
              "#fb9f3a"
             ],
             [
              0.8888888888888888,
              "#fdca26"
             ],
             [
              1,
              "#f0f921"
             ]
            ],
            "type": "surface"
           }
          ],
          "table": [
           {
            "cells": {
             "fill": {
              "color": "#EBF0F8"
             },
             "line": {
              "color": "white"
             }
            },
            "header": {
             "fill": {
              "color": "#C8D4E3"
             },
             "line": {
              "color": "white"
             }
            },
            "type": "table"
           }
          ]
         },
         "layout": {
          "annotationdefaults": {
           "arrowcolor": "#2a3f5f",
           "arrowhead": 0,
           "arrowwidth": 1
          },
          "autotypenumbers": "strict",
          "coloraxis": {
           "colorbar": {
            "outlinewidth": 0,
            "ticks": ""
           }
          },
          "colorscale": {
           "diverging": [
            [
             0,
             "#8e0152"
            ],
            [
             0.1,
             "#c51b7d"
            ],
            [
             0.2,
             "#de77ae"
            ],
            [
             0.3,
             "#f1b6da"
            ],
            [
             0.4,
             "#fde0ef"
            ],
            [
             0.5,
             "#f7f7f7"
            ],
            [
             0.6,
             "#e6f5d0"
            ],
            [
             0.7,
             "#b8e186"
            ],
            [
             0.8,
             "#7fbc41"
            ],
            [
             0.9,
             "#4d9221"
            ],
            [
             1,
             "#276419"
            ]
           ],
           "sequential": [
            [
             0,
             "#0d0887"
            ],
            [
             0.1111111111111111,
             "#46039f"
            ],
            [
             0.2222222222222222,
             "#7201a8"
            ],
            [
             0.3333333333333333,
             "#9c179e"
            ],
            [
             0.4444444444444444,
             "#bd3786"
            ],
            [
             0.5555555555555556,
             "#d8576b"
            ],
            [
             0.6666666666666666,
             "#ed7953"
            ],
            [
             0.7777777777777778,
             "#fb9f3a"
            ],
            [
             0.8888888888888888,
             "#fdca26"
            ],
            [
             1,
             "#f0f921"
            ]
           ],
           "sequentialminus": [
            [
             0,
             "#0d0887"
            ],
            [
             0.1111111111111111,
             "#46039f"
            ],
            [
             0.2222222222222222,
             "#7201a8"
            ],
            [
             0.3333333333333333,
             "#9c179e"
            ],
            [
             0.4444444444444444,
             "#bd3786"
            ],
            [
             0.5555555555555556,
             "#d8576b"
            ],
            [
             0.6666666666666666,
             "#ed7953"
            ],
            [
             0.7777777777777778,
             "#fb9f3a"
            ],
            [
             0.8888888888888888,
             "#fdca26"
            ],
            [
             1,
             "#f0f921"
            ]
           ]
          },
          "colorway": [
           "#636efa",
           "#EF553B",
           "#00cc96",
           "#ab63fa",
           "#FFA15A",
           "#19d3f3",
           "#FF6692",
           "#B6E880",
           "#FF97FF",
           "#FECB52"
          ],
          "font": {
           "color": "#2a3f5f"
          },
          "geo": {
           "bgcolor": "white",
           "lakecolor": "white",
           "landcolor": "#E5ECF6",
           "showlakes": true,
           "showland": true,
           "subunitcolor": "white"
          },
          "hoverlabel": {
           "align": "left"
          },
          "hovermode": "closest",
          "mapbox": {
           "style": "light"
          },
          "paper_bgcolor": "white",
          "plot_bgcolor": "#E5ECF6",
          "polar": {
           "angularaxis": {
            "gridcolor": "white",
            "linecolor": "white",
            "ticks": ""
           },
           "bgcolor": "#E5ECF6",
           "radialaxis": {
            "gridcolor": "white",
            "linecolor": "white",
            "ticks": ""
           }
          },
          "scene": {
           "xaxis": {
            "backgroundcolor": "#E5ECF6",
            "gridcolor": "white",
            "gridwidth": 2,
            "linecolor": "white",
            "showbackground": true,
            "ticks": "",
            "zerolinecolor": "white"
           },
           "yaxis": {
            "backgroundcolor": "#E5ECF6",
            "gridcolor": "white",
            "gridwidth": 2,
            "linecolor": "white",
            "showbackground": true,
            "ticks": "",
            "zerolinecolor": "white"
           },
           "zaxis": {
            "backgroundcolor": "#E5ECF6",
            "gridcolor": "white",
            "gridwidth": 2,
            "linecolor": "white",
            "showbackground": true,
            "ticks": "",
            "zerolinecolor": "white"
           }
          },
          "shapedefaults": {
           "line": {
            "color": "#2a3f5f"
           }
          },
          "ternary": {
           "aaxis": {
            "gridcolor": "white",
            "linecolor": "white",
            "ticks": ""
           },
           "baxis": {
            "gridcolor": "white",
            "linecolor": "white",
            "ticks": ""
           },
           "bgcolor": "#E5ECF6",
           "caxis": {
            "gridcolor": "white",
            "linecolor": "white",
            "ticks": ""
           }
          },
          "title": {
           "x": 0.05
          },
          "xaxis": {
           "automargin": true,
           "gridcolor": "white",
           "linecolor": "white",
           "ticks": "",
           "title": {
            "standoff": 15
           },
           "zerolinecolor": "white",
           "zerolinewidth": 2
          },
          "yaxis": {
           "automargin": true,
           "gridcolor": "white",
           "linecolor": "white",
           "ticks": "",
           "title": {
            "standoff": 15
           },
           "zerolinecolor": "white",
           "zerolinewidth": 2
          }
         }
        }
       }
      },
      "text/html": [
       "<div>                            <div id=\"2fab86e2-4957-4b6b-bb65-105913e52acd\" class=\"plotly-graph-div\" style=\"height:525px; width:100%;\"></div>            <script type=\"text/javascript\">                require([\"plotly\"], function(Plotly) {                    window.PLOTLYENV=window.PLOTLYENV || {};                                    if (document.getElementById(\"2fab86e2-4957-4b6b-bb65-105913e52acd\")) {                    Plotly.newPlot(                        \"2fab86e2-4957-4b6b-bb65-105913e52acd\",                        [{\"line\":{\"color\":\"rgb(100, 100, 255)\"},\"marker\":{\"color\":\"rgb(100, 100, 255)\",\"size\":2},\"mode\":\"lines+markers+text\",\"x\":[0.49999999999999994,0.49999999999999994],\"y\":[-0.5000000000000002,-0.5],\"z\":[0.49999999999999994,-0.5000000000000001],\"type\":\"scatter3d\"},{\"line\":{\"color\":\"rgb(0, 0, 0)\"},\"marker\":{\"color\":\"rgb(0, 0, 0)\",\"size\":2},\"mode\":\"lines+markers+text\",\"x\":[0.49999999999999994,0.5000000000000001],\"y\":[-0.5,0.5],\"z\":[-0.5000000000000001,-0.49999999999999994],\"type\":\"scatter3d\"},{\"line\":{\"color\":\"rgb(0, 0, 0)\"},\"marker\":{\"color\":\"rgb(0, 0, 0)\",\"size\":2},\"mode\":\"lines+markers+text\",\"x\":[0.5000000000000001,0.5000000000000001],\"y\":[0.5,0.4999999999999999],\"z\":[-0.49999999999999994,0.5000000000000001],\"type\":\"scatter3d\"},{\"line\":{\"color\":\"rgb(100, 255, 100)\"},\"marker\":{\"color\":\"rgb(100, 255, 100)\",\"size\":2},\"mode\":\"lines+markers+text\",\"x\":[0.5000000000000001,0.49999999999999994],\"y\":[0.4999999999999999,-0.5000000000000002],\"z\":[0.5000000000000001,0.49999999999999994],\"type\":\"scatter3d\"},{\"line\":{\"color\":\"rgb(255, 100, 100)\"},\"marker\":{\"color\":\"rgb(255, 100, 100)\",\"size\":2},\"mode\":\"lines+markers+text\",\"x\":[0.49999999999999994,-0.5000000000000001],\"y\":[-0.5000000000000002,-0.5],\"z\":[0.49999999999999994,0.49999999999999994],\"type\":\"scatter3d\"},{\"line\":{\"color\":\"rgb(0, 0, 0)\"},\"marker\":{\"color\":\"rgb(0, 0, 0)\",\"size\":2},\"mode\":\"lines+markers+text\",\"x\":[-0.5000000000000001,-0.5000000000000001],\"y\":[-0.5,-0.4999999999999999],\"z\":[0.49999999999999994,-0.5000000000000001],\"type\":\"scatter3d\"},{\"line\":{\"color\":\"rgb(0, 0, 0)\"},\"marker\":{\"color\":\"rgb(0, 0, 0)\",\"size\":2},\"mode\":\"lines+markers+text\",\"x\":[-0.5000000000000001,0.49999999999999994],\"y\":[-0.4999999999999999,-0.5],\"z\":[-0.5000000000000001,-0.5000000000000001],\"type\":\"scatter3d\"},{\"line\":{\"color\":\"rgb(0, 0, 0)\"},\"marker\":{\"color\":\"rgb(0, 0, 0)\",\"size\":2},\"mode\":\"lines+markers+text\",\"x\":[0.49999999999999994,-0.5000000000000001],\"y\":[-0.5,-0.4999999999999999],\"z\":[-0.5000000000000001,-0.5000000000000001],\"type\":\"scatter3d\"},{\"line\":{\"color\":\"rgb(0, 0, 0)\"},\"marker\":{\"color\":\"rgb(0, 0, 0)\",\"size\":2},\"mode\":\"lines+markers+text\",\"x\":[-0.5000000000000001,-0.49999999999999994],\"y\":[-0.4999999999999999,0.5000000000000002],\"z\":[-0.5000000000000001,-0.49999999999999994],\"type\":\"scatter3d\"},{\"line\":{\"color\":\"rgb(0, 0, 0)\"},\"marker\":{\"color\":\"rgb(0, 0, 0)\",\"size\":2},\"mode\":\"lines+markers+text\",\"x\":[-0.49999999999999994,0.5000000000000001],\"y\":[0.5000000000000002,0.5],\"z\":[-0.49999999999999994,-0.49999999999999994],\"type\":\"scatter3d\"},{\"line\":{\"color\":\"rgb(0, 0, 0)\"},\"marker\":{\"color\":\"rgb(0, 0, 0)\",\"size\":2},\"mode\":\"lines+markers+text\",\"x\":[0.5000000000000001,-0.49999999999999994],\"y\":[0.5,0.5000000000000002],\"z\":[-0.49999999999999994,-0.49999999999999994],\"type\":\"scatter3d\"},{\"line\":{\"color\":\"rgb(0, 0, 0)\"},\"marker\":{\"color\":\"rgb(0, 0, 0)\",\"size\":2},\"mode\":\"lines+markers+text\",\"x\":[-0.49999999999999994,-0.49999999999999994],\"y\":[0.5000000000000002,0.5],\"z\":[-0.49999999999999994,0.5000000000000001],\"type\":\"scatter3d\"},{\"line\":{\"color\":\"rgb(0, 0, 0)\"},\"marker\":{\"color\":\"rgb(0, 0, 0)\",\"size\":2},\"mode\":\"lines+markers+text\",\"x\":[-0.49999999999999994,0.5000000000000001],\"y\":[0.5,0.4999999999999999],\"z\":[0.5000000000000001,0.5000000000000001],\"type\":\"scatter3d\"},{\"line\":{\"color\":\"rgb(0, 0, 0)\"},\"marker\":{\"color\":\"rgb(0, 0, 0)\",\"size\":2},\"mode\":\"lines+markers+text\",\"x\":[0.5000000000000001,-0.49999999999999994],\"y\":[0.4999999999999999,0.5],\"z\":[0.5000000000000001,0.5000000000000001],\"type\":\"scatter3d\"},{\"line\":{\"color\":\"rgb(0, 0, 0)\"},\"marker\":{\"color\":\"rgb(0, 0, 0)\",\"size\":2},\"mode\":\"lines+markers+text\",\"x\":[-0.49999999999999994,-0.5000000000000001],\"y\":[0.5,-0.5],\"z\":[0.5000000000000001,0.49999999999999994],\"type\":\"scatter3d\"}],                        {\"scene\":{\"camera\":{\"eye\":{\"x\":-1,\"y\":-1,\"z\":1}}},\"template\":{\"data\":{\"bar\":[{\"error_x\":{\"color\":\"#2a3f5f\"},\"error_y\":{\"color\":\"#2a3f5f\"},\"marker\":{\"line\":{\"color\":\"#E5ECF6\",\"width\":0.5},\"pattern\":{\"fillmode\":\"overlay\",\"size\":10,\"solidity\":0.2}},\"type\":\"bar\"}],\"barpolar\":[{\"marker\":{\"line\":{\"color\":\"#E5ECF6\",\"width\":0.5},\"pattern\":{\"fillmode\":\"overlay\",\"size\":10,\"solidity\":0.2}},\"type\":\"barpolar\"}],\"carpet\":[{\"aaxis\":{\"endlinecolor\":\"#2a3f5f\",\"gridcolor\":\"white\",\"linecolor\":\"white\",\"minorgridcolor\":\"white\",\"startlinecolor\":\"#2a3f5f\"},\"baxis\":{\"endlinecolor\":\"#2a3f5f\",\"gridcolor\":\"white\",\"linecolor\":\"white\",\"minorgridcolor\":\"white\",\"startlinecolor\":\"#2a3f5f\"},\"type\":\"carpet\"}],\"choropleth\":[{\"colorbar\":{\"outlinewidth\":0,\"ticks\":\"\"},\"type\":\"choropleth\"}],\"contour\":[{\"colorbar\":{\"outlinewidth\":0,\"ticks\":\"\"},\"colorscale\":[[0.0,\"#0d0887\"],[0.1111111111111111,\"#46039f\"],[0.2222222222222222,\"#7201a8\"],[0.3333333333333333,\"#9c179e\"],[0.4444444444444444,\"#bd3786\"],[0.5555555555555556,\"#d8576b\"],[0.6666666666666666,\"#ed7953\"],[0.7777777777777778,\"#fb9f3a\"],[0.8888888888888888,\"#fdca26\"],[1.0,\"#f0f921\"]],\"type\":\"contour\"}],\"contourcarpet\":[{\"colorbar\":{\"outlinewidth\":0,\"ticks\":\"\"},\"type\":\"contourcarpet\"}],\"heatmap\":[{\"colorbar\":{\"outlinewidth\":0,\"ticks\":\"\"},\"colorscale\":[[0.0,\"#0d0887\"],[0.1111111111111111,\"#46039f\"],[0.2222222222222222,\"#7201a8\"],[0.3333333333333333,\"#9c179e\"],[0.4444444444444444,\"#bd3786\"],[0.5555555555555556,\"#d8576b\"],[0.6666666666666666,\"#ed7953\"],[0.7777777777777778,\"#fb9f3a\"],[0.8888888888888888,\"#fdca26\"],[1.0,\"#f0f921\"]],\"type\":\"heatmap\"}],\"heatmapgl\":[{\"colorbar\":{\"outlinewidth\":0,\"ticks\":\"\"},\"colorscale\":[[0.0,\"#0d0887\"],[0.1111111111111111,\"#46039f\"],[0.2222222222222222,\"#7201a8\"],[0.3333333333333333,\"#9c179e\"],[0.4444444444444444,\"#bd3786\"],[0.5555555555555556,\"#d8576b\"],[0.6666666666666666,\"#ed7953\"],[0.7777777777777778,\"#fb9f3a\"],[0.8888888888888888,\"#fdca26\"],[1.0,\"#f0f921\"]],\"type\":\"heatmapgl\"}],\"histogram\":[{\"marker\":{\"pattern\":{\"fillmode\":\"overlay\",\"size\":10,\"solidity\":0.2}},\"type\":\"histogram\"}],\"histogram2d\":[{\"colorbar\":{\"outlinewidth\":0,\"ticks\":\"\"},\"colorscale\":[[0.0,\"#0d0887\"],[0.1111111111111111,\"#46039f\"],[0.2222222222222222,\"#7201a8\"],[0.3333333333333333,\"#9c179e\"],[0.4444444444444444,\"#bd3786\"],[0.5555555555555556,\"#d8576b\"],[0.6666666666666666,\"#ed7953\"],[0.7777777777777778,\"#fb9f3a\"],[0.8888888888888888,\"#fdca26\"],[1.0,\"#f0f921\"]],\"type\":\"histogram2d\"}],\"histogram2dcontour\":[{\"colorbar\":{\"outlinewidth\":0,\"ticks\":\"\"},\"colorscale\":[[0.0,\"#0d0887\"],[0.1111111111111111,\"#46039f\"],[0.2222222222222222,\"#7201a8\"],[0.3333333333333333,\"#9c179e\"],[0.4444444444444444,\"#bd3786\"],[0.5555555555555556,\"#d8576b\"],[0.6666666666666666,\"#ed7953\"],[0.7777777777777778,\"#fb9f3a\"],[0.8888888888888888,\"#fdca26\"],[1.0,\"#f0f921\"]],\"type\":\"histogram2dcontour\"}],\"mesh3d\":[{\"colorbar\":{\"outlinewidth\":0,\"ticks\":\"\"},\"type\":\"mesh3d\"}],\"parcoords\":[{\"line\":{\"colorbar\":{\"outlinewidth\":0,\"ticks\":\"\"}},\"type\":\"parcoords\"}],\"pie\":[{\"automargin\":true,\"type\":\"pie\"}],\"scatter\":[{\"marker\":{\"colorbar\":{\"outlinewidth\":0,\"ticks\":\"\"}},\"type\":\"scatter\"}],\"scatter3d\":[{\"line\":{\"colorbar\":{\"outlinewidth\":0,\"ticks\":\"\"}},\"marker\":{\"colorbar\":{\"outlinewidth\":0,\"ticks\":\"\"}},\"type\":\"scatter3d\"}],\"scattercarpet\":[{\"marker\":{\"colorbar\":{\"outlinewidth\":0,\"ticks\":\"\"}},\"type\":\"scattercarpet\"}],\"scattergeo\":[{\"marker\":{\"colorbar\":{\"outlinewidth\":0,\"ticks\":\"\"}},\"type\":\"scattergeo\"}],\"scattergl\":[{\"marker\":{\"colorbar\":{\"outlinewidth\":0,\"ticks\":\"\"}},\"type\":\"scattergl\"}],\"scattermapbox\":[{\"marker\":{\"colorbar\":{\"outlinewidth\":0,\"ticks\":\"\"}},\"type\":\"scattermapbox\"}],\"scatterpolar\":[{\"marker\":{\"colorbar\":{\"outlinewidth\":0,\"ticks\":\"\"}},\"type\":\"scatterpolar\"}],\"scatterpolargl\":[{\"marker\":{\"colorbar\":{\"outlinewidth\":0,\"ticks\":\"\"}},\"type\":\"scatterpolargl\"}],\"scatterternary\":[{\"marker\":{\"colorbar\":{\"outlinewidth\":0,\"ticks\":\"\"}},\"type\":\"scatterternary\"}],\"surface\":[{\"colorbar\":{\"outlinewidth\":0,\"ticks\":\"\"},\"colorscale\":[[0.0,\"#0d0887\"],[0.1111111111111111,\"#46039f\"],[0.2222222222222222,\"#7201a8\"],[0.3333333333333333,\"#9c179e\"],[0.4444444444444444,\"#bd3786\"],[0.5555555555555556,\"#d8576b\"],[0.6666666666666666,\"#ed7953\"],[0.7777777777777778,\"#fb9f3a\"],[0.8888888888888888,\"#fdca26\"],[1.0,\"#f0f921\"]],\"type\":\"surface\"}],\"table\":[{\"cells\":{\"fill\":{\"color\":\"#EBF0F8\"},\"line\":{\"color\":\"white\"}},\"header\":{\"fill\":{\"color\":\"#C8D4E3\"},\"line\":{\"color\":\"white\"}},\"type\":\"table\"}]},\"layout\":{\"annotationdefaults\":{\"arrowcolor\":\"#2a3f5f\",\"arrowhead\":0,\"arrowwidth\":1},\"autotypenumbers\":\"strict\",\"coloraxis\":{\"colorbar\":{\"outlinewidth\":0,\"ticks\":\"\"}},\"colorscale\":{\"diverging\":[[0,\"#8e0152\"],[0.1,\"#c51b7d\"],[0.2,\"#de77ae\"],[0.3,\"#f1b6da\"],[0.4,\"#fde0ef\"],[0.5,\"#f7f7f7\"],[0.6,\"#e6f5d0\"],[0.7,\"#b8e186\"],[0.8,\"#7fbc41\"],[0.9,\"#4d9221\"],[1,\"#276419\"]],\"sequential\":[[0.0,\"#0d0887\"],[0.1111111111111111,\"#46039f\"],[0.2222222222222222,\"#7201a8\"],[0.3333333333333333,\"#9c179e\"],[0.4444444444444444,\"#bd3786\"],[0.5555555555555556,\"#d8576b\"],[0.6666666666666666,\"#ed7953\"],[0.7777777777777778,\"#fb9f3a\"],[0.8888888888888888,\"#fdca26\"],[1.0,\"#f0f921\"]],\"sequentialminus\":[[0.0,\"#0d0887\"],[0.1111111111111111,\"#46039f\"],[0.2222222222222222,\"#7201a8\"],[0.3333333333333333,\"#9c179e\"],[0.4444444444444444,\"#bd3786\"],[0.5555555555555556,\"#d8576b\"],[0.6666666666666666,\"#ed7953\"],[0.7777777777777778,\"#fb9f3a\"],[0.8888888888888888,\"#fdca26\"],[1.0,\"#f0f921\"]]},\"colorway\":[\"#636efa\",\"#EF553B\",\"#00cc96\",\"#ab63fa\",\"#FFA15A\",\"#19d3f3\",\"#FF6692\",\"#B6E880\",\"#FF97FF\",\"#FECB52\"],\"font\":{\"color\":\"#2a3f5f\"},\"geo\":{\"bgcolor\":\"white\",\"lakecolor\":\"white\",\"landcolor\":\"#E5ECF6\",\"showlakes\":true,\"showland\":true,\"subunitcolor\":\"white\"},\"hoverlabel\":{\"align\":\"left\"},\"hovermode\":\"closest\",\"mapbox\":{\"style\":\"light\"},\"paper_bgcolor\":\"white\",\"plot_bgcolor\":\"#E5ECF6\",\"polar\":{\"angularaxis\":{\"gridcolor\":\"white\",\"linecolor\":\"white\",\"ticks\":\"\"},\"bgcolor\":\"#E5ECF6\",\"radialaxis\":{\"gridcolor\":\"white\",\"linecolor\":\"white\",\"ticks\":\"\"}},\"scene\":{\"xaxis\":{\"backgroundcolor\":\"#E5ECF6\",\"gridcolor\":\"white\",\"gridwidth\":2,\"linecolor\":\"white\",\"showbackground\":true,\"ticks\":\"\",\"zerolinecolor\":\"white\"},\"yaxis\":{\"backgroundcolor\":\"#E5ECF6\",\"gridcolor\":\"white\",\"gridwidth\":2,\"linecolor\":\"white\",\"showbackground\":true,\"ticks\":\"\",\"zerolinecolor\":\"white\"},\"zaxis\":{\"backgroundcolor\":\"#E5ECF6\",\"gridcolor\":\"white\",\"gridwidth\":2,\"linecolor\":\"white\",\"showbackground\":true,\"ticks\":\"\",\"zerolinecolor\":\"white\"}},\"shapedefaults\":{\"line\":{\"color\":\"#2a3f5f\"}},\"ternary\":{\"aaxis\":{\"gridcolor\":\"white\",\"linecolor\":\"white\",\"ticks\":\"\"},\"baxis\":{\"gridcolor\":\"white\",\"linecolor\":\"white\",\"ticks\":\"\"},\"bgcolor\":\"#E5ECF6\",\"caxis\":{\"gridcolor\":\"white\",\"linecolor\":\"white\",\"ticks\":\"\"}},\"title\":{\"x\":0.05},\"xaxis\":{\"automargin\":true,\"gridcolor\":\"white\",\"linecolor\":\"white\",\"ticks\":\"\",\"title\":{\"standoff\":15},\"zerolinecolor\":\"white\",\"zerolinewidth\":2},\"yaxis\":{\"automargin\":true,\"gridcolor\":\"white\",\"linecolor\":\"white\",\"ticks\":\"\",\"title\":{\"standoff\":15},\"zerolinecolor\":\"white\",\"zerolinewidth\":2}}}},                        {\"responsive\": true}                    ).then(function(){\n",
       "                            \n",
       "var gd = document.getElementById('2fab86e2-4957-4b6b-bb65-105913e52acd');\n",
       "var x = new MutationObserver(function (mutations, observer) {{\n",
       "        var display = window.getComputedStyle(gd).display;\n",
       "        if (!display || display === 'none') {{\n",
       "            console.log([gd, 'removed!']);\n",
       "            Plotly.purge(gd);\n",
       "            observer.disconnect();\n",
       "        }}\n",
       "}});\n",
       "\n",
       "// Listen for the removal of the full notebook cells\n",
       "var notebookContainer = gd.closest('#notebook-container');\n",
       "if (notebookContainer) {{\n",
       "    x.observe(notebookContainer, {childList: true});\n",
       "}}\n",
       "\n",
       "// Listen for the clearing of the current output cell\n",
       "var outputEl = gd.closest('.output');\n",
       "if (outputEl) {{\n",
       "    x.observe(outputEl, {childList: true});\n",
       "}}\n",
       "\n",
       "                        })                };                });            </script>        </div>"
      ]
     },
     "metadata": {},
     "output_type": "display_data"
    },
    {
     "data": {
      "text/plain": [
       "\"\\ntranslation = np.matmul(\\n    R,\\n    np.array([0, 0, distance]).reshape(-1, 1)\\n).reshape(-1, 1)\\n\\nextrinsic = np.vstack([\\n    np.hstack([\\n        \\n        np.linalg.inv(R) ,\\n        #np.linalg.inv(np.matmul(\\n        #    rpy2rm( np.deg2rad(00), np.deg2rad(90), np.deg2rad(00) ), R\\n        #)),\\n\\n        np.array([0, 0, distance]).reshape(-1, 1)\\n\\n        #translation\\n    ]),\\n    np.array([0, 0, 0, 1])\\n])\\n\\nprint('extrinsic')\\nprint(extrinsic)\\n\\nf = 2\\ncx = 10\\ncy = 10\\nintrinsic = np.array([\\n    [f, 0, cx],\\n    [0, f, cy],\\n    [0, 0, 1]\\n])\\n\\nprojected = project2image(SimplePose.landmarks, extrinsic, intrinsic)\\n\\nplot3d(SimplePose.landmarks, SimplePose.CONN_PATH_LIST)\\nplot(projected, SimplePose.CONN_PATH_LIST)\\n#PoseVisualizer.visualize(projected, SimplePose.CONN_PATH_LIST)\\n\""
      ]
     },
     "execution_count": 59,
     "metadata": {},
     "output_type": "execute_result"
    }
   ],
   "source": [
    "roll  = np.deg2rad(0)  # pitch\n",
    "pitch = np.deg2rad(45)  # yaw\n",
    "yaw   = np.deg2rad(45) # roll\n",
    "distance = 2\n",
    "\n",
    "R = np.matmul(\n",
    "    rpy2rm(np.deg2rad(0), np.deg2rad(0), 0),\n",
    "    rpy2rm(roll, pitch, yaw)\n",
    ")\n",
    "\n",
    "\n",
    "Rx = rpy2rm(np.deg2rad(45), np.deg2rad(0), np.deg2rad(0))\n",
    "Ry = rpy2rm(np.deg2rad(0), np.deg2rad(45), np.deg2rad(0))\n",
    "Rz = rpy2rm(np.deg2rad(0), np.deg2rad(0), np.deg2rad(45))\n",
    "Ryz = rpy2rm(roll, pitch, yaw)\n",
    "\n",
    "R1 = rpy2rm(np.deg2rad(0), np.deg2rad(180), np.deg2rad(0))\n",
    "R2 = rpy2rm(np.deg2rad(180), np.deg2rad(0), np.deg2rad(180))\n",
    "\n",
    "plot3d(SimplePose.landmarks, SimplePose.CONN_PATH_LIST, SimplePose.EDGE_COLOR)\n",
    "plot3d( (R1 @ SimplePose.landmarks.T).T, SimplePose.CONN_PATH_LIST, SimplePose.EDGE_COLOR)\n",
    "plot3d( (R2 @ SimplePose.landmarks.T).T, SimplePose.CONN_PATH_LIST, SimplePose.EDGE_COLOR)\n",
    "#plot3d( (Rx @ SimplePose.landmarks.T).T, SimplePose.CONN_PATH_LIST, SimplePose.EDGE_COLOR)\n",
    "#plot3d( (Ry @ SimplePose.landmarks.T).T, SimplePose.CONN_PATH_LIST, SimplePose.EDGE_COLOR)\n",
    "#plot3d( (Rz @ SimplePose.landmarks.T).T, SimplePose.CONN_PATH_LIST, SimplePose.EDGE_COLOR)\n",
    "#plot3d( (Ryz @ SimplePose.landmarks.T).T, SimplePose.CONN_PATH_LIST, SimplePose.EDGE_COLOR)\n",
    "\n",
    "'''\n",
    "translation = np.matmul(\n",
    "    R,\n",
    "    np.array([0, 0, distance]).reshape(-1, 1)\n",
    ").reshape(-1, 1)\n",
    "\n",
    "extrinsic = np.vstack([\n",
    "    np.hstack([\n",
    "        \n",
    "        np.linalg.inv(R) ,\n",
    "        #np.linalg.inv(np.matmul(\n",
    "        #    rpy2rm( np.deg2rad(00), np.deg2rad(90), np.deg2rad(00) ), R\n",
    "        #)),\n",
    "\n",
    "        np.array([0, 0, distance]).reshape(-1, 1)\n",
    "\n",
    "        #translation\n",
    "    ]),\n",
    "    np.array([0, 0, 0, 1])\n",
    "])\n",
    "\n",
    "print('extrinsic')\n",
    "print(extrinsic)\n",
    "\n",
    "f = 2\n",
    "cx = 10\n",
    "cy = 10\n",
    "intrinsic = np.array([\n",
    "    [f, 0, cx],\n",
    "    [0, f, cy],\n",
    "    [0, 0, 1]\n",
    "])\n",
    "\n",
    "projected = project2image(SimplePose.landmarks, extrinsic, intrinsic)\n",
    "\n",
    "plot3d(SimplePose.landmarks, SimplePose.CONN_PATH_LIST)\n",
    "plot(projected, SimplePose.CONN_PATH_LIST)\n",
    "#PoseVisualizer.visualize(projected, SimplePose.CONN_PATH_LIST)\n",
    "'''"
   ]
  },
  {
   "cell_type": "code",
   "execution_count": 2,
   "metadata": {},
   "outputs": [],
   "source": [
    "pitch_min = -40\n",
    "pitch_max = 20\n",
    "yaw_min = 0\n",
    "yaw_max = 360\n",
    "distance_min = 2000\n",
    "distance_max = 3000\n",
    "\n",
    "pitch = np.deg2rad(np.random.uniform(pitch_min, pitch_max))\n",
    "yaw   = np.deg2rad(np.random.uniform(yaw_min, yaw_max))\n",
    "distance = np.random.uniform(distance_min, distance_max)\n",
    "\n",
    "R = rpy2rm(0, pitch, yaw)\n",
    "\n",
    "translation = np.matmul(\n",
    "    R,\n",
    "    np.array([distance, 0, 0]).reshape(-1, 1)\n",
    ").reshape(-1, 1)\n",
    "\n",
    "extrinsic = np.vstack([\n",
    "    np.hstack([R, translation]),\n",
    "    np.array([0, 0, 0, 1])\n",
    "])"
   ]
  },
  {
   "cell_type": "code",
   "execution_count": 98,
   "metadata": {},
   "outputs": [
    {
     "data": {
      "application/vnd.plotly.v1+json": {
       "config": {
        "plotlyServerURL": "https://plot.ly"
       },
       "data": [
        {
         "line": {
          "color": "red"
         },
         "marker": {
          "color": "red",
          "size": 2
         },
         "mode": "lines+markers+text",
         "type": "scatter3d",
         "x": [
          2.066186981068718,
          1.502476053105461
         ],
         "y": [
          -29.0971410771211,
          -30.022904028495155
         ],
         "z": [
          -9.838617551657888,
          -25.353502440783714
         ]
        },
        {
         "line": {
          "color": "red"
         },
         "marker": {
          "color": "red",
          "size": 2
         },
         "mode": "lines+markers+text",
         "type": "scatter3d",
         "x": [
          1.502476053105461,
          0.2029815481768722
         ],
         "y": [
          -30.022904028495155,
          -27.664160480101906
         ],
         "z": [
          -25.353502440783714,
          -27.737503457400535
         ]
        },
        {
         "line": {
          "color": "red"
         },
         "marker": {
          "color": "red",
          "size": 2
         },
         "mode": "lines+markers+text",
         "type": "scatter3d",
         "x": [
          0.2029815481768722,
          -1.4347216321362382
         ],
         "y": [
          -27.664160480101906,
          -30.014134695132576
         ],
         "z": [
          -27.737503457400535,
          -25.641044187876915
         ]
        },
        {
         "line": {
          "color": "red"
         },
         "marker": {
          "color": "red",
          "size": 2
         },
         "mode": "lines+markers+text",
         "type": "scatter3d",
         "x": [
          -1.4347216321362382,
          -3.061415834559334
         ],
         "y": [
          -30.014134695132576,
          -29.27271847923597
         ],
         "z": [
          -25.641044187876915,
          -11.530914116236898
         ]
        },
        {
         "line": {
          "color": "red"
         },
         "marker": {
          "color": "red",
          "size": 2
         },
         "mode": "lines+markers+text",
         "type": "scatter3d",
         "x": [
          -3.061415834559334,
          -1.4347216321362382
         ],
         "y": [
          -29.27271847923597,
          -30.014134695132576
         ],
         "z": [
          -11.530914116236898,
          -25.641044187876915
         ]
        },
        {
         "line": {
          "color": "red"
         },
         "marker": {
          "color": "red",
          "size": 2
         },
         "mode": "lines+markers+text",
         "type": "scatter3d",
         "x": [
          -1.4347216321362382,
          0.2029815481768722
         ],
         "y": [
          -30.014134695132576,
          -27.664160480101906
         ],
         "z": [
          -25.641044187876915,
          -27.737503457400535
         ]
        },
        {
         "line": {
          "color": "red"
         },
         "marker": {
          "color": "red",
          "size": 2
         },
         "mode": "lines+markers+text",
         "type": "scatter3d",
         "x": [
          0.2029815481768722,
          -0.780037624968422
         ],
         "y": [
          -27.664160480101906,
          -15.718051542838417
         ],
         "z": [
          -27.737503457400535,
          0.6139658805396824
         ]
        },
        {
         "line": {
          "color": "red"
         },
         "marker": {
          "color": "red",
          "size": 2
         },
         "mode": "lines+markers+text",
         "type": "scatter3d",
         "x": [
          -0.780037624968422,
          6.129450516568291
         ],
         "y": [
          -15.718051542838417,
          -15.738032509883247
         ],
         "z": [
          0.6139658805396824,
          2.271359455254343
         ]
        },
        {
         "line": {
          "color": "red"
         },
         "marker": {
          "color": "red",
          "size": 2
         },
         "mode": "lines+markers+text",
         "type": "scatter3d",
         "x": [
          6.129450516568291,
          9.73357649313079
         ],
         "y": [
          -15.738032509883247,
          -2.3914647599061354
         ],
         "z": [
          2.271359455254343,
          6.928952079680231
         ]
        },
        {
         "line": {
          "color": "red"
         },
         "marker": {
          "color": "red",
          "size": 2
         },
         "mode": "lines+markers+text",
         "type": "scatter3d",
         "x": [
          9.73357649313079,
          13.886056260930168
         ],
         "y": [
          -2.3914647599061354,
          8.97278363505999
         ],
         "z": [
          6.928952079680231,
          -8.05333327088091
         ]
        },
        {
         "line": {
          "color": "red"
         },
         "marker": {
          "color": "red",
          "size": 2
         },
         "mode": "lines+markers+text",
         "type": "scatter3d",
         "x": [
          13.886056260930168,
          9.73357649313079
         ],
         "y": [
          8.97278363505999,
          -2.3914647599061354
         ],
         "z": [
          -8.05333327088091,
          6.928952079680231
         ]
        },
        {
         "line": {
          "color": "red"
         },
         "marker": {
          "color": "red",
          "size": 2
         },
         "mode": "lines+markers+text",
         "type": "scatter3d",
         "x": [
          9.73357649313079,
          6.129450516568291
         ],
         "y": [
          -2.3914647599061354,
          -15.738032509883247
         ],
         "z": [
          6.928952079680231,
          2.271359455254343
         ]
        },
        {
         "line": {
          "color": "red"
         },
         "marker": {
          "color": "red",
          "size": 2
         },
         "mode": "lines+markers+text",
         "type": "scatter3d",
         "x": [
          6.129450516568291,
          -0.780037624968422
         ],
         "y": [
          -15.738032509883247,
          -15.718051542838417
         ],
         "z": [
          2.271359455254343,
          0.6139658805396824
         ]
        },
        {
         "line": {
          "color": "red"
         },
         "marker": {
          "color": "red",
          "size": 2
         },
         "mode": "lines+markers+text",
         "type": "scatter3d",
         "x": [
          -0.780037624968422,
          -7.689525766505135
         ],
         "y": [
          -15.718051542838417,
          -15.698070575793587
         ],
         "z": [
          0.6139658805396824,
          -1.0434276941749783
         ]
        },
        {
         "line": {
          "color": "red"
         },
         "marker": {
          "color": "red",
          "size": 2
         },
         "mode": "lines+markers+text",
         "type": "scatter3d",
         "x": [
          -7.689525766505135,
          -10.550429506434334
         ],
         "y": [
          -15.698070575793587,
          -2.307508637507759
         ],
         "z": [
          -1.0434276941749783,
          1.0159068223502903
         ]
        },
        {
         "line": {
          "color": "red"
         },
         "marker": {
          "color": "red",
          "size": 2
         },
         "mode": "lines+markers+text",
         "type": "scatter3d",
         "x": [
          -10.550429506434334,
          -14.04705254567994
         ],
         "y": [
          -2.307508637507759,
          8.330019066731133
         ],
         "z": [
          1.0159068223502903,
          -17.173775244090294
         ]
        },
        {
         "line": {
          "color": "red"
         },
         "marker": {
          "color": "red",
          "size": 2
         },
         "mode": "lines+markers+text",
         "type": "scatter3d",
         "x": [
          -14.04705254567994,
          -10.550429506434334
         ],
         "y": [
          8.330019066731133,
          -2.307508637507759
         ],
         "z": [
          -17.173775244090294,
          1.0159068223502903
         ]
        },
        {
         "line": {
          "color": "red"
         },
         "marker": {
          "color": "red",
          "size": 2
         },
         "mode": "lines+markers+text",
         "type": "scatter3d",
         "x": [
          -10.550429506434334,
          -7.689525766505135
         ],
         "y": [
          -2.307508637507759,
          -15.698070575793587
         ],
         "z": [
          1.0159068223502903,
          -1.0434276941749783
         ]
        },
        {
         "line": {
          "color": "red"
         },
         "marker": {
          "color": "red",
          "size": 2
         },
         "mode": "lines+markers+text",
         "type": "scatter3d",
         "x": [
          -7.689525766505135,
          -0.780037624968422
         ],
         "y": [
          -15.698070575793587,
          -15.718051542838417
         ],
         "z": [
          -1.0434276941749783,
          0.6139658805396824
         ]
        },
        {
         "line": {
          "color": "red"
         },
         "marker": {
          "color": "red",
          "size": 2
         },
         "mode": "lines+markers+text",
         "type": "scatter3d",
         "x": [
          -0.780037624968422,
          4.04401214586364
         ],
         "y": [
          -15.718051542838417,
          8.482916901508965
         ],
         "z": [
          0.6139658805396824,
          14.538666554209259
         ]
        },
        {
         "line": {
          "color": "red"
         },
         "marker": {
          "color": "red",
          "size": 2
         },
         "mode": "lines+markers+text",
         "type": "scatter3d",
         "x": [
          4.04401214586364,
          6.068305091725456
         ],
         "y": [
          8.482916901508965,
          31.75047809878985
         ],
         "z": [
          14.538666554209259,
          12.86973547604349
         ]
        },
        {
         "line": {
          "color": "red"
         },
         "marker": {
          "color": "red",
          "size": 2
         },
         "mode": "lines+markers+text",
         "type": "scatter3d",
         "x": [
          6.068305091725456,
          7.419587092267143
         ],
         "y": [
          31.75047809878985,
          49.940778563419975
         ],
         "z": [
          12.86973547604349,
          30.071867298748757
         ]
        },
        {
         "line": {
          "color": "red"
         },
         "marker": {
          "color": "red",
          "size": 2
         },
         "mode": "lines+markers+text",
         "type": "scatter3d",
         "x": [
          7.419587092267143,
          6.068305091725456
         ],
         "y": [
          49.940778563419975,
          31.75047809878985
         ],
         "z": [
          30.071867298748757,
          12.86973547604349
         ]
        },
        {
         "line": {
          "color": "red"
         },
         "marker": {
          "color": "red",
          "size": 2
         },
         "mode": "lines+markers+text",
         "type": "scatter3d",
         "x": [
          6.068305091725456,
          4.04401214586364
         ],
         "y": [
          31.75047809878985,
          8.482916901508965
         ],
         "z": [
          12.86973547604349,
          14.538666554209259
         ]
        },
        {
         "line": {
          "color": "red"
         },
         "marker": {
          "color": "red",
          "size": 2
         },
         "mode": "lines+markers+text",
         "type": "scatter3d",
         "x": [
          4.04401214586364,
          -0.780037624968422
         ],
         "y": [
          8.482916901508965,
          -15.718051542838417
         ],
         "z": [
          14.538666554209259,
          0.6139658805396824
         ]
        },
        {
         "line": {
          "color": "red"
         },
         "marker": {
          "color": "red",
          "size": 2
         },
         "mode": "lines+markers+text",
         "type": "scatter3d",
         "x": [
          -0.780037624968422,
          -3.414293213023079
         ],
         "y": [
          -15.718051542838417,
          8.438636610905327
         ],
         "z": [
          0.6139658805396824,
          13.664945349511173
         ]
        },
        {
         "line": {
          "color": "red"
         },
         "marker": {
          "color": "red",
          "size": 2
         },
         "mode": "lines+markers+text",
         "type": "scatter3d",
         "x": [
          -3.414293213023079,
          -4.896464033259285
         ],
         "y": [
          8.438636610905327,
          30.892648051182427
         ],
         "z": [
          13.664945349511173,
          12.47731786635187
         ]
        },
        {
         "line": {
          "color": "red"
         },
         "marker": {
          "color": "red",
          "size": 2
         },
         "mode": "lines+markers+text",
         "type": "scatter3d",
         "x": [
          -4.896464033259285,
          -5.17869202627076
         ],
         "y": [
          30.892648051182427,
          51.115925858418144
         ],
         "z": [
          12.47731786635187,
          31.919401180413033
         ]
        }
       ],
       "layout": {
        "scene": {
         "camera": {
          "eye": {
           "x": -1,
           "y": -1,
           "z": 1
          }
         }
        },
        "template": {
         "data": {
          "bar": [
           {
            "error_x": {
             "color": "#2a3f5f"
            },
            "error_y": {
             "color": "#2a3f5f"
            },
            "marker": {
             "line": {
              "color": "#E5ECF6",
              "width": 0.5
             },
             "pattern": {
              "fillmode": "overlay",
              "size": 10,
              "solidity": 0.2
             }
            },
            "type": "bar"
           }
          ],
          "barpolar": [
           {
            "marker": {
             "line": {
              "color": "#E5ECF6",
              "width": 0.5
             },
             "pattern": {
              "fillmode": "overlay",
              "size": 10,
              "solidity": 0.2
             }
            },
            "type": "barpolar"
           }
          ],
          "carpet": [
           {
            "aaxis": {
             "endlinecolor": "#2a3f5f",
             "gridcolor": "white",
             "linecolor": "white",
             "minorgridcolor": "white",
             "startlinecolor": "#2a3f5f"
            },
            "baxis": {
             "endlinecolor": "#2a3f5f",
             "gridcolor": "white",
             "linecolor": "white",
             "minorgridcolor": "white",
             "startlinecolor": "#2a3f5f"
            },
            "type": "carpet"
           }
          ],
          "choropleth": [
           {
            "colorbar": {
             "outlinewidth": 0,
             "ticks": ""
            },
            "type": "choropleth"
           }
          ],
          "contour": [
           {
            "colorbar": {
             "outlinewidth": 0,
             "ticks": ""
            },
            "colorscale": [
             [
              0,
              "#0d0887"
             ],
             [
              0.1111111111111111,
              "#46039f"
             ],
             [
              0.2222222222222222,
              "#7201a8"
             ],
             [
              0.3333333333333333,
              "#9c179e"
             ],
             [
              0.4444444444444444,
              "#bd3786"
             ],
             [
              0.5555555555555556,
              "#d8576b"
             ],
             [
              0.6666666666666666,
              "#ed7953"
             ],
             [
              0.7777777777777778,
              "#fb9f3a"
             ],
             [
              0.8888888888888888,
              "#fdca26"
             ],
             [
              1,
              "#f0f921"
             ]
            ],
            "type": "contour"
           }
          ],
          "contourcarpet": [
           {
            "colorbar": {
             "outlinewidth": 0,
             "ticks": ""
            },
            "type": "contourcarpet"
           }
          ],
          "heatmap": [
           {
            "colorbar": {
             "outlinewidth": 0,
             "ticks": ""
            },
            "colorscale": [
             [
              0,
              "#0d0887"
             ],
             [
              0.1111111111111111,
              "#46039f"
             ],
             [
              0.2222222222222222,
              "#7201a8"
             ],
             [
              0.3333333333333333,
              "#9c179e"
             ],
             [
              0.4444444444444444,
              "#bd3786"
             ],
             [
              0.5555555555555556,
              "#d8576b"
             ],
             [
              0.6666666666666666,
              "#ed7953"
             ],
             [
              0.7777777777777778,
              "#fb9f3a"
             ],
             [
              0.8888888888888888,
              "#fdca26"
             ],
             [
              1,
              "#f0f921"
             ]
            ],
            "type": "heatmap"
           }
          ],
          "heatmapgl": [
           {
            "colorbar": {
             "outlinewidth": 0,
             "ticks": ""
            },
            "colorscale": [
             [
              0,
              "#0d0887"
             ],
             [
              0.1111111111111111,
              "#46039f"
             ],
             [
              0.2222222222222222,
              "#7201a8"
             ],
             [
              0.3333333333333333,
              "#9c179e"
             ],
             [
              0.4444444444444444,
              "#bd3786"
             ],
             [
              0.5555555555555556,
              "#d8576b"
             ],
             [
              0.6666666666666666,
              "#ed7953"
             ],
             [
              0.7777777777777778,
              "#fb9f3a"
             ],
             [
              0.8888888888888888,
              "#fdca26"
             ],
             [
              1,
              "#f0f921"
             ]
            ],
            "type": "heatmapgl"
           }
          ],
          "histogram": [
           {
            "marker": {
             "pattern": {
              "fillmode": "overlay",
              "size": 10,
              "solidity": 0.2
             }
            },
            "type": "histogram"
           }
          ],
          "histogram2d": [
           {
            "colorbar": {
             "outlinewidth": 0,
             "ticks": ""
            },
            "colorscale": [
             [
              0,
              "#0d0887"
             ],
             [
              0.1111111111111111,
              "#46039f"
             ],
             [
              0.2222222222222222,
              "#7201a8"
             ],
             [
              0.3333333333333333,
              "#9c179e"
             ],
             [
              0.4444444444444444,
              "#bd3786"
             ],
             [
              0.5555555555555556,
              "#d8576b"
             ],
             [
              0.6666666666666666,
              "#ed7953"
             ],
             [
              0.7777777777777778,
              "#fb9f3a"
             ],
             [
              0.8888888888888888,
              "#fdca26"
             ],
             [
              1,
              "#f0f921"
             ]
            ],
            "type": "histogram2d"
           }
          ],
          "histogram2dcontour": [
           {
            "colorbar": {
             "outlinewidth": 0,
             "ticks": ""
            },
            "colorscale": [
             [
              0,
              "#0d0887"
             ],
             [
              0.1111111111111111,
              "#46039f"
             ],
             [
              0.2222222222222222,
              "#7201a8"
             ],
             [
              0.3333333333333333,
              "#9c179e"
             ],
             [
              0.4444444444444444,
              "#bd3786"
             ],
             [
              0.5555555555555556,
              "#d8576b"
             ],
             [
              0.6666666666666666,
              "#ed7953"
             ],
             [
              0.7777777777777778,
              "#fb9f3a"
             ],
             [
              0.8888888888888888,
              "#fdca26"
             ],
             [
              1,
              "#f0f921"
             ]
            ],
            "type": "histogram2dcontour"
           }
          ],
          "mesh3d": [
           {
            "colorbar": {
             "outlinewidth": 0,
             "ticks": ""
            },
            "type": "mesh3d"
           }
          ],
          "parcoords": [
           {
            "line": {
             "colorbar": {
              "outlinewidth": 0,
              "ticks": ""
             }
            },
            "type": "parcoords"
           }
          ],
          "pie": [
           {
            "automargin": true,
            "type": "pie"
           }
          ],
          "scatter": [
           {
            "fillpattern": {
             "fillmode": "overlay",
             "size": 10,
             "solidity": 0.2
            },
            "type": "scatter"
           }
          ],
          "scatter3d": [
           {
            "line": {
             "colorbar": {
              "outlinewidth": 0,
              "ticks": ""
             }
            },
            "marker": {
             "colorbar": {
              "outlinewidth": 0,
              "ticks": ""
             }
            },
            "type": "scatter3d"
           }
          ],
          "scattercarpet": [
           {
            "marker": {
             "colorbar": {
              "outlinewidth": 0,
              "ticks": ""
             }
            },
            "type": "scattercarpet"
           }
          ],
          "scattergeo": [
           {
            "marker": {
             "colorbar": {
              "outlinewidth": 0,
              "ticks": ""
             }
            },
            "type": "scattergeo"
           }
          ],
          "scattergl": [
           {
            "marker": {
             "colorbar": {
              "outlinewidth": 0,
              "ticks": ""
             }
            },
            "type": "scattergl"
           }
          ],
          "scattermapbox": [
           {
            "marker": {
             "colorbar": {
              "outlinewidth": 0,
              "ticks": ""
             }
            },
            "type": "scattermapbox"
           }
          ],
          "scatterpolar": [
           {
            "marker": {
             "colorbar": {
              "outlinewidth": 0,
              "ticks": ""
             }
            },
            "type": "scatterpolar"
           }
          ],
          "scatterpolargl": [
           {
            "marker": {
             "colorbar": {
              "outlinewidth": 0,
              "ticks": ""
             }
            },
            "type": "scatterpolargl"
           }
          ],
          "scatterternary": [
           {
            "marker": {
             "colorbar": {
              "outlinewidth": 0,
              "ticks": ""
             }
            },
            "type": "scatterternary"
           }
          ],
          "surface": [
           {
            "colorbar": {
             "outlinewidth": 0,
             "ticks": ""
            },
            "colorscale": [
             [
              0,
              "#0d0887"
             ],
             [
              0.1111111111111111,
              "#46039f"
             ],
             [
              0.2222222222222222,
              "#7201a8"
             ],
             [
              0.3333333333333333,
              "#9c179e"
             ],
             [
              0.4444444444444444,
              "#bd3786"
             ],
             [
              0.5555555555555556,
              "#d8576b"
             ],
             [
              0.6666666666666666,
              "#ed7953"
             ],
             [
              0.7777777777777778,
              "#fb9f3a"
             ],
             [
              0.8888888888888888,
              "#fdca26"
             ],
             [
              1,
              "#f0f921"
             ]
            ],
            "type": "surface"
           }
          ],
          "table": [
           {
            "cells": {
             "fill": {
              "color": "#EBF0F8"
             },
             "line": {
              "color": "white"
             }
            },
            "header": {
             "fill": {
              "color": "#C8D4E3"
             },
             "line": {
              "color": "white"
             }
            },
            "type": "table"
           }
          ]
         },
         "layout": {
          "annotationdefaults": {
           "arrowcolor": "#2a3f5f",
           "arrowhead": 0,
           "arrowwidth": 1
          },
          "autotypenumbers": "strict",
          "coloraxis": {
           "colorbar": {
            "outlinewidth": 0,
            "ticks": ""
           }
          },
          "colorscale": {
           "diverging": [
            [
             0,
             "#8e0152"
            ],
            [
             0.1,
             "#c51b7d"
            ],
            [
             0.2,
             "#de77ae"
            ],
            [
             0.3,
             "#f1b6da"
            ],
            [
             0.4,
             "#fde0ef"
            ],
            [
             0.5,
             "#f7f7f7"
            ],
            [
             0.6,
             "#e6f5d0"
            ],
            [
             0.7,
             "#b8e186"
            ],
            [
             0.8,
             "#7fbc41"
            ],
            [
             0.9,
             "#4d9221"
            ],
            [
             1,
             "#276419"
            ]
           ],
           "sequential": [
            [
             0,
             "#0d0887"
            ],
            [
             0.1111111111111111,
             "#46039f"
            ],
            [
             0.2222222222222222,
             "#7201a8"
            ],
            [
             0.3333333333333333,
             "#9c179e"
            ],
            [
             0.4444444444444444,
             "#bd3786"
            ],
            [
             0.5555555555555556,
             "#d8576b"
            ],
            [
             0.6666666666666666,
             "#ed7953"
            ],
            [
             0.7777777777777778,
             "#fb9f3a"
            ],
            [
             0.8888888888888888,
             "#fdca26"
            ],
            [
             1,
             "#f0f921"
            ]
           ],
           "sequentialminus": [
            [
             0,
             "#0d0887"
            ],
            [
             0.1111111111111111,
             "#46039f"
            ],
            [
             0.2222222222222222,
             "#7201a8"
            ],
            [
             0.3333333333333333,
             "#9c179e"
            ],
            [
             0.4444444444444444,
             "#bd3786"
            ],
            [
             0.5555555555555556,
             "#d8576b"
            ],
            [
             0.6666666666666666,
             "#ed7953"
            ],
            [
             0.7777777777777778,
             "#fb9f3a"
            ],
            [
             0.8888888888888888,
             "#fdca26"
            ],
            [
             1,
             "#f0f921"
            ]
           ]
          },
          "colorway": [
           "#636efa",
           "#EF553B",
           "#00cc96",
           "#ab63fa",
           "#FFA15A",
           "#19d3f3",
           "#FF6692",
           "#B6E880",
           "#FF97FF",
           "#FECB52"
          ],
          "font": {
           "color": "#2a3f5f"
          },
          "geo": {
           "bgcolor": "white",
           "lakecolor": "white",
           "landcolor": "#E5ECF6",
           "showlakes": true,
           "showland": true,
           "subunitcolor": "white"
          },
          "hoverlabel": {
           "align": "left"
          },
          "hovermode": "closest",
          "mapbox": {
           "style": "light"
          },
          "paper_bgcolor": "white",
          "plot_bgcolor": "#E5ECF6",
          "polar": {
           "angularaxis": {
            "gridcolor": "white",
            "linecolor": "white",
            "ticks": ""
           },
           "bgcolor": "#E5ECF6",
           "radialaxis": {
            "gridcolor": "white",
            "linecolor": "white",
            "ticks": ""
           }
          },
          "scene": {
           "xaxis": {
            "backgroundcolor": "#E5ECF6",
            "gridcolor": "white",
            "gridwidth": 2,
            "linecolor": "white",
            "showbackground": true,
            "ticks": "",
            "zerolinecolor": "white"
           },
           "yaxis": {
            "backgroundcolor": "#E5ECF6",
            "gridcolor": "white",
            "gridwidth": 2,
            "linecolor": "white",
            "showbackground": true,
            "ticks": "",
            "zerolinecolor": "white"
           },
           "zaxis": {
            "backgroundcolor": "#E5ECF6",
            "gridcolor": "white",
            "gridwidth": 2,
            "linecolor": "white",
            "showbackground": true,
            "ticks": "",
            "zerolinecolor": "white"
           }
          },
          "shapedefaults": {
           "line": {
            "color": "#2a3f5f"
           }
          },
          "ternary": {
           "aaxis": {
            "gridcolor": "white",
            "linecolor": "white",
            "ticks": ""
           },
           "baxis": {
            "gridcolor": "white",
            "linecolor": "white",
            "ticks": ""
           },
           "bgcolor": "#E5ECF6",
           "caxis": {
            "gridcolor": "white",
            "linecolor": "white",
            "ticks": ""
           }
          },
          "title": {
           "x": 0.05
          },
          "xaxis": {
           "automargin": true,
           "gridcolor": "white",
           "linecolor": "white",
           "ticks": "",
           "title": {
            "standoff": 15
           },
           "zerolinecolor": "white",
           "zerolinewidth": 2
          },
          "yaxis": {
           "automargin": true,
           "gridcolor": "white",
           "linecolor": "white",
           "ticks": "",
           "title": {
            "standoff": 15
           },
           "zerolinecolor": "white",
           "zerolinewidth": 2
          }
         }
        }
       }
      },
      "text/html": [
       "<div>                            <div id=\"484ce33b-af00-48e7-86e0-5760513a7df2\" class=\"plotly-graph-div\" style=\"height:525px; width:100%;\"></div>            <script type=\"text/javascript\">                require([\"plotly\"], function(Plotly) {                    window.PLOTLYENV=window.PLOTLYENV || {};                                    if (document.getElementById(\"484ce33b-af00-48e7-86e0-5760513a7df2\")) {                    Plotly.newPlot(                        \"484ce33b-af00-48e7-86e0-5760513a7df2\",                        [{\"line\":{\"color\":\"red\"},\"marker\":{\"color\":\"red\",\"size\":2},\"mode\":\"lines+markers+text\",\"x\":[2.066186981068718,1.502476053105461],\"y\":[-29.0971410771211,-30.022904028495155],\"z\":[-9.838617551657888,-25.353502440783714],\"type\":\"scatter3d\"},{\"line\":{\"color\":\"red\"},\"marker\":{\"color\":\"red\",\"size\":2},\"mode\":\"lines+markers+text\",\"x\":[1.502476053105461,0.2029815481768722],\"y\":[-30.022904028495155,-27.664160480101906],\"z\":[-25.353502440783714,-27.737503457400535],\"type\":\"scatter3d\"},{\"line\":{\"color\":\"red\"},\"marker\":{\"color\":\"red\",\"size\":2},\"mode\":\"lines+markers+text\",\"x\":[0.2029815481768722,-1.4347216321362382],\"y\":[-27.664160480101906,-30.014134695132576],\"z\":[-27.737503457400535,-25.641044187876915],\"type\":\"scatter3d\"},{\"line\":{\"color\":\"red\"},\"marker\":{\"color\":\"red\",\"size\":2},\"mode\":\"lines+markers+text\",\"x\":[-1.4347216321362382,-3.061415834559334],\"y\":[-30.014134695132576,-29.27271847923597],\"z\":[-25.641044187876915,-11.530914116236898],\"type\":\"scatter3d\"},{\"line\":{\"color\":\"red\"},\"marker\":{\"color\":\"red\",\"size\":2},\"mode\":\"lines+markers+text\",\"x\":[-3.061415834559334,-1.4347216321362382],\"y\":[-29.27271847923597,-30.014134695132576],\"z\":[-11.530914116236898,-25.641044187876915],\"type\":\"scatter3d\"},{\"line\":{\"color\":\"red\"},\"marker\":{\"color\":\"red\",\"size\":2},\"mode\":\"lines+markers+text\",\"x\":[-1.4347216321362382,0.2029815481768722],\"y\":[-30.014134695132576,-27.664160480101906],\"z\":[-25.641044187876915,-27.737503457400535],\"type\":\"scatter3d\"},{\"line\":{\"color\":\"red\"},\"marker\":{\"color\":\"red\",\"size\":2},\"mode\":\"lines+markers+text\",\"x\":[0.2029815481768722,-0.780037624968422],\"y\":[-27.664160480101906,-15.718051542838417],\"z\":[-27.737503457400535,0.6139658805396824],\"type\":\"scatter3d\"},{\"line\":{\"color\":\"red\"},\"marker\":{\"color\":\"red\",\"size\":2},\"mode\":\"lines+markers+text\",\"x\":[-0.780037624968422,6.129450516568291],\"y\":[-15.718051542838417,-15.738032509883247],\"z\":[0.6139658805396824,2.271359455254343],\"type\":\"scatter3d\"},{\"line\":{\"color\":\"red\"},\"marker\":{\"color\":\"red\",\"size\":2},\"mode\":\"lines+markers+text\",\"x\":[6.129450516568291,9.73357649313079],\"y\":[-15.738032509883247,-2.3914647599061354],\"z\":[2.271359455254343,6.928952079680231],\"type\":\"scatter3d\"},{\"line\":{\"color\":\"red\"},\"marker\":{\"color\":\"red\",\"size\":2},\"mode\":\"lines+markers+text\",\"x\":[9.73357649313079,13.886056260930168],\"y\":[-2.3914647599061354,8.97278363505999],\"z\":[6.928952079680231,-8.05333327088091],\"type\":\"scatter3d\"},{\"line\":{\"color\":\"red\"},\"marker\":{\"color\":\"red\",\"size\":2},\"mode\":\"lines+markers+text\",\"x\":[13.886056260930168,9.73357649313079],\"y\":[8.97278363505999,-2.3914647599061354],\"z\":[-8.05333327088091,6.928952079680231],\"type\":\"scatter3d\"},{\"line\":{\"color\":\"red\"},\"marker\":{\"color\":\"red\",\"size\":2},\"mode\":\"lines+markers+text\",\"x\":[9.73357649313079,6.129450516568291],\"y\":[-2.3914647599061354,-15.738032509883247],\"z\":[6.928952079680231,2.271359455254343],\"type\":\"scatter3d\"},{\"line\":{\"color\":\"red\"},\"marker\":{\"color\":\"red\",\"size\":2},\"mode\":\"lines+markers+text\",\"x\":[6.129450516568291,-0.780037624968422],\"y\":[-15.738032509883247,-15.718051542838417],\"z\":[2.271359455254343,0.6139658805396824],\"type\":\"scatter3d\"},{\"line\":{\"color\":\"red\"},\"marker\":{\"color\":\"red\",\"size\":2},\"mode\":\"lines+markers+text\",\"x\":[-0.780037624968422,-7.689525766505135],\"y\":[-15.718051542838417,-15.698070575793587],\"z\":[0.6139658805396824,-1.0434276941749783],\"type\":\"scatter3d\"},{\"line\":{\"color\":\"red\"},\"marker\":{\"color\":\"red\",\"size\":2},\"mode\":\"lines+markers+text\",\"x\":[-7.689525766505135,-10.550429506434334],\"y\":[-15.698070575793587,-2.307508637507759],\"z\":[-1.0434276941749783,1.0159068223502903],\"type\":\"scatter3d\"},{\"line\":{\"color\":\"red\"},\"marker\":{\"color\":\"red\",\"size\":2},\"mode\":\"lines+markers+text\",\"x\":[-10.550429506434334,-14.04705254567994],\"y\":[-2.307508637507759,8.330019066731133],\"z\":[1.0159068223502903,-17.173775244090294],\"type\":\"scatter3d\"},{\"line\":{\"color\":\"red\"},\"marker\":{\"color\":\"red\",\"size\":2},\"mode\":\"lines+markers+text\",\"x\":[-14.04705254567994,-10.550429506434334],\"y\":[8.330019066731133,-2.307508637507759],\"z\":[-17.173775244090294,1.0159068223502903],\"type\":\"scatter3d\"},{\"line\":{\"color\":\"red\"},\"marker\":{\"color\":\"red\",\"size\":2},\"mode\":\"lines+markers+text\",\"x\":[-10.550429506434334,-7.689525766505135],\"y\":[-2.307508637507759,-15.698070575793587],\"z\":[1.0159068223502903,-1.0434276941749783],\"type\":\"scatter3d\"},{\"line\":{\"color\":\"red\"},\"marker\":{\"color\":\"red\",\"size\":2},\"mode\":\"lines+markers+text\",\"x\":[-7.689525766505135,-0.780037624968422],\"y\":[-15.698070575793587,-15.718051542838417],\"z\":[-1.0434276941749783,0.6139658805396824],\"type\":\"scatter3d\"},{\"line\":{\"color\":\"red\"},\"marker\":{\"color\":\"red\",\"size\":2},\"mode\":\"lines+markers+text\",\"x\":[-0.780037624968422,4.04401214586364],\"y\":[-15.718051542838417,8.482916901508965],\"z\":[0.6139658805396824,14.538666554209259],\"type\":\"scatter3d\"},{\"line\":{\"color\":\"red\"},\"marker\":{\"color\":\"red\",\"size\":2},\"mode\":\"lines+markers+text\",\"x\":[4.04401214586364,6.068305091725456],\"y\":[8.482916901508965,31.75047809878985],\"z\":[14.538666554209259,12.86973547604349],\"type\":\"scatter3d\"},{\"line\":{\"color\":\"red\"},\"marker\":{\"color\":\"red\",\"size\":2},\"mode\":\"lines+markers+text\",\"x\":[6.068305091725456,7.419587092267143],\"y\":[31.75047809878985,49.940778563419975],\"z\":[12.86973547604349,30.071867298748757],\"type\":\"scatter3d\"},{\"line\":{\"color\":\"red\"},\"marker\":{\"color\":\"red\",\"size\":2},\"mode\":\"lines+markers+text\",\"x\":[7.419587092267143,6.068305091725456],\"y\":[49.940778563419975,31.75047809878985],\"z\":[30.071867298748757,12.86973547604349],\"type\":\"scatter3d\"},{\"line\":{\"color\":\"red\"},\"marker\":{\"color\":\"red\",\"size\":2},\"mode\":\"lines+markers+text\",\"x\":[6.068305091725456,4.04401214586364],\"y\":[31.75047809878985,8.482916901508965],\"z\":[12.86973547604349,14.538666554209259],\"type\":\"scatter3d\"},{\"line\":{\"color\":\"red\"},\"marker\":{\"color\":\"red\",\"size\":2},\"mode\":\"lines+markers+text\",\"x\":[4.04401214586364,-0.780037624968422],\"y\":[8.482916901508965,-15.718051542838417],\"z\":[14.538666554209259,0.6139658805396824],\"type\":\"scatter3d\"},{\"line\":{\"color\":\"red\"},\"marker\":{\"color\":\"red\",\"size\":2},\"mode\":\"lines+markers+text\",\"x\":[-0.780037624968422,-3.414293213023079],\"y\":[-15.718051542838417,8.438636610905327],\"z\":[0.6139658805396824,13.664945349511173],\"type\":\"scatter3d\"},{\"line\":{\"color\":\"red\"},\"marker\":{\"color\":\"red\",\"size\":2},\"mode\":\"lines+markers+text\",\"x\":[-3.414293213023079,-4.896464033259285],\"y\":[8.438636610905327,30.892648051182427],\"z\":[13.664945349511173,12.47731786635187],\"type\":\"scatter3d\"},{\"line\":{\"color\":\"red\"},\"marker\":{\"color\":\"red\",\"size\":2},\"mode\":\"lines+markers+text\",\"x\":[-4.896464033259285,-5.17869202627076],\"y\":[30.892648051182427,51.115925858418144],\"z\":[12.47731786635187,31.919401180413033],\"type\":\"scatter3d\"}],                        {\"scene\":{\"camera\":{\"eye\":{\"x\":-1,\"y\":-1,\"z\":1}}},\"template\":{\"data\":{\"histogram2dcontour\":[{\"type\":\"histogram2dcontour\",\"colorbar\":{\"outlinewidth\":0,\"ticks\":\"\"},\"colorscale\":[[0.0,\"#0d0887\"],[0.1111111111111111,\"#46039f\"],[0.2222222222222222,\"#7201a8\"],[0.3333333333333333,\"#9c179e\"],[0.4444444444444444,\"#bd3786\"],[0.5555555555555556,\"#d8576b\"],[0.6666666666666666,\"#ed7953\"],[0.7777777777777778,\"#fb9f3a\"],[0.8888888888888888,\"#fdca26\"],[1.0,\"#f0f921\"]]}],\"choropleth\":[{\"type\":\"choropleth\",\"colorbar\":{\"outlinewidth\":0,\"ticks\":\"\"}}],\"histogram2d\":[{\"type\":\"histogram2d\",\"colorbar\":{\"outlinewidth\":0,\"ticks\":\"\"},\"colorscale\":[[0.0,\"#0d0887\"],[0.1111111111111111,\"#46039f\"],[0.2222222222222222,\"#7201a8\"],[0.3333333333333333,\"#9c179e\"],[0.4444444444444444,\"#bd3786\"],[0.5555555555555556,\"#d8576b\"],[0.6666666666666666,\"#ed7953\"],[0.7777777777777778,\"#fb9f3a\"],[0.8888888888888888,\"#fdca26\"],[1.0,\"#f0f921\"]]}],\"heatmap\":[{\"type\":\"heatmap\",\"colorbar\":{\"outlinewidth\":0,\"ticks\":\"\"},\"colorscale\":[[0.0,\"#0d0887\"],[0.1111111111111111,\"#46039f\"],[0.2222222222222222,\"#7201a8\"],[0.3333333333333333,\"#9c179e\"],[0.4444444444444444,\"#bd3786\"],[0.5555555555555556,\"#d8576b\"],[0.6666666666666666,\"#ed7953\"],[0.7777777777777778,\"#fb9f3a\"],[0.8888888888888888,\"#fdca26\"],[1.0,\"#f0f921\"]]}],\"heatmapgl\":[{\"type\":\"heatmapgl\",\"colorbar\":{\"outlinewidth\":0,\"ticks\":\"\"},\"colorscale\":[[0.0,\"#0d0887\"],[0.1111111111111111,\"#46039f\"],[0.2222222222222222,\"#7201a8\"],[0.3333333333333333,\"#9c179e\"],[0.4444444444444444,\"#bd3786\"],[0.5555555555555556,\"#d8576b\"],[0.6666666666666666,\"#ed7953\"],[0.7777777777777778,\"#fb9f3a\"],[0.8888888888888888,\"#fdca26\"],[1.0,\"#f0f921\"]]}],\"contourcarpet\":[{\"type\":\"contourcarpet\",\"colorbar\":{\"outlinewidth\":0,\"ticks\":\"\"}}],\"contour\":[{\"type\":\"contour\",\"colorbar\":{\"outlinewidth\":0,\"ticks\":\"\"},\"colorscale\":[[0.0,\"#0d0887\"],[0.1111111111111111,\"#46039f\"],[0.2222222222222222,\"#7201a8\"],[0.3333333333333333,\"#9c179e\"],[0.4444444444444444,\"#bd3786\"],[0.5555555555555556,\"#d8576b\"],[0.6666666666666666,\"#ed7953\"],[0.7777777777777778,\"#fb9f3a\"],[0.8888888888888888,\"#fdca26\"],[1.0,\"#f0f921\"]]}],\"surface\":[{\"type\":\"surface\",\"colorbar\":{\"outlinewidth\":0,\"ticks\":\"\"},\"colorscale\":[[0.0,\"#0d0887\"],[0.1111111111111111,\"#46039f\"],[0.2222222222222222,\"#7201a8\"],[0.3333333333333333,\"#9c179e\"],[0.4444444444444444,\"#bd3786\"],[0.5555555555555556,\"#d8576b\"],[0.6666666666666666,\"#ed7953\"],[0.7777777777777778,\"#fb9f3a\"],[0.8888888888888888,\"#fdca26\"],[1.0,\"#f0f921\"]]}],\"mesh3d\":[{\"type\":\"mesh3d\",\"colorbar\":{\"outlinewidth\":0,\"ticks\":\"\"}}],\"scatter\":[{\"fillpattern\":{\"fillmode\":\"overlay\",\"size\":10,\"solidity\":0.2},\"type\":\"scatter\"}],\"parcoords\":[{\"type\":\"parcoords\",\"line\":{\"colorbar\":{\"outlinewidth\":0,\"ticks\":\"\"}}}],\"scatterpolargl\":[{\"type\":\"scatterpolargl\",\"marker\":{\"colorbar\":{\"outlinewidth\":0,\"ticks\":\"\"}}}],\"bar\":[{\"error_x\":{\"color\":\"#2a3f5f\"},\"error_y\":{\"color\":\"#2a3f5f\"},\"marker\":{\"line\":{\"color\":\"#E5ECF6\",\"width\":0.5},\"pattern\":{\"fillmode\":\"overlay\",\"size\":10,\"solidity\":0.2}},\"type\":\"bar\"}],\"scattergeo\":[{\"type\":\"scattergeo\",\"marker\":{\"colorbar\":{\"outlinewidth\":0,\"ticks\":\"\"}}}],\"scatterpolar\":[{\"type\":\"scatterpolar\",\"marker\":{\"colorbar\":{\"outlinewidth\":0,\"ticks\":\"\"}}}],\"histogram\":[{\"marker\":{\"pattern\":{\"fillmode\":\"overlay\",\"size\":10,\"solidity\":0.2}},\"type\":\"histogram\"}],\"scattergl\":[{\"type\":\"scattergl\",\"marker\":{\"colorbar\":{\"outlinewidth\":0,\"ticks\":\"\"}}}],\"scatter3d\":[{\"type\":\"scatter3d\",\"line\":{\"colorbar\":{\"outlinewidth\":0,\"ticks\":\"\"}},\"marker\":{\"colorbar\":{\"outlinewidth\":0,\"ticks\":\"\"}}}],\"scattermapbox\":[{\"type\":\"scattermapbox\",\"marker\":{\"colorbar\":{\"outlinewidth\":0,\"ticks\":\"\"}}}],\"scatterternary\":[{\"type\":\"scatterternary\",\"marker\":{\"colorbar\":{\"outlinewidth\":0,\"ticks\":\"\"}}}],\"scattercarpet\":[{\"type\":\"scattercarpet\",\"marker\":{\"colorbar\":{\"outlinewidth\":0,\"ticks\":\"\"}}}],\"carpet\":[{\"aaxis\":{\"endlinecolor\":\"#2a3f5f\",\"gridcolor\":\"white\",\"linecolor\":\"white\",\"minorgridcolor\":\"white\",\"startlinecolor\":\"#2a3f5f\"},\"baxis\":{\"endlinecolor\":\"#2a3f5f\",\"gridcolor\":\"white\",\"linecolor\":\"white\",\"minorgridcolor\":\"white\",\"startlinecolor\":\"#2a3f5f\"},\"type\":\"carpet\"}],\"table\":[{\"cells\":{\"fill\":{\"color\":\"#EBF0F8\"},\"line\":{\"color\":\"white\"}},\"header\":{\"fill\":{\"color\":\"#C8D4E3\"},\"line\":{\"color\":\"white\"}},\"type\":\"table\"}],\"barpolar\":[{\"marker\":{\"line\":{\"color\":\"#E5ECF6\",\"width\":0.5},\"pattern\":{\"fillmode\":\"overlay\",\"size\":10,\"solidity\":0.2}},\"type\":\"barpolar\"}],\"pie\":[{\"automargin\":true,\"type\":\"pie\"}]},\"layout\":{\"autotypenumbers\":\"strict\",\"colorway\":[\"#636efa\",\"#EF553B\",\"#00cc96\",\"#ab63fa\",\"#FFA15A\",\"#19d3f3\",\"#FF6692\",\"#B6E880\",\"#FF97FF\",\"#FECB52\"],\"font\":{\"color\":\"#2a3f5f\"},\"hovermode\":\"closest\",\"hoverlabel\":{\"align\":\"left\"},\"paper_bgcolor\":\"white\",\"plot_bgcolor\":\"#E5ECF6\",\"polar\":{\"bgcolor\":\"#E5ECF6\",\"angularaxis\":{\"gridcolor\":\"white\",\"linecolor\":\"white\",\"ticks\":\"\"},\"radialaxis\":{\"gridcolor\":\"white\",\"linecolor\":\"white\",\"ticks\":\"\"}},\"ternary\":{\"bgcolor\":\"#E5ECF6\",\"aaxis\":{\"gridcolor\":\"white\",\"linecolor\":\"white\",\"ticks\":\"\"},\"baxis\":{\"gridcolor\":\"white\",\"linecolor\":\"white\",\"ticks\":\"\"},\"caxis\":{\"gridcolor\":\"white\",\"linecolor\":\"white\",\"ticks\":\"\"}},\"coloraxis\":{\"colorbar\":{\"outlinewidth\":0,\"ticks\":\"\"}},\"colorscale\":{\"sequential\":[[0.0,\"#0d0887\"],[0.1111111111111111,\"#46039f\"],[0.2222222222222222,\"#7201a8\"],[0.3333333333333333,\"#9c179e\"],[0.4444444444444444,\"#bd3786\"],[0.5555555555555556,\"#d8576b\"],[0.6666666666666666,\"#ed7953\"],[0.7777777777777778,\"#fb9f3a\"],[0.8888888888888888,\"#fdca26\"],[1.0,\"#f0f921\"]],\"sequentialminus\":[[0.0,\"#0d0887\"],[0.1111111111111111,\"#46039f\"],[0.2222222222222222,\"#7201a8\"],[0.3333333333333333,\"#9c179e\"],[0.4444444444444444,\"#bd3786\"],[0.5555555555555556,\"#d8576b\"],[0.6666666666666666,\"#ed7953\"],[0.7777777777777778,\"#fb9f3a\"],[0.8888888888888888,\"#fdca26\"],[1.0,\"#f0f921\"]],\"diverging\":[[0,\"#8e0152\"],[0.1,\"#c51b7d\"],[0.2,\"#de77ae\"],[0.3,\"#f1b6da\"],[0.4,\"#fde0ef\"],[0.5,\"#f7f7f7\"],[0.6,\"#e6f5d0\"],[0.7,\"#b8e186\"],[0.8,\"#7fbc41\"],[0.9,\"#4d9221\"],[1,\"#276419\"]]},\"xaxis\":{\"gridcolor\":\"white\",\"linecolor\":\"white\",\"ticks\":\"\",\"title\":{\"standoff\":15},\"zerolinecolor\":\"white\",\"automargin\":true,\"zerolinewidth\":2},\"yaxis\":{\"gridcolor\":\"white\",\"linecolor\":\"white\",\"ticks\":\"\",\"title\":{\"standoff\":15},\"zerolinecolor\":\"white\",\"automargin\":true,\"zerolinewidth\":2},\"scene\":{\"xaxis\":{\"backgroundcolor\":\"#E5ECF6\",\"gridcolor\":\"white\",\"linecolor\":\"white\",\"showbackground\":true,\"ticks\":\"\",\"zerolinecolor\":\"white\",\"gridwidth\":2},\"yaxis\":{\"backgroundcolor\":\"#E5ECF6\",\"gridcolor\":\"white\",\"linecolor\":\"white\",\"showbackground\":true,\"ticks\":\"\",\"zerolinecolor\":\"white\",\"gridwidth\":2},\"zaxis\":{\"backgroundcolor\":\"#E5ECF6\",\"gridcolor\":\"white\",\"linecolor\":\"white\",\"showbackground\":true,\"ticks\":\"\",\"zerolinecolor\":\"white\",\"gridwidth\":2}},\"shapedefaults\":{\"line\":{\"color\":\"#2a3f5f\"}},\"annotationdefaults\":{\"arrowcolor\":\"#2a3f5f\",\"arrowhead\":0,\"arrowwidth\":1},\"geo\":{\"bgcolor\":\"white\",\"landcolor\":\"#E5ECF6\",\"subunitcolor\":\"white\",\"showland\":true,\"showlakes\":true,\"lakecolor\":\"white\"},\"title\":{\"x\":0.05},\"mapbox\":{\"style\":\"light\"}}}},                        {\"responsive\": true}                    ).then(function(){\n",
       "                            \n",
       "var gd = document.getElementById('484ce33b-af00-48e7-86e0-5760513a7df2');\n",
       "var x = new MutationObserver(function (mutations, observer) {{\n",
       "        var display = window.getComputedStyle(gd).display;\n",
       "        if (!display || display === 'none') {{\n",
       "            console.log([gd, 'removed!']);\n",
       "            Plotly.purge(gd);\n",
       "            observer.disconnect();\n",
       "        }}\n",
       "}});\n",
       "\n",
       "// Listen for the removal of the full notebook cells\n",
       "var notebookContainer = gd.closest('#notebook-container');\n",
       "if (notebookContainer) {{\n",
       "    x.observe(notebookContainer, {childList: true});\n",
       "}}\n",
       "\n",
       "// Listen for the clearing of the current output cell\n",
       "var outputEl = gd.closest('.output');\n",
       "if (outputEl) {{\n",
       "    x.observe(outputEl, {childList: true});\n",
       "}}\n",
       "\n",
       "                        })                };                });            </script>        </div>"
      ]
     },
     "metadata": {},
     "output_type": "display_data"
    },
    {
     "data": {
      "application/vnd.plotly.v1+json": {
       "config": {
        "plotlyServerURL": "https://plot.ly"
       },
       "data": [
        {
         "line": {
          "color": "red"
         },
         "marker": {
          "color": "red",
          "size": 2
         },
         "mode": "lines+markers+text",
         "type": "scatter3d",
         "x": [
          29.0971410771211,
          30.022904028495155
         ],
         "y": [
          9.838617551657887,
          25.35350244078371
         ],
         "z": [
          2.066186981068716,
          1.5024760531054593
         ]
        },
        {
         "line": {
          "color": "red"
         },
         "marker": {
          "color": "red",
          "size": 2
         },
         "mode": "lines+markers+text",
         "type": "scatter3d",
         "x": [
          30.022904028495155,
          27.664160480101906
         ],
         "y": [
          25.35350244078371,
          27.737503457400535
         ],
         "z": [
          1.5024760531054593,
          0.2029815481768705
         ]
        },
        {
         "line": {
          "color": "red"
         },
         "marker": {
          "color": "red",
          "size": 2
         },
         "mode": "lines+markers+text",
         "type": "scatter3d",
         "x": [
          27.664160480101906,
          30.014134695132576
         ],
         "y": [
          27.737503457400535,
          25.64104418787691
         ],
         "z": [
          0.2029815481768705,
          -1.43472163213624
         ]
        },
        {
         "line": {
          "color": "red"
         },
         "marker": {
          "color": "red",
          "size": 2
         },
         "mode": "lines+markers+text",
         "type": "scatter3d",
         "x": [
          30.014134695132576,
          29.27271847923597
         ],
         "y": [
          25.64104418787691,
          11.530914116236897
         ],
         "z": [
          -1.43472163213624,
          -3.0614158345593356
         ]
        },
        {
         "line": {
          "color": "red"
         },
         "marker": {
          "color": "red",
          "size": 2
         },
         "mode": "lines+markers+text",
         "type": "scatter3d",
         "x": [
          29.27271847923597,
          30.014134695132576
         ],
         "y": [
          11.530914116236897,
          25.64104418787691
         ],
         "z": [
          -3.0614158345593356,
          -1.43472163213624
         ]
        },
        {
         "line": {
          "color": "red"
         },
         "marker": {
          "color": "red",
          "size": 2
         },
         "mode": "lines+markers+text",
         "type": "scatter3d",
         "x": [
          30.014134695132576,
          27.664160480101906
         ],
         "y": [
          25.64104418787691,
          27.737503457400535
         ],
         "z": [
          -1.43472163213624,
          0.2029815481768705
         ]
        },
        {
         "line": {
          "color": "red"
         },
         "marker": {
          "color": "red",
          "size": 2
         },
         "mode": "lines+markers+text",
         "type": "scatter3d",
         "x": [
          27.664160480101906,
          15.718051542838417
         ],
         "y": [
          27.737503457400535,
          -0.6139658805396834
         ],
         "z": [
          0.2029815481768705,
          -0.780037624968423
         ]
        },
        {
         "line": {
          "color": "red"
         },
         "marker": {
          "color": "red",
          "size": 2
         },
         "mode": "lines+markers+text",
         "type": "scatter3d",
         "x": [
          15.718051542838417,
          15.738032509883247
         ],
         "y": [
          -0.6139658805396834,
          -2.271359455254344
         ],
         "z": [
          -0.780037624968423,
          6.12945051656829
         ]
        },
        {
         "line": {
          "color": "red"
         },
         "marker": {
          "color": "red",
          "size": 2
         },
         "mode": "lines+markers+text",
         "type": "scatter3d",
         "x": [
          15.738032509883247,
          2.3914647599061354
         ],
         "y": [
          -2.271359455254344,
          -6.928952079680231
         ],
         "z": [
          6.12945051656829,
          9.73357649313079
         ]
        },
        {
         "line": {
          "color": "red"
         },
         "marker": {
          "color": "red",
          "size": 2
         },
         "mode": "lines+markers+text",
         "type": "scatter3d",
         "x": [
          2.3914647599061354,
          -8.97278363505999
         ],
         "y": [
          -6.928952079680231,
          8.05333327088091
         ],
         "z": [
          9.73357649313079,
          13.886056260930168
         ]
        },
        {
         "line": {
          "color": "red"
         },
         "marker": {
          "color": "red",
          "size": 2
         },
         "mode": "lines+markers+text",
         "type": "scatter3d",
         "x": [
          -8.97278363505999,
          2.3914647599061354
         ],
         "y": [
          8.05333327088091,
          -6.928952079680231
         ],
         "z": [
          13.886056260930168,
          9.73357649313079
         ]
        },
        {
         "line": {
          "color": "red"
         },
         "marker": {
          "color": "red",
          "size": 2
         },
         "mode": "lines+markers+text",
         "type": "scatter3d",
         "x": [
          2.3914647599061354,
          15.738032509883247
         ],
         "y": [
          -6.928952079680231,
          -2.271359455254344
         ],
         "z": [
          9.73357649313079,
          6.12945051656829
         ]
        },
        {
         "line": {
          "color": "red"
         },
         "marker": {
          "color": "red",
          "size": 2
         },
         "mode": "lines+markers+text",
         "type": "scatter3d",
         "x": [
          15.738032509883247,
          15.718051542838417
         ],
         "y": [
          -2.271359455254344,
          -0.6139658805396834
         ],
         "z": [
          6.12945051656829,
          -0.780037624968423
         ]
        },
        {
         "line": {
          "color": "red"
         },
         "marker": {
          "color": "red",
          "size": 2
         },
         "mode": "lines+markers+text",
         "type": "scatter3d",
         "x": [
          15.718051542838417,
          15.698070575793587
         ],
         "y": [
          -0.6139658805396834,
          1.0434276941749774
         ],
         "z": [
          -0.780037624968423,
          -7.6895257665051355
         ]
        },
        {
         "line": {
          "color": "red"
         },
         "marker": {
          "color": "red",
          "size": 2
         },
         "mode": "lines+markers+text",
         "type": "scatter3d",
         "x": [
          15.698070575793587,
          2.3075086375077585
         ],
         "y": [
          1.0434276941749774,
          -1.0159068223502905
         ],
         "z": [
          -7.6895257665051355,
          -10.550429506434334
         ]
        },
        {
         "line": {
          "color": "red"
         },
         "marker": {
          "color": "red",
          "size": 2
         },
         "mode": "lines+markers+text",
         "type": "scatter3d",
         "x": [
          2.3075086375077585,
          -8.330019066731131
         ],
         "y": [
          -1.0159068223502905,
          17.173775244090294
         ],
         "z": [
          -10.550429506434334,
          -14.04705254567994
         ]
        },
        {
         "line": {
          "color": "red"
         },
         "marker": {
          "color": "red",
          "size": 2
         },
         "mode": "lines+markers+text",
         "type": "scatter3d",
         "x": [
          -8.330019066731131,
          2.3075086375077585
         ],
         "y": [
          17.173775244090294,
          -1.0159068223502905
         ],
         "z": [
          -14.04705254567994,
          -10.550429506434334
         ]
        },
        {
         "line": {
          "color": "red"
         },
         "marker": {
          "color": "red",
          "size": 2
         },
         "mode": "lines+markers+text",
         "type": "scatter3d",
         "x": [
          2.3075086375077585,
          15.698070575793587
         ],
         "y": [
          -1.0159068223502905,
          1.0434276941749774
         ],
         "z": [
          -10.550429506434334,
          -7.6895257665051355
         ]
        },
        {
         "line": {
          "color": "red"
         },
         "marker": {
          "color": "red",
          "size": 2
         },
         "mode": "lines+markers+text",
         "type": "scatter3d",
         "x": [
          15.698070575793587,
          15.718051542838417
         ],
         "y": [
          1.0434276941749774,
          -0.6139658805396834
         ],
         "z": [
          -7.6895257665051355,
          -0.780037624968423
         ]
        },
        {
         "line": {
          "color": "red"
         },
         "marker": {
          "color": "red",
          "size": 2
         },
         "mode": "lines+markers+text",
         "type": "scatter3d",
         "x": [
          15.718051542838417,
          -8.482916901508966
         ],
         "y": [
          -0.6139658805396834,
          -14.538666554209259
         ],
         "z": [
          -0.780037624968423,
          4.044012145863641
         ]
        },
        {
         "line": {
          "color": "red"
         },
         "marker": {
          "color": "red",
          "size": 2
         },
         "mode": "lines+markers+text",
         "type": "scatter3d",
         "x": [
          -8.482916901508966,
          -31.75047809878985
         ],
         "y": [
          -14.538666554209259,
          -12.869735476043488
         ],
         "z": [
          4.044012145863641,
          6.068305091725458
         ]
        },
        {
         "line": {
          "color": "red"
         },
         "marker": {
          "color": "red",
          "size": 2
         },
         "mode": "lines+markers+text",
         "type": "scatter3d",
         "x": [
          -31.75047809878985,
          -49.940778563419975
         ],
         "y": [
          -12.869735476043488,
          -30.071867298748753
         ],
         "z": [
          6.068305091725458,
          7.419587092267146
         ]
        },
        {
         "line": {
          "color": "red"
         },
         "marker": {
          "color": "red",
          "size": 2
         },
         "mode": "lines+markers+text",
         "type": "scatter3d",
         "x": [
          -49.940778563419975,
          -31.75047809878985
         ],
         "y": [
          -30.071867298748753,
          -12.869735476043488
         ],
         "z": [
          7.419587092267146,
          6.068305091725458
         ]
        },
        {
         "line": {
          "color": "red"
         },
         "marker": {
          "color": "red",
          "size": 2
         },
         "mode": "lines+markers+text",
         "type": "scatter3d",
         "x": [
          -31.75047809878985,
          -8.482916901508966
         ],
         "y": [
          -12.869735476043488,
          -14.538666554209259
         ],
         "z": [
          6.068305091725458,
          4.044012145863641
         ]
        },
        {
         "line": {
          "color": "red"
         },
         "marker": {
          "color": "red",
          "size": 2
         },
         "mode": "lines+markers+text",
         "type": "scatter3d",
         "x": [
          -8.482916901508966,
          15.718051542838417
         ],
         "y": [
          -14.538666554209259,
          -0.6139658805396834
         ],
         "z": [
          4.044012145863641,
          -0.780037624968423
         ]
        },
        {
         "line": {
          "color": "red"
         },
         "marker": {
          "color": "red",
          "size": 2
         },
         "mode": "lines+markers+text",
         "type": "scatter3d",
         "x": [
          15.718051542838417,
          -8.438636610905327
         ],
         "y": [
          -0.6139658805396834,
          -13.664945349511173
         ],
         "z": [
          -0.780037624968423,
          -3.4142932130230785
         ]
        },
        {
         "line": {
          "color": "red"
         },
         "marker": {
          "color": "red",
          "size": 2
         },
         "mode": "lines+markers+text",
         "type": "scatter3d",
         "x": [
          -8.438636610905327,
          -30.892648051182427
         ],
         "y": [
          -13.664945349511173,
          -12.477317866351868
         ],
         "z": [
          -3.4142932130230785,
          -4.896464033259283
         ]
        },
        {
         "line": {
          "color": "red"
         },
         "marker": {
          "color": "red",
          "size": 2
         },
         "mode": "lines+markers+text",
         "type": "scatter3d",
         "x": [
          -30.892648051182427,
          -51.115925858418144
         ],
         "y": [
          -12.477317866351868,
          -31.91940118041303
         ],
         "z": [
          -4.896464033259283,
          -5.178692026270756
         ]
        }
       ],
       "layout": {
        "scene": {
         "camera": {
          "eye": {
           "x": -1,
           "y": -1,
           "z": 1
          }
         }
        },
        "template": {
         "data": {
          "bar": [
           {
            "error_x": {
             "color": "#2a3f5f"
            },
            "error_y": {
             "color": "#2a3f5f"
            },
            "marker": {
             "line": {
              "color": "#E5ECF6",
              "width": 0.5
             },
             "pattern": {
              "fillmode": "overlay",
              "size": 10,
              "solidity": 0.2
             }
            },
            "type": "bar"
           }
          ],
          "barpolar": [
           {
            "marker": {
             "line": {
              "color": "#E5ECF6",
              "width": 0.5
             },
             "pattern": {
              "fillmode": "overlay",
              "size": 10,
              "solidity": 0.2
             }
            },
            "type": "barpolar"
           }
          ],
          "carpet": [
           {
            "aaxis": {
             "endlinecolor": "#2a3f5f",
             "gridcolor": "white",
             "linecolor": "white",
             "minorgridcolor": "white",
             "startlinecolor": "#2a3f5f"
            },
            "baxis": {
             "endlinecolor": "#2a3f5f",
             "gridcolor": "white",
             "linecolor": "white",
             "minorgridcolor": "white",
             "startlinecolor": "#2a3f5f"
            },
            "type": "carpet"
           }
          ],
          "choropleth": [
           {
            "colorbar": {
             "outlinewidth": 0,
             "ticks": ""
            },
            "type": "choropleth"
           }
          ],
          "contour": [
           {
            "colorbar": {
             "outlinewidth": 0,
             "ticks": ""
            },
            "colorscale": [
             [
              0,
              "#0d0887"
             ],
             [
              0.1111111111111111,
              "#46039f"
             ],
             [
              0.2222222222222222,
              "#7201a8"
             ],
             [
              0.3333333333333333,
              "#9c179e"
             ],
             [
              0.4444444444444444,
              "#bd3786"
             ],
             [
              0.5555555555555556,
              "#d8576b"
             ],
             [
              0.6666666666666666,
              "#ed7953"
             ],
             [
              0.7777777777777778,
              "#fb9f3a"
             ],
             [
              0.8888888888888888,
              "#fdca26"
             ],
             [
              1,
              "#f0f921"
             ]
            ],
            "type": "contour"
           }
          ],
          "contourcarpet": [
           {
            "colorbar": {
             "outlinewidth": 0,
             "ticks": ""
            },
            "type": "contourcarpet"
           }
          ],
          "heatmap": [
           {
            "colorbar": {
             "outlinewidth": 0,
             "ticks": ""
            },
            "colorscale": [
             [
              0,
              "#0d0887"
             ],
             [
              0.1111111111111111,
              "#46039f"
             ],
             [
              0.2222222222222222,
              "#7201a8"
             ],
             [
              0.3333333333333333,
              "#9c179e"
             ],
             [
              0.4444444444444444,
              "#bd3786"
             ],
             [
              0.5555555555555556,
              "#d8576b"
             ],
             [
              0.6666666666666666,
              "#ed7953"
             ],
             [
              0.7777777777777778,
              "#fb9f3a"
             ],
             [
              0.8888888888888888,
              "#fdca26"
             ],
             [
              1,
              "#f0f921"
             ]
            ],
            "type": "heatmap"
           }
          ],
          "heatmapgl": [
           {
            "colorbar": {
             "outlinewidth": 0,
             "ticks": ""
            },
            "colorscale": [
             [
              0,
              "#0d0887"
             ],
             [
              0.1111111111111111,
              "#46039f"
             ],
             [
              0.2222222222222222,
              "#7201a8"
             ],
             [
              0.3333333333333333,
              "#9c179e"
             ],
             [
              0.4444444444444444,
              "#bd3786"
             ],
             [
              0.5555555555555556,
              "#d8576b"
             ],
             [
              0.6666666666666666,
              "#ed7953"
             ],
             [
              0.7777777777777778,
              "#fb9f3a"
             ],
             [
              0.8888888888888888,
              "#fdca26"
             ],
             [
              1,
              "#f0f921"
             ]
            ],
            "type": "heatmapgl"
           }
          ],
          "histogram": [
           {
            "marker": {
             "pattern": {
              "fillmode": "overlay",
              "size": 10,
              "solidity": 0.2
             }
            },
            "type": "histogram"
           }
          ],
          "histogram2d": [
           {
            "colorbar": {
             "outlinewidth": 0,
             "ticks": ""
            },
            "colorscale": [
             [
              0,
              "#0d0887"
             ],
             [
              0.1111111111111111,
              "#46039f"
             ],
             [
              0.2222222222222222,
              "#7201a8"
             ],
             [
              0.3333333333333333,
              "#9c179e"
             ],
             [
              0.4444444444444444,
              "#bd3786"
             ],
             [
              0.5555555555555556,
              "#d8576b"
             ],
             [
              0.6666666666666666,
              "#ed7953"
             ],
             [
              0.7777777777777778,
              "#fb9f3a"
             ],
             [
              0.8888888888888888,
              "#fdca26"
             ],
             [
              1,
              "#f0f921"
             ]
            ],
            "type": "histogram2d"
           }
          ],
          "histogram2dcontour": [
           {
            "colorbar": {
             "outlinewidth": 0,
             "ticks": ""
            },
            "colorscale": [
             [
              0,
              "#0d0887"
             ],
             [
              0.1111111111111111,
              "#46039f"
             ],
             [
              0.2222222222222222,
              "#7201a8"
             ],
             [
              0.3333333333333333,
              "#9c179e"
             ],
             [
              0.4444444444444444,
              "#bd3786"
             ],
             [
              0.5555555555555556,
              "#d8576b"
             ],
             [
              0.6666666666666666,
              "#ed7953"
             ],
             [
              0.7777777777777778,
              "#fb9f3a"
             ],
             [
              0.8888888888888888,
              "#fdca26"
             ],
             [
              1,
              "#f0f921"
             ]
            ],
            "type": "histogram2dcontour"
           }
          ],
          "mesh3d": [
           {
            "colorbar": {
             "outlinewidth": 0,
             "ticks": ""
            },
            "type": "mesh3d"
           }
          ],
          "parcoords": [
           {
            "line": {
             "colorbar": {
              "outlinewidth": 0,
              "ticks": ""
             }
            },
            "type": "parcoords"
           }
          ],
          "pie": [
           {
            "automargin": true,
            "type": "pie"
           }
          ],
          "scatter": [
           {
            "fillpattern": {
             "fillmode": "overlay",
             "size": 10,
             "solidity": 0.2
            },
            "type": "scatter"
           }
          ],
          "scatter3d": [
           {
            "line": {
             "colorbar": {
              "outlinewidth": 0,
              "ticks": ""
             }
            },
            "marker": {
             "colorbar": {
              "outlinewidth": 0,
              "ticks": ""
             }
            },
            "type": "scatter3d"
           }
          ],
          "scattercarpet": [
           {
            "marker": {
             "colorbar": {
              "outlinewidth": 0,
              "ticks": ""
             }
            },
            "type": "scattercarpet"
           }
          ],
          "scattergeo": [
           {
            "marker": {
             "colorbar": {
              "outlinewidth": 0,
              "ticks": ""
             }
            },
            "type": "scattergeo"
           }
          ],
          "scattergl": [
           {
            "marker": {
             "colorbar": {
              "outlinewidth": 0,
              "ticks": ""
             }
            },
            "type": "scattergl"
           }
          ],
          "scattermapbox": [
           {
            "marker": {
             "colorbar": {
              "outlinewidth": 0,
              "ticks": ""
             }
            },
            "type": "scattermapbox"
           }
          ],
          "scatterpolar": [
           {
            "marker": {
             "colorbar": {
              "outlinewidth": 0,
              "ticks": ""
             }
            },
            "type": "scatterpolar"
           }
          ],
          "scatterpolargl": [
           {
            "marker": {
             "colorbar": {
              "outlinewidth": 0,
              "ticks": ""
             }
            },
            "type": "scatterpolargl"
           }
          ],
          "scatterternary": [
           {
            "marker": {
             "colorbar": {
              "outlinewidth": 0,
              "ticks": ""
             }
            },
            "type": "scatterternary"
           }
          ],
          "surface": [
           {
            "colorbar": {
             "outlinewidth": 0,
             "ticks": ""
            },
            "colorscale": [
             [
              0,
              "#0d0887"
             ],
             [
              0.1111111111111111,
              "#46039f"
             ],
             [
              0.2222222222222222,
              "#7201a8"
             ],
             [
              0.3333333333333333,
              "#9c179e"
             ],
             [
              0.4444444444444444,
              "#bd3786"
             ],
             [
              0.5555555555555556,
              "#d8576b"
             ],
             [
              0.6666666666666666,
              "#ed7953"
             ],
             [
              0.7777777777777778,
              "#fb9f3a"
             ],
             [
              0.8888888888888888,
              "#fdca26"
             ],
             [
              1,
              "#f0f921"
             ]
            ],
            "type": "surface"
           }
          ],
          "table": [
           {
            "cells": {
             "fill": {
              "color": "#EBF0F8"
             },
             "line": {
              "color": "white"
             }
            },
            "header": {
             "fill": {
              "color": "#C8D4E3"
             },
             "line": {
              "color": "white"
             }
            },
            "type": "table"
           }
          ]
         },
         "layout": {
          "annotationdefaults": {
           "arrowcolor": "#2a3f5f",
           "arrowhead": 0,
           "arrowwidth": 1
          },
          "autotypenumbers": "strict",
          "coloraxis": {
           "colorbar": {
            "outlinewidth": 0,
            "ticks": ""
           }
          },
          "colorscale": {
           "diverging": [
            [
             0,
             "#8e0152"
            ],
            [
             0.1,
             "#c51b7d"
            ],
            [
             0.2,
             "#de77ae"
            ],
            [
             0.3,
             "#f1b6da"
            ],
            [
             0.4,
             "#fde0ef"
            ],
            [
             0.5,
             "#f7f7f7"
            ],
            [
             0.6,
             "#e6f5d0"
            ],
            [
             0.7,
             "#b8e186"
            ],
            [
             0.8,
             "#7fbc41"
            ],
            [
             0.9,
             "#4d9221"
            ],
            [
             1,
             "#276419"
            ]
           ],
           "sequential": [
            [
             0,
             "#0d0887"
            ],
            [
             0.1111111111111111,
             "#46039f"
            ],
            [
             0.2222222222222222,
             "#7201a8"
            ],
            [
             0.3333333333333333,
             "#9c179e"
            ],
            [
             0.4444444444444444,
             "#bd3786"
            ],
            [
             0.5555555555555556,
             "#d8576b"
            ],
            [
             0.6666666666666666,
             "#ed7953"
            ],
            [
             0.7777777777777778,
             "#fb9f3a"
            ],
            [
             0.8888888888888888,
             "#fdca26"
            ],
            [
             1,
             "#f0f921"
            ]
           ],
           "sequentialminus": [
            [
             0,
             "#0d0887"
            ],
            [
             0.1111111111111111,
             "#46039f"
            ],
            [
             0.2222222222222222,
             "#7201a8"
            ],
            [
             0.3333333333333333,
             "#9c179e"
            ],
            [
             0.4444444444444444,
             "#bd3786"
            ],
            [
             0.5555555555555556,
             "#d8576b"
            ],
            [
             0.6666666666666666,
             "#ed7953"
            ],
            [
             0.7777777777777778,
             "#fb9f3a"
            ],
            [
             0.8888888888888888,
             "#fdca26"
            ],
            [
             1,
             "#f0f921"
            ]
           ]
          },
          "colorway": [
           "#636efa",
           "#EF553B",
           "#00cc96",
           "#ab63fa",
           "#FFA15A",
           "#19d3f3",
           "#FF6692",
           "#B6E880",
           "#FF97FF",
           "#FECB52"
          ],
          "font": {
           "color": "#2a3f5f"
          },
          "geo": {
           "bgcolor": "white",
           "lakecolor": "white",
           "landcolor": "#E5ECF6",
           "showlakes": true,
           "showland": true,
           "subunitcolor": "white"
          },
          "hoverlabel": {
           "align": "left"
          },
          "hovermode": "closest",
          "mapbox": {
           "style": "light"
          },
          "paper_bgcolor": "white",
          "plot_bgcolor": "#E5ECF6",
          "polar": {
           "angularaxis": {
            "gridcolor": "white",
            "linecolor": "white",
            "ticks": ""
           },
           "bgcolor": "#E5ECF6",
           "radialaxis": {
            "gridcolor": "white",
            "linecolor": "white",
            "ticks": ""
           }
          },
          "scene": {
           "xaxis": {
            "backgroundcolor": "#E5ECF6",
            "gridcolor": "white",
            "gridwidth": 2,
            "linecolor": "white",
            "showbackground": true,
            "ticks": "",
            "zerolinecolor": "white"
           },
           "yaxis": {
            "backgroundcolor": "#E5ECF6",
            "gridcolor": "white",
            "gridwidth": 2,
            "linecolor": "white",
            "showbackground": true,
            "ticks": "",
            "zerolinecolor": "white"
           },
           "zaxis": {
            "backgroundcolor": "#E5ECF6",
            "gridcolor": "white",
            "gridwidth": 2,
            "linecolor": "white",
            "showbackground": true,
            "ticks": "",
            "zerolinecolor": "white"
           }
          },
          "shapedefaults": {
           "line": {
            "color": "#2a3f5f"
           }
          },
          "ternary": {
           "aaxis": {
            "gridcolor": "white",
            "linecolor": "white",
            "ticks": ""
           },
           "baxis": {
            "gridcolor": "white",
            "linecolor": "white",
            "ticks": ""
           },
           "bgcolor": "#E5ECF6",
           "caxis": {
            "gridcolor": "white",
            "linecolor": "white",
            "ticks": ""
           }
          },
          "title": {
           "x": 0.05
          },
          "xaxis": {
           "automargin": true,
           "gridcolor": "white",
           "linecolor": "white",
           "ticks": "",
           "title": {
            "standoff": 15
           },
           "zerolinecolor": "white",
           "zerolinewidth": 2
          },
          "yaxis": {
           "automargin": true,
           "gridcolor": "white",
           "linecolor": "white",
           "ticks": "",
           "title": {
            "standoff": 15
           },
           "zerolinecolor": "white",
           "zerolinewidth": 2
          }
         }
        }
       }
      },
      "text/html": [
       "<div>                            <div id=\"1205242b-278f-48ce-989b-a94767544136\" class=\"plotly-graph-div\" style=\"height:525px; width:100%;\"></div>            <script type=\"text/javascript\">                require([\"plotly\"], function(Plotly) {                    window.PLOTLYENV=window.PLOTLYENV || {};                                    if (document.getElementById(\"1205242b-278f-48ce-989b-a94767544136\")) {                    Plotly.newPlot(                        \"1205242b-278f-48ce-989b-a94767544136\",                        [{\"line\":{\"color\":\"red\"},\"marker\":{\"color\":\"red\",\"size\":2},\"mode\":\"lines+markers+text\",\"x\":[29.0971410771211,30.022904028495155],\"y\":[9.838617551657887,25.35350244078371],\"z\":[2.066186981068716,1.5024760531054593],\"type\":\"scatter3d\"},{\"line\":{\"color\":\"red\"},\"marker\":{\"color\":\"red\",\"size\":2},\"mode\":\"lines+markers+text\",\"x\":[30.022904028495155,27.664160480101906],\"y\":[25.35350244078371,27.737503457400535],\"z\":[1.5024760531054593,0.2029815481768705],\"type\":\"scatter3d\"},{\"line\":{\"color\":\"red\"},\"marker\":{\"color\":\"red\",\"size\":2},\"mode\":\"lines+markers+text\",\"x\":[27.664160480101906,30.014134695132576],\"y\":[27.737503457400535,25.64104418787691],\"z\":[0.2029815481768705,-1.43472163213624],\"type\":\"scatter3d\"},{\"line\":{\"color\":\"red\"},\"marker\":{\"color\":\"red\",\"size\":2},\"mode\":\"lines+markers+text\",\"x\":[30.014134695132576,29.27271847923597],\"y\":[25.64104418787691,11.530914116236897],\"z\":[-1.43472163213624,-3.0614158345593356],\"type\":\"scatter3d\"},{\"line\":{\"color\":\"red\"},\"marker\":{\"color\":\"red\",\"size\":2},\"mode\":\"lines+markers+text\",\"x\":[29.27271847923597,30.014134695132576],\"y\":[11.530914116236897,25.64104418787691],\"z\":[-3.0614158345593356,-1.43472163213624],\"type\":\"scatter3d\"},{\"line\":{\"color\":\"red\"},\"marker\":{\"color\":\"red\",\"size\":2},\"mode\":\"lines+markers+text\",\"x\":[30.014134695132576,27.664160480101906],\"y\":[25.64104418787691,27.737503457400535],\"z\":[-1.43472163213624,0.2029815481768705],\"type\":\"scatter3d\"},{\"line\":{\"color\":\"red\"},\"marker\":{\"color\":\"red\",\"size\":2},\"mode\":\"lines+markers+text\",\"x\":[27.664160480101906,15.718051542838417],\"y\":[27.737503457400535,-0.6139658805396834],\"z\":[0.2029815481768705,-0.780037624968423],\"type\":\"scatter3d\"},{\"line\":{\"color\":\"red\"},\"marker\":{\"color\":\"red\",\"size\":2},\"mode\":\"lines+markers+text\",\"x\":[15.718051542838417,15.738032509883247],\"y\":[-0.6139658805396834,-2.271359455254344],\"z\":[-0.780037624968423,6.12945051656829],\"type\":\"scatter3d\"},{\"line\":{\"color\":\"red\"},\"marker\":{\"color\":\"red\",\"size\":2},\"mode\":\"lines+markers+text\",\"x\":[15.738032509883247,2.3914647599061354],\"y\":[-2.271359455254344,-6.928952079680231],\"z\":[6.12945051656829,9.73357649313079],\"type\":\"scatter3d\"},{\"line\":{\"color\":\"red\"},\"marker\":{\"color\":\"red\",\"size\":2},\"mode\":\"lines+markers+text\",\"x\":[2.3914647599061354,-8.97278363505999],\"y\":[-6.928952079680231,8.05333327088091],\"z\":[9.73357649313079,13.886056260930168],\"type\":\"scatter3d\"},{\"line\":{\"color\":\"red\"},\"marker\":{\"color\":\"red\",\"size\":2},\"mode\":\"lines+markers+text\",\"x\":[-8.97278363505999,2.3914647599061354],\"y\":[8.05333327088091,-6.928952079680231],\"z\":[13.886056260930168,9.73357649313079],\"type\":\"scatter3d\"},{\"line\":{\"color\":\"red\"},\"marker\":{\"color\":\"red\",\"size\":2},\"mode\":\"lines+markers+text\",\"x\":[2.3914647599061354,15.738032509883247],\"y\":[-6.928952079680231,-2.271359455254344],\"z\":[9.73357649313079,6.12945051656829],\"type\":\"scatter3d\"},{\"line\":{\"color\":\"red\"},\"marker\":{\"color\":\"red\",\"size\":2},\"mode\":\"lines+markers+text\",\"x\":[15.738032509883247,15.718051542838417],\"y\":[-2.271359455254344,-0.6139658805396834],\"z\":[6.12945051656829,-0.780037624968423],\"type\":\"scatter3d\"},{\"line\":{\"color\":\"red\"},\"marker\":{\"color\":\"red\",\"size\":2},\"mode\":\"lines+markers+text\",\"x\":[15.718051542838417,15.698070575793587],\"y\":[-0.6139658805396834,1.0434276941749774],\"z\":[-0.780037624968423,-7.6895257665051355],\"type\":\"scatter3d\"},{\"line\":{\"color\":\"red\"},\"marker\":{\"color\":\"red\",\"size\":2},\"mode\":\"lines+markers+text\",\"x\":[15.698070575793587,2.3075086375077585],\"y\":[1.0434276941749774,-1.0159068223502905],\"z\":[-7.6895257665051355,-10.550429506434334],\"type\":\"scatter3d\"},{\"line\":{\"color\":\"red\"},\"marker\":{\"color\":\"red\",\"size\":2},\"mode\":\"lines+markers+text\",\"x\":[2.3075086375077585,-8.330019066731131],\"y\":[-1.0159068223502905,17.173775244090294],\"z\":[-10.550429506434334,-14.04705254567994],\"type\":\"scatter3d\"},{\"line\":{\"color\":\"red\"},\"marker\":{\"color\":\"red\",\"size\":2},\"mode\":\"lines+markers+text\",\"x\":[-8.330019066731131,2.3075086375077585],\"y\":[17.173775244090294,-1.0159068223502905],\"z\":[-14.04705254567994,-10.550429506434334],\"type\":\"scatter3d\"},{\"line\":{\"color\":\"red\"},\"marker\":{\"color\":\"red\",\"size\":2},\"mode\":\"lines+markers+text\",\"x\":[2.3075086375077585,15.698070575793587],\"y\":[-1.0159068223502905,1.0434276941749774],\"z\":[-10.550429506434334,-7.6895257665051355],\"type\":\"scatter3d\"},{\"line\":{\"color\":\"red\"},\"marker\":{\"color\":\"red\",\"size\":2},\"mode\":\"lines+markers+text\",\"x\":[15.698070575793587,15.718051542838417],\"y\":[1.0434276941749774,-0.6139658805396834],\"z\":[-7.6895257665051355,-0.780037624968423],\"type\":\"scatter3d\"},{\"line\":{\"color\":\"red\"},\"marker\":{\"color\":\"red\",\"size\":2},\"mode\":\"lines+markers+text\",\"x\":[15.718051542838417,-8.482916901508966],\"y\":[-0.6139658805396834,-14.538666554209259],\"z\":[-0.780037624968423,4.044012145863641],\"type\":\"scatter3d\"},{\"line\":{\"color\":\"red\"},\"marker\":{\"color\":\"red\",\"size\":2},\"mode\":\"lines+markers+text\",\"x\":[-8.482916901508966,-31.75047809878985],\"y\":[-14.538666554209259,-12.869735476043488],\"z\":[4.044012145863641,6.068305091725458],\"type\":\"scatter3d\"},{\"line\":{\"color\":\"red\"},\"marker\":{\"color\":\"red\",\"size\":2},\"mode\":\"lines+markers+text\",\"x\":[-31.75047809878985,-49.940778563419975],\"y\":[-12.869735476043488,-30.071867298748753],\"z\":[6.068305091725458,7.419587092267146],\"type\":\"scatter3d\"},{\"line\":{\"color\":\"red\"},\"marker\":{\"color\":\"red\",\"size\":2},\"mode\":\"lines+markers+text\",\"x\":[-49.940778563419975,-31.75047809878985],\"y\":[-30.071867298748753,-12.869735476043488],\"z\":[7.419587092267146,6.068305091725458],\"type\":\"scatter3d\"},{\"line\":{\"color\":\"red\"},\"marker\":{\"color\":\"red\",\"size\":2},\"mode\":\"lines+markers+text\",\"x\":[-31.75047809878985,-8.482916901508966],\"y\":[-12.869735476043488,-14.538666554209259],\"z\":[6.068305091725458,4.044012145863641],\"type\":\"scatter3d\"},{\"line\":{\"color\":\"red\"},\"marker\":{\"color\":\"red\",\"size\":2},\"mode\":\"lines+markers+text\",\"x\":[-8.482916901508966,15.718051542838417],\"y\":[-14.538666554209259,-0.6139658805396834],\"z\":[4.044012145863641,-0.780037624968423],\"type\":\"scatter3d\"},{\"line\":{\"color\":\"red\"},\"marker\":{\"color\":\"red\",\"size\":2},\"mode\":\"lines+markers+text\",\"x\":[15.718051542838417,-8.438636610905327],\"y\":[-0.6139658805396834,-13.664945349511173],\"z\":[-0.780037624968423,-3.4142932130230785],\"type\":\"scatter3d\"},{\"line\":{\"color\":\"red\"},\"marker\":{\"color\":\"red\",\"size\":2},\"mode\":\"lines+markers+text\",\"x\":[-8.438636610905327,-30.892648051182427],\"y\":[-13.664945349511173,-12.477317866351868],\"z\":[-3.4142932130230785,-4.896464033259283],\"type\":\"scatter3d\"},{\"line\":{\"color\":\"red\"},\"marker\":{\"color\":\"red\",\"size\":2},\"mode\":\"lines+markers+text\",\"x\":[-30.892648051182427,-51.115925858418144],\"y\":[-12.477317866351868,-31.91940118041303],\"z\":[-4.896464033259283,-5.178692026270756],\"type\":\"scatter3d\"}],                        {\"scene\":{\"camera\":{\"eye\":{\"x\":-1,\"y\":-1,\"z\":1}}},\"template\":{\"data\":{\"histogram2dcontour\":[{\"type\":\"histogram2dcontour\",\"colorbar\":{\"outlinewidth\":0,\"ticks\":\"\"},\"colorscale\":[[0.0,\"#0d0887\"],[0.1111111111111111,\"#46039f\"],[0.2222222222222222,\"#7201a8\"],[0.3333333333333333,\"#9c179e\"],[0.4444444444444444,\"#bd3786\"],[0.5555555555555556,\"#d8576b\"],[0.6666666666666666,\"#ed7953\"],[0.7777777777777778,\"#fb9f3a\"],[0.8888888888888888,\"#fdca26\"],[1.0,\"#f0f921\"]]}],\"choropleth\":[{\"type\":\"choropleth\",\"colorbar\":{\"outlinewidth\":0,\"ticks\":\"\"}}],\"histogram2d\":[{\"type\":\"histogram2d\",\"colorbar\":{\"outlinewidth\":0,\"ticks\":\"\"},\"colorscale\":[[0.0,\"#0d0887\"],[0.1111111111111111,\"#46039f\"],[0.2222222222222222,\"#7201a8\"],[0.3333333333333333,\"#9c179e\"],[0.4444444444444444,\"#bd3786\"],[0.5555555555555556,\"#d8576b\"],[0.6666666666666666,\"#ed7953\"],[0.7777777777777778,\"#fb9f3a\"],[0.8888888888888888,\"#fdca26\"],[1.0,\"#f0f921\"]]}],\"heatmap\":[{\"type\":\"heatmap\",\"colorbar\":{\"outlinewidth\":0,\"ticks\":\"\"},\"colorscale\":[[0.0,\"#0d0887\"],[0.1111111111111111,\"#46039f\"],[0.2222222222222222,\"#7201a8\"],[0.3333333333333333,\"#9c179e\"],[0.4444444444444444,\"#bd3786\"],[0.5555555555555556,\"#d8576b\"],[0.6666666666666666,\"#ed7953\"],[0.7777777777777778,\"#fb9f3a\"],[0.8888888888888888,\"#fdca26\"],[1.0,\"#f0f921\"]]}],\"heatmapgl\":[{\"type\":\"heatmapgl\",\"colorbar\":{\"outlinewidth\":0,\"ticks\":\"\"},\"colorscale\":[[0.0,\"#0d0887\"],[0.1111111111111111,\"#46039f\"],[0.2222222222222222,\"#7201a8\"],[0.3333333333333333,\"#9c179e\"],[0.4444444444444444,\"#bd3786\"],[0.5555555555555556,\"#d8576b\"],[0.6666666666666666,\"#ed7953\"],[0.7777777777777778,\"#fb9f3a\"],[0.8888888888888888,\"#fdca26\"],[1.0,\"#f0f921\"]]}],\"contourcarpet\":[{\"type\":\"contourcarpet\",\"colorbar\":{\"outlinewidth\":0,\"ticks\":\"\"}}],\"contour\":[{\"type\":\"contour\",\"colorbar\":{\"outlinewidth\":0,\"ticks\":\"\"},\"colorscale\":[[0.0,\"#0d0887\"],[0.1111111111111111,\"#46039f\"],[0.2222222222222222,\"#7201a8\"],[0.3333333333333333,\"#9c179e\"],[0.4444444444444444,\"#bd3786\"],[0.5555555555555556,\"#d8576b\"],[0.6666666666666666,\"#ed7953\"],[0.7777777777777778,\"#fb9f3a\"],[0.8888888888888888,\"#fdca26\"],[1.0,\"#f0f921\"]]}],\"surface\":[{\"type\":\"surface\",\"colorbar\":{\"outlinewidth\":0,\"ticks\":\"\"},\"colorscale\":[[0.0,\"#0d0887\"],[0.1111111111111111,\"#46039f\"],[0.2222222222222222,\"#7201a8\"],[0.3333333333333333,\"#9c179e\"],[0.4444444444444444,\"#bd3786\"],[0.5555555555555556,\"#d8576b\"],[0.6666666666666666,\"#ed7953\"],[0.7777777777777778,\"#fb9f3a\"],[0.8888888888888888,\"#fdca26\"],[1.0,\"#f0f921\"]]}],\"mesh3d\":[{\"type\":\"mesh3d\",\"colorbar\":{\"outlinewidth\":0,\"ticks\":\"\"}}],\"scatter\":[{\"fillpattern\":{\"fillmode\":\"overlay\",\"size\":10,\"solidity\":0.2},\"type\":\"scatter\"}],\"parcoords\":[{\"type\":\"parcoords\",\"line\":{\"colorbar\":{\"outlinewidth\":0,\"ticks\":\"\"}}}],\"scatterpolargl\":[{\"type\":\"scatterpolargl\",\"marker\":{\"colorbar\":{\"outlinewidth\":0,\"ticks\":\"\"}}}],\"bar\":[{\"error_x\":{\"color\":\"#2a3f5f\"},\"error_y\":{\"color\":\"#2a3f5f\"},\"marker\":{\"line\":{\"color\":\"#E5ECF6\",\"width\":0.5},\"pattern\":{\"fillmode\":\"overlay\",\"size\":10,\"solidity\":0.2}},\"type\":\"bar\"}],\"scattergeo\":[{\"type\":\"scattergeo\",\"marker\":{\"colorbar\":{\"outlinewidth\":0,\"ticks\":\"\"}}}],\"scatterpolar\":[{\"type\":\"scatterpolar\",\"marker\":{\"colorbar\":{\"outlinewidth\":0,\"ticks\":\"\"}}}],\"histogram\":[{\"marker\":{\"pattern\":{\"fillmode\":\"overlay\",\"size\":10,\"solidity\":0.2}},\"type\":\"histogram\"}],\"scattergl\":[{\"type\":\"scattergl\",\"marker\":{\"colorbar\":{\"outlinewidth\":0,\"ticks\":\"\"}}}],\"scatter3d\":[{\"type\":\"scatter3d\",\"line\":{\"colorbar\":{\"outlinewidth\":0,\"ticks\":\"\"}},\"marker\":{\"colorbar\":{\"outlinewidth\":0,\"ticks\":\"\"}}}],\"scattermapbox\":[{\"type\":\"scattermapbox\",\"marker\":{\"colorbar\":{\"outlinewidth\":0,\"ticks\":\"\"}}}],\"scatterternary\":[{\"type\":\"scatterternary\",\"marker\":{\"colorbar\":{\"outlinewidth\":0,\"ticks\":\"\"}}}],\"scattercarpet\":[{\"type\":\"scattercarpet\",\"marker\":{\"colorbar\":{\"outlinewidth\":0,\"ticks\":\"\"}}}],\"carpet\":[{\"aaxis\":{\"endlinecolor\":\"#2a3f5f\",\"gridcolor\":\"white\",\"linecolor\":\"white\",\"minorgridcolor\":\"white\",\"startlinecolor\":\"#2a3f5f\"},\"baxis\":{\"endlinecolor\":\"#2a3f5f\",\"gridcolor\":\"white\",\"linecolor\":\"white\",\"minorgridcolor\":\"white\",\"startlinecolor\":\"#2a3f5f\"},\"type\":\"carpet\"}],\"table\":[{\"cells\":{\"fill\":{\"color\":\"#EBF0F8\"},\"line\":{\"color\":\"white\"}},\"header\":{\"fill\":{\"color\":\"#C8D4E3\"},\"line\":{\"color\":\"white\"}},\"type\":\"table\"}],\"barpolar\":[{\"marker\":{\"line\":{\"color\":\"#E5ECF6\",\"width\":0.5},\"pattern\":{\"fillmode\":\"overlay\",\"size\":10,\"solidity\":0.2}},\"type\":\"barpolar\"}],\"pie\":[{\"automargin\":true,\"type\":\"pie\"}]},\"layout\":{\"autotypenumbers\":\"strict\",\"colorway\":[\"#636efa\",\"#EF553B\",\"#00cc96\",\"#ab63fa\",\"#FFA15A\",\"#19d3f3\",\"#FF6692\",\"#B6E880\",\"#FF97FF\",\"#FECB52\"],\"font\":{\"color\":\"#2a3f5f\"},\"hovermode\":\"closest\",\"hoverlabel\":{\"align\":\"left\"},\"paper_bgcolor\":\"white\",\"plot_bgcolor\":\"#E5ECF6\",\"polar\":{\"bgcolor\":\"#E5ECF6\",\"angularaxis\":{\"gridcolor\":\"white\",\"linecolor\":\"white\",\"ticks\":\"\"},\"radialaxis\":{\"gridcolor\":\"white\",\"linecolor\":\"white\",\"ticks\":\"\"}},\"ternary\":{\"bgcolor\":\"#E5ECF6\",\"aaxis\":{\"gridcolor\":\"white\",\"linecolor\":\"white\",\"ticks\":\"\"},\"baxis\":{\"gridcolor\":\"white\",\"linecolor\":\"white\",\"ticks\":\"\"},\"caxis\":{\"gridcolor\":\"white\",\"linecolor\":\"white\",\"ticks\":\"\"}},\"coloraxis\":{\"colorbar\":{\"outlinewidth\":0,\"ticks\":\"\"}},\"colorscale\":{\"sequential\":[[0.0,\"#0d0887\"],[0.1111111111111111,\"#46039f\"],[0.2222222222222222,\"#7201a8\"],[0.3333333333333333,\"#9c179e\"],[0.4444444444444444,\"#bd3786\"],[0.5555555555555556,\"#d8576b\"],[0.6666666666666666,\"#ed7953\"],[0.7777777777777778,\"#fb9f3a\"],[0.8888888888888888,\"#fdca26\"],[1.0,\"#f0f921\"]],\"sequentialminus\":[[0.0,\"#0d0887\"],[0.1111111111111111,\"#46039f\"],[0.2222222222222222,\"#7201a8\"],[0.3333333333333333,\"#9c179e\"],[0.4444444444444444,\"#bd3786\"],[0.5555555555555556,\"#d8576b\"],[0.6666666666666666,\"#ed7953\"],[0.7777777777777778,\"#fb9f3a\"],[0.8888888888888888,\"#fdca26\"],[1.0,\"#f0f921\"]],\"diverging\":[[0,\"#8e0152\"],[0.1,\"#c51b7d\"],[0.2,\"#de77ae\"],[0.3,\"#f1b6da\"],[0.4,\"#fde0ef\"],[0.5,\"#f7f7f7\"],[0.6,\"#e6f5d0\"],[0.7,\"#b8e186\"],[0.8,\"#7fbc41\"],[0.9,\"#4d9221\"],[1,\"#276419\"]]},\"xaxis\":{\"gridcolor\":\"white\",\"linecolor\":\"white\",\"ticks\":\"\",\"title\":{\"standoff\":15},\"zerolinecolor\":\"white\",\"automargin\":true,\"zerolinewidth\":2},\"yaxis\":{\"gridcolor\":\"white\",\"linecolor\":\"white\",\"ticks\":\"\",\"title\":{\"standoff\":15},\"zerolinecolor\":\"white\",\"automargin\":true,\"zerolinewidth\":2},\"scene\":{\"xaxis\":{\"backgroundcolor\":\"#E5ECF6\",\"gridcolor\":\"white\",\"linecolor\":\"white\",\"showbackground\":true,\"ticks\":\"\",\"zerolinecolor\":\"white\",\"gridwidth\":2},\"yaxis\":{\"backgroundcolor\":\"#E5ECF6\",\"gridcolor\":\"white\",\"linecolor\":\"white\",\"showbackground\":true,\"ticks\":\"\",\"zerolinecolor\":\"white\",\"gridwidth\":2},\"zaxis\":{\"backgroundcolor\":\"#E5ECF6\",\"gridcolor\":\"white\",\"linecolor\":\"white\",\"showbackground\":true,\"ticks\":\"\",\"zerolinecolor\":\"white\",\"gridwidth\":2}},\"shapedefaults\":{\"line\":{\"color\":\"#2a3f5f\"}},\"annotationdefaults\":{\"arrowcolor\":\"#2a3f5f\",\"arrowhead\":0,\"arrowwidth\":1},\"geo\":{\"bgcolor\":\"white\",\"landcolor\":\"#E5ECF6\",\"subunitcolor\":\"white\",\"showland\":true,\"showlakes\":true,\"lakecolor\":\"white\"},\"title\":{\"x\":0.05},\"mapbox\":{\"style\":\"light\"}}}},                        {\"responsive\": true}                    ).then(function(){\n",
       "                            \n",
       "var gd = document.getElementById('1205242b-278f-48ce-989b-a94767544136');\n",
       "var x = new MutationObserver(function (mutations, observer) {{\n",
       "        var display = window.getComputedStyle(gd).display;\n",
       "        if (!display || display === 'none') {{\n",
       "            console.log([gd, 'removed!']);\n",
       "            Plotly.purge(gd);\n",
       "            observer.disconnect();\n",
       "        }}\n",
       "}});\n",
       "\n",
       "// Listen for the removal of the full notebook cells\n",
       "var notebookContainer = gd.closest('#notebook-container');\n",
       "if (notebookContainer) {{\n",
       "    x.observe(notebookContainer, {childList: true});\n",
       "}}\n",
       "\n",
       "// Listen for the clearing of the current output cell\n",
       "var outputEl = gd.closest('.output');\n",
       "if (outputEl) {{\n",
       "    x.observe(outputEl, {childList: true});\n",
       "}}\n",
       "\n",
       "                        })                };                });            </script>        </div>"
      ]
     },
     "metadata": {},
     "output_type": "display_data"
    }
   ],
   "source": [
    "roll = 90\n",
    "pitch = 90\n",
    "yaw = 0\n",
    "R = rpy2rm(np.deg2rad(roll), np.deg2rad(pitch), np.deg2rad(yaw))\n",
    "\n",
    "IDX = 0\n",
    "open_pose_landmark = OpenPoseLandmark.mediapipe2openpose(pose_data_list[IDX])\n",
    "open_pose_landmark -= open_pose_landmark.mean(axis=0)\n",
    "\n",
    "open_pose_landmark_rotated = np.matmul(\n",
    "    R, open_pose_landmark.T\n",
    ").T\n",
    "\n",
    "plot3d(open_pose_landmark, OpenPoseLandmark.CONN_PATH_LIST)\n",
    "plot3d(open_pose_landmark_rotated, OpenPoseLandmark.CONN_PATH_LIST)"
   ]
  },
  {
   "cell_type": "code",
   "execution_count": 85,
   "metadata": {},
   "outputs": [
    {
     "data": {
      "text/html": [
       "        <script type=\"text/javascript\">\n",
       "        window.PlotlyConfig = {MathJaxConfig: 'local'};\n",
       "        if (window.MathJax && window.MathJax.Hub && window.MathJax.Hub.Config) {window.MathJax.Hub.Config({SVG: {font: \"STIX-Web\"}});}\n",
       "        if (typeof require !== 'undefined') {\n",
       "        require.undef(\"plotly\");\n",
       "        requirejs.config({\n",
       "            paths: {\n",
       "                'plotly': ['https://cdn.plot.ly/plotly-2.20.0.min']\n",
       "            }\n",
       "        });\n",
       "        require(['plotly'], function(Plotly) {\n",
       "            window._Plotly = Plotly;\n",
       "        });\n",
       "        }\n",
       "        </script>\n",
       "        "
      ]
     },
     "metadata": {},
     "output_type": "display_data"
    },
    {
     "name": "stdout",
     "output_type": "stream",
     "text": [
      "rotated\n",
      "[[ 0.          0.          0.        ]\n",
      " [-0.5        -0.70710678  0.5       ]\n",
      " [-0.5         0.70710678  0.5       ]\n",
      " [ 0.70710678  0.          0.70710678]]\n",
      "0 0 0\n"
     ]
    },
    {
     "data": {
      "application/vnd.plotly.v1+json": {
       "config": {
        "plotlyServerURL": "https://plot.ly"
       },
       "data": [
        {
         "type": "scatter3d",
         "x": [
          0,
          0,
          0,
          0,
          0,
          1,
          0
         ],
         "y": [
          0,
          0,
          0,
          1,
          0,
          0,
          0
         ],
         "z": [
          0,
          1,
          0,
          0,
          0,
          0,
          0
         ]
        }
       ],
       "layout": {
        "scene": {
         "camera": {
          "eye": {
           "x": -1,
           "y": -1,
           "z": 1
          }
         }
        },
        "template": {
         "data": {
          "bar": [
           {
            "error_x": {
             "color": "#2a3f5f"
            },
            "error_y": {
             "color": "#2a3f5f"
            },
            "marker": {
             "line": {
              "color": "#E5ECF6",
              "width": 0.5
             },
             "pattern": {
              "fillmode": "overlay",
              "size": 10,
              "solidity": 0.2
             }
            },
            "type": "bar"
           }
          ],
          "barpolar": [
           {
            "marker": {
             "line": {
              "color": "#E5ECF6",
              "width": 0.5
             },
             "pattern": {
              "fillmode": "overlay",
              "size": 10,
              "solidity": 0.2
             }
            },
            "type": "barpolar"
           }
          ],
          "carpet": [
           {
            "aaxis": {
             "endlinecolor": "#2a3f5f",
             "gridcolor": "white",
             "linecolor": "white",
             "minorgridcolor": "white",
             "startlinecolor": "#2a3f5f"
            },
            "baxis": {
             "endlinecolor": "#2a3f5f",
             "gridcolor": "white",
             "linecolor": "white",
             "minorgridcolor": "white",
             "startlinecolor": "#2a3f5f"
            },
            "type": "carpet"
           }
          ],
          "choropleth": [
           {
            "colorbar": {
             "outlinewidth": 0,
             "ticks": ""
            },
            "type": "choropleth"
           }
          ],
          "contour": [
           {
            "colorbar": {
             "outlinewidth": 0,
             "ticks": ""
            },
            "colorscale": [
             [
              0,
              "#0d0887"
             ],
             [
              0.1111111111111111,
              "#46039f"
             ],
             [
              0.2222222222222222,
              "#7201a8"
             ],
             [
              0.3333333333333333,
              "#9c179e"
             ],
             [
              0.4444444444444444,
              "#bd3786"
             ],
             [
              0.5555555555555556,
              "#d8576b"
             ],
             [
              0.6666666666666666,
              "#ed7953"
             ],
             [
              0.7777777777777778,
              "#fb9f3a"
             ],
             [
              0.8888888888888888,
              "#fdca26"
             ],
             [
              1,
              "#f0f921"
             ]
            ],
            "type": "contour"
           }
          ],
          "contourcarpet": [
           {
            "colorbar": {
             "outlinewidth": 0,
             "ticks": ""
            },
            "type": "contourcarpet"
           }
          ],
          "heatmap": [
           {
            "colorbar": {
             "outlinewidth": 0,
             "ticks": ""
            },
            "colorscale": [
             [
              0,
              "#0d0887"
             ],
             [
              0.1111111111111111,
              "#46039f"
             ],
             [
              0.2222222222222222,
              "#7201a8"
             ],
             [
              0.3333333333333333,
              "#9c179e"
             ],
             [
              0.4444444444444444,
              "#bd3786"
             ],
             [
              0.5555555555555556,
              "#d8576b"
             ],
             [
              0.6666666666666666,
              "#ed7953"
             ],
             [
              0.7777777777777778,
              "#fb9f3a"
             ],
             [
              0.8888888888888888,
              "#fdca26"
             ],
             [
              1,
              "#f0f921"
             ]
            ],
            "type": "heatmap"
           }
          ],
          "heatmapgl": [
           {
            "colorbar": {
             "outlinewidth": 0,
             "ticks": ""
            },
            "colorscale": [
             [
              0,
              "#0d0887"
             ],
             [
              0.1111111111111111,
              "#46039f"
             ],
             [
              0.2222222222222222,
              "#7201a8"
             ],
             [
              0.3333333333333333,
              "#9c179e"
             ],
             [
              0.4444444444444444,
              "#bd3786"
             ],
             [
              0.5555555555555556,
              "#d8576b"
             ],
             [
              0.6666666666666666,
              "#ed7953"
             ],
             [
              0.7777777777777778,
              "#fb9f3a"
             ],
             [
              0.8888888888888888,
              "#fdca26"
             ],
             [
              1,
              "#f0f921"
             ]
            ],
            "type": "heatmapgl"
           }
          ],
          "histogram": [
           {
            "marker": {
             "pattern": {
              "fillmode": "overlay",
              "size": 10,
              "solidity": 0.2
             }
            },
            "type": "histogram"
           }
          ],
          "histogram2d": [
           {
            "colorbar": {
             "outlinewidth": 0,
             "ticks": ""
            },
            "colorscale": [
             [
              0,
              "#0d0887"
             ],
             [
              0.1111111111111111,
              "#46039f"
             ],
             [
              0.2222222222222222,
              "#7201a8"
             ],
             [
              0.3333333333333333,
              "#9c179e"
             ],
             [
              0.4444444444444444,
              "#bd3786"
             ],
             [
              0.5555555555555556,
              "#d8576b"
             ],
             [
              0.6666666666666666,
              "#ed7953"
             ],
             [
              0.7777777777777778,
              "#fb9f3a"
             ],
             [
              0.8888888888888888,
              "#fdca26"
             ],
             [
              1,
              "#f0f921"
             ]
            ],
            "type": "histogram2d"
           }
          ],
          "histogram2dcontour": [
           {
            "colorbar": {
             "outlinewidth": 0,
             "ticks": ""
            },
            "colorscale": [
             [
              0,
              "#0d0887"
             ],
             [
              0.1111111111111111,
              "#46039f"
             ],
             [
              0.2222222222222222,
              "#7201a8"
             ],
             [
              0.3333333333333333,
              "#9c179e"
             ],
             [
              0.4444444444444444,
              "#bd3786"
             ],
             [
              0.5555555555555556,
              "#d8576b"
             ],
             [
              0.6666666666666666,
              "#ed7953"
             ],
             [
              0.7777777777777778,
              "#fb9f3a"
             ],
             [
              0.8888888888888888,
              "#fdca26"
             ],
             [
              1,
              "#f0f921"
             ]
            ],
            "type": "histogram2dcontour"
           }
          ],
          "mesh3d": [
           {
            "colorbar": {
             "outlinewidth": 0,
             "ticks": ""
            },
            "type": "mesh3d"
           }
          ],
          "parcoords": [
           {
            "line": {
             "colorbar": {
              "outlinewidth": 0,
              "ticks": ""
             }
            },
            "type": "parcoords"
           }
          ],
          "pie": [
           {
            "automargin": true,
            "type": "pie"
           }
          ],
          "scatter": [
           {
            "fillpattern": {
             "fillmode": "overlay",
             "size": 10,
             "solidity": 0.2
            },
            "type": "scatter"
           }
          ],
          "scatter3d": [
           {
            "line": {
             "colorbar": {
              "outlinewidth": 0,
              "ticks": ""
             }
            },
            "marker": {
             "colorbar": {
              "outlinewidth": 0,
              "ticks": ""
             }
            },
            "type": "scatter3d"
           }
          ],
          "scattercarpet": [
           {
            "marker": {
             "colorbar": {
              "outlinewidth": 0,
              "ticks": ""
             }
            },
            "type": "scattercarpet"
           }
          ],
          "scattergeo": [
           {
            "marker": {
             "colorbar": {
              "outlinewidth": 0,
              "ticks": ""
             }
            },
            "type": "scattergeo"
           }
          ],
          "scattergl": [
           {
            "marker": {
             "colorbar": {
              "outlinewidth": 0,
              "ticks": ""
             }
            },
            "type": "scattergl"
           }
          ],
          "scattermapbox": [
           {
            "marker": {
             "colorbar": {
              "outlinewidth": 0,
              "ticks": ""
             }
            },
            "type": "scattermapbox"
           }
          ],
          "scatterpolar": [
           {
            "marker": {
             "colorbar": {
              "outlinewidth": 0,
              "ticks": ""
             }
            },
            "type": "scatterpolar"
           }
          ],
          "scatterpolargl": [
           {
            "marker": {
             "colorbar": {
              "outlinewidth": 0,
              "ticks": ""
             }
            },
            "type": "scatterpolargl"
           }
          ],
          "scatterternary": [
           {
            "marker": {
             "colorbar": {
              "outlinewidth": 0,
              "ticks": ""
             }
            },
            "type": "scatterternary"
           }
          ],
          "surface": [
           {
            "colorbar": {
             "outlinewidth": 0,
             "ticks": ""
            },
            "colorscale": [
             [
              0,
              "#0d0887"
             ],
             [
              0.1111111111111111,
              "#46039f"
             ],
             [
              0.2222222222222222,
              "#7201a8"
             ],
             [
              0.3333333333333333,
              "#9c179e"
             ],
             [
              0.4444444444444444,
              "#bd3786"
             ],
             [
              0.5555555555555556,
              "#d8576b"
             ],
             [
              0.6666666666666666,
              "#ed7953"
             ],
             [
              0.7777777777777778,
              "#fb9f3a"
             ],
             [
              0.8888888888888888,
              "#fdca26"
             ],
             [
              1,
              "#f0f921"
             ]
            ],
            "type": "surface"
           }
          ],
          "table": [
           {
            "cells": {
             "fill": {
              "color": "#EBF0F8"
             },
             "line": {
              "color": "white"
             }
            },
            "header": {
             "fill": {
              "color": "#C8D4E3"
             },
             "line": {
              "color": "white"
             }
            },
            "type": "table"
           }
          ]
         },
         "layout": {
          "annotationdefaults": {
           "arrowcolor": "#2a3f5f",
           "arrowhead": 0,
           "arrowwidth": 1
          },
          "autotypenumbers": "strict",
          "coloraxis": {
           "colorbar": {
            "outlinewidth": 0,
            "ticks": ""
           }
          },
          "colorscale": {
           "diverging": [
            [
             0,
             "#8e0152"
            ],
            [
             0.1,
             "#c51b7d"
            ],
            [
             0.2,
             "#de77ae"
            ],
            [
             0.3,
             "#f1b6da"
            ],
            [
             0.4,
             "#fde0ef"
            ],
            [
             0.5,
             "#f7f7f7"
            ],
            [
             0.6,
             "#e6f5d0"
            ],
            [
             0.7,
             "#b8e186"
            ],
            [
             0.8,
             "#7fbc41"
            ],
            [
             0.9,
             "#4d9221"
            ],
            [
             1,
             "#276419"
            ]
           ],
           "sequential": [
            [
             0,
             "#0d0887"
            ],
            [
             0.1111111111111111,
             "#46039f"
            ],
            [
             0.2222222222222222,
             "#7201a8"
            ],
            [
             0.3333333333333333,
             "#9c179e"
            ],
            [
             0.4444444444444444,
             "#bd3786"
            ],
            [
             0.5555555555555556,
             "#d8576b"
            ],
            [
             0.6666666666666666,
             "#ed7953"
            ],
            [
             0.7777777777777778,
             "#fb9f3a"
            ],
            [
             0.8888888888888888,
             "#fdca26"
            ],
            [
             1,
             "#f0f921"
            ]
           ],
           "sequentialminus": [
            [
             0,
             "#0d0887"
            ],
            [
             0.1111111111111111,
             "#46039f"
            ],
            [
             0.2222222222222222,
             "#7201a8"
            ],
            [
             0.3333333333333333,
             "#9c179e"
            ],
            [
             0.4444444444444444,
             "#bd3786"
            ],
            [
             0.5555555555555556,
             "#d8576b"
            ],
            [
             0.6666666666666666,
             "#ed7953"
            ],
            [
             0.7777777777777778,
             "#fb9f3a"
            ],
            [
             0.8888888888888888,
             "#fdca26"
            ],
            [
             1,
             "#f0f921"
            ]
           ]
          },
          "colorway": [
           "#636efa",
           "#EF553B",
           "#00cc96",
           "#ab63fa",
           "#FFA15A",
           "#19d3f3",
           "#FF6692",
           "#B6E880",
           "#FF97FF",
           "#FECB52"
          ],
          "font": {
           "color": "#2a3f5f"
          },
          "geo": {
           "bgcolor": "white",
           "lakecolor": "white",
           "landcolor": "#E5ECF6",
           "showlakes": true,
           "showland": true,
           "subunitcolor": "white"
          },
          "hoverlabel": {
           "align": "left"
          },
          "hovermode": "closest",
          "mapbox": {
           "style": "light"
          },
          "paper_bgcolor": "white",
          "plot_bgcolor": "#E5ECF6",
          "polar": {
           "angularaxis": {
            "gridcolor": "white",
            "linecolor": "white",
            "ticks": ""
           },
           "bgcolor": "#E5ECF6",
           "radialaxis": {
            "gridcolor": "white",
            "linecolor": "white",
            "ticks": ""
           }
          },
          "scene": {
           "xaxis": {
            "backgroundcolor": "#E5ECF6",
            "gridcolor": "white",
            "gridwidth": 2,
            "linecolor": "white",
            "showbackground": true,
            "ticks": "",
            "zerolinecolor": "white"
           },
           "yaxis": {
            "backgroundcolor": "#E5ECF6",
            "gridcolor": "white",
            "gridwidth": 2,
            "linecolor": "white",
            "showbackground": true,
            "ticks": "",
            "zerolinecolor": "white"
           },
           "zaxis": {
            "backgroundcolor": "#E5ECF6",
            "gridcolor": "white",
            "gridwidth": 2,
            "linecolor": "white",
            "showbackground": true,
            "ticks": "",
            "zerolinecolor": "white"
           }
          },
          "shapedefaults": {
           "line": {
            "color": "#2a3f5f"
           }
          },
          "ternary": {
           "aaxis": {
            "gridcolor": "white",
            "linecolor": "white",
            "ticks": ""
           },
           "baxis": {
            "gridcolor": "white",
            "linecolor": "white",
            "ticks": ""
           },
           "bgcolor": "#E5ECF6",
           "caxis": {
            "gridcolor": "white",
            "linecolor": "white",
            "ticks": ""
           }
          },
          "title": {
           "x": 0.05
          },
          "xaxis": {
           "automargin": true,
           "gridcolor": "white",
           "linecolor": "white",
           "ticks": "",
           "title": {
            "standoff": 15
           },
           "zerolinecolor": "white",
           "zerolinewidth": 2
          },
          "yaxis": {
           "automargin": true,
           "gridcolor": "white",
           "linecolor": "white",
           "ticks": "",
           "title": {
            "standoff": 15
           },
           "zerolinecolor": "white",
           "zerolinewidth": 2
          }
         }
        }
       }
      },
      "text/html": [
       "<div>                            <div id=\"d0079a59-2106-4c1b-94b1-ba3c9b05dede\" class=\"plotly-graph-div\" style=\"height:525px; width:100%;\"></div>            <script type=\"text/javascript\">                require([\"plotly\"], function(Plotly) {                    window.PLOTLYENV=window.PLOTLYENV || {};                                    if (document.getElementById(\"d0079a59-2106-4c1b-94b1-ba3c9b05dede\")) {                    Plotly.newPlot(                        \"d0079a59-2106-4c1b-94b1-ba3c9b05dede\",                        [{\"x\":[0,0,0,0,0,1,0],\"y\":[0,0,0,1,0,0,0],\"z\":[0,1,0,0,0,0,0],\"type\":\"scatter3d\"}],                        {\"scene\":{\"camera\":{\"eye\":{\"x\":-1,\"y\":-1,\"z\":1}}},\"template\":{\"data\":{\"histogram2dcontour\":[{\"type\":\"histogram2dcontour\",\"colorbar\":{\"outlinewidth\":0,\"ticks\":\"\"},\"colorscale\":[[0.0,\"#0d0887\"],[0.1111111111111111,\"#46039f\"],[0.2222222222222222,\"#7201a8\"],[0.3333333333333333,\"#9c179e\"],[0.4444444444444444,\"#bd3786\"],[0.5555555555555556,\"#d8576b\"],[0.6666666666666666,\"#ed7953\"],[0.7777777777777778,\"#fb9f3a\"],[0.8888888888888888,\"#fdca26\"],[1.0,\"#f0f921\"]]}],\"choropleth\":[{\"type\":\"choropleth\",\"colorbar\":{\"outlinewidth\":0,\"ticks\":\"\"}}],\"histogram2d\":[{\"type\":\"histogram2d\",\"colorbar\":{\"outlinewidth\":0,\"ticks\":\"\"},\"colorscale\":[[0.0,\"#0d0887\"],[0.1111111111111111,\"#46039f\"],[0.2222222222222222,\"#7201a8\"],[0.3333333333333333,\"#9c179e\"],[0.4444444444444444,\"#bd3786\"],[0.5555555555555556,\"#d8576b\"],[0.6666666666666666,\"#ed7953\"],[0.7777777777777778,\"#fb9f3a\"],[0.8888888888888888,\"#fdca26\"],[1.0,\"#f0f921\"]]}],\"heatmap\":[{\"type\":\"heatmap\",\"colorbar\":{\"outlinewidth\":0,\"ticks\":\"\"},\"colorscale\":[[0.0,\"#0d0887\"],[0.1111111111111111,\"#46039f\"],[0.2222222222222222,\"#7201a8\"],[0.3333333333333333,\"#9c179e\"],[0.4444444444444444,\"#bd3786\"],[0.5555555555555556,\"#d8576b\"],[0.6666666666666666,\"#ed7953\"],[0.7777777777777778,\"#fb9f3a\"],[0.8888888888888888,\"#fdca26\"],[1.0,\"#f0f921\"]]}],\"heatmapgl\":[{\"type\":\"heatmapgl\",\"colorbar\":{\"outlinewidth\":0,\"ticks\":\"\"},\"colorscale\":[[0.0,\"#0d0887\"],[0.1111111111111111,\"#46039f\"],[0.2222222222222222,\"#7201a8\"],[0.3333333333333333,\"#9c179e\"],[0.4444444444444444,\"#bd3786\"],[0.5555555555555556,\"#d8576b\"],[0.6666666666666666,\"#ed7953\"],[0.7777777777777778,\"#fb9f3a\"],[0.8888888888888888,\"#fdca26\"],[1.0,\"#f0f921\"]]}],\"contourcarpet\":[{\"type\":\"contourcarpet\",\"colorbar\":{\"outlinewidth\":0,\"ticks\":\"\"}}],\"contour\":[{\"type\":\"contour\",\"colorbar\":{\"outlinewidth\":0,\"ticks\":\"\"},\"colorscale\":[[0.0,\"#0d0887\"],[0.1111111111111111,\"#46039f\"],[0.2222222222222222,\"#7201a8\"],[0.3333333333333333,\"#9c179e\"],[0.4444444444444444,\"#bd3786\"],[0.5555555555555556,\"#d8576b\"],[0.6666666666666666,\"#ed7953\"],[0.7777777777777778,\"#fb9f3a\"],[0.8888888888888888,\"#fdca26\"],[1.0,\"#f0f921\"]]}],\"surface\":[{\"type\":\"surface\",\"colorbar\":{\"outlinewidth\":0,\"ticks\":\"\"},\"colorscale\":[[0.0,\"#0d0887\"],[0.1111111111111111,\"#46039f\"],[0.2222222222222222,\"#7201a8\"],[0.3333333333333333,\"#9c179e\"],[0.4444444444444444,\"#bd3786\"],[0.5555555555555556,\"#d8576b\"],[0.6666666666666666,\"#ed7953\"],[0.7777777777777778,\"#fb9f3a\"],[0.8888888888888888,\"#fdca26\"],[1.0,\"#f0f921\"]]}],\"mesh3d\":[{\"type\":\"mesh3d\",\"colorbar\":{\"outlinewidth\":0,\"ticks\":\"\"}}],\"scatter\":[{\"fillpattern\":{\"fillmode\":\"overlay\",\"size\":10,\"solidity\":0.2},\"type\":\"scatter\"}],\"parcoords\":[{\"type\":\"parcoords\",\"line\":{\"colorbar\":{\"outlinewidth\":0,\"ticks\":\"\"}}}],\"scatterpolargl\":[{\"type\":\"scatterpolargl\",\"marker\":{\"colorbar\":{\"outlinewidth\":0,\"ticks\":\"\"}}}],\"bar\":[{\"error_x\":{\"color\":\"#2a3f5f\"},\"error_y\":{\"color\":\"#2a3f5f\"},\"marker\":{\"line\":{\"color\":\"#E5ECF6\",\"width\":0.5},\"pattern\":{\"fillmode\":\"overlay\",\"size\":10,\"solidity\":0.2}},\"type\":\"bar\"}],\"scattergeo\":[{\"type\":\"scattergeo\",\"marker\":{\"colorbar\":{\"outlinewidth\":0,\"ticks\":\"\"}}}],\"scatterpolar\":[{\"type\":\"scatterpolar\",\"marker\":{\"colorbar\":{\"outlinewidth\":0,\"ticks\":\"\"}}}],\"histogram\":[{\"marker\":{\"pattern\":{\"fillmode\":\"overlay\",\"size\":10,\"solidity\":0.2}},\"type\":\"histogram\"}],\"scattergl\":[{\"type\":\"scattergl\",\"marker\":{\"colorbar\":{\"outlinewidth\":0,\"ticks\":\"\"}}}],\"scatter3d\":[{\"type\":\"scatter3d\",\"line\":{\"colorbar\":{\"outlinewidth\":0,\"ticks\":\"\"}},\"marker\":{\"colorbar\":{\"outlinewidth\":0,\"ticks\":\"\"}}}],\"scattermapbox\":[{\"type\":\"scattermapbox\",\"marker\":{\"colorbar\":{\"outlinewidth\":0,\"ticks\":\"\"}}}],\"scatterternary\":[{\"type\":\"scatterternary\",\"marker\":{\"colorbar\":{\"outlinewidth\":0,\"ticks\":\"\"}}}],\"scattercarpet\":[{\"type\":\"scattercarpet\",\"marker\":{\"colorbar\":{\"outlinewidth\":0,\"ticks\":\"\"}}}],\"carpet\":[{\"aaxis\":{\"endlinecolor\":\"#2a3f5f\",\"gridcolor\":\"white\",\"linecolor\":\"white\",\"minorgridcolor\":\"white\",\"startlinecolor\":\"#2a3f5f\"},\"baxis\":{\"endlinecolor\":\"#2a3f5f\",\"gridcolor\":\"white\",\"linecolor\":\"white\",\"minorgridcolor\":\"white\",\"startlinecolor\":\"#2a3f5f\"},\"type\":\"carpet\"}],\"table\":[{\"cells\":{\"fill\":{\"color\":\"#EBF0F8\"},\"line\":{\"color\":\"white\"}},\"header\":{\"fill\":{\"color\":\"#C8D4E3\"},\"line\":{\"color\":\"white\"}},\"type\":\"table\"}],\"barpolar\":[{\"marker\":{\"line\":{\"color\":\"#E5ECF6\",\"width\":0.5},\"pattern\":{\"fillmode\":\"overlay\",\"size\":10,\"solidity\":0.2}},\"type\":\"barpolar\"}],\"pie\":[{\"automargin\":true,\"type\":\"pie\"}]},\"layout\":{\"autotypenumbers\":\"strict\",\"colorway\":[\"#636efa\",\"#EF553B\",\"#00cc96\",\"#ab63fa\",\"#FFA15A\",\"#19d3f3\",\"#FF6692\",\"#B6E880\",\"#FF97FF\",\"#FECB52\"],\"font\":{\"color\":\"#2a3f5f\"},\"hovermode\":\"closest\",\"hoverlabel\":{\"align\":\"left\"},\"paper_bgcolor\":\"white\",\"plot_bgcolor\":\"#E5ECF6\",\"polar\":{\"bgcolor\":\"#E5ECF6\",\"angularaxis\":{\"gridcolor\":\"white\",\"linecolor\":\"white\",\"ticks\":\"\"},\"radialaxis\":{\"gridcolor\":\"white\",\"linecolor\":\"white\",\"ticks\":\"\"}},\"ternary\":{\"bgcolor\":\"#E5ECF6\",\"aaxis\":{\"gridcolor\":\"white\",\"linecolor\":\"white\",\"ticks\":\"\"},\"baxis\":{\"gridcolor\":\"white\",\"linecolor\":\"white\",\"ticks\":\"\"},\"caxis\":{\"gridcolor\":\"white\",\"linecolor\":\"white\",\"ticks\":\"\"}},\"coloraxis\":{\"colorbar\":{\"outlinewidth\":0,\"ticks\":\"\"}},\"colorscale\":{\"sequential\":[[0.0,\"#0d0887\"],[0.1111111111111111,\"#46039f\"],[0.2222222222222222,\"#7201a8\"],[0.3333333333333333,\"#9c179e\"],[0.4444444444444444,\"#bd3786\"],[0.5555555555555556,\"#d8576b\"],[0.6666666666666666,\"#ed7953\"],[0.7777777777777778,\"#fb9f3a\"],[0.8888888888888888,\"#fdca26\"],[1.0,\"#f0f921\"]],\"sequentialminus\":[[0.0,\"#0d0887\"],[0.1111111111111111,\"#46039f\"],[0.2222222222222222,\"#7201a8\"],[0.3333333333333333,\"#9c179e\"],[0.4444444444444444,\"#bd3786\"],[0.5555555555555556,\"#d8576b\"],[0.6666666666666666,\"#ed7953\"],[0.7777777777777778,\"#fb9f3a\"],[0.8888888888888888,\"#fdca26\"],[1.0,\"#f0f921\"]],\"diverging\":[[0,\"#8e0152\"],[0.1,\"#c51b7d\"],[0.2,\"#de77ae\"],[0.3,\"#f1b6da\"],[0.4,\"#fde0ef\"],[0.5,\"#f7f7f7\"],[0.6,\"#e6f5d0\"],[0.7,\"#b8e186\"],[0.8,\"#7fbc41\"],[0.9,\"#4d9221\"],[1,\"#276419\"]]},\"xaxis\":{\"gridcolor\":\"white\",\"linecolor\":\"white\",\"ticks\":\"\",\"title\":{\"standoff\":15},\"zerolinecolor\":\"white\",\"automargin\":true,\"zerolinewidth\":2},\"yaxis\":{\"gridcolor\":\"white\",\"linecolor\":\"white\",\"ticks\":\"\",\"title\":{\"standoff\":15},\"zerolinecolor\":\"white\",\"automargin\":true,\"zerolinewidth\":2},\"scene\":{\"xaxis\":{\"backgroundcolor\":\"#E5ECF6\",\"gridcolor\":\"white\",\"linecolor\":\"white\",\"showbackground\":true,\"ticks\":\"\",\"zerolinecolor\":\"white\",\"gridwidth\":2},\"yaxis\":{\"backgroundcolor\":\"#E5ECF6\",\"gridcolor\":\"white\",\"linecolor\":\"white\",\"showbackground\":true,\"ticks\":\"\",\"zerolinecolor\":\"white\",\"gridwidth\":2},\"zaxis\":{\"backgroundcolor\":\"#E5ECF6\",\"gridcolor\":\"white\",\"linecolor\":\"white\",\"showbackground\":true,\"ticks\":\"\",\"zerolinecolor\":\"white\",\"gridwidth\":2}},\"shapedefaults\":{\"line\":{\"color\":\"#2a3f5f\"}},\"annotationdefaults\":{\"arrowcolor\":\"#2a3f5f\",\"arrowhead\":0,\"arrowwidth\":1},\"geo\":{\"bgcolor\":\"white\",\"landcolor\":\"#E5ECF6\",\"subunitcolor\":\"white\",\"showland\":true,\"showlakes\":true,\"lakecolor\":\"white\"},\"title\":{\"x\":0.05},\"mapbox\":{\"style\":\"light\"}}}},                        {\"responsive\": true}                    ).then(function(){\n",
       "                            \n",
       "var gd = document.getElementById('d0079a59-2106-4c1b-94b1-ba3c9b05dede');\n",
       "var x = new MutationObserver(function (mutations, observer) {{\n",
       "        var display = window.getComputedStyle(gd).display;\n",
       "        if (!display || display === 'none') {{\n",
       "            console.log([gd, 'removed!']);\n",
       "            Plotly.purge(gd);\n",
       "            observer.disconnect();\n",
       "        }}\n",
       "}});\n",
       "\n",
       "// Listen for the removal of the full notebook cells\n",
       "var notebookContainer = gd.closest('#notebook-container');\n",
       "if (notebookContainer) {{\n",
       "    x.observe(notebookContainer, {childList: true});\n",
       "}}\n",
       "\n",
       "// Listen for the clearing of the current output cell\n",
       "var outputEl = gd.closest('.output');\n",
       "if (outputEl) {{\n",
       "    x.observe(outputEl, {childList: true});\n",
       "}}\n",
       "\n",
       "                        })                };                });            </script>        </div>"
      ]
     },
     "metadata": {},
     "output_type": "display_data"
    },
    {
     "name": "stdout",
     "output_type": "stream",
     "text": [
      "-0.5 -0.7071067811865475 0.0\n"
     ]
    },
    {
     "data": {
      "application/vnd.plotly.v1+json": {
       "config": {
        "plotlyServerURL": "https://plot.ly"
       },
       "data": [
        {
         "type": "scatter3d",
         "x": [
          0,
          -0.5,
          0,
          -0.4999999999999999,
          0,
          0.7071067811865476,
          0
         ],
         "y": [
          0,
          -0.7071067811865475,
          0,
          0.7071067811865476,
          0,
          0,
          0
         ],
         "z": [
          0,
          0.5000000000000001,
          0,
          0.5,
          0,
          0.7071067811865475,
          0
         ]
        }
       ],
       "layout": {
        "scene": {
         "camera": {
          "eye": {
           "x": -1,
           "y": -1,
           "z": 1
          }
         }
        },
        "template": {
         "data": {
          "bar": [
           {
            "error_x": {
             "color": "#2a3f5f"
            },
            "error_y": {
             "color": "#2a3f5f"
            },
            "marker": {
             "line": {
              "color": "#E5ECF6",
              "width": 0.5
             },
             "pattern": {
              "fillmode": "overlay",
              "size": 10,
              "solidity": 0.2
             }
            },
            "type": "bar"
           }
          ],
          "barpolar": [
           {
            "marker": {
             "line": {
              "color": "#E5ECF6",
              "width": 0.5
             },
             "pattern": {
              "fillmode": "overlay",
              "size": 10,
              "solidity": 0.2
             }
            },
            "type": "barpolar"
           }
          ],
          "carpet": [
           {
            "aaxis": {
             "endlinecolor": "#2a3f5f",
             "gridcolor": "white",
             "linecolor": "white",
             "minorgridcolor": "white",
             "startlinecolor": "#2a3f5f"
            },
            "baxis": {
             "endlinecolor": "#2a3f5f",
             "gridcolor": "white",
             "linecolor": "white",
             "minorgridcolor": "white",
             "startlinecolor": "#2a3f5f"
            },
            "type": "carpet"
           }
          ],
          "choropleth": [
           {
            "colorbar": {
             "outlinewidth": 0,
             "ticks": ""
            },
            "type": "choropleth"
           }
          ],
          "contour": [
           {
            "colorbar": {
             "outlinewidth": 0,
             "ticks": ""
            },
            "colorscale": [
             [
              0,
              "#0d0887"
             ],
             [
              0.1111111111111111,
              "#46039f"
             ],
             [
              0.2222222222222222,
              "#7201a8"
             ],
             [
              0.3333333333333333,
              "#9c179e"
             ],
             [
              0.4444444444444444,
              "#bd3786"
             ],
             [
              0.5555555555555556,
              "#d8576b"
             ],
             [
              0.6666666666666666,
              "#ed7953"
             ],
             [
              0.7777777777777778,
              "#fb9f3a"
             ],
             [
              0.8888888888888888,
              "#fdca26"
             ],
             [
              1,
              "#f0f921"
             ]
            ],
            "type": "contour"
           }
          ],
          "contourcarpet": [
           {
            "colorbar": {
             "outlinewidth": 0,
             "ticks": ""
            },
            "type": "contourcarpet"
           }
          ],
          "heatmap": [
           {
            "colorbar": {
             "outlinewidth": 0,
             "ticks": ""
            },
            "colorscale": [
             [
              0,
              "#0d0887"
             ],
             [
              0.1111111111111111,
              "#46039f"
             ],
             [
              0.2222222222222222,
              "#7201a8"
             ],
             [
              0.3333333333333333,
              "#9c179e"
             ],
             [
              0.4444444444444444,
              "#bd3786"
             ],
             [
              0.5555555555555556,
              "#d8576b"
             ],
             [
              0.6666666666666666,
              "#ed7953"
             ],
             [
              0.7777777777777778,
              "#fb9f3a"
             ],
             [
              0.8888888888888888,
              "#fdca26"
             ],
             [
              1,
              "#f0f921"
             ]
            ],
            "type": "heatmap"
           }
          ],
          "heatmapgl": [
           {
            "colorbar": {
             "outlinewidth": 0,
             "ticks": ""
            },
            "colorscale": [
             [
              0,
              "#0d0887"
             ],
             [
              0.1111111111111111,
              "#46039f"
             ],
             [
              0.2222222222222222,
              "#7201a8"
             ],
             [
              0.3333333333333333,
              "#9c179e"
             ],
             [
              0.4444444444444444,
              "#bd3786"
             ],
             [
              0.5555555555555556,
              "#d8576b"
             ],
             [
              0.6666666666666666,
              "#ed7953"
             ],
             [
              0.7777777777777778,
              "#fb9f3a"
             ],
             [
              0.8888888888888888,
              "#fdca26"
             ],
             [
              1,
              "#f0f921"
             ]
            ],
            "type": "heatmapgl"
           }
          ],
          "histogram": [
           {
            "marker": {
             "pattern": {
              "fillmode": "overlay",
              "size": 10,
              "solidity": 0.2
             }
            },
            "type": "histogram"
           }
          ],
          "histogram2d": [
           {
            "colorbar": {
             "outlinewidth": 0,
             "ticks": ""
            },
            "colorscale": [
             [
              0,
              "#0d0887"
             ],
             [
              0.1111111111111111,
              "#46039f"
             ],
             [
              0.2222222222222222,
              "#7201a8"
             ],
             [
              0.3333333333333333,
              "#9c179e"
             ],
             [
              0.4444444444444444,
              "#bd3786"
             ],
             [
              0.5555555555555556,
              "#d8576b"
             ],
             [
              0.6666666666666666,
              "#ed7953"
             ],
             [
              0.7777777777777778,
              "#fb9f3a"
             ],
             [
              0.8888888888888888,
              "#fdca26"
             ],
             [
              1,
              "#f0f921"
             ]
            ],
            "type": "histogram2d"
           }
          ],
          "histogram2dcontour": [
           {
            "colorbar": {
             "outlinewidth": 0,
             "ticks": ""
            },
            "colorscale": [
             [
              0,
              "#0d0887"
             ],
             [
              0.1111111111111111,
              "#46039f"
             ],
             [
              0.2222222222222222,
              "#7201a8"
             ],
             [
              0.3333333333333333,
              "#9c179e"
             ],
             [
              0.4444444444444444,
              "#bd3786"
             ],
             [
              0.5555555555555556,
              "#d8576b"
             ],
             [
              0.6666666666666666,
              "#ed7953"
             ],
             [
              0.7777777777777778,
              "#fb9f3a"
             ],
             [
              0.8888888888888888,
              "#fdca26"
             ],
             [
              1,
              "#f0f921"
             ]
            ],
            "type": "histogram2dcontour"
           }
          ],
          "mesh3d": [
           {
            "colorbar": {
             "outlinewidth": 0,
             "ticks": ""
            },
            "type": "mesh3d"
           }
          ],
          "parcoords": [
           {
            "line": {
             "colorbar": {
              "outlinewidth": 0,
              "ticks": ""
             }
            },
            "type": "parcoords"
           }
          ],
          "pie": [
           {
            "automargin": true,
            "type": "pie"
           }
          ],
          "scatter": [
           {
            "fillpattern": {
             "fillmode": "overlay",
             "size": 10,
             "solidity": 0.2
            },
            "type": "scatter"
           }
          ],
          "scatter3d": [
           {
            "line": {
             "colorbar": {
              "outlinewidth": 0,
              "ticks": ""
             }
            },
            "marker": {
             "colorbar": {
              "outlinewidth": 0,
              "ticks": ""
             }
            },
            "type": "scatter3d"
           }
          ],
          "scattercarpet": [
           {
            "marker": {
             "colorbar": {
              "outlinewidth": 0,
              "ticks": ""
             }
            },
            "type": "scattercarpet"
           }
          ],
          "scattergeo": [
           {
            "marker": {
             "colorbar": {
              "outlinewidth": 0,
              "ticks": ""
             }
            },
            "type": "scattergeo"
           }
          ],
          "scattergl": [
           {
            "marker": {
             "colorbar": {
              "outlinewidth": 0,
              "ticks": ""
             }
            },
            "type": "scattergl"
           }
          ],
          "scattermapbox": [
           {
            "marker": {
             "colorbar": {
              "outlinewidth": 0,
              "ticks": ""
             }
            },
            "type": "scattermapbox"
           }
          ],
          "scatterpolar": [
           {
            "marker": {
             "colorbar": {
              "outlinewidth": 0,
              "ticks": ""
             }
            },
            "type": "scatterpolar"
           }
          ],
          "scatterpolargl": [
           {
            "marker": {
             "colorbar": {
              "outlinewidth": 0,
              "ticks": ""
             }
            },
            "type": "scatterpolargl"
           }
          ],
          "scatterternary": [
           {
            "marker": {
             "colorbar": {
              "outlinewidth": 0,
              "ticks": ""
             }
            },
            "type": "scatterternary"
           }
          ],
          "surface": [
           {
            "colorbar": {
             "outlinewidth": 0,
             "ticks": ""
            },
            "colorscale": [
             [
              0,
              "#0d0887"
             ],
             [
              0.1111111111111111,
              "#46039f"
             ],
             [
              0.2222222222222222,
              "#7201a8"
             ],
             [
              0.3333333333333333,
              "#9c179e"
             ],
             [
              0.4444444444444444,
              "#bd3786"
             ],
             [
              0.5555555555555556,
              "#d8576b"
             ],
             [
              0.6666666666666666,
              "#ed7953"
             ],
             [
              0.7777777777777778,
              "#fb9f3a"
             ],
             [
              0.8888888888888888,
              "#fdca26"
             ],
             [
              1,
              "#f0f921"
             ]
            ],
            "type": "surface"
           }
          ],
          "table": [
           {
            "cells": {
             "fill": {
              "color": "#EBF0F8"
             },
             "line": {
              "color": "white"
             }
            },
            "header": {
             "fill": {
              "color": "#C8D4E3"
             },
             "line": {
              "color": "white"
             }
            },
            "type": "table"
           }
          ]
         },
         "layout": {
          "annotationdefaults": {
           "arrowcolor": "#2a3f5f",
           "arrowhead": 0,
           "arrowwidth": 1
          },
          "autotypenumbers": "strict",
          "coloraxis": {
           "colorbar": {
            "outlinewidth": 0,
            "ticks": ""
           }
          },
          "colorscale": {
           "diverging": [
            [
             0,
             "#8e0152"
            ],
            [
             0.1,
             "#c51b7d"
            ],
            [
             0.2,
             "#de77ae"
            ],
            [
             0.3,
             "#f1b6da"
            ],
            [
             0.4,
             "#fde0ef"
            ],
            [
             0.5,
             "#f7f7f7"
            ],
            [
             0.6,
             "#e6f5d0"
            ],
            [
             0.7,
             "#b8e186"
            ],
            [
             0.8,
             "#7fbc41"
            ],
            [
             0.9,
             "#4d9221"
            ],
            [
             1,
             "#276419"
            ]
           ],
           "sequential": [
            [
             0,
             "#0d0887"
            ],
            [
             0.1111111111111111,
             "#46039f"
            ],
            [
             0.2222222222222222,
             "#7201a8"
            ],
            [
             0.3333333333333333,
             "#9c179e"
            ],
            [
             0.4444444444444444,
             "#bd3786"
            ],
            [
             0.5555555555555556,
             "#d8576b"
            ],
            [
             0.6666666666666666,
             "#ed7953"
            ],
            [
             0.7777777777777778,
             "#fb9f3a"
            ],
            [
             0.8888888888888888,
             "#fdca26"
            ],
            [
             1,
             "#f0f921"
            ]
           ],
           "sequentialminus": [
            [
             0,
             "#0d0887"
            ],
            [
             0.1111111111111111,
             "#46039f"
            ],
            [
             0.2222222222222222,
             "#7201a8"
            ],
            [
             0.3333333333333333,
             "#9c179e"
            ],
            [
             0.4444444444444444,
             "#bd3786"
            ],
            [
             0.5555555555555556,
             "#d8576b"
            ],
            [
             0.6666666666666666,
             "#ed7953"
            ],
            [
             0.7777777777777778,
             "#fb9f3a"
            ],
            [
             0.8888888888888888,
             "#fdca26"
            ],
            [
             1,
             "#f0f921"
            ]
           ]
          },
          "colorway": [
           "#636efa",
           "#EF553B",
           "#00cc96",
           "#ab63fa",
           "#FFA15A",
           "#19d3f3",
           "#FF6692",
           "#B6E880",
           "#FF97FF",
           "#FECB52"
          ],
          "font": {
           "color": "#2a3f5f"
          },
          "geo": {
           "bgcolor": "white",
           "lakecolor": "white",
           "landcolor": "#E5ECF6",
           "showlakes": true,
           "showland": true,
           "subunitcolor": "white"
          },
          "hoverlabel": {
           "align": "left"
          },
          "hovermode": "closest",
          "mapbox": {
           "style": "light"
          },
          "paper_bgcolor": "white",
          "plot_bgcolor": "#E5ECF6",
          "polar": {
           "angularaxis": {
            "gridcolor": "white",
            "linecolor": "white",
            "ticks": ""
           },
           "bgcolor": "#E5ECF6",
           "radialaxis": {
            "gridcolor": "white",
            "linecolor": "white",
            "ticks": ""
           }
          },
          "scene": {
           "xaxis": {
            "backgroundcolor": "#E5ECF6",
            "gridcolor": "white",
            "gridwidth": 2,
            "linecolor": "white",
            "showbackground": true,
            "ticks": "",
            "zerolinecolor": "white"
           },
           "yaxis": {
            "backgroundcolor": "#E5ECF6",
            "gridcolor": "white",
            "gridwidth": 2,
            "linecolor": "white",
            "showbackground": true,
            "ticks": "",
            "zerolinecolor": "white"
           },
           "zaxis": {
            "backgroundcolor": "#E5ECF6",
            "gridcolor": "white",
            "gridwidth": 2,
            "linecolor": "white",
            "showbackground": true,
            "ticks": "",
            "zerolinecolor": "white"
           }
          },
          "shapedefaults": {
           "line": {
            "color": "#2a3f5f"
           }
          },
          "ternary": {
           "aaxis": {
            "gridcolor": "white",
            "linecolor": "white",
            "ticks": ""
           },
           "baxis": {
            "gridcolor": "white",
            "linecolor": "white",
            "ticks": ""
           },
           "bgcolor": "#E5ECF6",
           "caxis": {
            "gridcolor": "white",
            "linecolor": "white",
            "ticks": ""
           }
          },
          "title": {
           "x": 0.05
          },
          "xaxis": {
           "automargin": true,
           "gridcolor": "white",
           "linecolor": "white",
           "ticks": "",
           "title": {
            "standoff": 15
           },
           "zerolinecolor": "white",
           "zerolinewidth": 2
          },
          "yaxis": {
           "automargin": true,
           "gridcolor": "white",
           "linecolor": "white",
           "ticks": "",
           "title": {
            "standoff": 15
           },
           "zerolinecolor": "white",
           "zerolinewidth": 2
          }
         }
        }
       }
      },
      "text/html": [
       "<div>                            <div id=\"b1c8b988-8483-4319-b820-52a5d513ed80\" class=\"plotly-graph-div\" style=\"height:525px; width:100%;\"></div>            <script type=\"text/javascript\">                require([\"plotly\"], function(Plotly) {                    window.PLOTLYENV=window.PLOTLYENV || {};                                    if (document.getElementById(\"b1c8b988-8483-4319-b820-52a5d513ed80\")) {                    Plotly.newPlot(                        \"b1c8b988-8483-4319-b820-52a5d513ed80\",                        [{\"x\":[0.0,-0.5,0.0,-0.4999999999999999,0.0,0.7071067811865476,0.0],\"y\":[0.0,-0.7071067811865475,0.0,0.7071067811865476,0.0,0.0,0.0],\"z\":[0.0,0.5000000000000001,0.0,0.5,0.0,0.7071067811865475,0.0],\"type\":\"scatter3d\"}],                        {\"scene\":{\"camera\":{\"eye\":{\"x\":-1,\"y\":-1,\"z\":1}}},\"template\":{\"data\":{\"histogram2dcontour\":[{\"type\":\"histogram2dcontour\",\"colorbar\":{\"outlinewidth\":0,\"ticks\":\"\"},\"colorscale\":[[0.0,\"#0d0887\"],[0.1111111111111111,\"#46039f\"],[0.2222222222222222,\"#7201a8\"],[0.3333333333333333,\"#9c179e\"],[0.4444444444444444,\"#bd3786\"],[0.5555555555555556,\"#d8576b\"],[0.6666666666666666,\"#ed7953\"],[0.7777777777777778,\"#fb9f3a\"],[0.8888888888888888,\"#fdca26\"],[1.0,\"#f0f921\"]]}],\"choropleth\":[{\"type\":\"choropleth\",\"colorbar\":{\"outlinewidth\":0,\"ticks\":\"\"}}],\"histogram2d\":[{\"type\":\"histogram2d\",\"colorbar\":{\"outlinewidth\":0,\"ticks\":\"\"},\"colorscale\":[[0.0,\"#0d0887\"],[0.1111111111111111,\"#46039f\"],[0.2222222222222222,\"#7201a8\"],[0.3333333333333333,\"#9c179e\"],[0.4444444444444444,\"#bd3786\"],[0.5555555555555556,\"#d8576b\"],[0.6666666666666666,\"#ed7953\"],[0.7777777777777778,\"#fb9f3a\"],[0.8888888888888888,\"#fdca26\"],[1.0,\"#f0f921\"]]}],\"heatmap\":[{\"type\":\"heatmap\",\"colorbar\":{\"outlinewidth\":0,\"ticks\":\"\"},\"colorscale\":[[0.0,\"#0d0887\"],[0.1111111111111111,\"#46039f\"],[0.2222222222222222,\"#7201a8\"],[0.3333333333333333,\"#9c179e\"],[0.4444444444444444,\"#bd3786\"],[0.5555555555555556,\"#d8576b\"],[0.6666666666666666,\"#ed7953\"],[0.7777777777777778,\"#fb9f3a\"],[0.8888888888888888,\"#fdca26\"],[1.0,\"#f0f921\"]]}],\"heatmapgl\":[{\"type\":\"heatmapgl\",\"colorbar\":{\"outlinewidth\":0,\"ticks\":\"\"},\"colorscale\":[[0.0,\"#0d0887\"],[0.1111111111111111,\"#46039f\"],[0.2222222222222222,\"#7201a8\"],[0.3333333333333333,\"#9c179e\"],[0.4444444444444444,\"#bd3786\"],[0.5555555555555556,\"#d8576b\"],[0.6666666666666666,\"#ed7953\"],[0.7777777777777778,\"#fb9f3a\"],[0.8888888888888888,\"#fdca26\"],[1.0,\"#f0f921\"]]}],\"contourcarpet\":[{\"type\":\"contourcarpet\",\"colorbar\":{\"outlinewidth\":0,\"ticks\":\"\"}}],\"contour\":[{\"type\":\"contour\",\"colorbar\":{\"outlinewidth\":0,\"ticks\":\"\"},\"colorscale\":[[0.0,\"#0d0887\"],[0.1111111111111111,\"#46039f\"],[0.2222222222222222,\"#7201a8\"],[0.3333333333333333,\"#9c179e\"],[0.4444444444444444,\"#bd3786\"],[0.5555555555555556,\"#d8576b\"],[0.6666666666666666,\"#ed7953\"],[0.7777777777777778,\"#fb9f3a\"],[0.8888888888888888,\"#fdca26\"],[1.0,\"#f0f921\"]]}],\"surface\":[{\"type\":\"surface\",\"colorbar\":{\"outlinewidth\":0,\"ticks\":\"\"},\"colorscale\":[[0.0,\"#0d0887\"],[0.1111111111111111,\"#46039f\"],[0.2222222222222222,\"#7201a8\"],[0.3333333333333333,\"#9c179e\"],[0.4444444444444444,\"#bd3786\"],[0.5555555555555556,\"#d8576b\"],[0.6666666666666666,\"#ed7953\"],[0.7777777777777778,\"#fb9f3a\"],[0.8888888888888888,\"#fdca26\"],[1.0,\"#f0f921\"]]}],\"mesh3d\":[{\"type\":\"mesh3d\",\"colorbar\":{\"outlinewidth\":0,\"ticks\":\"\"}}],\"scatter\":[{\"fillpattern\":{\"fillmode\":\"overlay\",\"size\":10,\"solidity\":0.2},\"type\":\"scatter\"}],\"parcoords\":[{\"type\":\"parcoords\",\"line\":{\"colorbar\":{\"outlinewidth\":0,\"ticks\":\"\"}}}],\"scatterpolargl\":[{\"type\":\"scatterpolargl\",\"marker\":{\"colorbar\":{\"outlinewidth\":0,\"ticks\":\"\"}}}],\"bar\":[{\"error_x\":{\"color\":\"#2a3f5f\"},\"error_y\":{\"color\":\"#2a3f5f\"},\"marker\":{\"line\":{\"color\":\"#E5ECF6\",\"width\":0.5},\"pattern\":{\"fillmode\":\"overlay\",\"size\":10,\"solidity\":0.2}},\"type\":\"bar\"}],\"scattergeo\":[{\"type\":\"scattergeo\",\"marker\":{\"colorbar\":{\"outlinewidth\":0,\"ticks\":\"\"}}}],\"scatterpolar\":[{\"type\":\"scatterpolar\",\"marker\":{\"colorbar\":{\"outlinewidth\":0,\"ticks\":\"\"}}}],\"histogram\":[{\"marker\":{\"pattern\":{\"fillmode\":\"overlay\",\"size\":10,\"solidity\":0.2}},\"type\":\"histogram\"}],\"scattergl\":[{\"type\":\"scattergl\",\"marker\":{\"colorbar\":{\"outlinewidth\":0,\"ticks\":\"\"}}}],\"scatter3d\":[{\"type\":\"scatter3d\",\"line\":{\"colorbar\":{\"outlinewidth\":0,\"ticks\":\"\"}},\"marker\":{\"colorbar\":{\"outlinewidth\":0,\"ticks\":\"\"}}}],\"scattermapbox\":[{\"type\":\"scattermapbox\",\"marker\":{\"colorbar\":{\"outlinewidth\":0,\"ticks\":\"\"}}}],\"scatterternary\":[{\"type\":\"scatterternary\",\"marker\":{\"colorbar\":{\"outlinewidth\":0,\"ticks\":\"\"}}}],\"scattercarpet\":[{\"type\":\"scattercarpet\",\"marker\":{\"colorbar\":{\"outlinewidth\":0,\"ticks\":\"\"}}}],\"carpet\":[{\"aaxis\":{\"endlinecolor\":\"#2a3f5f\",\"gridcolor\":\"white\",\"linecolor\":\"white\",\"minorgridcolor\":\"white\",\"startlinecolor\":\"#2a3f5f\"},\"baxis\":{\"endlinecolor\":\"#2a3f5f\",\"gridcolor\":\"white\",\"linecolor\":\"white\",\"minorgridcolor\":\"white\",\"startlinecolor\":\"#2a3f5f\"},\"type\":\"carpet\"}],\"table\":[{\"cells\":{\"fill\":{\"color\":\"#EBF0F8\"},\"line\":{\"color\":\"white\"}},\"header\":{\"fill\":{\"color\":\"#C8D4E3\"},\"line\":{\"color\":\"white\"}},\"type\":\"table\"}],\"barpolar\":[{\"marker\":{\"line\":{\"color\":\"#E5ECF6\",\"width\":0.5},\"pattern\":{\"fillmode\":\"overlay\",\"size\":10,\"solidity\":0.2}},\"type\":\"barpolar\"}],\"pie\":[{\"automargin\":true,\"type\":\"pie\"}]},\"layout\":{\"autotypenumbers\":\"strict\",\"colorway\":[\"#636efa\",\"#EF553B\",\"#00cc96\",\"#ab63fa\",\"#FFA15A\",\"#19d3f3\",\"#FF6692\",\"#B6E880\",\"#FF97FF\",\"#FECB52\"],\"font\":{\"color\":\"#2a3f5f\"},\"hovermode\":\"closest\",\"hoverlabel\":{\"align\":\"left\"},\"paper_bgcolor\":\"white\",\"plot_bgcolor\":\"#E5ECF6\",\"polar\":{\"bgcolor\":\"#E5ECF6\",\"angularaxis\":{\"gridcolor\":\"white\",\"linecolor\":\"white\",\"ticks\":\"\"},\"radialaxis\":{\"gridcolor\":\"white\",\"linecolor\":\"white\",\"ticks\":\"\"}},\"ternary\":{\"bgcolor\":\"#E5ECF6\",\"aaxis\":{\"gridcolor\":\"white\",\"linecolor\":\"white\",\"ticks\":\"\"},\"baxis\":{\"gridcolor\":\"white\",\"linecolor\":\"white\",\"ticks\":\"\"},\"caxis\":{\"gridcolor\":\"white\",\"linecolor\":\"white\",\"ticks\":\"\"}},\"coloraxis\":{\"colorbar\":{\"outlinewidth\":0,\"ticks\":\"\"}},\"colorscale\":{\"sequential\":[[0.0,\"#0d0887\"],[0.1111111111111111,\"#46039f\"],[0.2222222222222222,\"#7201a8\"],[0.3333333333333333,\"#9c179e\"],[0.4444444444444444,\"#bd3786\"],[0.5555555555555556,\"#d8576b\"],[0.6666666666666666,\"#ed7953\"],[0.7777777777777778,\"#fb9f3a\"],[0.8888888888888888,\"#fdca26\"],[1.0,\"#f0f921\"]],\"sequentialminus\":[[0.0,\"#0d0887\"],[0.1111111111111111,\"#46039f\"],[0.2222222222222222,\"#7201a8\"],[0.3333333333333333,\"#9c179e\"],[0.4444444444444444,\"#bd3786\"],[0.5555555555555556,\"#d8576b\"],[0.6666666666666666,\"#ed7953\"],[0.7777777777777778,\"#fb9f3a\"],[0.8888888888888888,\"#fdca26\"],[1.0,\"#f0f921\"]],\"diverging\":[[0,\"#8e0152\"],[0.1,\"#c51b7d\"],[0.2,\"#de77ae\"],[0.3,\"#f1b6da\"],[0.4,\"#fde0ef\"],[0.5,\"#f7f7f7\"],[0.6,\"#e6f5d0\"],[0.7,\"#b8e186\"],[0.8,\"#7fbc41\"],[0.9,\"#4d9221\"],[1,\"#276419\"]]},\"xaxis\":{\"gridcolor\":\"white\",\"linecolor\":\"white\",\"ticks\":\"\",\"title\":{\"standoff\":15},\"zerolinecolor\":\"white\",\"automargin\":true,\"zerolinewidth\":2},\"yaxis\":{\"gridcolor\":\"white\",\"linecolor\":\"white\",\"ticks\":\"\",\"title\":{\"standoff\":15},\"zerolinecolor\":\"white\",\"automargin\":true,\"zerolinewidth\":2},\"scene\":{\"xaxis\":{\"backgroundcolor\":\"#E5ECF6\",\"gridcolor\":\"white\",\"linecolor\":\"white\",\"showbackground\":true,\"ticks\":\"\",\"zerolinecolor\":\"white\",\"gridwidth\":2},\"yaxis\":{\"backgroundcolor\":\"#E5ECF6\",\"gridcolor\":\"white\",\"linecolor\":\"white\",\"showbackground\":true,\"ticks\":\"\",\"zerolinecolor\":\"white\",\"gridwidth\":2},\"zaxis\":{\"backgroundcolor\":\"#E5ECF6\",\"gridcolor\":\"white\",\"linecolor\":\"white\",\"showbackground\":true,\"ticks\":\"\",\"zerolinecolor\":\"white\",\"gridwidth\":2}},\"shapedefaults\":{\"line\":{\"color\":\"#2a3f5f\"}},\"annotationdefaults\":{\"arrowcolor\":\"#2a3f5f\",\"arrowhead\":0,\"arrowwidth\":1},\"geo\":{\"bgcolor\":\"white\",\"landcolor\":\"#E5ECF6\",\"subunitcolor\":\"white\",\"showland\":true,\"showlakes\":true,\"lakecolor\":\"white\"},\"title\":{\"x\":0.05},\"mapbox\":{\"style\":\"light\"}}}},                        {\"responsive\": true}                    ).then(function(){\n",
       "                            \n",
       "var gd = document.getElementById('b1c8b988-8483-4319-b820-52a5d513ed80');\n",
       "var x = new MutationObserver(function (mutations, observer) {{\n",
       "        var display = window.getComputedStyle(gd).display;\n",
       "        if (!display || display === 'none') {{\n",
       "            console.log([gd, 'removed!']);\n",
       "            Plotly.purge(gd);\n",
       "            observer.disconnect();\n",
       "        }}\n",
       "}});\n",
       "\n",
       "// Listen for the removal of the full notebook cells\n",
       "var notebookContainer = gd.closest('#notebook-container');\n",
       "if (notebookContainer) {{\n",
       "    x.observe(notebookContainer, {childList: true});\n",
       "}}\n",
       "\n",
       "// Listen for the clearing of the current output cell\n",
       "var outputEl = gd.closest('.output');\n",
       "if (outputEl) {{\n",
       "    x.observe(outputEl, {childList: true});\n",
       "}}\n",
       "\n",
       "                        })                };                });            </script>        </div>"
      ]
     },
     "metadata": {},
     "output_type": "display_data"
    }
   ],
   "source": [
    "from plotly.offline import init_notebook_mode\n",
    "init_notebook_mode(connected=True)\n",
    "\n",
    "import plotly.express as px\n",
    "import plotly.graph_objects as go\n",
    "import numpy as np\n",
    "\n",
    "roll = 45\n",
    "pitch = 45\n",
    "yaw = 0\n",
    "\n",
    "R = rpy2rm(np.deg2rad(roll), np.deg2rad(pitch), np.deg2rad(yaw))\n",
    "\n",
    "points = np.array([\n",
    "    [0, 0, 0],\n",
    "    [0, 0, 1],\n",
    "    [0, 1, 0],\n",
    "    [1, 0, 0]\n",
    "])\n",
    "conn_map = [0, 1, 0, 2, 0, 3, 0]\n",
    "\n",
    "def plot3d(points, conn_map) :\n",
    "    fig = go.Figure(\n",
    "        data = [go.Scatter3d(\n",
    "            x = points[conn_map][:, 0],\n",
    "            y = points[conn_map][:, 1],\n",
    "            z = points[conn_map][:, 2]\n",
    "        )]\n",
    "    )\n",
    "    fig.update_layout(scene=dict(aspectmode='cube'))\n",
    "\n",
    "    max_range = np.max(np.ptp(points, axis=0))\n",
    "    xmin, ymin, zmin = points.min(axis=0)\n",
    "\n",
    "    print(xmin, ymin, zmin)\n",
    "\n",
    "    fig.update_layout(scene=dict(\n",
    "        xaxis = dict(range=[xmin-0.1, xmin + max_range+ 0.1]),\n",
    "        yaxis = dict(range=[ymin-0.1, ymin + max_range+ 0.1]),\n",
    "        zaxis = dict(range=[zmin-0.1, zmin + max_range+ 0.1])\n",
    "    ))\n",
    "\n",
    "    layout = go.Layout(\n",
    "        scene = dict(\n",
    "            camera = dict(\n",
    "                eye = dict(x=-1, y = -1, z = 1)\n",
    "            )\n",
    "        )\n",
    "    )\n",
    "    fig.layout = layout\n",
    "    fig.show()\n",
    "\n",
    "rotated = np.matmul(R, points.T).T\n",
    "\n",
    "print(\"rotated\")\n",
    "print(rotated)\n",
    "\n",
    "plot3d(points, conn_map)\n",
    "plot3d(rotated, conn_map)"
   ]
  },
  {
   "cell_type": "code",
   "execution_count": 32,
   "metadata": {},
   "outputs": [
    {
     "ename": "TypeError",
     "evalue": "dict expected at most 1 argument, got 2",
     "output_type": "error",
     "traceback": [
      "\u001b[0;31m---------------------------------------------------------------------------\u001b[0m",
      "\u001b[0;31mTypeError\u001b[0m                                 Traceback (most recent call last)",
      "Cell \u001b[0;32mIn[32], line 1\u001b[0m\n\u001b[0;32m----> 1\u001b[0m \u001b[39mdict\u001b[39;49m([x, y, z], \u001b[39mlist\u001b[39;49m(\u001b[39mzip\u001b[39;49m(points[conn_map]\u001b[39m.\u001b[39;49mT)))\n\u001b[1;32m      4\u001b[0m x, y, z\n",
      "\u001b[0;31mTypeError\u001b[0m: dict expected at most 1 argument, got 2"
     ]
    }
   ],
   "source": [
    "from plotly.offline import init_notebook_mode\n",
    "init_notebook_mode(connected=True)\n",
    "\n",
    "import plotly.express as px\n",
    "import plotly.graph_objects as go\n",
    "import numpy as np\n",
    "\n",
    "roll = 45\n",
    "pitch = 0\n",
    "yaw = 0\n",
    "\n",
    "R = rpy2rm(np.deg2rad(roll), np.deg2rad(pitch), np.deg2rad(yaw))\n",
    "\n",
    "def plot3d(points, conn_map) :\n",
    "    fig = go.Figure(\n",
    "        data = [go.Scatter3d(\n",
    "            x = points[conn_map][:, 0],\n",
    "            y = points[conn_map][:, 1],\n",
    "            z = points[conn_map][:, 2]\n",
    "        )]\n",
    "    )\n",
    "    fig.update_layout(scene=dict(aspectmode='cube'))\n",
    "\n",
    "    max_range = np.max(np.ptp(points, axis=0))\n",
    "    xmin, ymin, zmin = points.min(axis=0)\n",
    "\n",
    "    print(xmin, ymin, zmin)\n",
    "\n",
    "    fig.update_layout(scene=dict(\n",
    "        xaxis = dict(range=[xmin-0.1, xmin + max_range+ 0.1]),\n",
    "        yaxis = dict(range=[ymin-0.1, ymin + max_range+ 0.1]),\n",
    "        zaxis = dict(range=[zmin-0.1, zmin + max_range+ 0.1])\n",
    "    ))\n",
    "\n",
    "    layout = go.Layout(\n",
    "        scene = dict(\n",
    "            camera = dict(\n",
    "                eye = dict(x=-1, y = -1, z = 1)\n",
    "            )\n",
    "        )\n",
    "    )\n",
    "    fig.layout = layout\n",
    "    fig.show()\n",
    "\n",
    "rotated = np.matmul(R, points.T).T\n",
    "\n",
    "print(\"rotated\")\n",
    "print(rotated)\n",
    "\n",
    "plot3d(points, conn_map)\n",
    "plot3d(rotated, conn_map)\n"
   ]
  },
  {
   "cell_type": "code",
   "execution_count": 79,
   "metadata": {},
   "outputs": [],
   "source": [
    "import math\n",
    "\n",
    "def draw_bodypose_(canvas, candidate, subset):\n",
    "    stickwidth = 4\n",
    "    limbSeq = [[2, 3], [2, 6], [3, 4], [4, 5], [6, 7], [7, 8], [2, 9], [9, 10], \\\n",
    "               [10, 11], [2, 12], [12, 13], [13, 14], [2, 1], [1, 15], [15, 17], \\\n",
    "               [1, 16], [16, 18], [3, 17], [6, 18]]\n",
    "\n",
    "    colors = [[255, 0, 0], [255, 85, 0], [255, 170, 0], [255, 255, 0], [170, 255, 0], [85, 255, 0], [0, 255, 0], \\\n",
    "              [0, 255, 85], [0, 255, 170], [0, 255, 255], [0, 170, 255], [0, 85, 255], [0, 0, 255], [85, 0, 255], \\\n",
    "              [170, 0, 255], [255, 0, 255], [255, 0, 170], [255, 0, 85]]\n",
    "    for i in range(18):\n",
    "        for n in range(len(subset)):\n",
    "            index = int(subset[n][i])\n",
    "            if index == -1:\n",
    "                continue\n",
    "            x, y = candidate[index][0:2]\n",
    "            cv2.circle(canvas, (int(x), int(y)), 4, colors[i], thickness=-1)\n",
    "    for i in range(17):\n",
    "        for n in range(len(subset)):\n",
    "            index = subset[n][np.array(limbSeq[i]) - 1]\n",
    "            if -1 in index:\n",
    "                continue\n",
    "            cur_canvas = canvas.copy()\n",
    "            Y = candidate[index.astype(int), 0]\n",
    "            X = candidate[index.astype(int), 1]\n",
    "            mX = np.mean(X)\n",
    "            mY = np.mean(Y)\n",
    "            length = ((X[0] - X[1]) ** 2 + (Y[0] - Y[1]) ** 2) ** 0.5\n",
    "            angle = math.degrees(math.atan2(X[0] - X[1], Y[0] - Y[1]))\n",
    "            polygon = cv2.ellipse2Poly((int(mY), int(mX)), (int(length / 2), stickwidth), int(angle), 0, 360, 1)\n",
    "            cv2.fillConvexPoly(cur_canvas, polygon, colors[i])\n",
    "            canvas = cv2.addWeighted(canvas, 0.4, cur_canvas, 0.6, 0)\n",
    "    # plt.imsave(\"preview.jpg\", canvas[:, :, [2, 1, 0]])\n",
    "    # plt.imshow(canvas[:, :, [2, 1, 0]])\n",
    "    return canvas\n"
   ]
  },
  {
   "cell_type": "code",
   "execution_count": 92,
   "metadata": {},
   "outputs": [
    {
     "name": "stdout",
     "output_type": "stream",
     "text": [
      "[[443.53922839   4.33645814]\n",
      " [387.18088017   8.41374154]\n",
      " [403.87852756  12.61499807]\n",
      " [456.25286018  11.20554402]\n",
      " [500.           9.84049825]\n",
      " [341.26838902   4.51319948]\n",
      " [370.16771504   2.059631  ]\n",
      " [394.41651099   0.        ]\n",
      " [234.68371383  19.32260533]\n",
      " [172.02302515  23.19372444]\n",
      " [ 92.53149961  27.62860551]\n",
      " [190.3991158   15.27159543]\n",
      " [ 99.7562177   15.37319941]\n",
      " [  0.          16.54782813]\n",
      " [450.23391044   5.80161918]\n",
      " [447.91353157   6.25226079]\n",
      " [429.81862641   9.27340076]\n",
      " [447.91353157   6.25226079]]\n"
     ]
    },
    {
     "data": {
      "image/png": "[encoded data removed]",
      "text/plain": [
       "<Figure size 432x288 with 1 Axes>"
      ]
     },
     "metadata": {
      "needs_background": "light"
     },
     "output_type": "display_data"
    }
   ],
   "source": [
    "landmark = openpose_data_list[0]\n",
    "\n",
    "base_R = rpy2rm(np.deg2rad(-90), 0, 0)\n",
    "\n",
    "landmark = (base_R @ landmark.T).T[:, :2]\n",
    "landmark -= landmark.min(axis=0)\n",
    "\n",
    "bbox_size = 500\n",
    "scale_factor = bbox_size / landmark.max()\n",
    "landmark *= scale_factor\n",
    "\n",
    "print(landmark)\n",
    "\n",
    "img_size = (512, 512)\n",
    "\n",
    "img = np.zeros([*img_size, 3], dtype=np.uint8)\n",
    "\n",
    "\n",
    "\n",
    "\n",
    "draw_bodypose(img, landmark, None)\n",
    "plt.imshow(img)\n",
    "plt.show()"
   ]
  },
  {
   "cell_type": "code",
   "execution_count": 84,
   "metadata": {},
   "outputs": [
    {
     "data": {
      "text/plain": [
       "9.75219613824472"
      ]
     },
     "execution_count": 84,
     "metadata": {},
     "output_type": "execute_result"
    }
   ],
   "source": [
    "landmark.max()"
   ]
  },
  {
   "cell_type": "code",
   "execution_count": null,
   "metadata": {},
   "outputs": [],
   "source": []
  }
 ],
 "metadata": {
  "kernelspec": {
   "display_name": "first",
   "language": "python",
   "name": "python3"
  },
  "language_info": {
   "codemirror_mode": {
    "name": "ipython",
    "version": 3
   },
   "file_extension": ".py",
   "mimetype": "text/x-python",
   "name": "python",
   "nbconvert_exporter": "python",
   "pygments_lexer": "ipython3",
   "version": "3.9.12"
  },
  "orig_nbformat": 4
 },
 "nbformat": 4,
 "nbformat_minor": 2
}
